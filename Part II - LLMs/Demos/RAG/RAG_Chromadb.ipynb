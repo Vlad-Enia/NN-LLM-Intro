{
  "nbformat": 4,
  "nbformat_minor": 0,
  "metadata": {
    "colab": {
      "provenance": [],
      "toc_visible": true,
      "authorship_tag": "ABX9TyPSQJzR7oF1eeSAgGg1I8Tu",
      "include_colab_link": true
    },
    "kernelspec": {
      "name": "python3",
      "display_name": "Python 3"
    },
    "language_info": {
      "name": "python"
    }
  },
  "cells": [
    {
      "cell_type": "markdown",
      "metadata": {
        "id": "view-in-github",
        "colab_type": "text"
      },
      "source": [
        "<a href=\"https://colab.research.google.com/github/Vlad-Enia/NN-LLM-Intro/blob/master/Part%20II%20-%20LLMs/Demos/RAG/RAG_Chromadb.ipynb\" target=\"_parent\"><img src=\"https://colab.research.google.com/assets/colab-badge.svg\" alt=\"Open In Colab\"/></a>"
      ]
    },
    {
      "cell_type": "markdown",
      "source": [
        "# RAG with OpenAI and Chroma\n"
      ],
      "metadata": {
        "id": "m9E3-cr55uiB"
      }
    },
    {
      "cell_type": "markdown",
      "source": [
        "### Chroma\n",
        "\n",
        "* ChromaDB is an open-source vector database designed for embedding-based search and retrieval, making it a popular choice for Retrieval-Augmented Generation (RAG) applications.\n",
        "\n",
        "* It provides a simple, Python-native interface for storing and querying high-dimensional vectors.\n",
        "\n",
        "* ChromaDB supports persistent storage, filtering, and hybrid search, making it ideal for use cases where fast, lightweight, and easy-to-integrate vector storage is needed."
      ],
      "metadata": {
        "id": "dM4mQnPt535e"
      }
    },
    {
      "cell_type": "code",
      "source": [
        "!pip install chromadb\n",
        "!pip install pypdf"
      ],
      "metadata": {
        "collapsed": true,
        "id": "N9kbo328TyxU"
      },
      "execution_count": null,
      "outputs": []
    },
    {
      "cell_type": "code",
      "source": [
        "from google.colab import drive\n",
        "drive.mount('/content/drive')"
      ],
      "metadata": {
        "colab": {
          "base_uri": "https://localhost:8080/"
        },
        "id": "R-jy0Sa6WUF1",
        "outputId": "1754dfc6-5632-4a9c-c209-f6c0f2b8aaae"
      },
      "execution_count": null,
      "outputs": [
        {
          "output_type": "stream",
          "name": "stdout",
          "text": [
            "Mounted at /content/drive\n"
          ]
        }
      ]
    },
    {
      "cell_type": "code",
      "execution_count": null,
      "metadata": {
        "id": "-cfuuq_CTlMU"
      },
      "outputs": [],
      "source": [
        "import chromadb\n",
        "from pypdf import PdfReader\n",
        "from google.colab import userdata\n",
        "import uuid"
      ]
    },
    {
      "cell_type": "markdown",
      "source": [
        "### Create Local Chroma Vector Store\n",
        "We create a ChromaDB vector store using a specified path and name"
      ],
      "metadata": {
        "id": "tizaF2OXgx_1"
      }
    },
    {
      "cell_type": "code",
      "source": [
        "chromadb_path = userdata.get('CHROMADB_PATH')\n",
        "\n",
        "client = chromadb.PersistentClient(path=chromadb_path)\n",
        "\n",
        "if 'Electric_Vehicles' in client.list_collections():\n",
        "    client.delete_collection(name='Electric_Vehicles')\n",
        "\n",
        "collection = client.create_collection(name='Electric_Vehicles')"
      ],
      "metadata": {
        "id": "vLzQswenUFuX"
      },
      "execution_count": null,
      "outputs": []
    },
    {
      "cell_type": "markdown",
      "source": [
        "### Parsing Knowledge\n",
        "We parse the PDF files using `PdfReader` from `pypdf` package as follows\n",
        "  * Each page in the PDF document is stored and embedded as a `document` in the vector store\n",
        "  * For each `document`, we also include as metadata the `file name` and the `page number`\n",
        "  * We generate **unique ids** using `uuid` package for each document"
      ],
      "metadata": {
        "id": "GZnuCGmdhAIj"
      }
    },
    {
      "cell_type": "code",
      "source": [
        "file_names = [\n",
        "    'electric_vehicles.pdf',\n",
        "    'pev_consumer_handbook.pdf',\n",
        "    'department-for-transport-ev-guide.pdf'\n",
        "]\n",
        "\n",
        "# Replace with actual file paths after uploading them to drive\n",
        "ev_docs_path = userdata.get('EV_DOCS_PATH')\n",
        "\n",
        "for file in file_names:\n",
        "    print(f'Processing {file}')\n",
        "    path = f'{ev_docs_path}/{file}'\n",
        "    reader = PdfReader(path)\n",
        "\n",
        "    for i, page in enumerate(reader.pages):\n",
        "        text = page.extract_text()\n",
        "\n",
        "        collection.add(\n",
        "            documents=[text],\n",
        "            metadatas=[{ 'file': file, 'page': i + 1 }], # i starts from 0, but pdf pages start from 1\n",
        "            ids=[uuid.uuid4().hex]\n",
        "        )"
      ],
      "metadata": {
        "colab": {
          "base_uri": "https://localhost:8080/"
        },
        "id": "2JrORrfCUNdy",
        "outputId": "bfd754bf-df21-497c-84c3-b466e50a8273"
      },
      "execution_count": null,
      "outputs": [
        {
          "output_type": "stream",
          "name": "stdout",
          "text": [
            "Processing electric_vehicles.pdf\n",
            "Processing pev_consumer_handbook.pdf\n",
            "Processing department-for-transport-ev-guide.pdf\n"
          ]
        }
      ]
    },
    {
      "cell_type": "markdown",
      "source": [
        "### Query the Vector Store and the LLM"
      ],
      "metadata": {
        "id": "wAZ5XgjMiN8z"
      }
    },
    {
      "cell_type": "code",
      "source": [
        "from openai import OpenAI\n",
        "\n",
        "OPENAI_API_KEY = userdata.get('OPENAI_API_KEY')\n",
        "client = OpenAI(api_key=OPENAI_API_KEY)"
      ],
      "metadata": {
        "id": "FZhIqtt-a-yR"
      },
      "execution_count": null,
      "outputs": []
    },
    {
      "cell_type": "code",
      "source": [
        "from IPython.display import Markdown, display\n",
        "\n",
        "\n",
        "question = 'What types of charging stations exist for charging EVs?'\n",
        "candidate_number = 5  # number of candidates to include from the vector store\n",
        "\n",
        "if question is not None and len(question) > 0:\n",
        "    # Query the vector store\n",
        "    results = collection.query(\n",
        "        query_texts=[question], # the question is embedded automatically\n",
        "        include=['documents', 'metadatas'], # specifically ask for the documents and the metadata\n",
        "        n_results=candidate_number\n",
        "    )\n",
        "\n",
        "    # Concatenate the results to form context\n",
        "    context = ''\n",
        "    documents = results['documents'][0]\n",
        "    metadatas = results['metadatas'][0]\n",
        "\n",
        "    for i in range(0, len(documents)):\n",
        "        document = documents[i]\n",
        "        metadata = metadatas[i]\n",
        "        context += f'''\n",
        "          Document title: {metadata[\"file\"]}\n",
        "          Document Page: {metadata[\"page\"]}\n",
        "          Context: {document}'''\n",
        "        context += '\\n\\n'\n",
        "\n",
        "    # The promt will include instructions, the question and the context\n",
        "    content = f'''\n",
        "        Answer the following question using the provided context, and if the\n",
        "        answer is not contained within the context, say \"I don't know.\" Explain\n",
        "        your answer if possible, and give reference (document and page) to the sources you used to\n",
        "        answer.\n",
        "\n",
        "        Question:\n",
        "        {question}\n",
        "\n",
        "        Context:\n",
        "        {context}\n",
        "        '''\n",
        "\n",
        "    messages = [{ 'role': 'user', 'content': content }]\n",
        "\n",
        "    # Get the response\n",
        "    response = client.chat.completions.create(\n",
        "        model='gpt-4o-mini',\n",
        "        messages=messages,\n",
        "    )\n",
        "\n",
        "    output = response.choices[0].message.content\n",
        "    display(Markdown(output))"
      ],
      "metadata": {
        "colab": {
          "base_uri": "https://localhost:8080/",
          "height": 335
        },
        "id": "A5Csl6smaXK7",
        "outputId": "d8c00fb4-034b-403c-f727-ac9e1440022b"
      },
      "execution_count": null,
      "outputs": [
        {
          "output_type": "display_data",
          "data": {
            "text/plain": [
              "<IPython.core.display.Markdown object>"
            ],
            "text/markdown": "The types of charging stations for charging Electric Vehicles (EVs) are:\n\n1. **Level 1 Charging Station**: This provides charging through a 120-volt AC plug and typically adds about 2 to 5 miles of range per hour of charging. It doesn't require any special installation and usually comes standard with portable EVSE cordsets.\n\n2. **Level 2 Charging Station**: This type offers charging through a 240-volt AC plug and can add about 10 to 20 miles of range per hour of charging. Level 2 EVSE requires installation of charging equipment and a dedicated electrical circuit.\n\n3. **DC Fast Charging Station**: This provides DC electricity directly to the vehicle with an AC input of 480 V, enabling rapid charging that can add about 60 to 80 miles of range to a PEV in 20 minutes or less.\n\n4. **Wireless or Inductive Charging Station**: This technology uses an electromagnetic field to transfer electricity to a PEV without a cord. It is becoming available again as an aftermarket add-on for newer EVs.\n\nThese variations cater to different charging needs and scenarios, depending on charging speed and installation requirements. The details regarding these charging types can be found in the \"Plug-In Electric Vehicle Handbook for Consumers\" on pages 9, 10, and 12."
          },
          "metadata": {}
        }
      ]
    }
  ]
}