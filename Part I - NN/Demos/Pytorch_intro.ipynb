{
  "cells": [
    {
      "cell_type": "markdown",
      "metadata": {
        "id": "view-in-github",
        "colab_type": "text"
      },
      "source": [
        "<a href=\"https://colab.research.google.com/github/Vlad-Enia/NN-LLM-Intro/blob/master/Pytorch_intro.ipynb\" target=\"_parent\"><img src=\"https://colab.research.google.com/assets/colab-badge.svg\" alt=\"Open In Colab\"/></a>"
      ]
    },
    {
      "cell_type": "markdown",
      "metadata": {
        "id": "S2aRXpGJARJc"
      },
      "source": [
        "# 2. Introduction to PyTorch"
      ]
    },
    {
      "cell_type": "markdown",
      "metadata": {
        "id": "9PE3qZg5ARJd"
      },
      "source": [
        "The following notebook is meant to give a short introduction to PyTorch basics, and get you setup for writing your own neural networks. PyTorch is an open source machine learning framework that allows you to write your own neural networks and optimize them efficiently. Alternatives to PyTorch include [TensorFlow](https://www.tensorflow.org/), [JAX](https://github.com/google/jax#quickstart-colab-in-the-cloud) and [Caffe](http://caffe.berkeleyvision.org/). Many current papers publish their code in PyTorch, and thus it is good to be familiar with it.\n",
        "Meanwhile, TensorFlow (developed by Google) is usually known for being a production-grade deep learning library. Still, if you know one machine learning framework in depth, it is very easy to learn another one because many of them use the same concepts and ideas. For instance, TensorFlow's version 2 was heavily inspired by the most popular features of PyTorch, making the frameworks even more similar.\n",
        "\n",
        "There are many great tutorials online, including the [\"60-min blitz\"](https://pytorch.org/tutorials/beginner/deep_learning_60min_blitz.html) on the official [PyTorch website](https://pytorch.org/tutorials/).\n",
        "\n",
        "For simplicity, I recommend opening this notebook on Google Colab, because it does not require any extra setup steps. If you prefer using local setup, please refer to this [tutorial](https://github.com/Vlad-Enia/NN-LLM-Intro/blob/master/MacOS_local_setup.ipynb) where it explains the local setup steps for MacOS\n",
        "\n",
        "We will use a set of standard libraries that are often used in machine learning projects."
      ]
    },
    {
      "cell_type": "code",
      "execution_count": 100,
      "metadata": {
        "colab": {
          "base_uri": "https://localhost:8080/"
        },
        "id": "8WuTpZ4FARJd",
        "outputId": "ee37060f-a92c-414d-f102-3737bc130883"
      },
      "outputs": [
        {
          "output_type": "stream",
          "name": "stderr",
          "text": [
            "<ipython-input-100-51769f9c52a5>:11: DeprecationWarning: `set_matplotlib_formats` is deprecated since IPython 7.23, directly use `matplotlib_inline.backend_inline.set_matplotlib_formats()`\n",
            "  set_matplotlib_formats('svg', 'pdf') # For export\n"
          ]
        }
      ],
      "source": [
        "## Standard libraries\n",
        "import os\n",
        "import math\n",
        "import numpy as np\n",
        "import time\n",
        "\n",
        "## Imports for plotting\n",
        "import matplotlib.pyplot as plt\n",
        "%matplotlib inline\n",
        "from IPython.display import set_matplotlib_formats\n",
        "set_matplotlib_formats('svg', 'pdf') # For export\n",
        "from matplotlib.colors import to_rgba\n",
        "\n",
        "## Progress bar\n",
        "from tqdm.notebook import tqdm"
      ]
    },
    {
      "cell_type": "markdown",
      "metadata": {
        "id": "wj0TASpdARJe"
      },
      "source": [
        "## The Basics of PyTorch\n",
        "\n",
        "We will start with reviewing the very basic concepts of PyTorch. As a prerequisite, we recommend to be familiar with the `numpy` package as most machine learning frameworks are based on very similar concepts. If you are not familiar with numpy yet, don't worry: here is a [tutorial](https://numpy.org/devdocs/user/quickstart.html) to go through.\n",
        "\n",
        "So, let's start with importing PyTorch. The package is called `torch`, based on its original framework [Torch](http://torch.ch/). As a first step, we can check its version:"
      ]
    },
    {
      "cell_type": "code",
      "execution_count": 101,
      "metadata": {
        "colab": {
          "base_uri": "https://localhost:8080/"
        },
        "id": "oFphyCTYARJe",
        "outputId": "0216d7dd-cc9c-4652-eca8-96e572e2c5b2"
      },
      "outputs": [
        {
          "output_type": "stream",
          "name": "stdout",
          "text": [
            "Using torch 2.5.1+cu121\n"
          ]
        }
      ],
      "source": [
        "import torch\n",
        "print(\"Using torch\", torch.__version__)"
      ]
    },
    {
      "cell_type": "markdown",
      "metadata": {
        "id": "HhK_C9Y3ARJe"
      },
      "source": [
        "Torch offer support for training on `CPU`, `CUDA` (for Nvidia GPUs) and `MPS` (for Apple Sillicon). Below we will check our available device."
      ]
    },
    {
      "cell_type": "code",
      "execution_count": 102,
      "metadata": {
        "colab": {
          "base_uri": "https://localhost:8080/"
        },
        "id": "W-YDFzENARJe",
        "outputId": "43b979bf-fffb-471d-f35b-711b000ad4b9"
      },
      "outputs": [
        {
          "output_type": "stream",
          "name": "stdout",
          "text": [
            "Using device cuda:0\n"
          ]
        }
      ],
      "source": [
        "if torch.cuda.is_available:\n",
        "    device = torch.device('cuda:0')\n",
        "# if torch.mps.is_available:\n",
        "#     device = torch.device('mps')\n",
        "else:\n",
        "    device = torch.device('cpu')\n",
        "print(\"Using device\", device)"
      ]
    },
    {
      "cell_type": "markdown",
      "metadata": {
        "id": "WlfHVg08ARJe"
      },
      "source": [
        "### Tensors\n",
        "\n",
        "Tensors are the PyTorch equivalent to Numpy arrays, with the addition to also have support for GPU acceleration (more on that later).\n",
        "The name \"tensor\" is a generalization of concepts you already know. For instance, a vector is a 1-D tensor, and a matrix a 2-D tensor. When working with neural networks, we will use tensors of various shapes and number of dimensions.\n",
        "\n",
        "Most common functions you know from numpy can be used on tensors as well. Actually, since numpy arrays are so similar to tensors, we can convert most tensors to numpy arrays (and back) but we don't need it too often.\n",
        "\n",
        "#### Initialization\n",
        "\n",
        "Let's first start by looking at different ways of creating a tensor. There are many possible options, the simplest one is to call `torch.Tensor` passing the desired shape as input argument:"
      ]
    },
    {
      "cell_type": "code",
      "execution_count": 103,
      "metadata": {
        "id": "WZKRghPlARJe",
        "outputId": "339f3c35-65fe-44a9-b99f-20610d192d11",
        "colab": {
          "base_uri": "https://localhost:8080/"
        }
      },
      "outputs": [
        {
          "output_type": "stream",
          "name": "stdout",
          "text": [
            "tensor([[3.3252e+13, 4.5472e-41, 1.5391e+30],\n",
            "        [4.5474e-41, 1.6953e+30, 4.5474e-41]])\n"
          ]
        }
      ],
      "source": [
        "x = torch.Tensor(2, 3)\n",
        "print(x)"
      ]
    },
    {
      "cell_type": "markdown",
      "metadata": {
        "id": "vPEC18tGARJf"
      },
      "source": [
        "The function `torch.Tensor` allocates memory for the desired tensor, but reuses any values that have already been in the memory. To directly assign values to the tensor during initialization, there are many alternatives including:\n",
        "\n",
        "* `torch.zeros`: Creates a tensor filled with zeros\n",
        "* `torch.ones`: Creates a tensor filled with ones\n",
        "* `torch.rand`: Creates a tensor with random values uniformly sampled between 0 and 1\n",
        "* `torch.randn`: Creates a tensor with random values sampled from a normal distribution with mean 0 and variance 1\n",
        "* `torch.arange`: Creates a tensor containing the values $N,N+1,N+2,...,M$\n",
        "* `torch.Tensor` (input list): Creates a tensor from the list elements you provide"
      ]
    },
    {
      "cell_type": "code",
      "execution_count": 104,
      "metadata": {
        "id": "fnCm3zjOARJf",
        "outputId": "9db9781f-1421-44b3-ee68-6e6f504d6ea5",
        "colab": {
          "base_uri": "https://localhost:8080/"
        }
      },
      "outputs": [
        {
          "output_type": "stream",
          "name": "stdout",
          "text": [
            "tensor([[1., 2.],\n",
            "        [3., 4.]])\n"
          ]
        }
      ],
      "source": [
        "# Create a tensor from a (nested) list\n",
        "x = torch.Tensor([[1, 2], [3, 4]])\n",
        "print(x)"
      ]
    },
    {
      "cell_type": "code",
      "execution_count": 105,
      "metadata": {
        "id": "OPYjE93jARJf",
        "outputId": "52e998ae-e779-48cb-9b96-f349fa0d7e1b",
        "colab": {
          "base_uri": "https://localhost:8080/"
        }
      },
      "outputs": [
        {
          "output_type": "stream",
          "name": "stdout",
          "text": [
            "tensor([[[0.9894, 0.9018, 0.2211, 0.8009],\n",
            "         [0.4360, 0.0070, 0.5376, 0.6615],\n",
            "         [0.3500, 0.6739, 0.0724, 0.8465]],\n",
            "\n",
            "        [[0.9263, 0.7757, 0.5847, 0.6647],\n",
            "         [0.1382, 0.3751, 0.4523, 0.2218],\n",
            "         [0.1307, 0.8363, 0.8393, 0.0459]]])\n"
          ]
        }
      ],
      "source": [
        "# Create a tensor with random values between 0 and 1 with the shape [2, 3, 4]\n",
        "x = torch.rand(2, 3, 4)\n",
        "print(x)"
      ]
    },
    {
      "cell_type": "markdown",
      "metadata": {
        "id": "hERkLbWMARJf"
      },
      "source": [
        "You can obtain the shape of a tensor in the same way as in numpy (`x.shape`), or using the `.size` method:"
      ]
    },
    {
      "cell_type": "code",
      "execution_count": 106,
      "metadata": {
        "id": "57CvyfmtARJf",
        "outputId": "a812a728-0212-4cba-e82a-6d4f08b2abeb",
        "colab": {
          "base_uri": "https://localhost:8080/"
        }
      },
      "outputs": [
        {
          "output_type": "stream",
          "name": "stdout",
          "text": [
            "Shape: torch.Size([2, 3, 4])\n",
            "Size: torch.Size([2, 3, 4])\n",
            "Size: 2 3 4\n"
          ]
        }
      ],
      "source": [
        "shape = x.shape\n",
        "print(\"Shape:\", x.shape)\n",
        "\n",
        "size = x.size()\n",
        "print(\"Size:\", size)\n",
        "\n",
        "dim1, dim2, dim3 = x.size()\n",
        "print(\"Size:\", dim1, dim2, dim3)"
      ]
    },
    {
      "cell_type": "markdown",
      "metadata": {
        "id": "4fSqZl0RARJf"
      },
      "source": [
        "#### Tensor to Numpy, and Numpy to Tensor\n",
        "\n",
        "Tensors can be converted to numpy arrays, and numpy arrays back to tensors. To transform a numpy array into a tensor, we can use the function `torch.from_numpy`:"
      ]
    },
    {
      "cell_type": "code",
      "execution_count": 107,
      "metadata": {
        "id": "pCWvqE4XARJf",
        "outputId": "e57691c0-d6f2-4c00-a19f-3c10676442d0",
        "colab": {
          "base_uri": "https://localhost:8080/"
        }
      },
      "outputs": [
        {
          "output_type": "stream",
          "name": "stdout",
          "text": [
            "Numpy array: [[1 2]\n",
            " [3 4]]\n",
            "PyTorch tensor: tensor([[1, 2],\n",
            "        [3, 4]])\n"
          ]
        }
      ],
      "source": [
        "np_arr = np.array([[1, 2], [3, 4]])\n",
        "tensor = torch.from_numpy(np_arr)\n",
        "\n",
        "print(\"Numpy array:\", np_arr)\n",
        "print(\"PyTorch tensor:\", tensor)"
      ]
    },
    {
      "cell_type": "markdown",
      "metadata": {
        "id": "n2-MP9USARJf"
      },
      "source": [
        "To transform a PyTorch tensor back to a numpy array, we can use the function `.numpy()` on tensors:"
      ]
    },
    {
      "cell_type": "code",
      "execution_count": 108,
      "metadata": {
        "id": "eAhSIJ1lARJf",
        "outputId": "747d8f54-aac6-4c99-ff6f-710cb1e31c5f",
        "colab": {
          "base_uri": "https://localhost:8080/"
        }
      },
      "outputs": [
        {
          "output_type": "stream",
          "name": "stdout",
          "text": [
            "PyTorch tensor: tensor([0, 1, 2, 3])\n",
            "Numpy array: [0 1 2 3]\n"
          ]
        }
      ],
      "source": [
        "tensor = torch.arange(4)\n",
        "np_arr = tensor.numpy()\n",
        "\n",
        "print(\"PyTorch tensor:\", tensor)\n",
        "print(\"Numpy array:\", np_arr)"
      ]
    },
    {
      "cell_type": "markdown",
      "metadata": {
        "id": "J3lXREl3ARJf"
      },
      "source": [
        "The conversion of tensors to numpy require the tensor to be on the CPU, and not the GPU (more on GPU support in a later section). In case you have a tensor on GPU, you need to call `.cpu()` on the tensor beforehand. Hence, you get a line like `np_arr = tensor.cpu().numpy()`."
      ]
    },
    {
      "cell_type": "markdown",
      "metadata": {
        "id": "8REyde6yARJf"
      },
      "source": [
        "#### Operations\n",
        "\n",
        "Most operations that exist in numpy, also exist in PyTorch. A full list of operations can be found in the [PyTorch documentation](https://pytorch.org/docs/stable/tensors.html#), but we will review the most important ones here.\n",
        "\n",
        "The simplest operation is to add two tensors:"
      ]
    },
    {
      "cell_type": "code",
      "execution_count": 109,
      "metadata": {
        "id": "WIzswy8AARJg",
        "outputId": "620fe76f-2615-4bf5-ceb3-1ca9c45cb271",
        "colab": {
          "base_uri": "https://localhost:8080/"
        }
      },
      "outputs": [
        {
          "output_type": "stream",
          "name": "stdout",
          "text": [
            "X1 tensor([[1., 1., 1.],\n",
            "        [1., 1., 1.]])\n",
            "X2 tensor([[1., 1., 1.],\n",
            "        [1., 1., 1.]])\n",
            "Y tensor([[2., 2., 2.],\n",
            "        [2., 2., 2.]])\n"
          ]
        }
      ],
      "source": [
        "x1 = torch.ones(2, 3)\n",
        "x2 = torch.ones(2, 3)\n",
        "y = x1 + x2\n",
        "\n",
        "print(\"X1\", x1)\n",
        "print(\"X2\", x2)\n",
        "print(\"Y\", y)"
      ]
    },
    {
      "cell_type": "markdown",
      "metadata": {
        "id": "2tmEMfBCARJg"
      },
      "source": [
        "Calling `x1 + x2` creates a new tensor containing the sum of the two inputs. However, we can also use in-place operations that are applied directly on the memory of a tensor. We therefore change the values of `x2` without the chance to re-accessing the values of `x2` before the operation. An example is shown below:"
      ]
    },
    {
      "cell_type": "code",
      "execution_count": 110,
      "metadata": {
        "id": "lFlCuUqRARJg",
        "outputId": "e0c4fe3b-38bc-43ec-db41-2f007f874a1f",
        "colab": {
          "base_uri": "https://localhost:8080/"
        }
      },
      "outputs": [
        {
          "output_type": "stream",
          "name": "stdout",
          "text": [
            "X1 (before) tensor([[1., 1., 1.],\n",
            "        [1., 1., 1.]])\n",
            "X2 (before) tensor([[1., 1., 1.],\n",
            "        [1., 1., 1.]])\n",
            "X1 (after) tensor([[1., 1., 1.],\n",
            "        [1., 1., 1.]])\n",
            "X2 (after) tensor([[2., 2., 2.],\n",
            "        [2., 2., 2.]])\n"
          ]
        }
      ],
      "source": [
        "x1 = torch.ones(2, 3)\n",
        "x2 = torch.ones(2, 3)\n",
        "print(\"X1 (before)\", x1)\n",
        "print(\"X2 (before)\", x2)\n",
        "\n",
        "x2.add_(x1)\n",
        "print(\"X1 (after)\", x1)\n",
        "print(\"X2 (after)\", x2)"
      ]
    },
    {
      "cell_type": "markdown",
      "metadata": {
        "id": "oZBJFuWgARJg"
      },
      "source": [
        "In-place operations are usually marked with a underscore postfix (e.g. \"add_\" instead of \"add\").\n",
        "\n",
        "Another common operation aims at changing the shape of a tensor. A tensor of size (2,3) can be re-organized to any other shape with the same number of elements (e.g. a tensor of size (6), or (3,2), ...). In PyTorch, this operation is called `view`:"
      ]
    },
    {
      "cell_type": "code",
      "execution_count": 111,
      "metadata": {
        "id": "_UmPKmq0ARJg",
        "outputId": "f7d3f6cb-4bdb-4dd7-b90d-7acece5cc40f",
        "colab": {
          "base_uri": "https://localhost:8080/"
        }
      },
      "outputs": [
        {
          "output_type": "stream",
          "name": "stdout",
          "text": [
            "X tensor([0, 1, 2, 3, 4, 5])\n"
          ]
        }
      ],
      "source": [
        "x = torch.arange(6)\n",
        "print(\"X\", x)"
      ]
    },
    {
      "cell_type": "code",
      "execution_count": 112,
      "metadata": {
        "id": "mv6hHgp5ARJg",
        "outputId": "3dd3ed1d-e577-4dbf-83fb-1fb8cefd09a5",
        "colab": {
          "base_uri": "https://localhost:8080/"
        }
      },
      "outputs": [
        {
          "output_type": "stream",
          "name": "stdout",
          "text": [
            "X tensor([[0, 1, 2],\n",
            "        [3, 4, 5]])\n"
          ]
        }
      ],
      "source": [
        "x = x.view(2, 3)\n",
        "print(\"X\", x)"
      ]
    },
    {
      "cell_type": "code",
      "execution_count": 113,
      "metadata": {
        "id": "Suqlz4TQARJg",
        "outputId": "0898aa5f-9d2d-4a0f-cb42-7023478dbe63",
        "colab": {
          "base_uri": "https://localhost:8080/"
        }
      },
      "outputs": [
        {
          "output_type": "stream",
          "name": "stdout",
          "text": [
            "X tensor([[0, 3],\n",
            "        [1, 4],\n",
            "        [2, 5]])\n"
          ]
        }
      ],
      "source": [
        "x = x.permute(1, 0) # Swapping dimension 0 and 1\n",
        "print(\"X\", x)"
      ]
    },
    {
      "cell_type": "markdown",
      "metadata": {
        "id": "cMNWR20gARJg"
      },
      "source": [
        "Other commonly used operations include matrix multiplications, which are essential for neural networks. Quite often, we have an input vector $\\mathbf{x}$, which is transformed using a learned weight matrix $\\mathbf{W}$. There are multiple ways and functions to perform matrix multiplication, some of which we list below:\n",
        "\n",
        "* `torch.matmul`: Performs the matrix product over two tensors, where the specific behavior depends on the dimensions. If both inputs are matrices (2-dimensional tensors), it performs the standard matrix product. For higher dimensional inputs, the function supports broadcasting (for details see the [documentation](https://pytorch.org/docs/stable/generated/torch.matmul.html?highlight=matmul#torch.matmul)). Can also be written as `a @ b`, similar to numpy.\n",
        "\n",
        "* `torch.bmm`: Performs the matrix product with a support batch dimension. If the first tensor $T$ is of shape ($b\\times n\\times m$), and the second tensor $R$ ($b\\times m\\times p$), the output $O$ is of shape ($b\\times n\\times p$), and has been calculated by performing $b$ matrix multiplications of the submatrices of $T$ and $R$: $O_i = T_i @ R_i$\n"
      ]
    },
    {
      "cell_type": "code",
      "execution_count": 114,
      "metadata": {
        "id": "zgji_F2mARJg",
        "outputId": "95c2ceee-41d0-41d3-95d0-494d8dc06928",
        "colab": {
          "base_uri": "https://localhost:8080/"
        }
      },
      "outputs": [
        {
          "output_type": "stream",
          "name": "stdout",
          "text": [
            "X tensor([[0, 1, 2],\n",
            "        [3, 4, 5]])\n"
          ]
        }
      ],
      "source": [
        "x = torch.arange(6)\n",
        "x = x.view(2, 3)\n",
        "print(\"X\", x)"
      ]
    },
    {
      "cell_type": "code",
      "execution_count": 115,
      "metadata": {
        "id": "yQjyApXYARJg",
        "outputId": "4349b3a5-adcb-4934-d55a-601292b0d317",
        "colab": {
          "base_uri": "https://localhost:8080/"
        }
      },
      "outputs": [
        {
          "output_type": "stream",
          "name": "stdout",
          "text": [
            "W tensor([[0, 1, 2],\n",
            "        [3, 4, 5],\n",
            "        [6, 7, 8]])\n"
          ]
        }
      ],
      "source": [
        "W = torch.arange(9).view(3, 3) # We can also stack multiple operations in a single line\n",
        "print(\"W\", W)"
      ]
    },
    {
      "cell_type": "code",
      "execution_count": 116,
      "metadata": {
        "id": "-UbiwazOARJg",
        "outputId": "dd91a1f5-b58e-42ca-9a1b-2b73ccb939b9",
        "colab": {
          "base_uri": "https://localhost:8080/"
        }
      },
      "outputs": [
        {
          "output_type": "stream",
          "name": "stdout",
          "text": [
            "h tensor([[15, 18, 21],\n",
            "        [42, 54, 66]])\n"
          ]
        }
      ],
      "source": [
        "h = torch.matmul(x, W)\n",
        "print(\"h\", h)"
      ]
    },
    {
      "cell_type": "markdown",
      "metadata": {
        "id": "QtHijOafARJg"
      },
      "source": [
        "#### Indexing\n",
        "\n",
        "We often have the situation where we need to select a part of a tensor. Indexing works just like in numpy, so let's try it:"
      ]
    },
    {
      "cell_type": "code",
      "execution_count": 117,
      "metadata": {
        "id": "x6AsY1zxARJg",
        "outputId": "08013d3b-a2b2-4685-bc16-53a708f4759a",
        "colab": {
          "base_uri": "https://localhost:8080/"
        }
      },
      "outputs": [
        {
          "output_type": "stream",
          "name": "stdout",
          "text": [
            "X tensor([[ 0,  1,  2,  3],\n",
            "        [ 4,  5,  6,  7],\n",
            "        [ 8,  9, 10, 11]])\n"
          ]
        }
      ],
      "source": [
        "x = torch.arange(12).view(3, 4)\n",
        "print(\"X\", x)"
      ]
    },
    {
      "cell_type": "code",
      "execution_count": 118,
      "metadata": {
        "id": "vutQRLgBARJh",
        "outputId": "642b3b8d-a65b-4280-d335-e4c6ff3b37c0",
        "colab": {
          "base_uri": "https://localhost:8080/"
        }
      },
      "outputs": [
        {
          "output_type": "stream",
          "name": "stdout",
          "text": [
            "tensor([1, 5, 9])\n"
          ]
        }
      ],
      "source": [
        "print(x[:, 1])   # Second column"
      ]
    },
    {
      "cell_type": "code",
      "execution_count": 119,
      "metadata": {
        "id": "qzGxjsUjARJh",
        "outputId": "ba62020c-c277-499e-c5d9-72f389c70faa",
        "colab": {
          "base_uri": "https://localhost:8080/"
        }
      },
      "outputs": [
        {
          "output_type": "stream",
          "name": "stdout",
          "text": [
            "tensor([0, 1, 2, 3])\n"
          ]
        }
      ],
      "source": [
        "print(x[0])      # First row"
      ]
    },
    {
      "cell_type": "code",
      "execution_count": 120,
      "metadata": {
        "id": "sKaAHZ4HARJh",
        "outputId": "79f73c81-6b37-496d-8387-8aad464c4317",
        "colab": {
          "base_uri": "https://localhost:8080/"
        }
      },
      "outputs": [
        {
          "output_type": "stream",
          "name": "stdout",
          "text": [
            "tensor([3, 7])\n"
          ]
        }
      ],
      "source": [
        "print(x[:2, -1]) # First two rows, last column"
      ]
    },
    {
      "cell_type": "code",
      "execution_count": 121,
      "metadata": {
        "id": "dpLFRPTXARJh",
        "outputId": "dbc49e3f-0962-4079-c926-6a28f3191439",
        "colab": {
          "base_uri": "https://localhost:8080/"
        }
      },
      "outputs": [
        {
          "output_type": "stream",
          "name": "stdout",
          "text": [
            "tensor([[ 4,  5,  6,  7],\n",
            "        [ 8,  9, 10, 11]])\n"
          ]
        }
      ],
      "source": [
        "print(x[1:3, :]) # Second and third row"
      ]
    },
    {
      "cell_type": "markdown",
      "metadata": {
        "id": "QFx0WUMnARJh"
      },
      "source": [
        "### CPU vs GPU"
      ]
    },
    {
      "cell_type": "code",
      "execution_count": 122,
      "metadata": {
        "colab": {
          "base_uri": "https://localhost:8080/"
        },
        "id": "lIQfo_92ARJh",
        "outputId": "f82142da-d500-4ec3-8086-355b1bdab733"
      },
      "outputs": [
        {
          "output_type": "stream",
          "name": "stdout",
          "text": [
            "X tensor([[0., 0., 0.],\n",
            "        [0., 0., 0.]], device='cuda:0')\n"
          ]
        }
      ],
      "source": [
        "x = torch.zeros(2, 3)\n",
        "x = x.to(device)    # Create tensor and push to GPU\n",
        "print(\"X\", x)"
      ]
    },
    {
      "cell_type": "markdown",
      "metadata": {
        "id": "s5dikhB4ARJh"
      },
      "source": [
        "In case you have a GPU, on Apple Sillicon you should now see the attribute `device='mps:0'` being printed next to your tensor and `device='cuda:0'` for Nvidia GPUs.\n",
        "Let's compare the runtime of a large matrix multiplication on the CPU with a operation on the GPU:"
      ]
    },
    {
      "cell_type": "code",
      "execution_count": 123,
      "metadata": {
        "colab": {
          "base_uri": "https://localhost:8080/"
        },
        "id": "rMf7pQaqARJh",
        "outputId": "b99114cd-eb34-4a36-c05c-6f7681535c0f"
      },
      "outputs": [
        {
          "output_type": "stream",
          "name": "stdout",
          "text": [
            "CPU time: 3.37253s\n",
            "GPU time: 0.08762s\n"
          ]
        }
      ],
      "source": [
        "x = torch.randn(5000, 5000)\n",
        "\n",
        "## CPU version\n",
        "start_time = time.time()\n",
        "_ = torch.matmul(x, x)\n",
        "end_time = time.time()\n",
        "print(f\"CPU time: {(end_time - start_time):6.5f}s\") # Milliseconds to seconds\n",
        "\n",
        "## GPU version\n",
        "x = x.to(device)      # First operation to 'burn in' GPU\n",
        "_ = torch.matmul(x, x)\n",
        "\n",
        "# MPS and CUDA are asynchronous, so we need to use different timing functions\n",
        "\n",
        "start = torch.cuda.Event(enable_timing=True)\n",
        "# start = torch.mps.Event(enable_timing=True)\n",
        "\n",
        "end = torch.cuda.Event(enable_timing=True)\n",
        "# end = torch.mps.Event(enable_timing=True)\n",
        "\n",
        "start.record()\n",
        "_ = torch.matmul(x, x)\n",
        "end.record()\n",
        "\n",
        "torch.cuda.synchronize()\n",
        "# torch.mps.synchronize()  # Waits for everything to finish running on the GPU\n",
        "\n",
        "print(f\"GPU time: {0.001 * start.elapsed_time(end):6.5f}s\")  # Milliseconds to seconds"
      ]
    },
    {
      "cell_type": "markdown",
      "metadata": {
        "id": "UVL4qvkdARJi"
      },
      "source": [
        "Depending on the size of the operation and the CPU/GPU in your system, the speedup of this operation can be >50x. As `matmul` operations are very common in neural networks, we can already see the great benefit of training a NN on a GPU. The time estimate can be relatively noisy here because we haven't run it for multiple times. Feel free to extend this, but it also takes longer to run.\n",
        "\n"
      ]
    },
    {
      "cell_type": "markdown",
      "metadata": {
        "id": "sVFuTWdkFYtt"
      },
      "source": [
        "### Training reproductibility\n",
        "\n",
        "When generating random numbers, the seed between CPU and GPU is not synchronized. Hence, we need to set the seed on the GPU separately to ensure a reproducible code. Note that due to different GPU architectures, running the same code on different GPUs does not guarantee the same random numbers. Still, we don't want that our code gives us a different output every time we run it on the exact same hardware. Hence, we also set the seed on the GPU:"
      ]
    },
    {
      "cell_type": "code",
      "execution_count": 124,
      "metadata": {
        "id": "XM3hcPGwARJi"
      },
      "outputs": [],
      "source": [
        "seed = 42\n",
        "\n",
        "np.random.seed(seed)\n",
        "torch.manual_seed(seed)\n",
        "\n",
        "# if torch.mps.is_available:\n",
        "#     torch.mps.manual_seed(seed)\n",
        "\n",
        "if torch.cuda.is_available:\n",
        "    torch.cuda.manual_seed(seed)\n",
        "    torch.cuda.manual_seed_all(seed)\n"
      ]
    },
    {
      "cell_type": "markdown",
      "metadata": {
        "id": "TuYW-i8GARJi"
      },
      "source": [
        "\n",
        "## Learning by example: Continuous XOR\n",
        "\n",
        "If we want to build a neural network in PyTorch, we could specify all our parameters (weight matrices, bias vectors) using `Tensors`, ask PyTorch to calculate the gradients and then adjust the parameters. But things can quickly get cumbersome if we have a lot of parameters. In PyTorch, there is a package called `torch.nn` that makes building neural networks more convenient.\n",
        "\n",
        "We will introduce the libraries and all additional parts you might need to train a neural network in PyTorch, using a simple example classifier on a simple yet well known example: XOR. Given two binary inputs $x_1$ and $x_2$, the label to predict is $1$ if either $x_1$ or $x_2$ is $1$ while the other is $0$, or the label is $0$ in all other cases. The example became famous by the fact that a single neuron, i.e. a linear classifier, cannot learn this simple function.\n",
        "Hence, we will learn how to build a small neural network that can learn this function.\n",
        "To make it a little bit more interesting, we move the XOR into continuous space and introduce some gaussian noise on the binary inputs. Our desired separation of an XOR dataset could look as follows:\n",
        "\n",
        "\n",
        "<center style=\"width: 100%\"><img src=\"https://drive.google.com/uc?export=view&id=1iAZvQJeQdlJbi7mAatNWFVYy-ZBi8NVg\" width=\"500px\"></center>"
      ]
    },
    {
      "cell_type": "markdown",
      "metadata": {
        "id": "qqaQkgsWARJi"
      },
      "source": [
        "### The model\n",
        "\n",
        "The package `torch.nn` defines a series of useful classes like linear networks layers, activation functions, loss functions etc. A full list can be found [here](https://pytorch.org/docs/stable/nn.html). In case you need a certain network layer, check the documentation of the package first before writing the layer yourself as the package likely contains the code for it already. We import it below:"
      ]
    },
    {
      "cell_type": "code",
      "execution_count": 125,
      "metadata": {
        "id": "3DAZLbZOARJi"
      },
      "outputs": [],
      "source": [
        "import torch.nn as nn"
      ]
    },
    {
      "cell_type": "markdown",
      "metadata": {
        "id": "ZteWE0HFARJi"
      },
      "source": [
        "Additionally to `torch.nn`, there is also `torch.nn.functional`. It contains functions that are used in network layers. This is in contrast to `torch.nn` which defines them as `nn.Modules` (more on it below), and `torch.nn` actually uses a lot of functionalities from `torch.nn.functional`. Hence, the functional package is useful in many situations, and so we import it as well here."
      ]
    },
    {
      "cell_type": "code",
      "execution_count": 126,
      "metadata": {
        "id": "XomdosUoARJi"
      },
      "outputs": [],
      "source": [
        "import torch.nn.functional as F"
      ]
    },
    {
      "cell_type": "markdown",
      "metadata": {
        "id": "sCPDYMb5ARJi"
      },
      "source": [
        "#### nn.Module\n",
        "\n",
        "In PyTorch, a neural network is built up out of modules. Modules can contain other modules, and a neural network is considered to be a module itself as well. The basic template of a module is as follows:"
      ]
    },
    {
      "cell_type": "code",
      "execution_count": 127,
      "metadata": {
        "id": "iM8DrQdgARJi"
      },
      "outputs": [],
      "source": [
        "class MyModule(nn.Module):\n",
        "\n",
        "    def __init__(self):\n",
        "        super().__init__()\n",
        "        # Some init for my module\n",
        "\n",
        "    def forward(self, x):\n",
        "        # Function for performing the calculation of the module.\n",
        "        pass"
      ]
    },
    {
      "cell_type": "markdown",
      "metadata": {
        "id": "mGfjDa0MARJi"
      },
      "source": [
        "The forward function is where the computation of the module is taken place, and is executed when you call the module (`nn = MyModule(); nn(x)`). In the init function, we usually create the parameters of the module, using `nn.Parameter`, or defining other modules that are used in the forward function. The backward calculation is done automatically, but could be overwritten as well if wanted.\n",
        "\n",
        "#### Simple classifier\n",
        "We can now make use of the pre-defined modules in the `torch.nn` package, and define our own small neural network. We will use a minimal network with a input layer, one hidden layer with tanh as activation function, and a output layer. In other words, our networks should look something like this:\n",
        "\n",
        "<center width=\"100%\"><img src=\"https://drive.google.com/uc?export=view&id=1lwO0wYNWRzkyw0cMZSZclZW7L-3gHF7S\" width=\"500px\"></center>\n",
        "\n",
        "The input neurons are shown in blue, which represent the coordinates $x_1$ and $x_2$ of a data point. The hidden neurons including a tanh activation are shown in white, and the output neuron in red.\n",
        "In PyTorch, we can define this as follows:"
      ]
    },
    {
      "cell_type": "code",
      "execution_count": 128,
      "metadata": {
        "id": "tt5zHUV7ARJi"
      },
      "outputs": [],
      "source": [
        "class SimpleClassifier(nn.Module):\n",
        "\n",
        "    def __init__(self, n_inputs, n_hidden, n_outputs):\n",
        "        super().__init__()\n",
        "        # Initialize the modules we need to build the network\n",
        "        self.linear1 = nn.Linear(n_inputs, n_hidden)\n",
        "        self.act_fn = nn.Tanh()\n",
        "        self.linear2 = nn.Linear(n_hidden, n_outputs)\n",
        "\n",
        "    def forward(self, x):\n",
        "        # Perform the calculation of the model to determine the prediction\n",
        "        x = self.linear1(x)\n",
        "        x = self.act_fn(x)\n",
        "        x = self.linear2(x)\n",
        "        return x"
      ]
    },
    {
      "cell_type": "markdown",
      "metadata": {
        "id": "qIlObM5-ARJi"
      },
      "source": [
        "For the examples in this notebook, we will use a tiny neural network with two input neurons and four hidden neurons. As we perform binary classification, we will use a single output neuron.\n",
        "\n",
        "Note that we **do not apply a sigmoid on the output.** We will discuss later why.\n"
      ]
    },
    {
      "cell_type": "code",
      "execution_count": 129,
      "metadata": {
        "colab": {
          "base_uri": "https://localhost:8080/"
        },
        "id": "ReKi2_2_ARJi",
        "outputId": "ad426aec-d1f7-49f8-d6aa-253c158f4ab9"
      },
      "outputs": [
        {
          "output_type": "stream",
          "name": "stdout",
          "text": [
            "SimpleClassifier(\n",
            "  (linear1): Linear(in_features=2, out_features=4, bias=True)\n",
            "  (act_fn): Tanh()\n",
            "  (linear2): Linear(in_features=4, out_features=1, bias=True)\n",
            ")\n"
          ]
        }
      ],
      "source": [
        "model = SimpleClassifier(n_inputs=2, n_hidden=4, n_outputs=1)\n",
        "# Printing a module shows all its submodules\n",
        "print(model)"
      ]
    },
    {
      "cell_type": "markdown",
      "metadata": {
        "id": "z5SLSezlARJi"
      },
      "source": [
        "Printing the model lists all submodules it contains. The parameters of a module can be obtained by using its `parameters()` functions, or `named_parameters()` to get a name to each parameter object. For our small neural network, we have the following parameters:"
      ]
    },
    {
      "cell_type": "code",
      "execution_count": 130,
      "metadata": {
        "colab": {
          "base_uri": "https://localhost:8080/"
        },
        "id": "HhcZxFhXARJi",
        "outputId": "b80c1e98-b40f-4673-9b81-c56c35e84c3c"
      },
      "outputs": [
        {
          "output_type": "stream",
          "name": "stdout",
          "text": [
            "Parameter linear1.weight, shape torch.Size([4, 2])\n",
            "Parameter linear1.bias, shape torch.Size([4])\n",
            "Parameter linear2.weight, shape torch.Size([1, 4])\n",
            "Parameter linear2.bias, shape torch.Size([1])\n"
          ]
        }
      ],
      "source": [
        "for name, param in model.named_parameters():\n",
        "    print(f\"Parameter {name}, shape {param.shape}\")"
      ]
    },
    {
      "cell_type": "markdown",
      "metadata": {
        "id": "SizM4Au_ARJj"
      },
      "source": [
        "Each linear layer has a weight matrix of the shape `[output, input]`, and a bias of the shape `[output]`. The tanh activation function does not have any parameters. Note that parameters are only registered for `nn.Module` objects that are direct object attributes, i.e. `self.a = ...`. If you define a list of modules, the parameters of those are not registered for the outer module and can cause some issues when you try to optimize your module. There are alternatives, like `nn.ModuleList`, `nn.ModuleDict` and `nn.Sequential`, that allow you to have different data structures of modules."
      ]
    },
    {
      "cell_type": "markdown",
      "metadata": {
        "id": "eTLMUEkhARJj"
      },
      "source": [
        "### The data\n",
        "\n",
        "PyTorch also provides a few functionalities to load the training and test data efficiently, summarized in the package `torch.utils.data`."
      ]
    },
    {
      "cell_type": "code",
      "execution_count": 131,
      "metadata": {
        "id": "rF7zl6d9ARJj"
      },
      "outputs": [],
      "source": [
        "import torch.utils.data as data"
      ]
    },
    {
      "cell_type": "markdown",
      "metadata": {
        "id": "cN6uQ8dNARJj"
      },
      "source": [
        "The data package defines two classes which are the standard interface for handling data in PyTorch: `data.Dataset`, and `data.DataLoader`. The dataset class provides an uniform interface to access the training/test data, while the data loader makes sure to efficiently load and stack the data points from the dataset into batches during training."
      ]
    },
    {
      "cell_type": "markdown",
      "metadata": {
        "id": "axIfSD5HARJj"
      },
      "source": [
        "#### The dataset class\n",
        "\n",
        "The dataset class summarizes the basic functionality of a dataset in a natural way. To define a dataset in PyTorch, we simply specify two functions: `__getitem__`, and `__len__`. The get-item function has to return the $i$-th data point in the dataset, while the len function returns the size of the dataset. For the XOR dataset, we can define the dataset class as follows:"
      ]
    },
    {
      "cell_type": "code",
      "execution_count": 132,
      "metadata": {
        "id": "XhUE7ECFARJj"
      },
      "outputs": [],
      "source": [
        "import numpy as np\n",
        "from sklearn.datasets import make_blobs\n",
        "\n",
        "class XORDataset:\n",
        "    def __init__(self, size, std=0.1):\n",
        "        \"\"\"\n",
        "        Inputs:\n",
        "            size - Number of data points to generate\n",
        "            std - Standard deviation of the noise\n",
        "        \"\"\"\n",
        "        self.size = size\n",
        "        self.std = std\n",
        "        self.generate_continuous_xor()\n",
        "\n",
        "    def generate_continuous_xor(self):\n",
        "        # Divide the size among four clusters\n",
        "        points_per_cluster = self.size // 4\n",
        "\n",
        "        # Centers for the XOR configuration\n",
        "        centers = [(0, 0), (1, 1), (1, 0), (0, 1)]\n",
        "\n",
        "        # Generate blobs for each center\n",
        "        data, labels = make_blobs(\n",
        "            n_samples=points_per_cluster * len(centers),\n",
        "            centers=centers,\n",
        "            cluster_std=self.std,\n",
        "            random_state=42\n",
        "        )\n",
        "\n",
        "        # XOR pattern: classes (labels) are defined by the parity of the coordinates\n",
        "        labels = np.logical_xor(data[:, 0] > 0.5, data[:, 1] > 0.5).astype(float)\n",
        "\n",
        "        self.data = data.astype(np.float32)\n",
        "        self.labels = labels\n",
        "\n",
        "    def __len__(self):\n",
        "        # Return the size of the dataset\n",
        "        return self.size\n",
        "\n",
        "    def __getitem__(self, idx):\n",
        "        # Return the idx-th data point and its label\n",
        "        data_point = self.data[idx]\n",
        "        data_label = self.labels[idx]\n",
        "        return data_point, data_label"
      ]
    },
    {
      "cell_type": "markdown",
      "metadata": {
        "id": "ND_PiwOiARJj"
      },
      "source": [
        "Let's try to create such a dataset and inspect it:"
      ]
    },
    {
      "cell_type": "code",
      "execution_count": 133,
      "metadata": {
        "colab": {
          "base_uri": "https://localhost:8080/"
        },
        "id": "SoCHcL8TARJj",
        "outputId": "4debe4c3-2ad8-47a5-a63e-2af193b19a48"
      },
      "outputs": [
        {
          "output_type": "stream",
          "name": "stdout",
          "text": [
            "Size of dataset: 200\n",
            "Data point 0: (array([1.1402794, 0.8598149], dtype=float32), 0.0)\n"
          ]
        }
      ],
      "source": [
        "dataset = XORDataset(size=200)\n",
        "print(\"Size of dataset:\", len(dataset))\n",
        "print(\"Data point 0:\", dataset[0])"
      ]
    },
    {
      "cell_type": "markdown",
      "metadata": {
        "id": "Ic2r-RSiARJj"
      },
      "source": [
        "To better relate to the dataset, we visualize the samples below."
      ]
    },
    {
      "cell_type": "code",
      "execution_count": 134,
      "metadata": {
        "id": "EWrDTetDARJj"
      },
      "outputs": [],
      "source": [
        "def visualize_samples(data, label):\n",
        "    if isinstance(data, torch.Tensor):\n",
        "        data = data.cpu().numpy()\n",
        "    if isinstance(label, torch.Tensor):\n",
        "        label = label.cpu().numpy()\n",
        "    data_0 = data[label == 0]\n",
        "    data_1 = data[label == 1]\n",
        "\n",
        "    plt.figure(figsize=(4,4))\n",
        "    plt.scatter(data_0[:,0], data_0[:,1], edgecolor=\"#333\", label=\"Class 0\")\n",
        "    plt.scatter(data_1[:,0], data_1[:,1], edgecolor=\"#333\", label=\"Class 1\")\n",
        "    plt.title(\"Dataset samples\")\n",
        "    plt.ylabel(r\"$x_2$\")\n",
        "    plt.xlabel(r\"$x_1$\")\n",
        "    plt.legend()"
      ]
    },
    {
      "cell_type": "code",
      "execution_count": 135,
      "metadata": {
        "colab": {
          "base_uri": "https://localhost:8080/",
          "height": 397
        },
        "id": "cRwz5hLSARJj",
        "outputId": "fba33651-acfc-4eb4-a864-1f133f6055c1"
      },
      "outputs": [
        {
          "output_type": "display_data",
          "data": {
            "text/plain": [
              "<Figure size 400x400 with 1 Axes>"
            ],
            "image/svg+xml": "<?xml version=\"1.0\" encoding=\"utf-8\" standalone=\"no\"?>\n<!DOCTYPE svg PUBLIC \"-//W3C//DTD SVG 1.1//EN\"\n  \"http://www.w3.org/Graphics/SVG/1.1/DTD/svg11.dtd\">\n<svg xmlns:xlink=\"http://www.w3.org/1999/xlink\" width=\"286.066477pt\" height=\"281.634375pt\" viewBox=\"0 0 286.066477 281.634375\" xmlns=\"http://www.w3.org/2000/svg\" version=\"1.1\">\n <metadata>\n  <rdf:RDF xmlns:dc=\"http://purl.org/dc/elements/1.1/\" xmlns:cc=\"http://creativecommons.org/ns#\" xmlns:rdf=\"http://www.w3.org/1999/02/22-rdf-syntax-ns#\">\n   <cc:Work>\n    <dc:type rdf:resource=\"http://purl.org/dc/dcmitype/StillImage\"/>\n    <dc:date>2024-12-05T07:20:10.519923</dc:date>\n    <dc:format>image/svg+xml</dc:format>\n    <dc:creator>\n     <cc:Agent>\n      <dc:title>Matplotlib v3.8.0, https://matplotlib.org/</dc:title>\n     </cc:Agent>\n    </dc:creator>\n   </cc:Work>\n  </rdf:RDF>\n </metadata>\n <defs>\n  <style type=\"text/css\">*{stroke-linejoin: round; stroke-linecap: butt}</style>\n </defs>\n <g id=\"figure_1\">\n  <g id=\"patch_1\">\n   <path d=\"M 0 281.634375 \nL 286.066477 281.634375 \nL 286.066477 0 \nL 0 0 \nz\n\" style=\"fill: #ffffff\"/>\n  </g>\n  <g id=\"axes_1\">\n   <g id=\"patch_2\">\n    <path d=\"M 52.160938 244.078125 \nL 275.360937 244.078125 \nL 275.360937 22.318125 \nL 52.160938 22.318125 \nz\n\" style=\"fill: #ffffff\"/>\n   </g>\n   <g id=\"PathCollection_1\">\n    <defs>\n     <path id=\"m3759235f97\" d=\"M 0 3 \nC 0.795609 3 1.55874 2.683901 2.12132 2.12132 \nC 2.683901 1.55874 3 0.795609 3 0 \nC 3 -0.795609 2.683901 -1.55874 2.12132 -2.12132 \nC 1.55874 -2.683901 0.795609 -3 0 -3 \nC -0.795609 -3 -1.55874 -2.683901 -2.12132 -2.12132 \nC -2.683901 -1.55874 -3 -0.795609 -3 0 \nC -3 0.795609 -2.683901 1.55874 -2.12132 2.12132 \nC -1.55874 2.683901 -0.795609 3 0 3 \nz\n\" style=\"stroke: #333333\"/>\n    </defs>\n    <g clip-path=\"url(#p0fe19da194)\">\n     <use xlink:href=\"#m3759235f97\" x=\"252.82627\" y=\"88.898944\" style=\"fill: #1f77b4; stroke: #333333\"/>\n     <use xlink:href=\"#m3759235f97\" x=\"231.153395\" y=\"65.550345\" style=\"fill: #1f77b4; stroke: #333333\"/>\n     <use xlink:href=\"#m3759235f97\" x=\"117.813367\" y=\"209.84911\" style=\"fill: #1f77b4; stroke: #333333\"/>\n     <use xlink:href=\"#m3759235f97\" x=\"236.67577\" y=\"86.759102\" style=\"fill: #1f77b4; stroke: #333333\"/>\n     <use xlink:href=\"#m3759235f97\" x=\"110.337338\" y=\"202.248163\" style=\"fill: #1f77b4; stroke: #333333\"/>\n     <use xlink:href=\"#m3759235f97\" x=\"234.557806\" y=\"85.350446\" style=\"fill: #1f77b4; stroke: #333333\"/>\n     <use xlink:href=\"#m3759235f97\" x=\"108.93959\" y=\"188.164299\" style=\"fill: #1f77b4; stroke: #333333\"/>\n     <use xlink:href=\"#m3759235f97\" x=\"233.943599\" y=\"49.759973\" style=\"fill: #1f77b4; stroke: #333333\"/>\n     <use xlink:href=\"#m3759235f97\" x=\"91.389663\" y=\"209.299218\" style=\"fill: #1f77b4; stroke: #333333\"/>\n     <use xlink:href=\"#m3759235f97\" x=\"237.526253\" y=\"58.345406\" style=\"fill: #1f77b4; stroke: #333333\"/>\n     <use xlink:href=\"#m3759235f97\" x=\"221.681383\" y=\"80.866044\" style=\"fill: #1f77b4; stroke: #333333\"/>\n     <use xlink:href=\"#m3759235f97\" x=\"236.857366\" y=\"51.76657\" style=\"fill: #1f77b4; stroke: #333333\"/>\n     <use xlink:href=\"#m3759235f97\" x=\"91.641498\" y=\"192.264329\" style=\"fill: #1f77b4; stroke: #333333\"/>\n     <use xlink:href=\"#m3759235f97\" x=\"235.120881\" y=\"76.584848\" style=\"fill: #1f77b4; stroke: #333333\"/>\n     <use xlink:href=\"#m3759235f97\" x=\"99.146779\" y=\"233.998125\" style=\"fill: #1f77b4; stroke: #333333\"/>\n     <use xlink:href=\"#m3759235f97\" x=\"237.170317\" y=\"64.934878\" style=\"fill: #1f77b4; stroke: #333333\"/>\n     <use xlink:href=\"#m3759235f97\" x=\"84.139033\" y=\"202.446967\" style=\"fill: #1f77b4; stroke: #333333\"/>\n     <use xlink:href=\"#m3759235f97\" x=\"79.854403\" y=\"204.055987\" style=\"fill: #1f77b4; stroke: #333333\"/>\n     <use xlink:href=\"#m3759235f97\" x=\"90.503696\" y=\"205.233954\" style=\"fill: #1f77b4; stroke: #333333\"/>\n     <use xlink:href=\"#m3759235f97\" x=\"94.91544\" y=\"201.85941\" style=\"fill: #1f77b4; stroke: #333333\"/>\n     <use xlink:href=\"#m3759235f97\" x=\"224.52766\" y=\"66.500146\" style=\"fill: #1f77b4; stroke: #333333\"/>\n     <use xlink:href=\"#m3759235f97\" x=\"85.563013\" y=\"226.112925\" style=\"fill: #1f77b4; stroke: #333333\"/>\n     <use xlink:href=\"#m3759235f97\" x=\"97.413297\" y=\"185.307696\" style=\"fill: #1f77b4; stroke: #333333\"/>\n     <use xlink:href=\"#m3759235f97\" x=\"89.739363\" y=\"210.752645\" style=\"fill: #1f77b4; stroke: #333333\"/>\n     <use xlink:href=\"#m3759235f97\" x=\"102.81349\" y=\"215.59708\" style=\"fill: #1f77b4; stroke: #333333\"/>\n     <use xlink:href=\"#m3759235f97\" x=\"109.075716\" y=\"223.488568\" style=\"fill: #1f77b4; stroke: #333333\"/>\n     <use xlink:href=\"#m3759235f97\" x=\"220.308835\" y=\"77.445955\" style=\"fill: #1f77b4; stroke: #333333\"/>\n     <use xlink:href=\"#m3759235f97\" x=\"249.294116\" y=\"59.376874\" style=\"fill: #1f77b4; stroke: #333333\"/>\n     <use xlink:href=\"#m3759235f97\" x=\"232.719387\" y=\"65.007477\" style=\"fill: #1f77b4; stroke: #333333\"/>\n     <use xlink:href=\"#m3759235f97\" x=\"101.18752\" y=\"232.979845\" style=\"fill: #1f77b4; stroke: #333333\"/>\n     <use xlink:href=\"#m3759235f97\" x=\"221.275011\" y=\"48.438614\" style=\"fill: #1f77b4; stroke: #333333\"/>\n     <use xlink:href=\"#m3759235f97\" x=\"233.295322\" y=\"85.702821\" style=\"fill: #1f77b4; stroke: #333333\"/>\n     <use xlink:href=\"#m3759235f97\" x=\"106.699996\" y=\"185.878101\" style=\"fill: #1f77b4; stroke: #333333\"/>\n     <use xlink:href=\"#m3759235f97\" x=\"111.907923\" y=\"193.989256\" style=\"fill: #1f77b4; stroke: #333333\"/>\n     <use xlink:href=\"#m3759235f97\" x=\"82.261863\" y=\"201.604659\" style=\"fill: #1f77b4; stroke: #333333\"/>\n     <use xlink:href=\"#m3759235f97\" x=\"230.171137\" y=\"32.398125\" style=\"fill: #1f77b4; stroke: #333333\"/>\n     <use xlink:href=\"#m3759235f97\" x=\"102.810224\" y=\"185.672401\" style=\"fill: #1f77b4; stroke: #333333\"/>\n     <use xlink:href=\"#m3759235f97\" x=\"240.196667\" y=\"70.681945\" style=\"fill: #1f77b4; stroke: #333333\"/>\n     <use xlink:href=\"#m3759235f97\" x=\"92.572603\" y=\"226.814882\" style=\"fill: #1f77b4; stroke: #333333\"/>\n     <use xlink:href=\"#m3759235f97\" x=\"241.740381\" y=\"39.658947\" style=\"fill: #1f77b4; stroke: #333333\"/>\n     <use xlink:href=\"#m3759235f97\" x=\"102.303282\" y=\"212.032728\" style=\"fill: #1f77b4; stroke: #333333\"/>\n     <use xlink:href=\"#m3759235f97\" x=\"237.297881\" y=\"58.967163\" style=\"fill: #1f77b4; stroke: #333333\"/>\n     <use xlink:href=\"#m3759235f97\" x=\"90.702367\" y=\"199.718985\" style=\"fill: #1f77b4; stroke: #333333\"/>\n     <use xlink:href=\"#m3759235f97\" x=\"101.923348\" y=\"203.176075\" style=\"fill: #1f77b4; stroke: #333333\"/>\n     <use xlink:href=\"#m3759235f97\" x=\"99.219016\" y=\"193.477093\" style=\"fill: #1f77b4; stroke: #333333\"/>\n     <use xlink:href=\"#m3759235f97\" x=\"244.819953\" y=\"86.555218\" style=\"fill: #1f77b4; stroke: #333333\"/>\n     <use xlink:href=\"#m3759235f97\" x=\"96.328777\" y=\"210.881628\" style=\"fill: #1f77b4; stroke: #333333\"/>\n     <use xlink:href=\"#m3759235f97\" x=\"117.979741\" y=\"213.858344\" style=\"fill: #1f77b4; stroke: #333333\"/>\n     <use xlink:href=\"#m3759235f97\" x=\"91.521452\" y=\"199.317469\" style=\"fill: #1f77b4; stroke: #333333\"/>\n     <use xlink:href=\"#m3759235f97\" x=\"107.93337\" y=\"204.405421\" style=\"fill: #1f77b4; stroke: #333333\"/>\n     <use xlink:href=\"#m3759235f97\" x=\"100.737819\" y=\"233.615716\" style=\"fill: #1f77b4; stroke: #333333\"/>\n     <use xlink:href=\"#m3759235f97\" x=\"244.514453\" y=\"82.14871\" style=\"fill: #1f77b4; stroke: #333333\"/>\n     <use xlink:href=\"#m3759235f97\" x=\"230.730826\" y=\"59.896817\" style=\"fill: #1f77b4; stroke: #333333\"/>\n     <use xlink:href=\"#m3759235f97\" x=\"88.702926\" y=\"198.370088\" style=\"fill: #1f77b4; stroke: #333333\"/>\n     <use xlink:href=\"#m3759235f97\" x=\"227.700281\" y=\"57.944959\" style=\"fill: #1f77b4; stroke: #333333\"/>\n     <use xlink:href=\"#m3759235f97\" x=\"219.333752\" y=\"63.192108\" style=\"fill: #1f77b4; stroke: #333333\"/>\n     <use xlink:href=\"#m3759235f97\" x=\"102.568689\" y=\"230.920493\" style=\"fill: #1f77b4; stroke: #333333\"/>\n     <use xlink:href=\"#m3759235f97\" x=\"207.697194\" y=\"70.0471\" style=\"fill: #1f77b4; stroke: #333333\"/>\n     <use xlink:href=\"#m3759235f97\" x=\"74.464131\" y=\"214.461693\" style=\"fill: #1f77b4; stroke: #333333\"/>\n     <use xlink:href=\"#m3759235f97\" x=\"89.724854\" y=\"181.365071\" style=\"fill: #1f77b4; stroke: #333333\"/>\n     <use xlink:href=\"#m3759235f97\" x=\"217.58107\" y=\"60.684246\" style=\"fill: #1f77b4; stroke: #333333\"/>\n     <use xlink:href=\"#m3759235f97\" x=\"86.915304\" y=\"213.631997\" style=\"fill: #1f77b4; stroke: #333333\"/>\n     <use xlink:href=\"#m3759235f97\" x=\"223.125124\" y=\"74.098195\" style=\"fill: #1f77b4; stroke: #333333\"/>\n     <use xlink:href=\"#m3759235f97\" x=\"244.936018\" y=\"43.6842\" style=\"fill: #1f77b4; stroke: #333333\"/>\n     <use xlink:href=\"#m3759235f97\" x=\"97.716671\" y=\"221.252497\" style=\"fill: #1f77b4; stroke: #333333\"/>\n     <use xlink:href=\"#m3759235f97\" x=\"216.960878\" y=\"87.783267\" style=\"fill: #1f77b4; stroke: #333333\"/>\n     <use xlink:href=\"#m3759235f97\" x=\"86.497867\" y=\"210.992774\" style=\"fill: #1f77b4; stroke: #333333\"/>\n     <use xlink:href=\"#m3759235f97\" x=\"220.52425\" y=\"58.895054\" style=\"fill: #1f77b4; stroke: #333333\"/>\n     <use xlink:href=\"#m3759235f97\" x=\"229.110583\" y=\"80.680543\" style=\"fill: #1f77b4; stroke: #333333\"/>\n     <use xlink:href=\"#m3759235f97\" x=\"242.267693\" y=\"81.432793\" style=\"fill: #1f77b4; stroke: #333333\"/>\n     <use xlink:href=\"#m3759235f97\" x=\"259.116639\" y=\"63.188808\" style=\"fill: #1f77b4; stroke: #333333\"/>\n     <use xlink:href=\"#m3759235f97\" x=\"102.400827\" y=\"193.382512\" style=\"fill: #1f77b4; stroke: #333333\"/>\n     <use xlink:href=\"#m3759235f97\" x=\"249.508414\" y=\"80.932818\" style=\"fill: #1f77b4; stroke: #333333\"/>\n     <use xlink:href=\"#m3759235f97\" x=\"236.119903\" y=\"64.402093\" style=\"fill: #1f77b4; stroke: #333333\"/>\n     <use xlink:href=\"#m3759235f97\" x=\"62.306392\" y=\"195.488502\" style=\"fill: #1f77b4; stroke: #333333\"/>\n     <use xlink:href=\"#m3759235f97\" x=\"240.858395\" y=\"65.612878\" style=\"fill: #1f77b4; stroke: #333333\"/>\n     <use xlink:href=\"#m3759235f97\" x=\"212.698557\" y=\"68.74387\" style=\"fill: #1f77b4; stroke: #333333\"/>\n     <use xlink:href=\"#m3759235f97\" x=\"88.361477\" y=\"211.245666\" style=\"fill: #1f77b4; stroke: #333333\"/>\n     <use xlink:href=\"#m3759235f97\" x=\"234.585276\" y=\"35.919842\" style=\"fill: #1f77b4; stroke: #333333\"/>\n     <use xlink:href=\"#m3759235f97\" x=\"259.393957\" y=\"67.290729\" style=\"fill: #1f77b4; stroke: #333333\"/>\n     <use xlink:href=\"#m3759235f97\" x=\"98.817539\" y=\"226.283501\" style=\"fill: #1f77b4; stroke: #333333\"/>\n     <use xlink:href=\"#m3759235f97\" x=\"97.969529\" y=\"209.96988\" style=\"fill: #1f77b4; stroke: #333333\"/>\n     <use xlink:href=\"#m3759235f97\" x=\"99.082736\" y=\"210.852893\" style=\"fill: #1f77b4; stroke: #333333\"/>\n     <use xlink:href=\"#m3759235f97\" x=\"211.926571\" y=\"67.152884\" style=\"fill: #1f77b4; stroke: #333333\"/>\n     <use xlink:href=\"#m3759235f97\" x=\"219.217063\" y=\"63.070391\" style=\"fill: #1f77b4; stroke: #333333\"/>\n     <use xlink:href=\"#m3759235f97\" x=\"96.921675\" y=\"192.998881\" style=\"fill: #1f77b4; stroke: #333333\"/>\n     <use xlink:href=\"#m3759235f97\" x=\"82.868625\" y=\"223.150867\" style=\"fill: #1f77b4; stroke: #333333\"/>\n     <use xlink:href=\"#m3759235f97\" x=\"119.356328\" y=\"196.235095\" style=\"fill: #1f77b4; stroke: #333333\"/>\n     <use xlink:href=\"#m3759235f97\" x=\"214.536741\" y=\"75.449489\" style=\"fill: #1f77b4; stroke: #333333\"/>\n     <use xlink:href=\"#m3759235f97\" x=\"104.648755\" y=\"208.649576\" style=\"fill: #1f77b4; stroke: #333333\"/>\n     <use xlink:href=\"#m3759235f97\" x=\"237.748827\" y=\"79.475338\" style=\"fill: #1f77b4; stroke: #333333\"/>\n     <use xlink:href=\"#m3759235f97\" x=\"230.43293\" y=\"80.015183\" style=\"fill: #1f77b4; stroke: #333333\"/>\n     <use xlink:href=\"#m3759235f97\" x=\"246.856027\" y=\"64.02565\" style=\"fill: #1f77b4; stroke: #333333\"/>\n     <use xlink:href=\"#m3759235f97\" x=\"231.5756\" y=\"64.145325\" style=\"fill: #1f77b4; stroke: #333333\"/>\n     <use xlink:href=\"#m3759235f97\" x=\"77.811836\" y=\"216.621333\" style=\"fill: #1f77b4; stroke: #333333\"/>\n     <use xlink:href=\"#m3759235f97\" x=\"94.718685\" y=\"209.96371\" style=\"fill: #1f77b4; stroke: #333333\"/>\n     <use xlink:href=\"#m3759235f97\" x=\"222.261821\" y=\"90.44779\" style=\"fill: #1f77b4; stroke: #333333\"/>\n     <use xlink:href=\"#m3759235f97\" x=\"91.603742\" y=\"213.138169\" style=\"fill: #1f77b4; stroke: #333333\"/>\n     <use xlink:href=\"#m3759235f97\" x=\"237.266201\" y=\"70.704111\" style=\"fill: #1f77b4; stroke: #333333\"/>\n     <use xlink:href=\"#m3759235f97\" x=\"221.758244\" y=\"67.57655\" style=\"fill: #1f77b4; stroke: #333333\"/>\n    </g>\n   </g>\n   <g id=\"PathCollection_2\">\n    <defs>\n     <path id=\"mad15428e03\" d=\"M 0 3 \nC 0.795609 3 1.55874 2.683901 2.12132 2.12132 \nC 2.683901 1.55874 3 0.795609 3 0 \nC 3 -0.795609 2.683901 -1.55874 2.12132 -2.12132 \nC 1.55874 -2.683901 0.795609 -3 0 -3 \nC -0.795609 -3 -1.55874 -2.683901 -2.12132 -2.12132 \nC -2.683901 -1.55874 -3 -0.795609 -3 0 \nC -3 0.795609 -2.683901 1.55874 -2.12132 2.12132 \nC -1.55874 2.683901 -0.795609 3 0 3 \nz\n\" style=\"stroke: #333333\"/>\n    </defs>\n    <g clip-path=\"url(#p0fe19da194)\">\n     <use xlink:href=\"#mad15428e03\" x=\"102.284731\" y=\"81.022583\" style=\"fill: #ff7f0e; stroke: #333333\"/>\n     <use xlink:href=\"#mad15428e03\" x=\"223.843677\" y=\"203.787365\" style=\"fill: #ff7f0e; stroke: #333333\"/>\n     <use xlink:href=\"#mad15428e03\" x=\"224.775459\" y=\"195.070013\" style=\"fill: #ff7f0e; stroke: #333333\"/>\n     <use xlink:href=\"#mad15428e03\" x=\"229.483478\" y=\"196.351134\" style=\"fill: #ff7f0e; stroke: #333333\"/>\n     <use xlink:href=\"#mad15428e03\" x=\"221.173029\" y=\"207.570296\" style=\"fill: #ff7f0e; stroke: #333333\"/>\n     <use xlink:href=\"#mad15428e03\" x=\"220.431492\" y=\"200.420293\" style=\"fill: #ff7f0e; stroke: #333333\"/>\n     <use xlink:href=\"#mad15428e03\" x=\"262.747802\" y=\"233.511782\" style=\"fill: #ff7f0e; stroke: #333333\"/>\n     <use xlink:href=\"#mad15428e03\" x=\"234.715318\" y=\"212.035899\" style=\"fill: #ff7f0e; stroke: #333333\"/>\n     <use xlink:href=\"#mad15428e03\" x=\"109.114729\" y=\"58.532843\" style=\"fill: #ff7f0e; stroke: #333333\"/>\n     <use xlink:href=\"#mad15428e03\" x=\"97.641687\" y=\"83.425411\" style=\"fill: #ff7f0e; stroke: #333333\"/>\n     <use xlink:href=\"#mad15428e03\" x=\"230.939252\" y=\"213.511976\" style=\"fill: #ff7f0e; stroke: #333333\"/>\n     <use xlink:href=\"#mad15428e03\" x=\"97.616071\" y=\"68.075462\" style=\"fill: #ff7f0e; stroke: #333333\"/>\n     <use xlink:href=\"#mad15428e03\" x=\"103.510425\" y=\"77.410685\" style=\"fill: #ff7f0e; stroke: #333333\"/>\n     <use xlink:href=\"#mad15428e03\" x=\"239.796984\" y=\"196.136414\" style=\"fill: #ff7f0e; stroke: #333333\"/>\n     <use xlink:href=\"#mad15428e03\" x=\"74.624229\" y=\"51.126055\" style=\"fill: #ff7f0e; stroke: #333333\"/>\n     <use xlink:href=\"#mad15428e03\" x=\"234.386106\" y=\"215.68591\" style=\"fill: #ff7f0e; stroke: #333333\"/>\n     <use xlink:href=\"#mad15428e03\" x=\"113.634946\" y=\"58.832292\" style=\"fill: #ff7f0e; stroke: #333333\"/>\n     <use xlink:href=\"#mad15428e03\" x=\"240.76473\" y=\"153.944714\" style=\"fill: #ff7f0e; stroke: #333333\"/>\n     <use xlink:href=\"#mad15428e03\" x=\"86.68428\" y=\"74.08893\" style=\"fill: #ff7f0e; stroke: #333333\"/>\n     <use xlink:href=\"#mad15428e03\" x=\"227.788196\" y=\"204.962307\" style=\"fill: #ff7f0e; stroke: #333333\"/>\n     <use xlink:href=\"#mad15428e03\" x=\"101.228339\" y=\"76.632381\" style=\"fill: #ff7f0e; stroke: #333333\"/>\n     <use xlink:href=\"#mad15428e03\" x=\"105.333296\" y=\"72.45514\" style=\"fill: #ff7f0e; stroke: #333333\"/>\n     <use xlink:href=\"#mad15428e03\" x=\"107.276826\" y=\"75.183227\" style=\"fill: #ff7f0e; stroke: #333333\"/>\n     <use xlink:href=\"#mad15428e03\" x=\"108.0533\" y=\"61.317278\" style=\"fill: #ff7f0e; stroke: #333333\"/>\n     <use xlink:href=\"#mad15428e03\" x=\"262.600024\" y=\"192.602304\" style=\"fill: #ff7f0e; stroke: #333333\"/>\n     <use xlink:href=\"#mad15428e03\" x=\"240.628047\" y=\"194.88741\" style=\"fill: #ff7f0e; stroke: #333333\"/>\n     <use xlink:href=\"#mad15428e03\" x=\"236.471499\" y=\"214.981593\" style=\"fill: #ff7f0e; stroke: #333333\"/>\n     <use xlink:href=\"#mad15428e03\" x=\"111.148703\" y=\"71.699394\" style=\"fill: #ff7f0e; stroke: #333333\"/>\n     <use xlink:href=\"#mad15428e03\" x=\"238.628092\" y=\"199.067665\" style=\"fill: #ff7f0e; stroke: #333333\"/>\n     <use xlink:href=\"#mad15428e03\" x=\"213.123734\" y=\"213.391808\" style=\"fill: #ff7f0e; stroke: #333333\"/>\n     <use xlink:href=\"#mad15428e03\" x=\"253.34908\" y=\"226.435842\" style=\"fill: #ff7f0e; stroke: #333333\"/>\n     <use xlink:href=\"#mad15428e03\" x=\"117.616291\" y=\"56.534873\" style=\"fill: #ff7f0e; stroke: #333333\"/>\n     <use xlink:href=\"#mad15428e03\" x=\"255.94601\" y=\"226.357426\" style=\"fill: #ff7f0e; stroke: #333333\"/>\n     <use xlink:href=\"#mad15428e03\" x=\"231.704687\" y=\"198.690272\" style=\"fill: #ff7f0e; stroke: #333333\"/>\n     <use xlink:href=\"#mad15428e03\" x=\"99.217908\" y=\"61.52581\" style=\"fill: #ff7f0e; stroke: #333333\"/>\n     <use xlink:href=\"#mad15428e03\" x=\"227.314009\" y=\"215.709608\" style=\"fill: #ff7f0e; stroke: #333333\"/>\n     <use xlink:href=\"#mad15428e03\" x=\"206.251964\" y=\"204.198635\" style=\"fill: #ff7f0e; stroke: #333333\"/>\n     <use xlink:href=\"#mad15428e03\" x=\"98.929987\" y=\"78.965576\" style=\"fill: #ff7f0e; stroke: #333333\"/>\n     <use xlink:href=\"#mad15428e03\" x=\"107.165537\" y=\"73.936518\" style=\"fill: #ff7f0e; stroke: #333333\"/>\n     <use xlink:href=\"#mad15428e03\" x=\"94.942487\" y=\"54.622657\" style=\"fill: #ff7f0e; stroke: #333333\"/>\n     <use xlink:href=\"#mad15428e03\" x=\"100.944729\" y=\"69.511071\" style=\"fill: #ff7f0e; stroke: #333333\"/>\n     <use xlink:href=\"#mad15428e03\" x=\"249.570479\" y=\"206.614113\" style=\"fill: #ff7f0e; stroke: #333333\"/>\n     <use xlink:href=\"#mad15428e03\" x=\"127.154674\" y=\"80.201762\" style=\"fill: #ff7f0e; stroke: #333333\"/>\n     <use xlink:href=\"#mad15428e03\" x=\"244.811045\" y=\"198.124011\" style=\"fill: #ff7f0e; stroke: #333333\"/>\n     <use xlink:href=\"#mad15428e03\" x=\"96.422364\" y=\"64.177384\" style=\"fill: #ff7f0e; stroke: #333333\"/>\n     <use xlink:href=\"#mad15428e03\" x=\"96.343837\" y=\"52.716829\" style=\"fill: #ff7f0e; stroke: #333333\"/>\n     <use xlink:href=\"#mad15428e03\" x=\"87.585955\" y=\"67.62222\" style=\"fill: #ff7f0e; stroke: #333333\"/>\n     <use xlink:href=\"#mad15428e03\" x=\"88.138776\" y=\"72.609407\" style=\"fill: #ff7f0e; stroke: #333333\"/>\n     <use xlink:href=\"#mad15428e03\" x=\"113.92474\" y=\"76.114694\" style=\"fill: #ff7f0e; stroke: #333333\"/>\n     <use xlink:href=\"#mad15428e03\" x=\"235.309263\" y=\"197.678506\" style=\"fill: #ff7f0e; stroke: #333333\"/>\n     <use xlink:href=\"#mad15428e03\" x=\"115.637189\" y=\"69.395775\" style=\"fill: #ff7f0e; stroke: #333333\"/>\n     <use xlink:href=\"#mad15428e03\" x=\"109.552809\" y=\"71.875957\" style=\"fill: #ff7f0e; stroke: #333333\"/>\n     <use xlink:href=\"#mad15428e03\" x=\"223.266803\" y=\"210.000467\" style=\"fill: #ff7f0e; stroke: #333333\"/>\n     <use xlink:href=\"#mad15428e03\" x=\"234.640295\" y=\"221.527102\" style=\"fill: #ff7f0e; stroke: #333333\"/>\n     <use xlink:href=\"#mad15428e03\" x=\"240.764568\" y=\"199.711877\" style=\"fill: #ff7f0e; stroke: #333333\"/>\n     <use xlink:href=\"#mad15428e03\" x=\"97.648522\" y=\"73.640337\" style=\"fill: #ff7f0e; stroke: #333333\"/>\n     <use xlink:href=\"#mad15428e03\" x=\"257.753614\" y=\"201.203265\" style=\"fill: #ff7f0e; stroke: #333333\"/>\n     <use xlink:href=\"#mad15428e03\" x=\"78.225382\" y=\"88.975874\" style=\"fill: #ff7f0e; stroke: #333333\"/>\n     <use xlink:href=\"#mad15428e03\" x=\"79.962456\" y=\"44.579736\" style=\"fill: #ff7f0e; stroke: #333333\"/>\n     <use xlink:href=\"#mad15428e03\" x=\"127.652226\" y=\"80.763069\" style=\"fill: #ff7f0e; stroke: #333333\"/>\n     <use xlink:href=\"#mad15428e03\" x=\"222.999211\" y=\"208.327078\" style=\"fill: #ff7f0e; stroke: #333333\"/>\n     <use xlink:href=\"#mad15428e03\" x=\"265.215483\" y=\"232.349115\" style=\"fill: #ff7f0e; stroke: #333333\"/>\n     <use xlink:href=\"#mad15428e03\" x=\"224.048338\" y=\"197.439083\" style=\"fill: #ff7f0e; stroke: #333333\"/>\n     <use xlink:href=\"#mad15428e03\" x=\"86.728802\" y=\"66.343428\" style=\"fill: #ff7f0e; stroke: #333333\"/>\n     <use xlink:href=\"#mad15428e03\" x=\"102.304401\" y=\"71.467553\" style=\"fill: #ff7f0e; stroke: #333333\"/>\n     <use xlink:href=\"#mad15428e03\" x=\"246.728673\" y=\"197.825712\" style=\"fill: #ff7f0e; stroke: #333333\"/>\n     <use xlink:href=\"#mad15428e03\" x=\"216.635707\" y=\"194.173179\" style=\"fill: #ff7f0e; stroke: #333333\"/>\n     <use xlink:href=\"#mad15428e03\" x=\"109.752003\" y=\"67.170596\" style=\"fill: #ff7f0e; stroke: #333333\"/>\n     <use xlink:href=\"#mad15428e03\" x=\"85.693573\" y=\"62.940896\" style=\"fill: #ff7f0e; stroke: #333333\"/>\n     <use xlink:href=\"#mad15428e03\" x=\"102.124258\" y=\"49.460868\" style=\"fill: #ff7f0e; stroke: #333333\"/>\n     <use xlink:href=\"#mad15428e03\" x=\"189.728854\" y=\"220.795731\" style=\"fill: #ff7f0e; stroke: #333333\"/>\n     <use xlink:href=\"#mad15428e03\" x=\"84.231609\" y=\"86.326637\" style=\"fill: #ff7f0e; stroke: #333333\"/>\n     <use xlink:href=\"#mad15428e03\" x=\"86.491014\" y=\"77.899589\" style=\"fill: #ff7f0e; stroke: #333333\"/>\n     <use xlink:href=\"#mad15428e03\" x=\"241.52346\" y=\"191.189099\" style=\"fill: #ff7f0e; stroke: #333333\"/>\n     <use xlink:href=\"#mad15428e03\" x=\"238.617596\" y=\"216.252138\" style=\"fill: #ff7f0e; stroke: #333333\"/>\n     <use xlink:href=\"#mad15428e03\" x=\"225.759427\" y=\"195.108822\" style=\"fill: #ff7f0e; stroke: #333333\"/>\n     <use xlink:href=\"#mad15428e03\" x=\"97.733661\" y=\"81.9824\" style=\"fill: #ff7f0e; stroke: #333333\"/>\n     <use xlink:href=\"#mad15428e03\" x=\"215.048975\" y=\"219.609212\" style=\"fill: #ff7f0e; stroke: #333333\"/>\n     <use xlink:href=\"#mad15428e03\" x=\"255.315654\" y=\"223.721202\" style=\"fill: #ff7f0e; stroke: #333333\"/>\n     <use xlink:href=\"#mad15428e03\" x=\"99.227149\" y=\"80.279369\" style=\"fill: #ff7f0e; stroke: #333333\"/>\n     <use xlink:href=\"#mad15428e03\" x=\"86.636756\" y=\"77.362114\" style=\"fill: #ff7f0e; stroke: #333333\"/>\n     <use xlink:href=\"#mad15428e03\" x=\"243.09095\" y=\"228.859988\" style=\"fill: #ff7f0e; stroke: #333333\"/>\n     <use xlink:href=\"#mad15428e03\" x=\"98.233066\" y=\"62.857578\" style=\"fill: #ff7f0e; stroke: #333333\"/>\n     <use xlink:href=\"#mad15428e03\" x=\"102.543386\" y=\"43.966868\" style=\"fill: #ff7f0e; stroke: #333333\"/>\n     <use xlink:href=\"#mad15428e03\" x=\"217.458891\" y=\"211.33941\" style=\"fill: #ff7f0e; stroke: #333333\"/>\n     <use xlink:href=\"#mad15428e03\" x=\"69.043344\" y=\"76.890236\" style=\"fill: #ff7f0e; stroke: #333333\"/>\n     <use xlink:href=\"#mad15428e03\" x=\"262.89605\" y=\"198.065205\" style=\"fill: #ff7f0e; stroke: #333333\"/>\n     <use xlink:href=\"#mad15428e03\" x=\"86.783144\" y=\"41.003166\" style=\"fill: #ff7f0e; stroke: #333333\"/>\n     <use xlink:href=\"#mad15428e03\" x=\"115.25929\" y=\"77.792381\" style=\"fill: #ff7f0e; stroke: #333333\"/>\n     <use xlink:href=\"#mad15428e03\" x=\"110.813167\" y=\"77.591333\" style=\"fill: #ff7f0e; stroke: #333333\"/>\n     <use xlink:href=\"#mad15428e03\" x=\"227.354954\" y=\"191.828055\" style=\"fill: #ff7f0e; stroke: #333333\"/>\n     <use xlink:href=\"#mad15428e03\" x=\"91.500203\" y=\"66.50294\" style=\"fill: #ff7f0e; stroke: #333333\"/>\n     <use xlink:href=\"#mad15428e03\" x=\"227.172458\" y=\"205.632123\" style=\"fill: #ff7f0e; stroke: #333333\"/>\n     <use xlink:href=\"#mad15428e03\" x=\"237.584691\" y=\"215.289764\" style=\"fill: #ff7f0e; stroke: #333333\"/>\n     <use xlink:href=\"#mad15428e03\" x=\"106.379776\" y=\"61.070902\" style=\"fill: #ff7f0e; stroke: #333333\"/>\n     <use xlink:href=\"#mad15428e03\" x=\"104.956254\" y=\"48.674304\" style=\"fill: #ff7f0e; stroke: #333333\"/>\n     <use xlink:href=\"#mad15428e03\" x=\"248.482019\" y=\"192.309838\" style=\"fill: #ff7f0e; stroke: #333333\"/>\n     <use xlink:href=\"#mad15428e03\" x=\"230.335378\" y=\"223.85783\" style=\"fill: #ff7f0e; stroke: #333333\"/>\n     <use xlink:href=\"#mad15428e03\" x=\"245.989525\" y=\"202.542202\" style=\"fill: #ff7f0e; stroke: #333333\"/>\n     <use xlink:href=\"#mad15428e03\" x=\"250.980069\" y=\"216.454453\" style=\"fill: #ff7f0e; stroke: #333333\"/>\n    </g>\n   </g>\n   <g id=\"matplotlib.axis_1\">\n    <g id=\"xtick_1\">\n     <g id=\"line2d_1\">\n      <defs>\n       <path id=\"m9be2392515\" d=\"M 0 0 \nL 0 3.5 \n\" style=\"stroke: #000000; stroke-width: 0.8\"/>\n      </defs>\n      <g>\n       <use xlink:href=\"#m9be2392515\" x=\"63.933332\" y=\"244.078125\" style=\"stroke: #000000; stroke-width: 0.8\"/>\n      </g>\n     </g>\n     <g id=\"text_1\">\n      <!-- −0.25 -->\n      <g transform=\"translate(48.610676 258.676562) scale(0.1 -0.1)\">\n       <defs>\n        <path id=\"DejaVuSans-2212\" d=\"M 678 2272 \nL 4684 2272 \nL 4684 1741 \nL 678 1741 \nL 678 2272 \nz\n\" transform=\"scale(0.015625)\"/>\n        <path id=\"DejaVuSans-30\" d=\"M 2034 4250 \nQ 1547 4250 1301 3770 \nQ 1056 3291 1056 2328 \nQ 1056 1369 1301 889 \nQ 1547 409 2034 409 \nQ 2525 409 2770 889 \nQ 3016 1369 3016 2328 \nQ 3016 3291 2770 3770 \nQ 2525 4250 2034 4250 \nz\nM 2034 4750 \nQ 2819 4750 3233 4129 \nQ 3647 3509 3647 2328 \nQ 3647 1150 3233 529 \nQ 2819 -91 2034 -91 \nQ 1250 -91 836 529 \nQ 422 1150 422 2328 \nQ 422 3509 836 4129 \nQ 1250 4750 2034 4750 \nz\n\" transform=\"scale(0.015625)\"/>\n        <path id=\"DejaVuSans-2e\" d=\"M 684 794 \nL 1344 794 \nL 1344 0 \nL 684 0 \nL 684 794 \nz\n\" transform=\"scale(0.015625)\"/>\n        <path id=\"DejaVuSans-32\" d=\"M 1228 531 \nL 3431 531 \nL 3431 0 \nL 469 0 \nL 469 531 \nQ 828 903 1448 1529 \nQ 2069 2156 2228 2338 \nQ 2531 2678 2651 2914 \nQ 2772 3150 2772 3378 \nQ 2772 3750 2511 3984 \nQ 2250 4219 1831 4219 \nQ 1534 4219 1204 4116 \nQ 875 4013 500 3803 \nL 500 4441 \nQ 881 4594 1212 4672 \nQ 1544 4750 1819 4750 \nQ 2544 4750 2975 4387 \nQ 3406 4025 3406 3419 \nQ 3406 3131 3298 2873 \nQ 3191 2616 2906 2266 \nQ 2828 2175 2409 1742 \nQ 1991 1309 1228 531 \nz\n\" transform=\"scale(0.015625)\"/>\n        <path id=\"DejaVuSans-35\" d=\"M 691 4666 \nL 3169 4666 \nL 3169 4134 \nL 1269 4134 \nL 1269 2991 \nQ 1406 3038 1543 3061 \nQ 1681 3084 1819 3084 \nQ 2600 3084 3056 2656 \nQ 3513 2228 3513 1497 \nQ 3513 744 3044 326 \nQ 2575 -91 1722 -91 \nQ 1428 -91 1123 -41 \nQ 819 9 494 109 \nL 494 744 \nQ 775 591 1075 516 \nQ 1375 441 1709 441 \nQ 2250 441 2565 725 \nQ 2881 1009 2881 1497 \nQ 2881 1984 2565 2268 \nQ 2250 2553 1709 2553 \nQ 1456 2553 1204 2497 \nQ 953 2441 691 2322 \nL 691 4666 \nz\n\" transform=\"scale(0.015625)\"/>\n       </defs>\n       <use xlink:href=\"#DejaVuSans-2212\"/>\n       <use xlink:href=\"#DejaVuSans-30\" x=\"83.789062\"/>\n       <use xlink:href=\"#DejaVuSans-2e\" x=\"147.412109\"/>\n       <use xlink:href=\"#DejaVuSans-32\" x=\"179.199219\"/>\n       <use xlink:href=\"#DejaVuSans-35\" x=\"242.822266\"/>\n      </g>\n     </g>\n    </g>\n    <g id=\"xtick_2\">\n     <g id=\"line2d_2\">\n      <g>\n       <use xlink:href=\"#m9be2392515\" x=\"97.900054\" y=\"244.078125\" style=\"stroke: #000000; stroke-width: 0.8\"/>\n      </g>\n     </g>\n     <g id=\"text_2\">\n      <!-- 0.00 -->\n      <g transform=\"translate(86.767242 258.676562) scale(0.1 -0.1)\">\n       <use xlink:href=\"#DejaVuSans-30\"/>\n       <use xlink:href=\"#DejaVuSans-2e\" x=\"63.623047\"/>\n       <use xlink:href=\"#DejaVuSans-30\" x=\"95.410156\"/>\n       <use xlink:href=\"#DejaVuSans-30\" x=\"159.033203\"/>\n      </g>\n     </g>\n    </g>\n    <g id=\"xtick_3\">\n     <g id=\"line2d_3\">\n      <g>\n       <use xlink:href=\"#m9be2392515\" x=\"131.866776\" y=\"244.078125\" style=\"stroke: #000000; stroke-width: 0.8\"/>\n      </g>\n     </g>\n     <g id=\"text_3\">\n      <!-- 0.25 -->\n      <g transform=\"translate(120.733964 258.676562) scale(0.1 -0.1)\">\n       <use xlink:href=\"#DejaVuSans-30\"/>\n       <use xlink:href=\"#DejaVuSans-2e\" x=\"63.623047\"/>\n       <use xlink:href=\"#DejaVuSans-32\" x=\"95.410156\"/>\n       <use xlink:href=\"#DejaVuSans-35\" x=\"159.033203\"/>\n      </g>\n     </g>\n    </g>\n    <g id=\"xtick_4\">\n     <g id=\"line2d_4\">\n      <g>\n       <use xlink:href=\"#m9be2392515\" x=\"165.833498\" y=\"244.078125\" style=\"stroke: #000000; stroke-width: 0.8\"/>\n      </g>\n     </g>\n     <g id=\"text_4\">\n      <!-- 0.50 -->\n      <g transform=\"translate(154.700686 258.676562) scale(0.1 -0.1)\">\n       <use xlink:href=\"#DejaVuSans-30\"/>\n       <use xlink:href=\"#DejaVuSans-2e\" x=\"63.623047\"/>\n       <use xlink:href=\"#DejaVuSans-35\" x=\"95.410156\"/>\n       <use xlink:href=\"#DejaVuSans-30\" x=\"159.033203\"/>\n      </g>\n     </g>\n    </g>\n    <g id=\"xtick_5\">\n     <g id=\"line2d_5\">\n      <g>\n       <use xlink:href=\"#m9be2392515\" x=\"199.800221\" y=\"244.078125\" style=\"stroke: #000000; stroke-width: 0.8\"/>\n      </g>\n     </g>\n     <g id=\"text_5\">\n      <!-- 0.75 -->\n      <g transform=\"translate(188.667408 258.676562) scale(0.1 -0.1)\">\n       <defs>\n        <path id=\"DejaVuSans-37\" d=\"M 525 4666 \nL 3525 4666 \nL 3525 4397 \nL 1831 0 \nL 1172 0 \nL 2766 4134 \nL 525 4134 \nL 525 4666 \nz\n\" transform=\"scale(0.015625)\"/>\n       </defs>\n       <use xlink:href=\"#DejaVuSans-30\"/>\n       <use xlink:href=\"#DejaVuSans-2e\" x=\"63.623047\"/>\n       <use xlink:href=\"#DejaVuSans-37\" x=\"95.410156\"/>\n       <use xlink:href=\"#DejaVuSans-35\" x=\"159.033203\"/>\n      </g>\n     </g>\n    </g>\n    <g id=\"xtick_6\">\n     <g id=\"line2d_6\">\n      <g>\n       <use xlink:href=\"#m9be2392515\" x=\"233.766943\" y=\"244.078125\" style=\"stroke: #000000; stroke-width: 0.8\"/>\n      </g>\n     </g>\n     <g id=\"text_6\">\n      <!-- 1.00 -->\n      <g transform=\"translate(222.63413 258.676562) scale(0.1 -0.1)\">\n       <defs>\n        <path id=\"DejaVuSans-31\" d=\"M 794 531 \nL 1825 531 \nL 1825 4091 \nL 703 3866 \nL 703 4441 \nL 1819 4666 \nL 2450 4666 \nL 2450 531 \nL 3481 531 \nL 3481 0 \nL 794 0 \nL 794 531 \nz\n\" transform=\"scale(0.015625)\"/>\n       </defs>\n       <use xlink:href=\"#DejaVuSans-31\"/>\n       <use xlink:href=\"#DejaVuSans-2e\" x=\"63.623047\"/>\n       <use xlink:href=\"#DejaVuSans-30\" x=\"95.410156\"/>\n       <use xlink:href=\"#DejaVuSans-30\" x=\"159.033203\"/>\n      </g>\n     </g>\n    </g>\n    <g id=\"xtick_7\">\n     <g id=\"line2d_7\">\n      <g>\n       <use xlink:href=\"#m9be2392515\" x=\"267.733665\" y=\"244.078125\" style=\"stroke: #000000; stroke-width: 0.8\"/>\n      </g>\n     </g>\n     <g id=\"text_7\">\n      <!-- 1.25 -->\n      <g transform=\"translate(256.600852 258.676562) scale(0.1 -0.1)\">\n       <use xlink:href=\"#DejaVuSans-31\"/>\n       <use xlink:href=\"#DejaVuSans-2e\" x=\"63.623047\"/>\n       <use xlink:href=\"#DejaVuSans-32\" x=\"95.410156\"/>\n       <use xlink:href=\"#DejaVuSans-35\" x=\"159.033203\"/>\n      </g>\n     </g>\n    </g>\n    <g id=\"text_8\">\n     <!-- $x_1$ -->\n     <g transform=\"translate(158.410938 272.354687) scale(0.1 -0.1)\">\n      <defs>\n       <path id=\"DejaVuSans-Oblique-78\" d=\"M 3841 3500 \nL 2234 1784 \nL 3219 0 \nL 2559 0 \nL 1819 1388 \nL 531 0 \nL -166 0 \nL 1556 1844 \nL 641 3500 \nL 1300 3500 \nL 1972 2234 \nL 3144 3500 \nL 3841 3500 \nz\n\" transform=\"scale(0.015625)\"/>\n      </defs>\n      <use xlink:href=\"#DejaVuSans-Oblique-78\" transform=\"translate(0 0.3125)\"/>\n      <use xlink:href=\"#DejaVuSans-31\" transform=\"translate(59.179688 -16.09375) scale(0.7)\"/>\n     </g>\n    </g>\n   </g>\n   <g id=\"matplotlib.axis_2\">\n    <g id=\"ytick_1\">\n     <g id=\"line2d_8\">\n      <defs>\n       <path id=\"mafd6779fe7\" d=\"M 0 0 \nL -3.5 0 \n\" style=\"stroke: #000000; stroke-width: 0.8\"/>\n      </defs>\n      <g>\n       <use xlink:href=\"#mafd6779fe7\" x=\"52.160938\" y=\"234.168519\" style=\"stroke: #000000; stroke-width: 0.8\"/>\n      </g>\n     </g>\n     <g id=\"text_9\">\n      <!-- −0.2 -->\n      <g transform=\"translate(20.878125 237.967738) scale(0.1 -0.1)\">\n       <use xlink:href=\"#DejaVuSans-2212\"/>\n       <use xlink:href=\"#DejaVuSans-30\" x=\"83.789062\"/>\n       <use xlink:href=\"#DejaVuSans-2e\" x=\"147.412109\"/>\n       <use xlink:href=\"#DejaVuSans-32\" x=\"179.199219\"/>\n      </g>\n     </g>\n    </g>\n    <g id=\"ytick_2\">\n     <g id=\"line2d_9\">\n      <g>\n       <use xlink:href=\"#mafd6779fe7\" x=\"52.160938\" y=\"206.754378\" style=\"stroke: #000000; stroke-width: 0.8\"/>\n      </g>\n     </g>\n     <g id=\"text_10\">\n      <!-- 0.0 -->\n      <g transform=\"translate(29.257812 210.553597) scale(0.1 -0.1)\">\n       <use xlink:href=\"#DejaVuSans-30\"/>\n       <use xlink:href=\"#DejaVuSans-2e\" x=\"63.623047\"/>\n       <use xlink:href=\"#DejaVuSans-30\" x=\"95.410156\"/>\n      </g>\n     </g>\n    </g>\n    <g id=\"ytick_3\">\n     <g id=\"line2d_10\">\n      <g>\n       <use xlink:href=\"#mafd6779fe7\" x=\"52.160938\" y=\"179.340237\" style=\"stroke: #000000; stroke-width: 0.8\"/>\n      </g>\n     </g>\n     <g id=\"text_11\">\n      <!-- 0.2 -->\n      <g transform=\"translate(29.257812 183.139455) scale(0.1 -0.1)\">\n       <use xlink:href=\"#DejaVuSans-30\"/>\n       <use xlink:href=\"#DejaVuSans-2e\" x=\"63.623047\"/>\n       <use xlink:href=\"#DejaVuSans-32\" x=\"95.410156\"/>\n      </g>\n     </g>\n    </g>\n    <g id=\"ytick_4\">\n     <g id=\"line2d_11\">\n      <g>\n       <use xlink:href=\"#mafd6779fe7\" x=\"52.160938\" y=\"151.926095\" style=\"stroke: #000000; stroke-width: 0.8\"/>\n      </g>\n     </g>\n     <g id=\"text_12\">\n      <!-- 0.4 -->\n      <g transform=\"translate(29.257812 155.725314) scale(0.1 -0.1)\">\n       <defs>\n        <path id=\"DejaVuSans-34\" d=\"M 2419 4116 \nL 825 1625 \nL 2419 1625 \nL 2419 4116 \nz\nM 2253 4666 \nL 3047 4666 \nL 3047 1625 \nL 3713 1625 \nL 3713 1100 \nL 3047 1100 \nL 3047 0 \nL 2419 0 \nL 2419 1100 \nL 313 1100 \nL 313 1709 \nL 2253 4666 \nz\n\" transform=\"scale(0.015625)\"/>\n       </defs>\n       <use xlink:href=\"#DejaVuSans-30\"/>\n       <use xlink:href=\"#DejaVuSans-2e\" x=\"63.623047\"/>\n       <use xlink:href=\"#DejaVuSans-34\" x=\"95.410156\"/>\n      </g>\n     </g>\n    </g>\n    <g id=\"ytick_5\">\n     <g id=\"line2d_12\">\n      <g>\n       <use xlink:href=\"#mafd6779fe7\" x=\"52.160938\" y=\"124.511954\" style=\"stroke: #000000; stroke-width: 0.8\"/>\n      </g>\n     </g>\n     <g id=\"text_13\">\n      <!-- 0.6 -->\n      <g transform=\"translate(29.257812 128.311173) scale(0.1 -0.1)\">\n       <defs>\n        <path id=\"DejaVuSans-36\" d=\"M 2113 2584 \nQ 1688 2584 1439 2293 \nQ 1191 2003 1191 1497 \nQ 1191 994 1439 701 \nQ 1688 409 2113 409 \nQ 2538 409 2786 701 \nQ 3034 994 3034 1497 \nQ 3034 2003 2786 2293 \nQ 2538 2584 2113 2584 \nz\nM 3366 4563 \nL 3366 3988 \nQ 3128 4100 2886 4159 \nQ 2644 4219 2406 4219 \nQ 1781 4219 1451 3797 \nQ 1122 3375 1075 2522 \nQ 1259 2794 1537 2939 \nQ 1816 3084 2150 3084 \nQ 2853 3084 3261 2657 \nQ 3669 2231 3669 1497 \nQ 3669 778 3244 343 \nQ 2819 -91 2113 -91 \nQ 1303 -91 875 529 \nQ 447 1150 447 2328 \nQ 447 3434 972 4092 \nQ 1497 4750 2381 4750 \nQ 2619 4750 2861 4703 \nQ 3103 4656 3366 4563 \nz\n\" transform=\"scale(0.015625)\"/>\n       </defs>\n       <use xlink:href=\"#DejaVuSans-30\"/>\n       <use xlink:href=\"#DejaVuSans-2e\" x=\"63.623047\"/>\n       <use xlink:href=\"#DejaVuSans-36\" x=\"95.410156\"/>\n      </g>\n     </g>\n    </g>\n    <g id=\"ytick_6\">\n     <g id=\"line2d_13\">\n      <g>\n       <use xlink:href=\"#mafd6779fe7\" x=\"52.160938\" y=\"97.097813\" style=\"stroke: #000000; stroke-width: 0.8\"/>\n      </g>\n     </g>\n     <g id=\"text_14\">\n      <!-- 0.8 -->\n      <g transform=\"translate(29.257812 100.897031) scale(0.1 -0.1)\">\n       <defs>\n        <path id=\"DejaVuSans-38\" d=\"M 2034 2216 \nQ 1584 2216 1326 1975 \nQ 1069 1734 1069 1313 \nQ 1069 891 1326 650 \nQ 1584 409 2034 409 \nQ 2484 409 2743 651 \nQ 3003 894 3003 1313 \nQ 3003 1734 2745 1975 \nQ 2488 2216 2034 2216 \nz\nM 1403 2484 \nQ 997 2584 770 2862 \nQ 544 3141 544 3541 \nQ 544 4100 942 4425 \nQ 1341 4750 2034 4750 \nQ 2731 4750 3128 4425 \nQ 3525 4100 3525 3541 \nQ 3525 3141 3298 2862 \nQ 3072 2584 2669 2484 \nQ 3125 2378 3379 2068 \nQ 3634 1759 3634 1313 \nQ 3634 634 3220 271 \nQ 2806 -91 2034 -91 \nQ 1263 -91 848 271 \nQ 434 634 434 1313 \nQ 434 1759 690 2068 \nQ 947 2378 1403 2484 \nz\nM 1172 3481 \nQ 1172 3119 1398 2916 \nQ 1625 2713 2034 2713 \nQ 2441 2713 2670 2916 \nQ 2900 3119 2900 3481 \nQ 2900 3844 2670 4047 \nQ 2441 4250 2034 4250 \nQ 1625 4250 1398 4047 \nQ 1172 3844 1172 3481 \nz\n\" transform=\"scale(0.015625)\"/>\n       </defs>\n       <use xlink:href=\"#DejaVuSans-30\"/>\n       <use xlink:href=\"#DejaVuSans-2e\" x=\"63.623047\"/>\n       <use xlink:href=\"#DejaVuSans-38\" x=\"95.410156\"/>\n      </g>\n     </g>\n    </g>\n    <g id=\"ytick_7\">\n     <g id=\"line2d_14\">\n      <g>\n       <use xlink:href=\"#mafd6779fe7\" x=\"52.160938\" y=\"69.683671\" style=\"stroke: #000000; stroke-width: 0.8\"/>\n      </g>\n     </g>\n     <g id=\"text_15\">\n      <!-- 1.0 -->\n      <g transform=\"translate(29.257812 73.48289) scale(0.1 -0.1)\">\n       <use xlink:href=\"#DejaVuSans-31\"/>\n       <use xlink:href=\"#DejaVuSans-2e\" x=\"63.623047\"/>\n       <use xlink:href=\"#DejaVuSans-30\" x=\"95.410156\"/>\n      </g>\n     </g>\n    </g>\n    <g id=\"ytick_8\">\n     <g id=\"line2d_15\">\n      <g>\n       <use xlink:href=\"#mafd6779fe7\" x=\"52.160938\" y=\"42.26953\" style=\"stroke: #000000; stroke-width: 0.8\"/>\n      </g>\n     </g>\n     <g id=\"text_16\">\n      <!-- 1.2 -->\n      <g transform=\"translate(29.257812 46.068749) scale(0.1 -0.1)\">\n       <use xlink:href=\"#DejaVuSans-31\"/>\n       <use xlink:href=\"#DejaVuSans-2e\" x=\"63.623047\"/>\n       <use xlink:href=\"#DejaVuSans-32\" x=\"95.410156\"/>\n      </g>\n     </g>\n    </g>\n    <g id=\"text_17\">\n     <!-- $x_2$ -->\n     <g transform=\"translate(14.798438 138.548125) rotate(-90) scale(0.1 -0.1)\">\n      <use xlink:href=\"#DejaVuSans-Oblique-78\" transform=\"translate(0 0.3125)\"/>\n      <use xlink:href=\"#DejaVuSans-32\" transform=\"translate(59.179688 -16.09375) scale(0.7)\"/>\n     </g>\n    </g>\n   </g>\n   <g id=\"patch_3\">\n    <path d=\"M 52.160938 244.078125 \nL 52.160938 22.318125 \n\" style=\"fill: none; stroke: #000000; stroke-width: 0.8; stroke-linejoin: miter; stroke-linecap: square\"/>\n   </g>\n   <g id=\"patch_4\">\n    <path d=\"M 275.360937 244.078125 \nL 275.360937 22.318125 \n\" style=\"fill: none; stroke: #000000; stroke-width: 0.8; stroke-linejoin: miter; stroke-linecap: square\"/>\n   </g>\n   <g id=\"patch_5\">\n    <path d=\"M 52.160937 244.078125 \nL 275.360937 244.078125 \n\" style=\"fill: none; stroke: #000000; stroke-width: 0.8; stroke-linejoin: miter; stroke-linecap: square\"/>\n   </g>\n   <g id=\"patch_6\">\n    <path d=\"M 52.160937 22.318125 \nL 275.360937 22.318125 \n\" style=\"fill: none; stroke: #000000; stroke-width: 0.8; stroke-linejoin: miter; stroke-linecap: square\"/>\n   </g>\n   <g id=\"text_18\">\n    <!-- Dataset samples -->\n    <g transform=\"translate(113.418125 16.318125) scale(0.12 -0.12)\">\n     <defs>\n      <path id=\"DejaVuSans-44\" d=\"M 1259 4147 \nL 1259 519 \nL 2022 519 \nQ 2988 519 3436 956 \nQ 3884 1394 3884 2338 \nQ 3884 3275 3436 3711 \nQ 2988 4147 2022 4147 \nL 1259 4147 \nz\nM 628 4666 \nL 1925 4666 \nQ 3281 4666 3915 4102 \nQ 4550 3538 4550 2338 \nQ 4550 1131 3912 565 \nQ 3275 0 1925 0 \nL 628 0 \nL 628 4666 \nz\n\" transform=\"scale(0.015625)\"/>\n      <path id=\"DejaVuSans-61\" d=\"M 2194 1759 \nQ 1497 1759 1228 1600 \nQ 959 1441 959 1056 \nQ 959 750 1161 570 \nQ 1363 391 1709 391 \nQ 2188 391 2477 730 \nQ 2766 1069 2766 1631 \nL 2766 1759 \nL 2194 1759 \nz\nM 3341 1997 \nL 3341 0 \nL 2766 0 \nL 2766 531 \nQ 2569 213 2275 61 \nQ 1981 -91 1556 -91 \nQ 1019 -91 701 211 \nQ 384 513 384 1019 \nQ 384 1609 779 1909 \nQ 1175 2209 1959 2209 \nL 2766 2209 \nL 2766 2266 \nQ 2766 2663 2505 2880 \nQ 2244 3097 1772 3097 \nQ 1472 3097 1187 3025 \nQ 903 2953 641 2809 \nL 641 3341 \nQ 956 3463 1253 3523 \nQ 1550 3584 1831 3584 \nQ 2591 3584 2966 3190 \nQ 3341 2797 3341 1997 \nz\n\" transform=\"scale(0.015625)\"/>\n      <path id=\"DejaVuSans-74\" d=\"M 1172 4494 \nL 1172 3500 \nL 2356 3500 \nL 2356 3053 \nL 1172 3053 \nL 1172 1153 \nQ 1172 725 1289 603 \nQ 1406 481 1766 481 \nL 2356 481 \nL 2356 0 \nL 1766 0 \nQ 1100 0 847 248 \nQ 594 497 594 1153 \nL 594 3053 \nL 172 3053 \nL 172 3500 \nL 594 3500 \nL 594 4494 \nL 1172 4494 \nz\n\" transform=\"scale(0.015625)\"/>\n      <path id=\"DejaVuSans-73\" d=\"M 2834 3397 \nL 2834 2853 \nQ 2591 2978 2328 3040 \nQ 2066 3103 1784 3103 \nQ 1356 3103 1142 2972 \nQ 928 2841 928 2578 \nQ 928 2378 1081 2264 \nQ 1234 2150 1697 2047 \nL 1894 2003 \nQ 2506 1872 2764 1633 \nQ 3022 1394 3022 966 \nQ 3022 478 2636 193 \nQ 2250 -91 1575 -91 \nQ 1294 -91 989 -36 \nQ 684 19 347 128 \nL 347 722 \nQ 666 556 975 473 \nQ 1284 391 1588 391 \nQ 1994 391 2212 530 \nQ 2431 669 2431 922 \nQ 2431 1156 2273 1281 \nQ 2116 1406 1581 1522 \nL 1381 1569 \nQ 847 1681 609 1914 \nQ 372 2147 372 2553 \nQ 372 3047 722 3315 \nQ 1072 3584 1716 3584 \nQ 2034 3584 2315 3537 \nQ 2597 3491 2834 3397 \nz\n\" transform=\"scale(0.015625)\"/>\n      <path id=\"DejaVuSans-65\" d=\"M 3597 1894 \nL 3597 1613 \nL 953 1613 \nQ 991 1019 1311 708 \nQ 1631 397 2203 397 \nQ 2534 397 2845 478 \nQ 3156 559 3463 722 \nL 3463 178 \nQ 3153 47 2828 -22 \nQ 2503 -91 2169 -91 \nQ 1331 -91 842 396 \nQ 353 884 353 1716 \nQ 353 2575 817 3079 \nQ 1281 3584 2069 3584 \nQ 2775 3584 3186 3129 \nQ 3597 2675 3597 1894 \nz\nM 3022 2063 \nQ 3016 2534 2758 2815 \nQ 2500 3097 2075 3097 \nQ 1594 3097 1305 2825 \nQ 1016 2553 972 2059 \nL 3022 2063 \nz\n\" transform=\"scale(0.015625)\"/>\n      <path id=\"DejaVuSans-20\" transform=\"scale(0.015625)\"/>\n      <path id=\"DejaVuSans-6d\" d=\"M 3328 2828 \nQ 3544 3216 3844 3400 \nQ 4144 3584 4550 3584 \nQ 5097 3584 5394 3201 \nQ 5691 2819 5691 2113 \nL 5691 0 \nL 5113 0 \nL 5113 2094 \nQ 5113 2597 4934 2840 \nQ 4756 3084 4391 3084 \nQ 3944 3084 3684 2787 \nQ 3425 2491 3425 1978 \nL 3425 0 \nL 2847 0 \nL 2847 2094 \nQ 2847 2600 2669 2842 \nQ 2491 3084 2119 3084 \nQ 1678 3084 1418 2786 \nQ 1159 2488 1159 1978 \nL 1159 0 \nL 581 0 \nL 581 3500 \nL 1159 3500 \nL 1159 2956 \nQ 1356 3278 1631 3431 \nQ 1906 3584 2284 3584 \nQ 2666 3584 2933 3390 \nQ 3200 3197 3328 2828 \nz\n\" transform=\"scale(0.015625)\"/>\n      <path id=\"DejaVuSans-70\" d=\"M 1159 525 \nL 1159 -1331 \nL 581 -1331 \nL 581 3500 \nL 1159 3500 \nL 1159 2969 \nQ 1341 3281 1617 3432 \nQ 1894 3584 2278 3584 \nQ 2916 3584 3314 3078 \nQ 3713 2572 3713 1747 \nQ 3713 922 3314 415 \nQ 2916 -91 2278 -91 \nQ 1894 -91 1617 61 \nQ 1341 213 1159 525 \nz\nM 3116 1747 \nQ 3116 2381 2855 2742 \nQ 2594 3103 2138 3103 \nQ 1681 3103 1420 2742 \nQ 1159 2381 1159 1747 \nQ 1159 1113 1420 752 \nQ 1681 391 2138 391 \nQ 2594 391 2855 752 \nQ 3116 1113 3116 1747 \nz\n\" transform=\"scale(0.015625)\"/>\n      <path id=\"DejaVuSans-6c\" d=\"M 603 4863 \nL 1178 4863 \nL 1178 0 \nL 603 0 \nL 603 4863 \nz\n\" transform=\"scale(0.015625)\"/>\n     </defs>\n     <use xlink:href=\"#DejaVuSans-44\"/>\n     <use xlink:href=\"#DejaVuSans-61\" x=\"77.001953\"/>\n     <use xlink:href=\"#DejaVuSans-74\" x=\"138.28125\"/>\n     <use xlink:href=\"#DejaVuSans-61\" x=\"177.490234\"/>\n     <use xlink:href=\"#DejaVuSans-73\" x=\"238.769531\"/>\n     <use xlink:href=\"#DejaVuSans-65\" x=\"290.869141\"/>\n     <use xlink:href=\"#DejaVuSans-74\" x=\"352.392578\"/>\n     <use xlink:href=\"#DejaVuSans-20\" x=\"391.601562\"/>\n     <use xlink:href=\"#DejaVuSans-73\" x=\"423.388672\"/>\n     <use xlink:href=\"#DejaVuSans-61\" x=\"475.488281\"/>\n     <use xlink:href=\"#DejaVuSans-6d\" x=\"536.767578\"/>\n     <use xlink:href=\"#DejaVuSans-70\" x=\"634.179688\"/>\n     <use xlink:href=\"#DejaVuSans-6c\" x=\"697.65625\"/>\n     <use xlink:href=\"#DejaVuSans-65\" x=\"725.439453\"/>\n     <use xlink:href=\"#DejaVuSans-73\" x=\"786.962891\"/>\n    </g>\n   </g>\n   <g id=\"legend_1\">\n    <g id=\"patch_7\">\n     <path d=\"M 200.5125 149.37625 \nL 268.360937 149.37625 \nQ 270.360937 149.37625 270.360937 147.37625 \nL 270.360937 119.02 \nQ 270.360937 117.02 268.360937 117.02 \nL 200.5125 117.02 \nQ 198.5125 117.02 198.5125 119.02 \nL 198.5125 147.37625 \nQ 198.5125 149.37625 200.5125 149.37625 \nz\n\" style=\"fill: #ffffff; opacity: 0.8; stroke: #cccccc; stroke-linejoin: miter\"/>\n    </g>\n    <g id=\"PathCollection_3\">\n     <g>\n      <use xlink:href=\"#m3759235f97\" x=\"212.5125\" y=\"125.993437\" style=\"fill: #1f77b4; stroke: #333333\"/>\n     </g>\n    </g>\n    <g id=\"text_19\">\n     <!-- Class 0 -->\n     <g transform=\"translate(230.5125 128.618437) scale(0.1 -0.1)\">\n      <defs>\n       <path id=\"DejaVuSans-43\" d=\"M 4122 4306 \nL 4122 3641 \nQ 3803 3938 3442 4084 \nQ 3081 4231 2675 4231 \nQ 1875 4231 1450 3742 \nQ 1025 3253 1025 2328 \nQ 1025 1406 1450 917 \nQ 1875 428 2675 428 \nQ 3081 428 3442 575 \nQ 3803 722 4122 1019 \nL 4122 359 \nQ 3791 134 3420 21 \nQ 3050 -91 2638 -91 \nQ 1578 -91 968 557 \nQ 359 1206 359 2328 \nQ 359 3453 968 4101 \nQ 1578 4750 2638 4750 \nQ 3056 4750 3426 4639 \nQ 3797 4528 4122 4306 \nz\n\" transform=\"scale(0.015625)\"/>\n      </defs>\n      <use xlink:href=\"#DejaVuSans-43\"/>\n      <use xlink:href=\"#DejaVuSans-6c\" x=\"69.824219\"/>\n      <use xlink:href=\"#DejaVuSans-61\" x=\"97.607422\"/>\n      <use xlink:href=\"#DejaVuSans-73\" x=\"158.886719\"/>\n      <use xlink:href=\"#DejaVuSans-73\" x=\"210.986328\"/>\n      <use xlink:href=\"#DejaVuSans-20\" x=\"263.085938\"/>\n      <use xlink:href=\"#DejaVuSans-30\" x=\"294.873047\"/>\n     </g>\n    </g>\n    <g id=\"PathCollection_4\">\n     <g>\n      <use xlink:href=\"#mad15428e03\" x=\"212.5125\" y=\"140.671562\" style=\"fill: #ff7f0e; stroke: #333333\"/>\n     </g>\n    </g>\n    <g id=\"text_20\">\n     <!-- Class 1 -->\n     <g transform=\"translate(230.5125 143.296562) scale(0.1 -0.1)\">\n      <use xlink:href=\"#DejaVuSans-43\"/>\n      <use xlink:href=\"#DejaVuSans-6c\" x=\"69.824219\"/>\n      <use xlink:href=\"#DejaVuSans-61\" x=\"97.607422\"/>\n      <use xlink:href=\"#DejaVuSans-73\" x=\"158.886719\"/>\n      <use xlink:href=\"#DejaVuSans-73\" x=\"210.986328\"/>\n      <use xlink:href=\"#DejaVuSans-20\" x=\"263.085938\"/>\n      <use xlink:href=\"#DejaVuSans-31\" x=\"294.873047\"/>\n     </g>\n    </g>\n   </g>\n  </g>\n </g>\n <defs>\n  <clipPath id=\"p0fe19da194\">\n   <rect x=\"52.160938\" y=\"22.318125\" width=\"223.2\" height=\"221.76\"/>\n  </clipPath>\n </defs>\n</svg>\n",
            "application/pdf": "[encoded data removed]"
          },
          "metadata": {}
        }
      ],
      "source": [
        "visualize_samples(dataset.data, dataset.labels)\n",
        "plt.show()"
      ]
    },
    {
      "cell_type": "markdown",
      "metadata": {
        "id": "soZ1kpZ2ARJj"
      },
      "source": [
        "#### The data loader class\n",
        "\n",
        "The class `torch.utils.data.DataLoader` represents a Python iterable over a dataset with support for automatic batching, multi-process data loading and many more features. The data loader communicates with the dataset using the function `__getitem__`, and stacks its outputs as tensors over the first dimension to form a batch.\n",
        "In contrast to the dataset class, we usually don't have to define our own data loader class, but can just create an object of it with the dataset as input. Additionally, we can configure our data loader with the following input arguments (only a selection, see full list [here](https://pytorch.org/docs/stable/data.html#torch.utils.data.DataLoader)):\n",
        "\n",
        "* `batch_size`: Number of samples to stack per batch\n",
        "* `shuffle`: If True, the data is returned in a random order. This is important during training for improving the capacity of the model to generalize.\n",
        "* `num_workers`: Number of subprocesses to use for data loading. The default, 0, means that the data will be loaded in the main process which can slow down training for datasets where loading a data point takes a considerable amount of time (e.g. large images). More workers are recommended for those, but can cause issues on Windows computers. For tiny datasets as ours, 0 workers are usually faster.\n",
        "* `pin_memory`: If True, the data loader will copy Tensors into GPU pinned memory before returning them. This can save some time for large data points on GPUs. Usually a good practice to use for a training set, but not necessarily for validation and test to save memory on the GPU.\n",
        "* `drop_last`: If True, the last batch is dropped in case it is smaller than the specified batch size. This occurs when the dataset size is not a multiple of the batch size. Only potentially helpful during training to keep a consistent batch size.\n",
        "\n",
        "Let's create a simple data loader below:"
      ]
    },
    {
      "cell_type": "code",
      "execution_count": 136,
      "metadata": {
        "id": "b1Cwyd1YARJk"
      },
      "outputs": [],
      "source": [
        "data_loader = data.DataLoader(dataset, batch_size=8, shuffle=True)"
      ]
    },
    {
      "cell_type": "code",
      "execution_count": 137,
      "metadata": {
        "colab": {
          "base_uri": "https://localhost:8080/"
        },
        "id": "v5allbgLARJk",
        "outputId": "e7bf551e-1412-40ee-f4d5-16c86c2a0e6e"
      },
      "outputs": [
        {
          "output_type": "stream",
          "name": "stdout",
          "text": [
            "Data inputs torch.Size([8, 2]) \n",
            " tensor([[ 0.9923,  1.0341],\n",
            "        [ 0.0813,  0.1356],\n",
            "        [ 1.0515,  0.0514],\n",
            "        [-0.1725, -0.0562],\n",
            "        [ 1.0064, -0.1078],\n",
            "        [ 1.0058,  0.8857],\n",
            "        [-0.0116, -0.0301],\n",
            "        [ 0.0823, -0.1221]])\n",
            "Data labels torch.Size([8]) \n",
            " tensor([0., 0., 1., 0., 1., 0., 0., 0.], dtype=torch.float64)\n"
          ]
        }
      ],
      "source": [
        "# next(iter(...)) catches the first batch of the data loader\n",
        "# If shuffle is True, this will return a different batch every time we run this cell\n",
        "# For iterating over the whole dataset, we can simple use \"for batch in data_loader: ...\"\n",
        "data_inputs, data_labels = next(iter(data_loader))\n",
        "\n",
        "# The shape of the outputs are [batch_size, d_1,...,d_N] where d_1,...,d_N are the\n",
        "# dimensions of the data point returned from the dataset class\n",
        "print(\"Data inputs\", data_inputs.shape, \"\\n\", data_inputs)\n",
        "print(\"Data labels\", data_labels.shape, \"\\n\", data_labels)"
      ]
    },
    {
      "cell_type": "markdown",
      "metadata": {
        "id": "9oI4WRWuARJk"
      },
      "source": [
        "### Optimization\n",
        "\n",
        "After defining the model and the dataset, it is time to prepare the optimization of the model. During training, we will perform the following steps:\n",
        "\n",
        "1. Get a batch from the data loader\n",
        "2. Obtain the predictions from the model for the batch\n",
        "3. Calculate the loss based on the difference between predictions and labels\n",
        "4. Backpropagation: calculate the gradients for every parameter with respect to the loss\n",
        "5. Update the parameters of the model in the direction of the gradients\n",
        "\n",
        "We have seen how we can do step 1, 2 and 4 in PyTorch. Now, we will look at step 3 and 5."
      ]
    },
    {
      "cell_type": "markdown",
      "metadata": {
        "id": "KdGNtOvZARJk"
      },
      "source": [
        "#### Loss modules\n",
        "\n",
        "We can calculate the loss for a batch by simply performing a few tensor operations as those are automatically added to the computation graph. For instance, for binary classification, we can use Binary Cross Entropy (BCE) which is defined as follows:\n",
        "\n",
        "$${{L}}_{BCE} = -\\sum_i \\left[ y_i \\log x_i + (1 - y_i) \\log (1 - x_i) \\right]$$\n",
        "\n",
        "where $y$ are our labels, and $x$ our predictions, both in the range of $[0,1]$. However, PyTorch already provides a list of predefined loss functions which we can use (see [here](https://pytorch.org/docs/stable/nn.html#loss-functions) for a full list). For instance, for BCE, PyTorch has two modules: `nn.BCELoss()`, `nn.BCEWithLogitsLoss()`. While `nn.BCELoss` expects the inputs $x$ to be in the range $[0,1]$, i.e. the output of a sigmoid, `nn.BCEWithLogitsLoss` combines a sigmoid layer and the BCE loss in a single class. This version is numerically more stable than using a plain Sigmoid followed by a BCE loss because of the logarithms applied in the loss function. Hence, it is adviced to use loss functions applied on \"logits\" where possible (remember to not apply a sigmoid on the output of the model in this case!). For our model defined above, we therefore use the module `nn.BCEWithLogitsLoss`."
      ]
    },
    {
      "cell_type": "code",
      "execution_count": 138,
      "metadata": {
        "id": "yHxMICXZARJk"
      },
      "outputs": [],
      "source": [
        "loss_module = nn.BCEWithLogitsLoss()"
      ]
    },
    {
      "cell_type": "markdown",
      "metadata": {
        "id": "FgwO8nHjARJk"
      },
      "source": [
        "#### Stochastic Gradient Descent\n",
        "\n",
        "For updating the parameters, PyTorch provides the package `torch.optim` that has most popular optimizers implemented. We will for now use the simplest of them: `torch.optim.SGD`. Stochastic Gradient Descent updates parameters by multiplying the gradients with a small constant, called learning rate, and subtracting those from the parameters (hence minimizing the loss). Therefore, we slowly move towards the direction of minimizing the loss. A good default value of the learning rate for a small network as ours is 0.1."
      ]
    },
    {
      "cell_type": "code",
      "execution_count": 139,
      "metadata": {
        "id": "x1-X9I-NARJk"
      },
      "outputs": [],
      "source": [
        "# Input to the optimizer are the parameters of the model: model.parameters()\n",
        "optimizer = torch.optim.SGD(model.parameters(), lr=0.1)"
      ]
    },
    {
      "cell_type": "markdown",
      "metadata": {
        "id": "_xmazImiARJk"
      },
      "source": [
        "The optimizer provides two useful functions: `optimizer.step()`, and `optimizer.zero_grad()`. The step function updates the parameters based on the gradients as explained above. The function `optimizer.zero_grad()` sets the gradients of all parameters to zero. While this function seems less relevant at first, it is a crucial pre-step before performing backpropagation. If we call the `backward` function on the loss while the parameter gradients are non-zero from the previous batch, the new gradients would actually be added to the previous ones instead of overwriting them. This is done because a parameter might occur multiple times in a computation graph, and we need to sum the gradients in this case instead of replacing them. Hence, remember to call `optimizer.zero_grad()` before calculating the gradients of a batch."
      ]
    },
    {
      "cell_type": "markdown",
      "metadata": {
        "id": "ueSdw812ARJk"
      },
      "source": [
        "### Training\n",
        "\n",
        "Finally, we are ready to train our model. As a first step, we create a slightly larger dataset and specify a data loader with a larger batch size."
      ]
    },
    {
      "cell_type": "code",
      "execution_count": 140,
      "metadata": {
        "id": "kv_tJhJUARJk"
      },
      "outputs": [],
      "source": [
        "train_dataset = XORDataset(size=2500)\n",
        "train_data_loader = data.DataLoader(train_dataset, batch_size=250, shuffle=True)"
      ]
    },
    {
      "cell_type": "markdown",
      "metadata": {
        "id": "T7KRtnUNARJk"
      },
      "source": [
        "Now, we can write a small training function.\n",
        "Remember our five steps:\n",
        "   1. load a batch,\n",
        "   2. obtain the predictions,\n",
        "   3. calculate the loss,\n",
        "   4. backpropagate,\n",
        "   5. update.\n",
        "   \n",
        "Additionally, we have to push all data and model parameters to the device of our choice (GPU if available). For the tiny neural network we have, communicating the data to the GPU actually takes much more time than we could save from running the operation on CPU. For large networks, the communication time is significantly smaller than the actual runtime making a GPU crucial in these cases. Still, to practice, we will push the data to GPU here."
      ]
    },
    {
      "cell_type": "code",
      "execution_count": 141,
      "metadata": {
        "colab": {
          "base_uri": "https://localhost:8080/"
        },
        "id": "G8imZgqSARJk",
        "outputId": "e5fa7f46-2ca3-4983-aabd-1033c2e2437e"
      },
      "outputs": [
        {
          "output_type": "execute_result",
          "data": {
            "text/plain": [
              "SimpleClassifier(\n",
              "  (linear1): Linear(in_features=2, out_features=4, bias=True)\n",
              "  (act_fn): Tanh()\n",
              "  (linear2): Linear(in_features=4, out_features=1, bias=True)\n",
              ")"
            ]
          },
          "metadata": {},
          "execution_count": 141
        }
      ],
      "source": [
        "# Push model to device. Has to be only done once\n",
        "model.to(device)"
      ]
    },
    {
      "cell_type": "markdown",
      "metadata": {
        "id": "CKG0W7FVARJk"
      },
      "source": [
        "In addition, we set our model to training mode. This is done by calling `model.train()`. There exist certain modules that need to perform a different forward step during training than during testing (e.g. Dropout), and we can switch between them using `model.train()` and `model.eval()`."
      ]
    },
    {
      "cell_type": "code",
      "execution_count": 142,
      "metadata": {
        "id": "jhOz_jSwARJk"
      },
      "outputs": [],
      "source": [
        "def train_model(model, optimizer, data_loader, loss_module, n_epochs=100):\n",
        "    # Set model to train mode\n",
        "    model.train()\n",
        "\n",
        "    # Initialize a list to store average loss per epoch\n",
        "    epoch_losses = []\n",
        "\n",
        "    # Training loop\n",
        "    for epoch in tqdm(range(n_epochs)):\n",
        "        running_loss = 0.0  # Accumulate loss over the epoch\n",
        "        num_batches = 0\n",
        "\n",
        "        for data_inputs, data_labels in data_loader:\n",
        "            ## Step 1: Move input data to device\n",
        "            data_inputs = data_inputs.to(device)\n",
        "            data_labels = data_labels.to(device)\n",
        "\n",
        "            ## Step 2: Run the model on the input data\n",
        "            preds = model(data_inputs)\n",
        "            preds = preds.squeeze(dim=1)  # Output is [Batch size, 1], but we want [Batch size]\n",
        "\n",
        "            ## Step 3: Calculate the loss\n",
        "            loss = loss_module(preds, data_labels.float())\n",
        "\n",
        "            ## Step 4: Perform backpropagation\n",
        "            optimizer.zero_grad()  # Zero the gradients\n",
        "            loss.backward()        # Backpropagate\n",
        "            optimizer.step()       # Update parameters\n",
        "\n",
        "            # Accumulate loss and batch count\n",
        "            running_loss += loss.item()\n",
        "            num_batches += 1\n",
        "\n",
        "        # Calculate and log average loss for the epoch\n",
        "        epoch_loss = running_loss / num_batches\n",
        "        epoch_losses.append(epoch_loss)\n",
        "        print(f\"Epoch {epoch+1}/{n_epochs}, Loss: {epoch_loss:.4f}\")\n",
        "\n",
        "    return epoch_losses"
      ]
    },
    {
      "cell_type": "code",
      "execution_count": 143,
      "metadata": {
        "colab": {
          "base_uri": "https://localhost:8080/",
          "height": 1000,
          "referenced_widgets": [
            "011a27c5c3f64279892e23aea8acd7aa",
            "eee9ad78723a4d8a87bb3abada4d225b",
            "84175e4c9f44426d948a0543839255d9",
            "36c3aa9df11c4854ae8b5b2f0ecbb039",
            "1603d341a3de47b1af64f5827fcca644",
            "200ff12262554eadafb603b892f75eec",
            "fca5640e52cb49cd9b078f25c426746c",
            "7a5ecb3ee9314e5ba35ff4a6427b08fa",
            "3587a754845a48cb9cea4a38cdbd3375",
            "51530553aee4460babd1a202cfffa844",
            "630ac19261a64e1fb8ef79200a8e9870"
          ]
        },
        "id": "VIZYu_L3ARJk",
        "outputId": "8c77a04c-53ee-419e-fbdd-f41d90844953"
      },
      "outputs": [
        {
          "output_type": "display_data",
          "data": {
            "text/plain": [
              "  0%|          | 0/300 [00:00<?, ?it/s]"
            ],
            "application/vnd.jupyter.widget-view+json": {
              "version_major": 2,
              "version_minor": 0,
              "model_id": "011a27c5c3f64279892e23aea8acd7aa"
            }
          },
          "metadata": {}
        },
        {
          "output_type": "stream",
          "name": "stdout",
          "text": [
            "Epoch 1/300, Loss: 0.7364\n",
            "Epoch 2/300, Loss: 0.7064\n",
            "Epoch 3/300, Loss: 0.6949\n",
            "Epoch 4/300, Loss: 0.6902\n",
            "Epoch 5/300, Loss: 0.6881\n",
            "Epoch 6/300, Loss: 0.6868\n",
            "Epoch 7/300, Loss: 0.6859\n",
            "Epoch 8/300, Loss: 0.6849\n",
            "Epoch 9/300, Loss: 0.6839\n",
            "Epoch 10/300, Loss: 0.6830\n",
            "Epoch 11/300, Loss: 0.6818\n",
            "Epoch 12/300, Loss: 0.6805\n",
            "Epoch 13/300, Loss: 0.6792\n",
            "Epoch 14/300, Loss: 0.6776\n",
            "Epoch 15/300, Loss: 0.6760\n",
            "Epoch 16/300, Loss: 0.6742\n",
            "Epoch 17/300, Loss: 0.6721\n",
            "Epoch 18/300, Loss: 0.6700\n",
            "Epoch 19/300, Loss: 0.6675\n",
            "Epoch 20/300, Loss: 0.6648\n",
            "Epoch 21/300, Loss: 0.6617\n",
            "Epoch 22/300, Loss: 0.6584\n",
            "Epoch 23/300, Loss: 0.6545\n",
            "Epoch 24/300, Loss: 0.6504\n",
            "Epoch 25/300, Loss: 0.6457\n",
            "Epoch 26/300, Loss: 0.6406\n",
            "Epoch 27/300, Loss: 0.6349\n",
            "Epoch 28/300, Loss: 0.6286\n",
            "Epoch 29/300, Loss: 0.6215\n",
            "Epoch 30/300, Loss: 0.6137\n",
            "Epoch 31/300, Loss: 0.6052\n",
            "Epoch 32/300, Loss: 0.5959\n",
            "Epoch 33/300, Loss: 0.5856\n",
            "Epoch 34/300, Loss: 0.5745\n",
            "Epoch 35/300, Loss: 0.5625\n",
            "Epoch 36/300, Loss: 0.5495\n",
            "Epoch 37/300, Loss: 0.5357\n",
            "Epoch 38/300, Loss: 0.5211\n",
            "Epoch 39/300, Loss: 0.5058\n",
            "Epoch 40/300, Loss: 0.4898\n",
            "Epoch 41/300, Loss: 0.4733\n",
            "Epoch 42/300, Loss: 0.4564\n",
            "Epoch 43/300, Loss: 0.4392\n",
            "Epoch 44/300, Loss: 0.4220\n",
            "Epoch 45/300, Loss: 0.4047\n",
            "Epoch 46/300, Loss: 0.3875\n",
            "Epoch 47/300, Loss: 0.3708\n",
            "Epoch 48/300, Loss: 0.3544\n",
            "Epoch 49/300, Loss: 0.3385\n",
            "Epoch 50/300, Loss: 0.3230\n",
            "Epoch 51/300, Loss: 0.3083\n",
            "Epoch 52/300, Loss: 0.2941\n",
            "Epoch 53/300, Loss: 0.2806\n",
            "Epoch 54/300, Loss: 0.2678\n",
            "Epoch 55/300, Loss: 0.2556\n",
            "Epoch 56/300, Loss: 0.2441\n",
            "Epoch 57/300, Loss: 0.2333\n",
            "Epoch 58/300, Loss: 0.2231\n",
            "Epoch 59/300, Loss: 0.2134\n",
            "Epoch 60/300, Loss: 0.2044\n",
            "Epoch 61/300, Loss: 0.1958\n",
            "Epoch 62/300, Loss: 0.1878\n",
            "Epoch 63/300, Loss: 0.1802\n",
            "Epoch 64/300, Loss: 0.1731\n",
            "Epoch 65/300, Loss: 0.1664\n",
            "Epoch 66/300, Loss: 0.1601\n",
            "Epoch 67/300, Loss: 0.1542\n",
            "Epoch 68/300, Loss: 0.1485\n",
            "Epoch 69/300, Loss: 0.1433\n",
            "Epoch 70/300, Loss: 0.1383\n",
            "Epoch 71/300, Loss: 0.1336\n",
            "Epoch 72/300, Loss: 0.1291\n",
            "Epoch 73/300, Loss: 0.1249\n",
            "Epoch 74/300, Loss: 0.1209\n",
            "Epoch 75/300, Loss: 0.1171\n",
            "Epoch 76/300, Loss: 0.1135\n",
            "Epoch 77/300, Loss: 0.1101\n",
            "Epoch 78/300, Loss: 0.1069\n",
            "Epoch 79/300, Loss: 0.1038\n",
            "Epoch 80/300, Loss: 0.1009\n",
            "Epoch 81/300, Loss: 0.0981\n",
            "Epoch 82/300, Loss: 0.0955\n",
            "Epoch 83/300, Loss: 0.0929\n",
            "Epoch 84/300, Loss: 0.0905\n",
            "Epoch 85/300, Loss: 0.0882\n",
            "Epoch 86/300, Loss: 0.0860\n",
            "Epoch 87/300, Loss: 0.0839\n",
            "Epoch 88/300, Loss: 0.0818\n",
            "Epoch 89/300, Loss: 0.0799\n",
            "Epoch 90/300, Loss: 0.0781\n",
            "Epoch 91/300, Loss: 0.0763\n",
            "Epoch 92/300, Loss: 0.0746\n",
            "Epoch 93/300, Loss: 0.0729\n",
            "Epoch 94/300, Loss: 0.0713\n",
            "Epoch 95/300, Loss: 0.0698\n",
            "Epoch 96/300, Loss: 0.0684\n",
            "Epoch 97/300, Loss: 0.0670\n",
            "Epoch 98/300, Loss: 0.0656\n",
            "Epoch 99/300, Loss: 0.0643\n",
            "Epoch 100/300, Loss: 0.0630\n",
            "Epoch 101/300, Loss: 0.0618\n",
            "Epoch 102/300, Loss: 0.0606\n",
            "Epoch 103/300, Loss: 0.0595\n",
            "Epoch 104/300, Loss: 0.0584\n",
            "Epoch 105/300, Loss: 0.0574\n",
            "Epoch 106/300, Loss: 0.0563\n",
            "Epoch 107/300, Loss: 0.0553\n",
            "Epoch 108/300, Loss: 0.0544\n",
            "Epoch 109/300, Loss: 0.0534\n",
            "Epoch 110/300, Loss: 0.0525\n",
            "Epoch 111/300, Loss: 0.0517\n",
            "Epoch 112/300, Loss: 0.0508\n",
            "Epoch 113/300, Loss: 0.0500\n",
            "Epoch 114/300, Loss: 0.0492\n",
            "Epoch 115/300, Loss: 0.0484\n",
            "Epoch 116/300, Loss: 0.0477\n",
            "Epoch 117/300, Loss: 0.0469\n",
            "Epoch 118/300, Loss: 0.0462\n",
            "Epoch 119/300, Loss: 0.0455\n",
            "Epoch 120/300, Loss: 0.0449\n",
            "Epoch 121/300, Loss: 0.0442\n",
            "Epoch 122/300, Loss: 0.0436\n",
            "Epoch 123/300, Loss: 0.0430\n",
            "Epoch 124/300, Loss: 0.0424\n",
            "Epoch 125/300, Loss: 0.0418\n",
            "Epoch 126/300, Loss: 0.0412\n",
            "Epoch 127/300, Loss: 0.0406\n",
            "Epoch 128/300, Loss: 0.0401\n",
            "Epoch 129/300, Loss: 0.0396\n",
            "Epoch 130/300, Loss: 0.0390\n",
            "Epoch 131/300, Loss: 0.0385\n",
            "Epoch 132/300, Loss: 0.0380\n",
            "Epoch 133/300, Loss: 0.0376\n",
            "Epoch 134/300, Loss: 0.0371\n",
            "Epoch 135/300, Loss: 0.0366\n",
            "Epoch 136/300, Loss: 0.0362\n",
            "Epoch 137/300, Loss: 0.0357\n",
            "Epoch 138/300, Loss: 0.0353\n",
            "Epoch 139/300, Loss: 0.0349\n",
            "Epoch 140/300, Loss: 0.0345\n",
            "Epoch 141/300, Loss: 0.0341\n",
            "Epoch 142/300, Loss: 0.0337\n",
            "Epoch 143/300, Loss: 0.0333\n",
            "Epoch 144/300, Loss: 0.0329\n",
            "Epoch 145/300, Loss: 0.0325\n",
            "Epoch 146/300, Loss: 0.0322\n",
            "Epoch 147/300, Loss: 0.0318\n",
            "Epoch 148/300, Loss: 0.0315\n",
            "Epoch 149/300, Loss: 0.0311\n",
            "Epoch 150/300, Loss: 0.0308\n",
            "Epoch 151/300, Loss: 0.0305\n",
            "Epoch 152/300, Loss: 0.0302\n",
            "Epoch 153/300, Loss: 0.0299\n",
            "Epoch 154/300, Loss: 0.0295\n",
            "Epoch 155/300, Loss: 0.0292\n",
            "Epoch 156/300, Loss: 0.0290\n",
            "Epoch 157/300, Loss: 0.0287\n",
            "Epoch 158/300, Loss: 0.0284\n",
            "Epoch 159/300, Loss: 0.0281\n",
            "Epoch 160/300, Loss: 0.0278\n",
            "Epoch 161/300, Loss: 0.0275\n",
            "Epoch 162/300, Loss: 0.0273\n",
            "Epoch 163/300, Loss: 0.0270\n",
            "Epoch 164/300, Loss: 0.0268\n",
            "Epoch 165/300, Loss: 0.0265\n",
            "Epoch 166/300, Loss: 0.0263\n",
            "Epoch 167/300, Loss: 0.0260\n",
            "Epoch 168/300, Loss: 0.0258\n",
            "Epoch 169/300, Loss: 0.0256\n",
            "Epoch 170/300, Loss: 0.0253\n",
            "Epoch 171/300, Loss: 0.0251\n",
            "Epoch 172/300, Loss: 0.0249\n",
            "Epoch 173/300, Loss: 0.0247\n",
            "Epoch 174/300, Loss: 0.0244\n",
            "Epoch 175/300, Loss: 0.0242\n",
            "Epoch 176/300, Loss: 0.0240\n",
            "Epoch 177/300, Loss: 0.0238\n",
            "Epoch 178/300, Loss: 0.0236\n",
            "Epoch 179/300, Loss: 0.0234\n",
            "Epoch 180/300, Loss: 0.0232\n",
            "Epoch 181/300, Loss: 0.0230\n",
            "Epoch 182/300, Loss: 0.0228\n",
            "Epoch 183/300, Loss: 0.0227\n",
            "Epoch 184/300, Loss: 0.0225\n",
            "Epoch 185/300, Loss: 0.0223\n",
            "Epoch 186/300, Loss: 0.0221\n",
            "Epoch 187/300, Loss: 0.0219\n",
            "Epoch 188/300, Loss: 0.0218\n",
            "Epoch 189/300, Loss: 0.0216\n",
            "Epoch 190/300, Loss: 0.0214\n",
            "Epoch 191/300, Loss: 0.0213\n",
            "Epoch 192/300, Loss: 0.0211\n",
            "Epoch 193/300, Loss: 0.0209\n",
            "Epoch 194/300, Loss: 0.0208\n",
            "Epoch 195/300, Loss: 0.0206\n",
            "Epoch 196/300, Loss: 0.0205\n",
            "Epoch 197/300, Loss: 0.0203\n",
            "Epoch 198/300, Loss: 0.0202\n",
            "Epoch 199/300, Loss: 0.0200\n",
            "Epoch 200/300, Loss: 0.0199\n",
            "Epoch 201/300, Loss: 0.0197\n",
            "Epoch 202/300, Loss: 0.0196\n",
            "Epoch 203/300, Loss: 0.0194\n",
            "Epoch 204/300, Loss: 0.0193\n",
            "Epoch 205/300, Loss: 0.0192\n",
            "Epoch 206/300, Loss: 0.0190\n",
            "Epoch 207/300, Loss: 0.0189\n",
            "Epoch 208/300, Loss: 0.0188\n",
            "Epoch 209/300, Loss: 0.0186\n",
            "Epoch 210/300, Loss: 0.0185\n",
            "Epoch 211/300, Loss: 0.0184\n",
            "Epoch 212/300, Loss: 0.0183\n",
            "Epoch 213/300, Loss: 0.0181\n",
            "Epoch 214/300, Loss: 0.0180\n",
            "Epoch 215/300, Loss: 0.0179\n",
            "Epoch 216/300, Loss: 0.0178\n",
            "Epoch 217/300, Loss: 0.0177\n",
            "Epoch 218/300, Loss: 0.0176\n",
            "Epoch 219/300, Loss: 0.0174\n",
            "Epoch 220/300, Loss: 0.0173\n",
            "Epoch 221/300, Loss: 0.0172\n",
            "Epoch 222/300, Loss: 0.0171\n",
            "Epoch 223/300, Loss: 0.0170\n",
            "Epoch 224/300, Loss: 0.0169\n",
            "Epoch 225/300, Loss: 0.0168\n",
            "Epoch 226/300, Loss: 0.0167\n",
            "Epoch 227/300, Loss: 0.0166\n",
            "Epoch 228/300, Loss: 0.0165\n",
            "Epoch 229/300, Loss: 0.0164\n",
            "Epoch 230/300, Loss: 0.0163\n",
            "Epoch 231/300, Loss: 0.0162\n",
            "Epoch 232/300, Loss: 0.0161\n",
            "Epoch 233/300, Loss: 0.0160\n",
            "Epoch 234/300, Loss: 0.0159\n",
            "Epoch 235/300, Loss: 0.0158\n",
            "Epoch 236/300, Loss: 0.0157\n",
            "Epoch 237/300, Loss: 0.0156\n",
            "Epoch 238/300, Loss: 0.0155\n",
            "Epoch 239/300, Loss: 0.0154\n",
            "Epoch 240/300, Loss: 0.0153\n",
            "Epoch 241/300, Loss: 0.0152\n",
            "Epoch 242/300, Loss: 0.0152\n",
            "Epoch 243/300, Loss: 0.0151\n",
            "Epoch 244/300, Loss: 0.0150\n",
            "Epoch 245/300, Loss: 0.0149\n",
            "Epoch 246/300, Loss: 0.0148\n",
            "Epoch 247/300, Loss: 0.0147\n",
            "Epoch 248/300, Loss: 0.0147\n",
            "Epoch 249/300, Loss: 0.0146\n",
            "Epoch 250/300, Loss: 0.0145\n",
            "Epoch 251/300, Loss: 0.0144\n",
            "Epoch 252/300, Loss: 0.0143\n",
            "Epoch 253/300, Loss: 0.0143\n",
            "Epoch 254/300, Loss: 0.0142\n",
            "Epoch 255/300, Loss: 0.0141\n",
            "Epoch 256/300, Loss: 0.0140\n",
            "Epoch 257/300, Loss: 0.0140\n",
            "Epoch 258/300, Loss: 0.0139\n",
            "Epoch 259/300, Loss: 0.0138\n",
            "Epoch 260/300, Loss: 0.0137\n",
            "Epoch 261/300, Loss: 0.0137\n",
            "Epoch 262/300, Loss: 0.0136\n",
            "Epoch 263/300, Loss: 0.0135\n",
            "Epoch 264/300, Loss: 0.0135\n",
            "Epoch 265/300, Loss: 0.0134\n",
            "Epoch 266/300, Loss: 0.0133\n",
            "Epoch 267/300, Loss: 0.0132\n",
            "Epoch 268/300, Loss: 0.0132\n",
            "Epoch 269/300, Loss: 0.0131\n",
            "Epoch 270/300, Loss: 0.0130\n",
            "Epoch 271/300, Loss: 0.0130\n",
            "Epoch 272/300, Loss: 0.0129\n",
            "Epoch 273/300, Loss: 0.0129\n",
            "Epoch 274/300, Loss: 0.0128\n",
            "Epoch 275/300, Loss: 0.0127\n",
            "Epoch 276/300, Loss: 0.0127\n",
            "Epoch 277/300, Loss: 0.0126\n",
            "Epoch 278/300, Loss: 0.0125\n",
            "Epoch 279/300, Loss: 0.0125\n",
            "Epoch 280/300, Loss: 0.0124\n",
            "Epoch 281/300, Loss: 0.0124\n",
            "Epoch 282/300, Loss: 0.0123\n",
            "Epoch 283/300, Loss: 0.0122\n",
            "Epoch 284/300, Loss: 0.0122\n",
            "Epoch 285/300, Loss: 0.0121\n",
            "Epoch 286/300, Loss: 0.0121\n",
            "Epoch 287/300, Loss: 0.0120\n",
            "Epoch 288/300, Loss: 0.0120\n",
            "Epoch 289/300, Loss: 0.0119\n",
            "Epoch 290/300, Loss: 0.0119\n",
            "Epoch 291/300, Loss: 0.0118\n",
            "Epoch 292/300, Loss: 0.0117\n",
            "Epoch 293/300, Loss: 0.0117\n",
            "Epoch 294/300, Loss: 0.0116\n",
            "Epoch 295/300, Loss: 0.0116\n",
            "Epoch 296/300, Loss: 0.0115\n",
            "Epoch 297/300, Loss: 0.0115\n",
            "Epoch 298/300, Loss: 0.0114\n",
            "Epoch 299/300, Loss: 0.0114\n",
            "Epoch 300/300, Loss: 0.0113\n"
          ]
        }
      ],
      "source": [
        "n_epochs = 300\n",
        "loss_list = train_model(model, optimizer, train_data_loader, loss_module, n_epochs)"
      ]
    },
    {
      "cell_type": "code",
      "execution_count": 144,
      "metadata": {
        "colab": {
          "base_uri": "https://localhost:8080/",
          "height": 588
        },
        "id": "pcm12_hhARJl",
        "outputId": "0b08c863-1e97-44d8-acdc-3d3082a0589a"
      },
      "outputs": [
        {
          "output_type": "stream",
          "name": "stdout",
          "text": [
            "300\n",
            "300\n"
          ]
        },
        {
          "output_type": "display_data",
          "data": {
            "text/plain": [
              "<Figure size 800x600 with 1 Axes>"
            ],
            "image/svg+xml": "<?xml version=\"1.0\" encoding=\"utf-8\" standalone=\"no\"?>\n<!DOCTYPE svg PUBLIC \"-//W3C//DTD SVG 1.1//EN\"\n  \"http://www.w3.org/Graphics/SVG/1.1/DTD/svg11.dtd\">\n<svg xmlns:xlink=\"http://www.w3.org/1999/xlink\" width=\"501.2525pt\" height=\"399.425pt\" viewBox=\"0 0 501.2525 399.425\" xmlns=\"http://www.w3.org/2000/svg\" version=\"1.1\">\n <metadata>\n  <rdf:RDF xmlns:dc=\"http://purl.org/dc/elements/1.1/\" xmlns:cc=\"http://creativecommons.org/ns#\" xmlns:rdf=\"http://www.w3.org/1999/02/22-rdf-syntax-ns#\">\n   <cc:Work>\n    <dc:type rdf:resource=\"http://purl.org/dc/dcmitype/StillImage\"/>\n    <dc:date>2024-12-05T07:20:19.815082</dc:date>\n    <dc:format>image/svg+xml</dc:format>\n    <dc:creator>\n     <cc:Agent>\n      <dc:title>Matplotlib v3.8.0, https://matplotlib.org/</dc:title>\n     </cc:Agent>\n    </dc:creator>\n   </cc:Work>\n  </rdf:RDF>\n </metadata>\n <defs>\n  <style type=\"text/css\">*{stroke-linejoin: round; stroke-linecap: butt}</style>\n </defs>\n <g id=\"figure_1\">\n  <g id=\"patch_1\">\n   <path d=\"M 0 399.425 \nL 501.2525 399.425 \nL 501.2525 0 \nL 0 0 \nz\n\" style=\"fill: #ffffff\"/>\n  </g>\n  <g id=\"axes_1\">\n   <g id=\"patch_2\">\n    <path d=\"M 47.6525 357.9975 \nL 494.0525 357.9975 \nL 494.0525 25.3575 \nL 47.6525 25.3575 \nz\n\" style=\"fill: #ffffff\"/>\n   </g>\n   <g id=\"matplotlib.axis_1\">\n    <g id=\"xtick_1\">\n     <g id=\"line2d_1\">\n      <path d=\"M 66.586158 357.9975 \nL 66.586158 25.3575 \n\" clip-path=\"url(#p2acfc91b1a)\" style=\"fill: none; stroke-dasharray: 2.96,1.28; stroke-dashoffset: 0; stroke: #b0b0b0; stroke-opacity: 0.6; stroke-width: 0.8\"/>\n     </g>\n     <g id=\"line2d_2\">\n      <defs>\n       <path id=\"m6a3ac66ce2\" d=\"M 0 0 \nL 0 3.5 \n\" style=\"stroke: #000000; stroke-width: 0.8\"/>\n      </defs>\n      <g>\n       <use xlink:href=\"#m6a3ac66ce2\" x=\"66.586158\" y=\"357.9975\" style=\"stroke: #000000; stroke-width: 0.8\"/>\n      </g>\n     </g>\n     <g id=\"text_1\">\n      <!-- 0 -->\n      <g transform=\"translate(63.404908 372.595937) scale(0.1 -0.1)\">\n       <defs>\n        <path id=\"DejaVuSans-30\" d=\"M 2034 4250 \nQ 1547 4250 1301 3770 \nQ 1056 3291 1056 2328 \nQ 1056 1369 1301 889 \nQ 1547 409 2034 409 \nQ 2525 409 2770 889 \nQ 3016 1369 3016 2328 \nQ 3016 3291 2770 3770 \nQ 2525 4250 2034 4250 \nz\nM 2034 4750 \nQ 2819 4750 3233 4129 \nQ 3647 3509 3647 2328 \nQ 3647 1150 3233 529 \nQ 2819 -91 2034 -91 \nQ 1250 -91 836 529 \nQ 422 1150 422 2328 \nQ 422 3509 836 4129 \nQ 1250 4750 2034 4750 \nz\n\" transform=\"scale(0.015625)\"/>\n       </defs>\n       <use xlink:href=\"#DejaVuSans-30\"/>\n      </g>\n     </g>\n    </g>\n    <g id=\"xtick_2\">\n     <g id=\"line2d_3\">\n      <path d=\"M 134.44873 357.9975 \nL 134.44873 25.3575 \n\" clip-path=\"url(#p2acfc91b1a)\" style=\"fill: none; stroke-dasharray: 2.96,1.28; stroke-dashoffset: 0; stroke: #b0b0b0; stroke-opacity: 0.6; stroke-width: 0.8\"/>\n     </g>\n     <g id=\"line2d_4\">\n      <g>\n       <use xlink:href=\"#m6a3ac66ce2\" x=\"134.44873\" y=\"357.9975\" style=\"stroke: #000000; stroke-width: 0.8\"/>\n      </g>\n     </g>\n     <g id=\"text_2\">\n      <!-- 50 -->\n      <g transform=\"translate(128.08623 372.595937) scale(0.1 -0.1)\">\n       <defs>\n        <path id=\"DejaVuSans-35\" d=\"M 691 4666 \nL 3169 4666 \nL 3169 4134 \nL 1269 4134 \nL 1269 2991 \nQ 1406 3038 1543 3061 \nQ 1681 3084 1819 3084 \nQ 2600 3084 3056 2656 \nQ 3513 2228 3513 1497 \nQ 3513 744 3044 326 \nQ 2575 -91 1722 -91 \nQ 1428 -91 1123 -41 \nQ 819 9 494 109 \nL 494 744 \nQ 775 591 1075 516 \nQ 1375 441 1709 441 \nQ 2250 441 2565 725 \nQ 2881 1009 2881 1497 \nQ 2881 1984 2565 2268 \nQ 2250 2553 1709 2553 \nQ 1456 2553 1204 2497 \nQ 953 2441 691 2322 \nL 691 4666 \nz\n\" transform=\"scale(0.015625)\"/>\n       </defs>\n       <use xlink:href=\"#DejaVuSans-35\"/>\n       <use xlink:href=\"#DejaVuSans-30\" x=\"63.623047\"/>\n      </g>\n     </g>\n    </g>\n    <g id=\"xtick_3\">\n     <g id=\"line2d_5\">\n      <path d=\"M 202.311302 357.9975 \nL 202.311302 25.3575 \n\" clip-path=\"url(#p2acfc91b1a)\" style=\"fill: none; stroke-dasharray: 2.96,1.28; stroke-dashoffset: 0; stroke: #b0b0b0; stroke-opacity: 0.6; stroke-width: 0.8\"/>\n     </g>\n     <g id=\"line2d_6\">\n      <g>\n       <use xlink:href=\"#m6a3ac66ce2\" x=\"202.311302\" y=\"357.9975\" style=\"stroke: #000000; stroke-width: 0.8\"/>\n      </g>\n     </g>\n     <g id=\"text_3\">\n      <!-- 100 -->\n      <g transform=\"translate(192.767552 372.595937) scale(0.1 -0.1)\">\n       <defs>\n        <path id=\"DejaVuSans-31\" d=\"M 794 531 \nL 1825 531 \nL 1825 4091 \nL 703 3866 \nL 703 4441 \nL 1819 4666 \nL 2450 4666 \nL 2450 531 \nL 3481 531 \nL 3481 0 \nL 794 0 \nL 794 531 \nz\n\" transform=\"scale(0.015625)\"/>\n       </defs>\n       <use xlink:href=\"#DejaVuSans-31\"/>\n       <use xlink:href=\"#DejaVuSans-30\" x=\"63.623047\"/>\n       <use xlink:href=\"#DejaVuSans-30\" x=\"127.246094\"/>\n      </g>\n     </g>\n    </g>\n    <g id=\"xtick_4\">\n     <g id=\"line2d_7\">\n      <path d=\"M 270.173874 357.9975 \nL 270.173874 25.3575 \n\" clip-path=\"url(#p2acfc91b1a)\" style=\"fill: none; stroke-dasharray: 2.96,1.28; stroke-dashoffset: 0; stroke: #b0b0b0; stroke-opacity: 0.6; stroke-width: 0.8\"/>\n     </g>\n     <g id=\"line2d_8\">\n      <g>\n       <use xlink:href=\"#m6a3ac66ce2\" x=\"270.173874\" y=\"357.9975\" style=\"stroke: #000000; stroke-width: 0.8\"/>\n      </g>\n     </g>\n     <g id=\"text_4\">\n      <!-- 150 -->\n      <g transform=\"translate(260.630124 372.595937) scale(0.1 -0.1)\">\n       <use xlink:href=\"#DejaVuSans-31\"/>\n       <use xlink:href=\"#DejaVuSans-35\" x=\"63.623047\"/>\n       <use xlink:href=\"#DejaVuSans-30\" x=\"127.246094\"/>\n      </g>\n     </g>\n    </g>\n    <g id=\"xtick_5\">\n     <g id=\"line2d_9\">\n      <path d=\"M 338.036446 357.9975 \nL 338.036446 25.3575 \n\" clip-path=\"url(#p2acfc91b1a)\" style=\"fill: none; stroke-dasharray: 2.96,1.28; stroke-dashoffset: 0; stroke: #b0b0b0; stroke-opacity: 0.6; stroke-width: 0.8\"/>\n     </g>\n     <g id=\"line2d_10\">\n      <g>\n       <use xlink:href=\"#m6a3ac66ce2\" x=\"338.036446\" y=\"357.9975\" style=\"stroke: #000000; stroke-width: 0.8\"/>\n      </g>\n     </g>\n     <g id=\"text_5\">\n      <!-- 200 -->\n      <g transform=\"translate(328.492696 372.595937) scale(0.1 -0.1)\">\n       <defs>\n        <path id=\"DejaVuSans-32\" d=\"M 1228 531 \nL 3431 531 \nL 3431 0 \nL 469 0 \nL 469 531 \nQ 828 903 1448 1529 \nQ 2069 2156 2228 2338 \nQ 2531 2678 2651 2914 \nQ 2772 3150 2772 3378 \nQ 2772 3750 2511 3984 \nQ 2250 4219 1831 4219 \nQ 1534 4219 1204 4116 \nQ 875 4013 500 3803 \nL 500 4441 \nQ 881 4594 1212 4672 \nQ 1544 4750 1819 4750 \nQ 2544 4750 2975 4387 \nQ 3406 4025 3406 3419 \nQ 3406 3131 3298 2873 \nQ 3191 2616 2906 2266 \nQ 2828 2175 2409 1742 \nQ 1991 1309 1228 531 \nz\n\" transform=\"scale(0.015625)\"/>\n       </defs>\n       <use xlink:href=\"#DejaVuSans-32\"/>\n       <use xlink:href=\"#DejaVuSans-30\" x=\"63.623047\"/>\n       <use xlink:href=\"#DejaVuSans-30\" x=\"127.246094\"/>\n      </g>\n     </g>\n    </g>\n    <g id=\"xtick_6\">\n     <g id=\"line2d_11\">\n      <path d=\"M 405.899019 357.9975 \nL 405.899019 25.3575 \n\" clip-path=\"url(#p2acfc91b1a)\" style=\"fill: none; stroke-dasharray: 2.96,1.28; stroke-dashoffset: 0; stroke: #b0b0b0; stroke-opacity: 0.6; stroke-width: 0.8\"/>\n     </g>\n     <g id=\"line2d_12\">\n      <g>\n       <use xlink:href=\"#m6a3ac66ce2\" x=\"405.899019\" y=\"357.9975\" style=\"stroke: #000000; stroke-width: 0.8\"/>\n      </g>\n     </g>\n     <g id=\"text_6\">\n      <!-- 250 -->\n      <g transform=\"translate(396.355269 372.595937) scale(0.1 -0.1)\">\n       <use xlink:href=\"#DejaVuSans-32\"/>\n       <use xlink:href=\"#DejaVuSans-35\" x=\"63.623047\"/>\n       <use xlink:href=\"#DejaVuSans-30\" x=\"127.246094\"/>\n      </g>\n     </g>\n    </g>\n    <g id=\"xtick_7\">\n     <g id=\"line2d_13\">\n      <path d=\"M 473.761591 357.9975 \nL 473.761591 25.3575 \n\" clip-path=\"url(#p2acfc91b1a)\" style=\"fill: none; stroke-dasharray: 2.96,1.28; stroke-dashoffset: 0; stroke: #b0b0b0; stroke-opacity: 0.6; stroke-width: 0.8\"/>\n     </g>\n     <g id=\"line2d_14\">\n      <g>\n       <use xlink:href=\"#m6a3ac66ce2\" x=\"473.761591\" y=\"357.9975\" style=\"stroke: #000000; stroke-width: 0.8\"/>\n      </g>\n     </g>\n     <g id=\"text_7\">\n      <!-- 300 -->\n      <g transform=\"translate(464.217841 372.595937) scale(0.1 -0.1)\">\n       <defs>\n        <path id=\"DejaVuSans-33\" d=\"M 2597 2516 \nQ 3050 2419 3304 2112 \nQ 3559 1806 3559 1356 \nQ 3559 666 3084 287 \nQ 2609 -91 1734 -91 \nQ 1441 -91 1130 -33 \nQ 819 25 488 141 \nL 488 750 \nQ 750 597 1062 519 \nQ 1375 441 1716 441 \nQ 2309 441 2620 675 \nQ 2931 909 2931 1356 \nQ 2931 1769 2642 2001 \nQ 2353 2234 1838 2234 \nL 1294 2234 \nL 1294 2753 \nL 1863 2753 \nQ 2328 2753 2575 2939 \nQ 2822 3125 2822 3475 \nQ 2822 3834 2567 4026 \nQ 2313 4219 1838 4219 \nQ 1578 4219 1281 4162 \nQ 984 4106 628 3988 \nL 628 4550 \nQ 988 4650 1302 4700 \nQ 1616 4750 1894 4750 \nQ 2613 4750 3031 4423 \nQ 3450 4097 3450 3541 \nQ 3450 3153 3228 2886 \nQ 3006 2619 2597 2516 \nz\n\" transform=\"scale(0.015625)\"/>\n       </defs>\n       <use xlink:href=\"#DejaVuSans-33\"/>\n       <use xlink:href=\"#DejaVuSans-30\" x=\"63.623047\"/>\n       <use xlink:href=\"#DejaVuSans-30\" x=\"127.246094\"/>\n      </g>\n     </g>\n    </g>\n    <g id=\"text_8\">\n     <!-- Epoch -->\n     <g transform=\"translate(249.417187 389.313437) scale(0.14 -0.14)\">\n      <defs>\n       <path id=\"DejaVuSans-45\" d=\"M 628 4666 \nL 3578 4666 \nL 3578 4134 \nL 1259 4134 \nL 1259 2753 \nL 3481 2753 \nL 3481 2222 \nL 1259 2222 \nL 1259 531 \nL 3634 531 \nL 3634 0 \nL 628 0 \nL 628 4666 \nz\n\" transform=\"scale(0.015625)\"/>\n       <path id=\"DejaVuSans-70\" d=\"M 1159 525 \nL 1159 -1331 \nL 581 -1331 \nL 581 3500 \nL 1159 3500 \nL 1159 2969 \nQ 1341 3281 1617 3432 \nQ 1894 3584 2278 3584 \nQ 2916 3584 3314 3078 \nQ 3713 2572 3713 1747 \nQ 3713 922 3314 415 \nQ 2916 -91 2278 -91 \nQ 1894 -91 1617 61 \nQ 1341 213 1159 525 \nz\nM 3116 1747 \nQ 3116 2381 2855 2742 \nQ 2594 3103 2138 3103 \nQ 1681 3103 1420 2742 \nQ 1159 2381 1159 1747 \nQ 1159 1113 1420 752 \nQ 1681 391 2138 391 \nQ 2594 391 2855 752 \nQ 3116 1113 3116 1747 \nz\n\" transform=\"scale(0.015625)\"/>\n       <path id=\"DejaVuSans-6f\" d=\"M 1959 3097 \nQ 1497 3097 1228 2736 \nQ 959 2375 959 1747 \nQ 959 1119 1226 758 \nQ 1494 397 1959 397 \nQ 2419 397 2687 759 \nQ 2956 1122 2956 1747 \nQ 2956 2369 2687 2733 \nQ 2419 3097 1959 3097 \nz\nM 1959 3584 \nQ 2709 3584 3137 3096 \nQ 3566 2609 3566 1747 \nQ 3566 888 3137 398 \nQ 2709 -91 1959 -91 \nQ 1206 -91 779 398 \nQ 353 888 353 1747 \nQ 353 2609 779 3096 \nQ 1206 3584 1959 3584 \nz\n\" transform=\"scale(0.015625)\"/>\n       <path id=\"DejaVuSans-63\" d=\"M 3122 3366 \nL 3122 2828 \nQ 2878 2963 2633 3030 \nQ 2388 3097 2138 3097 \nQ 1578 3097 1268 2742 \nQ 959 2388 959 1747 \nQ 959 1106 1268 751 \nQ 1578 397 2138 397 \nQ 2388 397 2633 464 \nQ 2878 531 3122 666 \nL 3122 134 \nQ 2881 22 2623 -34 \nQ 2366 -91 2075 -91 \nQ 1284 -91 818 406 \nQ 353 903 353 1747 \nQ 353 2603 823 3093 \nQ 1294 3584 2113 3584 \nQ 2378 3584 2631 3529 \nQ 2884 3475 3122 3366 \nz\n\" transform=\"scale(0.015625)\"/>\n       <path id=\"DejaVuSans-68\" d=\"M 3513 2113 \nL 3513 0 \nL 2938 0 \nL 2938 2094 \nQ 2938 2591 2744 2837 \nQ 2550 3084 2163 3084 \nQ 1697 3084 1428 2787 \nQ 1159 2491 1159 1978 \nL 1159 0 \nL 581 0 \nL 581 4863 \nL 1159 4863 \nL 1159 2956 \nQ 1366 3272 1645 3428 \nQ 1925 3584 2291 3584 \nQ 2894 3584 3203 3211 \nQ 3513 2838 3513 2113 \nz\n\" transform=\"scale(0.015625)\"/>\n      </defs>\n      <use xlink:href=\"#DejaVuSans-45\"/>\n      <use xlink:href=\"#DejaVuSans-70\" x=\"63.183594\"/>\n      <use xlink:href=\"#DejaVuSans-6f\" x=\"126.660156\"/>\n      <use xlink:href=\"#DejaVuSans-63\" x=\"187.841797\"/>\n      <use xlink:href=\"#DejaVuSans-68\" x=\"242.822266\"/>\n     </g>\n    </g>\n   </g>\n   <g id=\"matplotlib.axis_2\">\n    <g id=\"ytick_1\">\n     <g id=\"line2d_15\">\n      <path d=\"M 47.6525 347.60187 \nL 494.0525 347.60187 \n\" clip-path=\"url(#p2acfc91b1a)\" style=\"fill: none; stroke-dasharray: 2.96,1.28; stroke-dashoffset: 0; stroke: #b0b0b0; stroke-opacity: 0.6; stroke-width: 0.8\"/>\n     </g>\n     <g id=\"line2d_16\">\n      <defs>\n       <path id=\"ma9dd38643d\" d=\"M 0 0 \nL -3.5 0 \n\" style=\"stroke: #000000; stroke-width: 0.8\"/>\n      </defs>\n      <g>\n       <use xlink:href=\"#ma9dd38643d\" x=\"47.6525\" y=\"347.60187\" style=\"stroke: #000000; stroke-width: 0.8\"/>\n      </g>\n     </g>\n     <g id=\"text_9\">\n      <!-- 0.0 -->\n      <g transform=\"translate(24.749375 351.401089) scale(0.1 -0.1)\">\n       <defs>\n        <path id=\"DejaVuSans-2e\" d=\"M 684 794 \nL 1344 794 \nL 1344 0 \nL 684 0 \nL 684 794 \nz\n\" transform=\"scale(0.015625)\"/>\n       </defs>\n       <use xlink:href=\"#DejaVuSans-30\"/>\n       <use xlink:href=\"#DejaVuSans-2e\" x=\"63.623047\"/>\n       <use xlink:href=\"#DejaVuSans-30\" x=\"95.410156\"/>\n      </g>\n     </g>\n    </g>\n    <g id=\"ytick_2\">\n     <g id=\"line2d_17\">\n      <path d=\"M 47.6525 305.892977 \nL 494.0525 305.892977 \n\" clip-path=\"url(#p2acfc91b1a)\" style=\"fill: none; stroke-dasharray: 2.96,1.28; stroke-dashoffset: 0; stroke: #b0b0b0; stroke-opacity: 0.6; stroke-width: 0.8\"/>\n     </g>\n     <g id=\"line2d_18\">\n      <g>\n       <use xlink:href=\"#ma9dd38643d\" x=\"47.6525\" y=\"305.892977\" style=\"stroke: #000000; stroke-width: 0.8\"/>\n      </g>\n     </g>\n     <g id=\"text_10\">\n      <!-- 0.1 -->\n      <g transform=\"translate(24.749375 309.692196) scale(0.1 -0.1)\">\n       <use xlink:href=\"#DejaVuSans-30\"/>\n       <use xlink:href=\"#DejaVuSans-2e\" x=\"63.623047\"/>\n       <use xlink:href=\"#DejaVuSans-31\" x=\"95.410156\"/>\n      </g>\n     </g>\n    </g>\n    <g id=\"ytick_3\">\n     <g id=\"line2d_19\">\n      <path d=\"M 47.6525 264.184084 \nL 494.0525 264.184084 \n\" clip-path=\"url(#p2acfc91b1a)\" style=\"fill: none; stroke-dasharray: 2.96,1.28; stroke-dashoffset: 0; stroke: #b0b0b0; stroke-opacity: 0.6; stroke-width: 0.8\"/>\n     </g>\n     <g id=\"line2d_20\">\n      <g>\n       <use xlink:href=\"#ma9dd38643d\" x=\"47.6525\" y=\"264.184084\" style=\"stroke: #000000; stroke-width: 0.8\"/>\n      </g>\n     </g>\n     <g id=\"text_11\">\n      <!-- 0.2 -->\n      <g transform=\"translate(24.749375 267.983303) scale(0.1 -0.1)\">\n       <use xlink:href=\"#DejaVuSans-30\"/>\n       <use xlink:href=\"#DejaVuSans-2e\" x=\"63.623047\"/>\n       <use xlink:href=\"#DejaVuSans-32\" x=\"95.410156\"/>\n      </g>\n     </g>\n    </g>\n    <g id=\"ytick_4\">\n     <g id=\"line2d_21\">\n      <path d=\"M 47.6525 222.475191 \nL 494.0525 222.475191 \n\" clip-path=\"url(#p2acfc91b1a)\" style=\"fill: none; stroke-dasharray: 2.96,1.28; stroke-dashoffset: 0; stroke: #b0b0b0; stroke-opacity: 0.6; stroke-width: 0.8\"/>\n     </g>\n     <g id=\"line2d_22\">\n      <g>\n       <use xlink:href=\"#ma9dd38643d\" x=\"47.6525\" y=\"222.475191\" style=\"stroke: #000000; stroke-width: 0.8\"/>\n      </g>\n     </g>\n     <g id=\"text_12\">\n      <!-- 0.3 -->\n      <g transform=\"translate(24.749375 226.27441) scale(0.1 -0.1)\">\n       <use xlink:href=\"#DejaVuSans-30\"/>\n       <use xlink:href=\"#DejaVuSans-2e\" x=\"63.623047\"/>\n       <use xlink:href=\"#DejaVuSans-33\" x=\"95.410156\"/>\n      </g>\n     </g>\n    </g>\n    <g id=\"ytick_5\">\n     <g id=\"line2d_23\">\n      <path d=\"M 47.6525 180.766298 \nL 494.0525 180.766298 \n\" clip-path=\"url(#p2acfc91b1a)\" style=\"fill: none; stroke-dasharray: 2.96,1.28; stroke-dashoffset: 0; stroke: #b0b0b0; stroke-opacity: 0.6; stroke-width: 0.8\"/>\n     </g>\n     <g id=\"line2d_24\">\n      <g>\n       <use xlink:href=\"#ma9dd38643d\" x=\"47.6525\" y=\"180.766298\" style=\"stroke: #000000; stroke-width: 0.8\"/>\n      </g>\n     </g>\n     <g id=\"text_13\">\n      <!-- 0.4 -->\n      <g transform=\"translate(24.749375 184.565517) scale(0.1 -0.1)\">\n       <defs>\n        <path id=\"DejaVuSans-34\" d=\"M 2419 4116 \nL 825 1625 \nL 2419 1625 \nL 2419 4116 \nz\nM 2253 4666 \nL 3047 4666 \nL 3047 1625 \nL 3713 1625 \nL 3713 1100 \nL 3047 1100 \nL 3047 0 \nL 2419 0 \nL 2419 1100 \nL 313 1100 \nL 313 1709 \nL 2253 4666 \nz\n\" transform=\"scale(0.015625)\"/>\n       </defs>\n       <use xlink:href=\"#DejaVuSans-30\"/>\n       <use xlink:href=\"#DejaVuSans-2e\" x=\"63.623047\"/>\n       <use xlink:href=\"#DejaVuSans-34\" x=\"95.410156\"/>\n      </g>\n     </g>\n    </g>\n    <g id=\"ytick_6\">\n     <g id=\"line2d_25\">\n      <path d=\"M 47.6525 139.057406 \nL 494.0525 139.057406 \n\" clip-path=\"url(#p2acfc91b1a)\" style=\"fill: none; stroke-dasharray: 2.96,1.28; stroke-dashoffset: 0; stroke: #b0b0b0; stroke-opacity: 0.6; stroke-width: 0.8\"/>\n     </g>\n     <g id=\"line2d_26\">\n      <g>\n       <use xlink:href=\"#ma9dd38643d\" x=\"47.6525\" y=\"139.057406\" style=\"stroke: #000000; stroke-width: 0.8\"/>\n      </g>\n     </g>\n     <g id=\"text_14\">\n      <!-- 0.5 -->\n      <g transform=\"translate(24.749375 142.856624) scale(0.1 -0.1)\">\n       <use xlink:href=\"#DejaVuSans-30\"/>\n       <use xlink:href=\"#DejaVuSans-2e\" x=\"63.623047\"/>\n       <use xlink:href=\"#DejaVuSans-35\" x=\"95.410156\"/>\n      </g>\n     </g>\n    </g>\n    <g id=\"ytick_7\">\n     <g id=\"line2d_27\">\n      <path d=\"M 47.6525 97.348513 \nL 494.0525 97.348513 \n\" clip-path=\"url(#p2acfc91b1a)\" style=\"fill: none; stroke-dasharray: 2.96,1.28; stroke-dashoffset: 0; stroke: #b0b0b0; stroke-opacity: 0.6; stroke-width: 0.8\"/>\n     </g>\n     <g id=\"line2d_28\">\n      <g>\n       <use xlink:href=\"#ma9dd38643d\" x=\"47.6525\" y=\"97.348513\" style=\"stroke: #000000; stroke-width: 0.8\"/>\n      </g>\n     </g>\n     <g id=\"text_15\">\n      <!-- 0.6 -->\n      <g transform=\"translate(24.749375 101.147731) scale(0.1 -0.1)\">\n       <defs>\n        <path id=\"DejaVuSans-36\" d=\"M 2113 2584 \nQ 1688 2584 1439 2293 \nQ 1191 2003 1191 1497 \nQ 1191 994 1439 701 \nQ 1688 409 2113 409 \nQ 2538 409 2786 701 \nQ 3034 994 3034 1497 \nQ 3034 2003 2786 2293 \nQ 2538 2584 2113 2584 \nz\nM 3366 4563 \nL 3366 3988 \nQ 3128 4100 2886 4159 \nQ 2644 4219 2406 4219 \nQ 1781 4219 1451 3797 \nQ 1122 3375 1075 2522 \nQ 1259 2794 1537 2939 \nQ 1816 3084 2150 3084 \nQ 2853 3084 3261 2657 \nQ 3669 2231 3669 1497 \nQ 3669 778 3244 343 \nQ 2819 -91 2113 -91 \nQ 1303 -91 875 529 \nQ 447 1150 447 2328 \nQ 447 3434 972 4092 \nQ 1497 4750 2381 4750 \nQ 2619 4750 2861 4703 \nQ 3103 4656 3366 4563 \nz\n\" transform=\"scale(0.015625)\"/>\n       </defs>\n       <use xlink:href=\"#DejaVuSans-30\"/>\n       <use xlink:href=\"#DejaVuSans-2e\" x=\"63.623047\"/>\n       <use xlink:href=\"#DejaVuSans-36\" x=\"95.410156\"/>\n      </g>\n     </g>\n    </g>\n    <g id=\"ytick_8\">\n     <g id=\"line2d_29\">\n      <path d=\"M 47.6525 55.63962 \nL 494.0525 55.63962 \n\" clip-path=\"url(#p2acfc91b1a)\" style=\"fill: none; stroke-dasharray: 2.96,1.28; stroke-dashoffset: 0; stroke: #b0b0b0; stroke-opacity: 0.6; stroke-width: 0.8\"/>\n     </g>\n     <g id=\"line2d_30\">\n      <g>\n       <use xlink:href=\"#ma9dd38643d\" x=\"47.6525\" y=\"55.63962\" style=\"stroke: #000000; stroke-width: 0.8\"/>\n      </g>\n     </g>\n     <g id=\"text_16\">\n      <!-- 0.7 -->\n      <g transform=\"translate(24.749375 59.438839) scale(0.1 -0.1)\">\n       <defs>\n        <path id=\"DejaVuSans-37\" d=\"M 525 4666 \nL 3525 4666 \nL 3525 4397 \nL 1831 0 \nL 1172 0 \nL 2766 4134 \nL 525 4134 \nL 525 4666 \nz\n\" transform=\"scale(0.015625)\"/>\n       </defs>\n       <use xlink:href=\"#DejaVuSans-30\"/>\n       <use xlink:href=\"#DejaVuSans-2e\" x=\"63.623047\"/>\n       <use xlink:href=\"#DejaVuSans-37\" x=\"95.410156\"/>\n      </g>\n     </g>\n    </g>\n    <g id=\"text_17\">\n     <!-- Loss -->\n     <g transform=\"translate(17.837812 207.031562) rotate(-90) scale(0.14 -0.14)\">\n      <defs>\n       <path id=\"DejaVuSans-4c\" d=\"M 628 4666 \nL 1259 4666 \nL 1259 531 \nL 3531 531 \nL 3531 0 \nL 628 0 \nL 628 4666 \nz\n\" transform=\"scale(0.015625)\"/>\n       <path id=\"DejaVuSans-73\" d=\"M 2834 3397 \nL 2834 2853 \nQ 2591 2978 2328 3040 \nQ 2066 3103 1784 3103 \nQ 1356 3103 1142 2972 \nQ 928 2841 928 2578 \nQ 928 2378 1081 2264 \nQ 1234 2150 1697 2047 \nL 1894 2003 \nQ 2506 1872 2764 1633 \nQ 3022 1394 3022 966 \nQ 3022 478 2636 193 \nQ 2250 -91 1575 -91 \nQ 1294 -91 989 -36 \nQ 684 19 347 128 \nL 347 722 \nQ 666 556 975 473 \nQ 1284 391 1588 391 \nQ 1994 391 2212 530 \nQ 2431 669 2431 922 \nQ 2431 1156 2273 1281 \nQ 2116 1406 1581 1522 \nL 1381 1569 \nQ 847 1681 609 1914 \nQ 372 2147 372 2553 \nQ 372 3047 722 3315 \nQ 1072 3584 1716 3584 \nQ 2034 3584 2315 3537 \nQ 2597 3491 2834 3397 \nz\n\" transform=\"scale(0.015625)\"/>\n      </defs>\n      <use xlink:href=\"#DejaVuSans-4c\"/>\n      <use xlink:href=\"#DejaVuSans-6f\" x=\"53.962891\"/>\n      <use xlink:href=\"#DejaVuSans-73\" x=\"115.144531\"/>\n      <use xlink:href=\"#DejaVuSans-73\" x=\"167.244141\"/>\n     </g>\n    </g>\n   </g>\n   <g id=\"line2d_31\">\n    <path d=\"M 67.943409 40.4775 \nL 69.300661 52.979352 \nL 70.657912 57.786202 \nL 72.015163 59.718728 \nL 73.372415 60.599033 \nL 74.729666 61.133401 \nL 80.158672 62.732111 \nL 84.230426 64.325257 \nL 86.944929 65.658197 \nL 89.659432 67.261014 \nL 92.373935 69.198274 \nL 93.731187 70.328392 \nL 96.445689 73.002614 \nL 99.160192 76.341602 \nL 100.517444 78.276679 \nL 101.874695 80.418425 \nL 104.589198 85.419652 \nL 105.94645 88.374041 \nL 107.303701 91.617217 \nL 108.660952 95.177344 \nL 110.018204 99.065882 \nL 111.375455 103.342911 \nL 114.089958 112.978891 \nL 116.804461 124.171786 \nL 119.518964 136.658366 \nL 122.233467 150.18471 \nL 133.091478 206.410659 \nL 135.805981 219.016709 \nL 138.520484 230.568494 \nL 141.234987 240.9778 \nL 143.94949 250.289335 \nL 146.663993 258.598702 \nL 149.378496 265.915271 \nL 152.092999 272.442652 \nL 154.807502 278.194836 \nL 157.522004 283.298158 \nL 160.236507 287.853681 \nL 162.95101 291.896102 \nL 165.665513 295.509816 \nL 168.380016 298.753099 \nL 171.094519 301.669827 \nL 173.809022 304.295867 \nL 176.523525 306.677753 \nL 179.238028 308.845426 \nL 183.309782 311.736465 \nL 187.381536 314.271843 \nL 191.453291 316.502537 \nL 195.525045 318.479084 \nL 199.596799 320.241337 \nL 205.025805 322.307798 \nL 210.454811 324.108857 \nL 215.883817 325.685827 \nL 222.670074 327.403197 \nL 229.456331 328.888542 \nL 237.59984 330.421668 \nL 245.743348 331.736935 \nL 256.60136 333.222635 \nL 267.459371 334.46976 \nL 279.674634 335.648315 \nL 293.247149 336.744943 \nL 309.534166 337.833933 \nL 328.535686 338.868999 \nL 350.251709 339.824483 \nL 377.396738 340.772079 \nL 408.613522 341.622786 \nL 446.616562 342.420797 \nL 473.761591 342.8775 \nL 473.761591 342.8775 \n\" clip-path=\"url(#p2acfc91b1a)\" style=\"fill: none; stroke: #0000ff; stroke-width: 1.5; stroke-linecap: square\"/>\n   </g>\n   <g id=\"patch_3\">\n    <path d=\"M 47.6525 357.9975 \nL 47.6525 25.3575 \n\" style=\"fill: none; stroke: #000000; stroke-width: 0.8; stroke-linejoin: miter; stroke-linecap: square\"/>\n   </g>\n   <g id=\"patch_4\">\n    <path d=\"M 494.0525 357.9975 \nL 494.0525 25.3575 \n\" style=\"fill: none; stroke: #000000; stroke-width: 0.8; stroke-linejoin: miter; stroke-linecap: square\"/>\n   </g>\n   <g id=\"patch_5\">\n    <path d=\"M 47.6525 357.9975 \nL 494.0525 357.9975 \n\" style=\"fill: none; stroke: #000000; stroke-width: 0.8; stroke-linejoin: miter; stroke-linecap: square\"/>\n   </g>\n   <g id=\"patch_6\">\n    <path d=\"M 47.6525 25.3575 \nL 494.0525 25.3575 \n\" style=\"fill: none; stroke: #000000; stroke-width: 0.8; stroke-linejoin: miter; stroke-linecap: square\"/>\n   </g>\n   <g id=\"text_18\">\n    <!-- Training Loss Over Epochs -->\n    <g transform=\"translate(166.2075 19.3575) scale(0.16 -0.16)\">\n     <defs>\n      <path id=\"DejaVuSans-54\" d=\"M -19 4666 \nL 3928 4666 \nL 3928 4134 \nL 2272 4134 \nL 2272 0 \nL 1638 0 \nL 1638 4134 \nL -19 4134 \nL -19 4666 \nz\n\" transform=\"scale(0.015625)\"/>\n      <path id=\"DejaVuSans-72\" d=\"M 2631 2963 \nQ 2534 3019 2420 3045 \nQ 2306 3072 2169 3072 \nQ 1681 3072 1420 2755 \nQ 1159 2438 1159 1844 \nL 1159 0 \nL 581 0 \nL 581 3500 \nL 1159 3500 \nL 1159 2956 \nQ 1341 3275 1631 3429 \nQ 1922 3584 2338 3584 \nQ 2397 3584 2469 3576 \nQ 2541 3569 2628 3553 \nL 2631 2963 \nz\n\" transform=\"scale(0.015625)\"/>\n      <path id=\"DejaVuSans-61\" d=\"M 2194 1759 \nQ 1497 1759 1228 1600 \nQ 959 1441 959 1056 \nQ 959 750 1161 570 \nQ 1363 391 1709 391 \nQ 2188 391 2477 730 \nQ 2766 1069 2766 1631 \nL 2766 1759 \nL 2194 1759 \nz\nM 3341 1997 \nL 3341 0 \nL 2766 0 \nL 2766 531 \nQ 2569 213 2275 61 \nQ 1981 -91 1556 -91 \nQ 1019 -91 701 211 \nQ 384 513 384 1019 \nQ 384 1609 779 1909 \nQ 1175 2209 1959 2209 \nL 2766 2209 \nL 2766 2266 \nQ 2766 2663 2505 2880 \nQ 2244 3097 1772 3097 \nQ 1472 3097 1187 3025 \nQ 903 2953 641 2809 \nL 641 3341 \nQ 956 3463 1253 3523 \nQ 1550 3584 1831 3584 \nQ 2591 3584 2966 3190 \nQ 3341 2797 3341 1997 \nz\n\" transform=\"scale(0.015625)\"/>\n      <path id=\"DejaVuSans-69\" d=\"M 603 3500 \nL 1178 3500 \nL 1178 0 \nL 603 0 \nL 603 3500 \nz\nM 603 4863 \nL 1178 4863 \nL 1178 4134 \nL 603 4134 \nL 603 4863 \nz\n\" transform=\"scale(0.015625)\"/>\n      <path id=\"DejaVuSans-6e\" d=\"M 3513 2113 \nL 3513 0 \nL 2938 0 \nL 2938 2094 \nQ 2938 2591 2744 2837 \nQ 2550 3084 2163 3084 \nQ 1697 3084 1428 2787 \nQ 1159 2491 1159 1978 \nL 1159 0 \nL 581 0 \nL 581 3500 \nL 1159 3500 \nL 1159 2956 \nQ 1366 3272 1645 3428 \nQ 1925 3584 2291 3584 \nQ 2894 3584 3203 3211 \nQ 3513 2838 3513 2113 \nz\n\" transform=\"scale(0.015625)\"/>\n      <path id=\"DejaVuSans-67\" d=\"M 2906 1791 \nQ 2906 2416 2648 2759 \nQ 2391 3103 1925 3103 \nQ 1463 3103 1205 2759 \nQ 947 2416 947 1791 \nQ 947 1169 1205 825 \nQ 1463 481 1925 481 \nQ 2391 481 2648 825 \nQ 2906 1169 2906 1791 \nz\nM 3481 434 \nQ 3481 -459 3084 -895 \nQ 2688 -1331 1869 -1331 \nQ 1566 -1331 1297 -1286 \nQ 1028 -1241 775 -1147 \nL 775 -588 \nQ 1028 -725 1275 -790 \nQ 1522 -856 1778 -856 \nQ 2344 -856 2625 -561 \nQ 2906 -266 2906 331 \nL 2906 616 \nQ 2728 306 2450 153 \nQ 2172 0 1784 0 \nQ 1141 0 747 490 \nQ 353 981 353 1791 \nQ 353 2603 747 3093 \nQ 1141 3584 1784 3584 \nQ 2172 3584 2450 3431 \nQ 2728 3278 2906 2969 \nL 2906 3500 \nL 3481 3500 \nL 3481 434 \nz\n\" transform=\"scale(0.015625)\"/>\n      <path id=\"DejaVuSans-20\" transform=\"scale(0.015625)\"/>\n      <path id=\"DejaVuSans-4f\" d=\"M 2522 4238 \nQ 1834 4238 1429 3725 \nQ 1025 3213 1025 2328 \nQ 1025 1447 1429 934 \nQ 1834 422 2522 422 \nQ 3209 422 3611 934 \nQ 4013 1447 4013 2328 \nQ 4013 3213 3611 3725 \nQ 3209 4238 2522 4238 \nz\nM 2522 4750 \nQ 3503 4750 4090 4092 \nQ 4678 3434 4678 2328 \nQ 4678 1225 4090 567 \nQ 3503 -91 2522 -91 \nQ 1538 -91 948 565 \nQ 359 1222 359 2328 \nQ 359 3434 948 4092 \nQ 1538 4750 2522 4750 \nz\n\" transform=\"scale(0.015625)\"/>\n      <path id=\"DejaVuSans-76\" d=\"M 191 3500 \nL 800 3500 \nL 1894 563 \nL 2988 3500 \nL 3597 3500 \nL 2284 0 \nL 1503 0 \nL 191 3500 \nz\n\" transform=\"scale(0.015625)\"/>\n      <path id=\"DejaVuSans-65\" d=\"M 3597 1894 \nL 3597 1613 \nL 953 1613 \nQ 991 1019 1311 708 \nQ 1631 397 2203 397 \nQ 2534 397 2845 478 \nQ 3156 559 3463 722 \nL 3463 178 \nQ 3153 47 2828 -22 \nQ 2503 -91 2169 -91 \nQ 1331 -91 842 396 \nQ 353 884 353 1716 \nQ 353 2575 817 3079 \nQ 1281 3584 2069 3584 \nQ 2775 3584 3186 3129 \nQ 3597 2675 3597 1894 \nz\nM 3022 2063 \nQ 3016 2534 2758 2815 \nQ 2500 3097 2075 3097 \nQ 1594 3097 1305 2825 \nQ 1016 2553 972 2059 \nL 3022 2063 \nz\n\" transform=\"scale(0.015625)\"/>\n     </defs>\n     <use xlink:href=\"#DejaVuSans-54\"/>\n     <use xlink:href=\"#DejaVuSans-72\" x=\"46.333984\"/>\n     <use xlink:href=\"#DejaVuSans-61\" x=\"87.447266\"/>\n     <use xlink:href=\"#DejaVuSans-69\" x=\"148.726562\"/>\n     <use xlink:href=\"#DejaVuSans-6e\" x=\"176.509766\"/>\n     <use xlink:href=\"#DejaVuSans-69\" x=\"239.888672\"/>\n     <use xlink:href=\"#DejaVuSans-6e\" x=\"267.671875\"/>\n     <use xlink:href=\"#DejaVuSans-67\" x=\"331.050781\"/>\n     <use xlink:href=\"#DejaVuSans-20\" x=\"394.527344\"/>\n     <use xlink:href=\"#DejaVuSans-4c\" x=\"426.314453\"/>\n     <use xlink:href=\"#DejaVuSans-6f\" x=\"480.277344\"/>\n     <use xlink:href=\"#DejaVuSans-73\" x=\"541.458984\"/>\n     <use xlink:href=\"#DejaVuSans-73\" x=\"593.558594\"/>\n     <use xlink:href=\"#DejaVuSans-20\" x=\"645.658203\"/>\n     <use xlink:href=\"#DejaVuSans-4f\" x=\"677.445312\"/>\n     <use xlink:href=\"#DejaVuSans-76\" x=\"756.15625\"/>\n     <use xlink:href=\"#DejaVuSans-65\" x=\"815.335938\"/>\n     <use xlink:href=\"#DejaVuSans-72\" x=\"876.859375\"/>\n     <use xlink:href=\"#DejaVuSans-20\" x=\"917.972656\"/>\n     <use xlink:href=\"#DejaVuSans-45\" x=\"949.759766\"/>\n     <use xlink:href=\"#DejaVuSans-70\" x=\"1012.943359\"/>\n     <use xlink:href=\"#DejaVuSans-6f\" x=\"1076.419922\"/>\n     <use xlink:href=\"#DejaVuSans-63\" x=\"1137.601562\"/>\n     <use xlink:href=\"#DejaVuSans-68\" x=\"1192.582031\"/>\n     <use xlink:href=\"#DejaVuSans-73\" x=\"1255.960938\"/>\n    </g>\n   </g>\n   <g id=\"legend_1\">\n    <g id=\"patch_7\">\n     <path d=\"M 420.93125 52.57125 \nL 485.6525 52.57125 \nQ 488.0525 52.57125 488.0525 50.17125 \nL 488.0525 33.7575 \nQ 488.0525 31.3575 485.6525 31.3575 \nL 420.93125 31.3575 \nQ 418.53125 31.3575 418.53125 33.7575 \nL 418.53125 50.17125 \nQ 418.53125 52.57125 420.93125 52.57125 \nz\n\" style=\"fill: #ffffff; opacity: 0.8; stroke: #cccccc; stroke-linejoin: miter\"/>\n    </g>\n    <g id=\"line2d_32\">\n     <path d=\"M 423.33125 41.075625 \nL 435.33125 41.075625 \nL 447.33125 41.075625 \n\" style=\"fill: none; stroke: #0000ff; stroke-width: 1.5; stroke-linecap: square\"/>\n    </g>\n    <g id=\"text_19\">\n     <!-- Loss -->\n     <g transform=\"translate(456.93125 45.275625) scale(0.12 -0.12)\">\n      <use xlink:href=\"#DejaVuSans-4c\"/>\n      <use xlink:href=\"#DejaVuSans-6f\" x=\"53.962891\"/>\n      <use xlink:href=\"#DejaVuSans-73\" x=\"115.144531\"/>\n      <use xlink:href=\"#DejaVuSans-73\" x=\"167.244141\"/>\n     </g>\n    </g>\n   </g>\n  </g>\n </g>\n <defs>\n  <clipPath id=\"p2acfc91b1a\">\n   <rect x=\"47.6525\" y=\"25.3575\" width=\"446.4\" height=\"332.64\"/>\n  </clipPath>\n </defs>\n</svg>\n",
            "application/pdf": "[encoded data removed]"
          },
          "metadata": {}
        }
      ],
      "source": [
        "epochs = list(range(1, n_epochs+1))\n",
        "print (len(epochs))\n",
        "print (len(loss_list))\n",
        "# Plotting\n",
        "plt.figure(figsize=(8, 6))\n",
        "plt.plot(epochs, loss_list, linestyle='-', color='b', label='Loss')\n",
        "\n",
        "# Adding labels and title\n",
        "plt.title('Training Loss Over Epochs', fontsize=16)\n",
        "plt.xlabel('Epoch', fontsize=14)\n",
        "plt.ylabel('Loss', fontsize=14)\n",
        "\n",
        "# Adding grid and legend\n",
        "plt.grid(True, linestyle='--', alpha=0.6)\n",
        "plt.legend(fontsize=12)\n",
        "\n",
        "# Show the plot\n",
        "plt.show()"
      ]
    },
    {
      "cell_type": "markdown",
      "metadata": {
        "id": "5lxa5HxCARJl"
      },
      "source": [
        "#### Saving a model\n",
        "\n",
        "After finish training a model, we save the model to disk so that we can load the same weights at a later time. For this, we extract the so-called `state_dict` from the model which contains all learnable parameters. For our simple model, the state dict contains the following entries:"
      ]
    },
    {
      "cell_type": "code",
      "execution_count": 145,
      "metadata": {
        "colab": {
          "base_uri": "https://localhost:8080/"
        },
        "id": "jQFlymmDARJl",
        "outputId": "08316a4d-9e40-42c1-93d5-db663129b2d4"
      },
      "outputs": [
        {
          "output_type": "stream",
          "name": "stdout",
          "text": [
            "OrderedDict([('linear1.weight', tensor([[ 2.3694,  2.3771],\n",
            "        [-3.5537,  2.5617],\n",
            "        [-0.4890, -0.3900],\n",
            "        [-2.5171,  3.4611]], device='cuda:0')), ('linear1.bias', tensor([-0.5011, -0.9603,  0.8424,  0.9004], device='cuda:0')), ('linear2.weight', tensor([[ 3.5765,  4.7913,  0.9207, -4.8206]], device='cuda:0')), ('linear2.bias', tensor([1.2830], device='cuda:0'))])\n"
          ]
        }
      ],
      "source": [
        "state_dict = model.state_dict()\n",
        "print(state_dict)"
      ]
    },
    {
      "cell_type": "markdown",
      "metadata": {
        "id": "cvPSeTLRARJl"
      },
      "source": [
        "To save the state dictionary, we can use `torch.save`:"
      ]
    },
    {
      "cell_type": "code",
      "execution_count": 146,
      "metadata": {
        "id": "Q7h5mIH-ARJl"
      },
      "outputs": [],
      "source": [
        "# torch.save(object, filename). For the filename, any extension can be used\n",
        "torch.save(state_dict, \"our_model.tar\")"
      ]
    },
    {
      "cell_type": "markdown",
      "metadata": {
        "id": "g4l7eT7ZARJl"
      },
      "source": [
        "To load a model from a state dict, we use the function `torch.load` to load the state dict from the disk, and the module function `load_state_dict` to overwrite our parameters with the new values:"
      ]
    },
    {
      "cell_type": "code",
      "execution_count": 147,
      "metadata": {
        "colab": {
          "base_uri": "https://localhost:8080/"
        },
        "id": "7ap58mM3ARJl",
        "outputId": "99bf7e63-f04b-495c-877c-c5e8ba8a6511"
      },
      "outputs": [
        {
          "output_type": "stream",
          "name": "stdout",
          "text": [
            "Original model\n",
            " OrderedDict([('linear1.weight', tensor([[ 2.3694,  2.3771],\n",
            "        [-3.5537,  2.5617],\n",
            "        [-0.4890, -0.3900],\n",
            "        [-2.5171,  3.4611]], device='cuda:0')), ('linear1.bias', tensor([-0.5011, -0.9603,  0.8424,  0.9004], device='cuda:0')), ('linear2.weight', tensor([[ 3.5765,  4.7913,  0.9207, -4.8206]], device='cuda:0')), ('linear2.bias', tensor([1.2830], device='cuda:0'))])\n",
            "\n",
            "Loaded model\n",
            " OrderedDict([('linear1.weight', tensor([[ 2.3694,  2.3771],\n",
            "        [-3.5537,  2.5617],\n",
            "        [-0.4890, -0.3900],\n",
            "        [-2.5171,  3.4611]])), ('linear1.bias', tensor([-0.5011, -0.9603,  0.8424,  0.9004])), ('linear2.weight', tensor([[ 3.5765,  4.7913,  0.9207, -4.8206]])), ('linear2.bias', tensor([1.2830]))])\n"
          ]
        },
        {
          "output_type": "stream",
          "name": "stderr",
          "text": [
            "<ipython-input-147-63051825784f>:2: FutureWarning: You are using `torch.load` with `weights_only=False` (the current default value), which uses the default pickle module implicitly. It is possible to construct malicious pickle data which will execute arbitrary code during unpickling (See https://github.com/pytorch/pytorch/blob/main/SECURITY.md#untrusted-models for more details). In a future release, the default value for `weights_only` will be flipped to `True`. This limits the functions that could be executed during unpickling. Arbitrary objects will no longer be allowed to be loaded via this mode unless they are explicitly allowlisted by the user via `torch.serialization.add_safe_globals`. We recommend you start setting `weights_only=True` for any use case where you don't have full control of the loaded file. Please open an issue on GitHub for any issues related to this experimental feature.\n",
            "  state_dict = torch.load(\"our_model.tar\")\n"
          ]
        }
      ],
      "source": [
        "# Load state dict from the disk (make sure it is the same name as above)\n",
        "state_dict = torch.load(\"our_model.tar\")\n",
        "\n",
        "# Create a new model and load the state\n",
        "new_model = SimpleClassifier(n_inputs=2, n_hidden=4, n_outputs=1)\n",
        "new_model.load_state_dict(state_dict)\n",
        "\n",
        "# Verify that the parameters are the same\n",
        "print(\"Original model\\n\", model.state_dict())\n",
        "print(\"\\nLoaded model\\n\", new_model.state_dict())"
      ]
    },
    {
      "cell_type": "markdown",
      "metadata": {
        "id": "OGUP5CmxARJl"
      },
      "source": [
        "A detailed tutorial on saving and loading models in PyTorch can be found [here](https://pytorch.org/tutorials/beginner/saving_loading_models.html)."
      ]
    },
    {
      "cell_type": "markdown",
      "metadata": {
        "id": "T2Jx7BoNARJl"
      },
      "source": [
        "### Evaluation\n",
        "\n",
        "Once we have trained a model, it is time to evaluate it on a held-out test set. As our dataset consist of randomly generated data points, we need to first create a test set with a corresponding data loader."
      ]
    },
    {
      "cell_type": "code",
      "execution_count": 148,
      "metadata": {
        "id": "ga-7T9JcARJl"
      },
      "outputs": [],
      "source": [
        "test_dataset = XORDataset(size=500)\n",
        "# drop_last -> Don't drop the last batch although it is smaller than 128\n",
        "# shuffle = false -> random shuffling for testing is not required\n",
        "test_data_loader = data.DataLoader(test_dataset, batch_size=128, shuffle=False, drop_last=False)"
      ]
    },
    {
      "cell_type": "markdown",
      "metadata": {
        "id": "WwbLi8S_ARJl"
      },
      "source": [
        "As metric, we will use accuracy which is calculated as follows:\n",
        "\n",
        "$$acc = \\frac{\\#\\text{correct predictions}}{\\#\\text{all predictions}} = \\frac{TP+TN}{TP+TN+FP+FN}$$\n",
        "\n",
        "where TP are the true positives, TN true negatives, FP false positives, and FN the fale negatives.\n",
        "\n",
        "When evaluating the model, we don't need to keep track of the computation graph as we don't intend to calculate the gradients. This reduces the required memory and speed up the model. In PyTorch, we can deactivate the computation graph using `with torch.no_grad(): ...`. Remember to additionally set the model to eval mode."
      ]
    },
    {
      "cell_type": "code",
      "execution_count": 149,
      "metadata": {
        "id": "StsoG62lARJl"
      },
      "outputs": [],
      "source": [
        "def eval_model(model, data_loader):\n",
        "    model.eval() # Set model to eval mode\n",
        "    true_preds, num_preds = 0., 0.\n",
        "\n",
        "    with torch.no_grad(): # Deactivate gradients for the following code\n",
        "        for data_inputs, data_labels in data_loader:\n",
        "\n",
        "            # Determine prediction of model on dev set\n",
        "            data_inputs, data_labels = data_inputs.to(device), data_labels.to(device)\n",
        "            preds = model(data_inputs)\n",
        "            preds = preds.squeeze(dim=1)\n",
        "            preds = torch.sigmoid(preds) # Sigmoid to map predictions between 0 and 1\n",
        "            pred_labels = (preds >= 0.5).long() # Binarize predictions to 0 and 1\n",
        "\n",
        "            # Keep records of predictions for the accuracy metric (true_preds=TP+TN, num_preds=TP+TN+FP+FN)\n",
        "            true_preds += (pred_labels == data_labels).sum()\n",
        "            num_preds += data_labels.shape[0]\n",
        "\n",
        "    acc = true_preds / num_preds\n",
        "    print(f\"Accuracy of the model: {100.0*acc:4.2f}%\")"
      ]
    },
    {
      "cell_type": "code",
      "execution_count": 150,
      "metadata": {
        "colab": {
          "base_uri": "https://localhost:8080/"
        },
        "id": "V8j_d8iRARJl",
        "outputId": "45e36a85-ab8a-40a7-f7b3-b3747dd4c9a4"
      },
      "outputs": [
        {
          "output_type": "stream",
          "name": "stdout",
          "text": [
            "Accuracy of the model: 100.00%\n"
          ]
        }
      ],
      "source": [
        "eval_model(model, test_data_loader)"
      ]
    },
    {
      "cell_type": "markdown",
      "metadata": {
        "id": "zolBr4qXARJl"
      },
      "source": [
        "If we trained our model correctly, we should see a score close to 100% accuracy. However, this is only possible because of our simple task, and unfortunately, we usually don't get such high scores on test sets of more complex tasks."
      ]
    },
    {
      "cell_type": "markdown",
      "metadata": {
        "id": "9_0aBpPXARJl"
      },
      "source": [
        "#### Visualizing classification boundaries\n",
        "\n",
        "To visualize what our model has learned, we can perform a prediction for every data point in a range of $[-0.5, 1.5]$, and visualize the predicted class as in the sample figure at the beginning of this section. This shows where the model has created decision boundaries, and which points would be classified as $0$, and which as $1$. We therefore get a background image out of blue (class 0) and orange (class 1). The spots where the model is uncertain we will see a blurry overlap. The specific code is less relevant compared to the output figure which should hopefully show us a clear separation of classes:"
      ]
    },
    {
      "cell_type": "code",
      "execution_count": 151,
      "metadata": {
        "colab": {
          "base_uri": "https://localhost:8080/",
          "height": 397
        },
        "id": "QvsdXxY_ARJl",
        "outputId": "08450d25-3aa4-407e-936e-8fe6b3194465"
      },
      "outputs": [
        {
          "output_type": "display_data",
          "data": {
            "text/plain": [
              "<Figure size 2000x2000 with 1 Axes>"
            ],
            "image/svg+xml": "<?xml version=\"1.0\" encoding=\"utf-8\" standalone=\"no\"?>\n<!DOCTYPE svg PUBLIC \"-//W3C//DTD SVG 1.1//EN\"\n  \"http://www.w3.org/Graphics/SVG/1.1/DTD/svg11.dtd\">\n<svg xmlns:xlink=\"http://www.w3.org/1999/xlink\" width=\"295.435pt\" height=\"281.634375pt\" viewBox=\"0 0 295.435 281.634375\" xmlns=\"http://www.w3.org/2000/svg\" version=\"1.1\">\n <metadata>\n  <rdf:RDF xmlns:dc=\"http://purl.org/dc/elements/1.1/\" xmlns:cc=\"http://creativecommons.org/ns#\" xmlns:rdf=\"http://www.w3.org/1999/02/22-rdf-syntax-ns#\">\n   <cc:Work>\n    <dc:type rdf:resource=\"http://purl.org/dc/dcmitype/StillImage\"/>\n    <dc:date>2024-12-05T07:20:20.475640</dc:date>\n    <dc:format>image/svg+xml</dc:format>\n    <dc:creator>\n     <cc:Agent>\n      <dc:title>Matplotlib v3.8.0, https://matplotlib.org/</dc:title>\n     </cc:Agent>\n    </dc:creator>\n   </cc:Work>\n  </rdf:RDF>\n </metadata>\n <defs>\n  <style type=\"text/css\">*{stroke-linejoin: round; stroke-linecap: butt}</style>\n </defs>\n <g id=\"figure_1\">\n  <g id=\"patch_1\">\n   <path d=\"M 0 281.634375 \nL 295.435 281.634375 \nL 295.435 0 \nL 0 0 \nz\n\" style=\"fill: #ffffff\"/>\n  </g>\n  <g id=\"axes_1\">\n   <g id=\"patch_2\">\n    <path d=\"M 58.523438 244.078125 \nL 280.283437 244.078125 \nL 280.283437 22.318125 \nL 58.523438 22.318125 \nz\n\" style=\"fill: #ffffff\"/>\n   </g>\n   <g clip-path=\"url(#p3ae7486f16)\">\n    <image xlink:href=\"data:image/png;base64,\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\" id=\"image7c882c686f\" transform=\"scale(1 -1) translate(0 -221.904)\" x=\"58.523438\" y=\"-22.174125\" width=\"221.76\" height=\"221.904\"/>\n   </g>\n   <g id=\"PathCollection_1\">\n    <defs>\n     <path id=\"mf02fec0d1f\" d=\"M 0 3 \nC 0.795609 3 1.55874 2.683901 2.12132 2.12132 \nC 2.683901 1.55874 3 0.795609 3 0 \nC 3 -0.795609 2.683901 -1.55874 2.12132 -2.12132 \nC 1.55874 -2.683901 0.795609 -3 0 -3 \nC -0.795609 -3 -1.55874 -2.683901 -2.12132 -2.12132 \nC -2.683901 -1.55874 -3 -0.795609 -3 0 \nC -3 0.795609 -2.683901 1.55874 -2.12132 2.12132 \nC -1.55874 2.683901 -0.795609 3 0 3 \nz\n\" style=\"stroke: #333333\"/>\n    </defs>\n    <g clip-path=\"url(#p3ae7486f16)\">\n     <use xlink:href=\"#mf02fec0d1f\" x=\"240.397619\" y=\"93.301851\" style=\"fill: #1f77b4; stroke: #333333\"/>\n     <use xlink:href=\"#mf02fec0d1f\" x=\"222.71054\" y=\"74.414571\" style=\"fill: #1f77b4; stroke: #333333\"/>\n     <use xlink:href=\"#mf02fec0d1f\" x=\"130.21455\" y=\"191.141533\" style=\"fill: #1f77b4; stroke: #333333\"/>\n     <use xlink:href=\"#mf02fec0d1f\" x=\"227.217311\" y=\"91.570878\" style=\"fill: #1f77b4; stroke: #333333\"/>\n     <use xlink:href=\"#mf02fec0d1f\" x=\"124.113416\" y=\"184.992933\" style=\"fill: #1f77b4; stroke: #333333\"/>\n     <use xlink:href=\"#mf02fec0d1f\" x=\"225.488856\" y=\"90.43138\" style=\"fill: #1f77b4; stroke: #333333\"/>\n     <use xlink:href=\"#mf02fec0d1f\" x=\"122.972724\" y=\"173.600135\" style=\"fill: #1f77b4; stroke: #333333\"/>\n     <use xlink:href=\"#mf02fec0d1f\" x=\"224.987605\" y=\"61.641336\" style=\"fill: #1f77b4; stroke: #333333\"/>\n     <use xlink:href=\"#mf02fec0d1f\" x=\"108.650353\" y=\"190.696712\" style=\"fill: #1f77b4; stroke: #333333\"/>\n     <use xlink:href=\"#mf02fec0d1f\" x=\"227.911384\" y=\"68.586312\" style=\"fill: #1f77b4; stroke: #333333\"/>\n     <use xlink:href=\"#mf02fec0d1f\" x=\"214.980499\" y=\"86.803833\" style=\"fill: #1f77b4; stroke: #333333\"/>\n     <use xlink:href=\"#mf02fec0d1f\" x=\"227.36551\" y=\"63.264524\" style=\"fill: #1f77b4; stroke: #333333\"/>\n     <use xlink:href=\"#mf02fec0d1f\" x=\"108.855875\" y=\"176.916754\" style=\"fill: #1f77b4; stroke: #333333\"/>\n     <use xlink:href=\"#mf02fec0d1f\" x=\"225.948377\" y=\"83.340663\" style=\"fill: #1f77b4; stroke: #333333\"/>\n     <use xlink:href=\"#mf02fec0d1f\" x=\"114.980881\" y=\"210.676289\" style=\"fill: #1f77b4; stroke: #333333\"/>\n     <use xlink:href=\"#mf02fec0d1f\" x=\"227.620907\" y=\"73.916705\" style=\"fill: #1f77b4; stroke: #333333\"/>\n     <use xlink:href=\"#mf02fec0d1f\" x=\"102.733166\" y=\"185.15375\" style=\"fill: #1f77b4; stroke: #333333\"/>\n     <use xlink:href=\"#mf02fec0d1f\" x=\"99.23651\" y=\"186.455328\" style=\"fill: #1f77b4; stroke: #333333\"/>\n     <use xlink:href=\"#mf02fec0d1f\" x=\"107.927322\" y=\"187.408215\" style=\"fill: #1f77b4; stroke: #333333\"/>\n     <use xlink:href=\"#mf02fec0d1f\" x=\"111.527716\" y=\"184.678461\" style=\"fill: #1f77b4; stroke: #333333\"/>\n     <use xlink:href=\"#mf02fec0d1f\" x=\"217.303324\" y=\"75.18289\" style=\"fill: #1f77b4; stroke: #333333\"/>\n     <use xlink:href=\"#mf02fec0d1f\" x=\"103.895266\" y=\"204.297749\" style=\"fill: #1f77b4; stroke: #333333\"/>\n     <use xlink:href=\"#mf02fec0d1f\" x=\"113.566198\" y=\"171.289356\" style=\"fill: #1f77b4; stroke: #333333\"/>\n     <use xlink:href=\"#mf02fec0d1f\" x=\"107.303556\" y=\"191.872425\" style=\"fill: #1f77b4; stroke: #333333\"/>\n     <use xlink:href=\"#mf02fec0d1f\" x=\"117.973258\" y=\"195.791213\" style=\"fill: #1f77b4; stroke: #333333\"/>\n     <use xlink:href=\"#mf02fec0d1f\" x=\"123.083816\" y=\"202.174839\" style=\"fill: #1f77b4; stroke: #333333\"/>\n     <use xlink:href=\"#mf02fec0d1f\" x=\"213.860372\" y=\"84.037235\" style=\"fill: #1f77b4; stroke: #333333\"/>\n     <use xlink:href=\"#mf02fec0d1f\" x=\"237.515053\" y=\"69.420693\" style=\"fill: #1f77b4; stroke: #333333\"/>\n     <use xlink:href=\"#mf02fec0d1f\" x=\"223.988535\" y=\"73.975432\" style=\"fill: #1f77b4; stroke: #333333\"/>\n     <use xlink:href=\"#mf02fec0d1f\" x=\"116.646315\" y=\"209.852576\" style=\"fill: #1f77b4; stroke: #333333\"/>\n     <use xlink:href=\"#mf02fec0d1f\" x=\"214.648861\" y=\"60.572455\" style=\"fill: #1f77b4; stroke: #333333\"/>\n     <use xlink:href=\"#mf02fec0d1f\" x=\"224.458551\" y=\"90.716425\" style=\"fill: #1f77b4; stroke: #333333\"/>\n     <use xlink:href=\"#mf02fec0d1f\" x=\"121.145008\" y=\"171.750771\" style=\"fill: #1f77b4; stroke: #333333\"/>\n     <use xlink:href=\"#mf02fec0d1f\" x=\"125.39516\" y=\"178.312091\" style=\"fill: #1f77b4; stroke: #333333\"/>\n     <use xlink:href=\"#mf02fec0d1f\" x=\"101.201221\" y=\"184.472385\" style=\"fill: #1f77b4; stroke: #333333\"/>\n     <use xlink:href=\"#mf02fec0d1f\" x=\"221.908926\" y=\"47.596893\" style=\"fill: #1f77b4; stroke: #333333\"/>\n     <use xlink:href=\"#mf02fec0d1f\" x=\"117.970592\" y=\"171.584375\" style=\"fill: #1f77b4; stroke: #333333\"/>\n     <use xlink:href=\"#mf02fec0d1f\" x=\"230.09069\" y=\"78.565654\" style=\"fill: #1f77b4; stroke: #333333\"/>\n     <use xlink:href=\"#mf02fec0d1f\" x=\"109.615742\" y=\"204.865579\" style=\"fill: #1f77b4; stroke: #333333\"/>\n     <use xlink:href=\"#mf02fec0d1f\" x=\"231.350504\" y=\"53.470358\" style=\"fill: #1f77b4; stroke: #333333\"/>\n     <use xlink:href=\"#mf02fec0d1f\" x=\"117.556881\" y=\"192.907917\" style=\"fill: #1f77b4; stroke: #333333\"/>\n     <use xlink:href=\"#mf02fec0d1f\" x=\"227.725011\" y=\"69.089267\" style=\"fill: #1f77b4; stroke: #333333\"/>\n     <use xlink:href=\"#mf02fec0d1f\" x=\"108.089456\" y=\"182.947016\" style=\"fill: #1f77b4; stroke: #333333\"/>\n     <use xlink:href=\"#mf02fec0d1f\" x=\"117.246819\" y=\"185.743544\" style=\"fill: #1f77b4; stroke: #333333\"/>\n     <use xlink:href=\"#mf02fec0d1f\" x=\"115.039833\" y=\"177.897789\" style=\"fill: #1f77b4; stroke: #333333\"/>\n     <use xlink:href=\"#mf02fec0d1f\" x=\"233.86372\" y=\"91.405951\" style=\"fill: #1f77b4; stroke: #333333\"/>\n     <use xlink:href=\"#mf02fec0d1f\" x=\"112.681129\" y=\"191.976763\" style=\"fill: #1f77b4; stroke: #333333\"/>\n     <use xlink:href=\"#mf02fec0d1f\" x=\"130.350327\" y=\"194.384705\" style=\"fill: #1f77b4; stroke: #333333\"/>\n     <use xlink:href=\"#mf02fec0d1f\" x=\"108.757906\" y=\"182.622219\" style=\"fill: #1f77b4; stroke: #333333\"/>\n     <use xlink:href=\"#mf02fec0d1f\" x=\"122.151555\" y=\"186.737993\" style=\"fill: #1f77b4; stroke: #333333\"/>\n     <use xlink:href=\"#mf02fec0d1f\" x=\"116.279317\" y=\"210.366948\" style=\"fill: #1f77b4; stroke: #333333\"/>\n     <use xlink:href=\"#mf02fec0d1f\" x=\"233.614404\" y=\"87.841413\" style=\"fill: #1f77b4; stroke: #333333\"/>\n     <use xlink:href=\"#mf02fec0d1f\" x=\"222.365684\" y=\"69.841288\" style=\"fill: #1f77b4; stroke: #333333\"/>\n     <use xlink:href=\"#mf02fec0d1f\" x=\"106.457727\" y=\"181.855858\" style=\"fill: #1f77b4; stroke: #333333\"/>\n     <use xlink:href=\"#mf02fec0d1f\" x=\"219.892478\" y=\"68.26238\" style=\"fill: #1f77b4; stroke: #333333\"/>\n     <use xlink:href=\"#mf02fec0d1f\" x=\"213.064613\" y=\"72.506934\" style=\"fill: #1f77b4; stroke: #333333\"/>\n     <use xlink:href=\"#mf02fec0d1f\" x=\"117.773477\" y=\"208.186714\" style=\"fill: #1f77b4; stroke: #333333\"/>\n     <use xlink:href=\"#mf02fec0d1f\" x=\"203.568102\" y=\"78.052112\" style=\"fill: #1f77b4; stroke: #333333\"/>\n     <use xlink:href=\"#mf02fec0d1f\" x=\"94.837548\" y=\"194.872769\" style=\"fill: #1f77b4; stroke: #333333\"/>\n     <use xlink:href=\"#mf02fec0d1f\" x=\"107.291715\" y=\"168.100065\" style=\"fill: #1f77b4; stroke: #333333\"/>\n     <use xlink:href=\"#mf02fec0d1f\" x=\"211.634262\" y=\"70.47826\" style=\"fill: #1f77b4; stroke: #333333\"/>\n     <use xlink:href=\"#mf02fec0d1f\" x=\"104.998861\" y=\"194.201607\" style=\"fill: #1f77b4; stroke: #333333\"/>\n     <use xlink:href=\"#mf02fec0d1f\" x=\"216.158725\" y=\"81.329146\" style=\"fill: #1f77b4; stroke: #333333\"/>\n     <use xlink:href=\"#mf02fec0d1f\" x=\"233.95844\" y=\"56.726488\" style=\"fill: #1f77b4; stroke: #333333\"/>\n     <use xlink:href=\"#mf02fec0d1f\" x=\"113.81378\" y=\"200.366024\" style=\"fill: #1f77b4; stroke: #333333\"/>\n     <use xlink:href=\"#mf02fec0d1f\" x=\"211.128128\" y=\"92.399351\" style=\"fill: #1f77b4; stroke: #333333\"/>\n     <use xlink:href=\"#mf02fec0d1f\" x=\"104.658194\" y=\"192.066672\" style=\"fill: #1f77b4; stroke: #333333\"/>\n     <use xlink:href=\"#mf02fec0d1f\" x=\"214.03617\" y=\"69.030936\" style=\"fill: #1f77b4; stroke: #333333\"/>\n     <use xlink:href=\"#mf02fec0d1f\" x=\"221.043416\" y=\"86.653776\" style=\"fill: #1f77b4; stroke: #333333\"/>\n     <use xlink:href=\"#mf02fec0d1f\" x=\"231.78084\" y=\"87.26229\" style=\"fill: #1f77b4; stroke: #333333\"/>\n     <use xlink:href=\"#mf02fec0d1f\" x=\"245.531144\" y=\"72.504264\" style=\"fill: #1f77b4; stroke: #333333\"/>\n     <use xlink:href=\"#mf02fec0d1f\" x=\"117.636486\" y=\"177.821281\" style=\"fill: #1f77b4; stroke: #333333\"/>\n     <use xlink:href=\"#mf02fec0d1f\" x=\"237.68994\" y=\"86.857848\" style=\"fill: #1f77b4; stroke: #333333\"/>\n     <use xlink:href=\"#mf02fec0d1f\" x=\"226.763672\" y=\"73.485721\" style=\"fill: #1f77b4; stroke: #333333\"/>\n     <use xlink:href=\"#mf02fec0d1f\" x=\"84.915703\" y=\"179.52487\" style=\"fill: #1f77b4; stroke: #333333\"/>\n     <use xlink:href=\"#mf02fec0d1f\" x=\"230.630721\" y=\"74.465156\" style=\"fill: #1f77b4; stroke: #333333\"/>\n     <use xlink:href=\"#mf02fec0d1f\" x=\"207.649678\" y=\"76.997896\" style=\"fill: #1f77b4; stroke: #333333\"/>\n     <use xlink:href=\"#mf02fec0d1f\" x=\"106.179073\" y=\"192.271243\" style=\"fill: #1f77b4; stroke: #333333\"/>\n     <use xlink:href=\"#mf02fec0d1f\" x=\"225.511273\" y=\"50.4457\" style=\"fill: #1f77b4; stroke: #333333\"/>\n     <use xlink:href=\"#mf02fec0d1f\" x=\"245.757461\" y=\"75.822413\" style=\"fill: #1f77b4; stroke: #333333\"/>\n     <use xlink:href=\"#mf02fec0d1f\" x=\"114.71219\" y=\"204.435733\" style=\"fill: #1f77b4; stroke: #333333\"/>\n     <use xlink:href=\"#mf02fec0d1f\" x=\"114.020136\" y=\"191.239227\" style=\"fill: #1f77b4; stroke: #333333\"/>\n     <use xlink:href=\"#mf02fec0d1f\" x=\"114.928615\" y=\"191.953519\" style=\"fill: #1f77b4; stroke: #333333\"/>\n     <use xlink:href=\"#mf02fec0d1f\" x=\"207.019666\" y=\"75.710906\" style=\"fill: #1f77b4; stroke: #333333\"/>\n     <use xlink:href=\"#mf02fec0d1f\" x=\"212.969385\" y=\"72.408473\" style=\"fill: #1f77b4; stroke: #333333\"/>\n     <use xlink:href=\"#mf02fec0d1f\" x=\"113.164989\" y=\"177.510952\" style=\"fill: #1f77b4; stroke: #333333\"/>\n     <use xlink:href=\"#mf02fec0d1f\" x=\"101.696395\" y=\"201.901664\" style=\"fill: #1f77b4; stroke: #333333\"/>\n     <use xlink:href=\"#mf02fec0d1f\" x=\"131.47375\" y=\"180.128808\" style=\"fill: #1f77b4; stroke: #333333\"/>\n     <use xlink:href=\"#mf02fec0d1f\" x=\"209.149807\" y=\"82.422242\" style=\"fill: #1f77b4; stroke: #333333\"/>\n     <use xlink:href=\"#mf02fec0d1f\" x=\"119.471004\" y=\"190.1712\" style=\"fill: #1f77b4; stroke: #333333\"/>\n     <use xlink:href=\"#mf02fec0d1f\" x=\"228.093025\" y=\"85.678855\" style=\"fill: #1f77b4; stroke: #333333\"/>\n     <use xlink:href=\"#mf02fec0d1f\" x=\"222.122574\" y=\"86.115549\" style=\"fill: #1f77b4; stroke: #333333\"/>\n     <use xlink:href=\"#mf02fec0d1f\" x=\"235.525346\" y=\"73.181207\" style=\"fill: #1f77b4; stroke: #333333\"/>\n     <use xlink:href=\"#mf02fec0d1f\" x=\"223.055098\" y=\"73.278015\" style=\"fill: #1f77b4; stroke: #333333\"/>\n     <use xlink:href=\"#mf02fec0d1f\" x=\"97.569586\" y=\"196.619757\" style=\"fill: #1f77b4; stroke: #333333\"/>\n     <use xlink:href=\"#mf02fec0d1f\" x=\"111.367145\" y=\"191.234236\" style=\"fill: #1f77b4; stroke: #333333\"/>\n     <use xlink:href=\"#mf02fec0d1f\" x=\"215.454189\" y=\"94.554752\" style=\"fill: #1f77b4; stroke: #333333\"/>\n     <use xlink:href=\"#mf02fec0d1f\" x=\"108.825062\" y=\"193.802137\" style=\"fill: #1f77b4; stroke: #333333\"/>\n     <use xlink:href=\"#mf02fec0d1f\" x=\"227.699157\" y=\"78.583584\" style=\"fill: #1f77b4; stroke: #333333\"/>\n     <use xlink:href=\"#mf02fec0d1f\" x=\"215.043224\" y=\"76.053621\" style=\"fill: #1f77b4; stroke: #333333\"/>\n    </g>\n   </g>\n   <g id=\"PathCollection_2\">\n    <defs>\n     <path id=\"mdc6ad2e066\" d=\"M 0 3 \nC 0.795609 3 1.55874 2.683901 2.12132 2.12132 \nC 2.683901 1.55874 3 0.795609 3 0 \nC 3 -0.795609 2.683901 -1.55874 2.12132 -2.12132 \nC 1.55874 -2.683901 0.795609 -3 0 -3 \nC -0.795609 -3 -1.55874 -2.683901 -2.12132 -2.12132 \nC -2.683901 -1.55874 -3 -0.795609 -3 0 \nC -3 0.795609 -2.683901 1.55874 -2.12132 2.12132 \nC -1.55874 2.683901 -0.795609 3 0 3 \nz\n\" style=\"stroke: #333333\"/>\n    </defs>\n    <g clip-path=\"url(#p3ae7486f16)\">\n     <use xlink:href=\"#mdc6ad2e066\" x=\"117.541741\" y=\"86.93046\" style=\"fill: #ff7f0e; stroke: #333333\"/>\n     <use xlink:href=\"#mdc6ad2e066\" x=\"216.745131\" y=\"186.238032\" style=\"fill: #ff7f0e; stroke: #333333\"/>\n     <use xlink:href=\"#mdc6ad2e066\" x=\"217.505552\" y=\"179.186344\" style=\"fill: #ff7f0e; stroke: #333333\"/>\n     <use xlink:href=\"#mdc6ad2e066\" x=\"221.347732\" y=\"180.222675\" style=\"fill: #ff7f0e; stroke: #333333\"/>\n     <use xlink:href=\"#mdc6ad2e066\" x=\"214.565634\" y=\"189.298142\" style=\"fill: #ff7f0e; stroke: #333333\"/>\n     <use xlink:href=\"#mdc6ad2e066\" x=\"213.960471\" y=\"183.514322\" style=\"fill: #ff7f0e; stroke: #333333\"/>\n     <use xlink:href=\"#mdc6ad2e066\" x=\"248.49451\" y=\"210.282874\" style=\"fill: #ff7f0e; stroke: #333333\"/>\n     <use xlink:href=\"#mdc6ad2e066\" x=\"225.6174\" y=\"192.910482\" style=\"fill: #ff7f0e; stroke: #333333\"/>\n     <use xlink:href=\"#mdc6ad2e066\" x=\"123.115654\" y=\"68.737935\" style=\"fill: #ff7f0e; stroke: #333333\"/>\n     <use xlink:href=\"#mdc6ad2e066\" x=\"113.752586\" y=\"88.874169\" style=\"fill: #ff7f0e; stroke: #333333\"/>\n     <use xlink:href=\"#mdc6ad2e066\" x=\"222.535779\" y=\"194.104519\" style=\"fill: #ff7f0e; stroke: #333333\"/>\n     <use xlink:href=\"#mdc6ad2e066\" x=\"113.731681\" y=\"76.457204\" style=\"fill: #ff7f0e; stroke: #333333\"/>\n     <use xlink:href=\"#mdc6ad2e066\" x=\"118.542021\" y=\"84.008704\" style=\"fill: #ff7f0e; stroke: #333333\"/>\n     <use xlink:href=\"#mdc6ad2e066\" x=\"229.764511\" y=\"180.048983\" style=\"fill: #ff7f0e; stroke: #333333\"/>\n     <use xlink:href=\"#mdc6ad2e066\" x=\"94.968202\" y=\"62.746394\" style=\"fill: #ff7f0e; stroke: #333333\"/>\n     <use xlink:href=\"#mdc6ad2e066\" x=\"225.348732\" y=\"195.86307\" style=\"fill: #ff7f0e; stroke: #333333\"/>\n     <use xlink:href=\"#mdc6ad2e066\" x=\"126.804571\" y=\"68.980166\" style=\"fill: #ff7f0e; stroke: #333333\"/>\n     <use xlink:href=\"#mdc6ad2e066\" x=\"230.554282\" y=\"145.919037\" style=\"fill: #ff7f0e; stroke: #333333\"/>\n     <use xlink:href=\"#mdc6ad2e066\" x=\"104.810324\" y=\"81.321651\" style=\"fill: #ff7f0e; stroke: #333333\"/>\n     <use xlink:href=\"#mdc6ad2e066\" x=\"219.964225\" y=\"187.188473\" style=\"fill: #ff7f0e; stroke: #333333\"/>\n     <use xlink:href=\"#mdc6ad2e066\" x=\"116.679627\" y=\"83.379114\" style=\"fill: #ff7f0e; stroke: #333333\"/>\n     <use xlink:href=\"#mdc6ad2e066\" x=\"120.029653\" y=\"80.000037\" style=\"fill: #ff7f0e; stroke: #333333\"/>\n     <use xlink:href=\"#mdc6ad2e066\" x=\"121.615754\" y=\"82.206856\" style=\"fill: #ff7f0e; stroke: #333333\"/>\n     <use xlink:href=\"#mdc6ad2e066\" x=\"122.249429\" y=\"70.990335\" style=\"fill: #ff7f0e; stroke: #333333\"/>\n     <use xlink:href=\"#mdc6ad2e066\" x=\"248.37391\" y=\"177.19015\" style=\"fill: #ff7f0e; stroke: #333333\"/>\n     <use xlink:href=\"#mdc6ad2e066\" x=\"230.442736\" y=\"179.038631\" style=\"fill: #ff7f0e; stroke: #333333\"/>\n     <use xlink:href=\"#mdc6ad2e066\" x=\"227.050606\" y=\"195.29333\" style=\"fill: #ff7f0e; stroke: #333333\"/>\n     <use xlink:href=\"#mdc6ad2e066\" x=\"124.775566\" y=\"79.388695\" style=\"fill: #ff7f0e; stroke: #333333\"/>\n     <use xlink:href=\"#mdc6ad2e066\" x=\"228.810587\" y=\"182.420146\" style=\"fill: #ff7f0e; stroke: #333333\"/>\n     <use xlink:href=\"#mdc6ad2e066\" x=\"207.996662\" y=\"194.007312\" style=\"fill: #ff7f0e; stroke: #333333\"/>\n     <use xlink:href=\"#mdc6ad2e066\" x=\"240.82428\" y=\"204.558965\" style=\"fill: #ff7f0e; stroke: #333333\"/>\n     <use xlink:href=\"#mdc6ad2e066\" x=\"130.053718\" y=\"67.121726\" style=\"fill: #ff7f0e; stroke: #333333\"/>\n     <use xlink:href=\"#mdc6ad2e066\" x=\"242.943616\" y=\"204.495532\" style=\"fill: #ff7f0e; stroke: #333333\"/>\n     <use xlink:href=\"#mdc6ad2e066\" x=\"223.160445\" y=\"182.114864\" style=\"fill: #ff7f0e; stroke: #333333\"/>\n     <use xlink:href=\"#mdc6ad2e066\" x=\"115.038929\" y=\"71.159023\" style=\"fill: #ff7f0e; stroke: #333333\"/>\n     <use xlink:href=\"#mdc6ad2e066\" x=\"219.577244\" y=\"195.88224\" style=\"fill: #ff7f0e; stroke: #333333\"/>\n     <use xlink:href=\"#mdc6ad2e066\" x=\"202.38866\" y=\"186.57072\" style=\"fill: #ff7f0e; stroke: #333333\"/>\n     <use xlink:href=\"#mdc6ad2e066\" x=\"114.803958\" y=\"85.266495\" style=\"fill: #ff7f0e; stroke: #333333\"/>\n     <use xlink:href=\"#mdc6ad2e066\" x=\"121.524932\" y=\"81.198361\" style=\"fill: #ff7f0e; stroke: #333333\"/>\n     <use xlink:href=\"#mdc6ad2e066\" x=\"111.549788\" y=\"65.574885\" style=\"fill: #ff7f0e; stroke: #333333\"/>\n     <use xlink:href=\"#mdc6ad2e066\" x=\"116.448175\" y=\"77.618504\" style=\"fill: #ff7f0e; stroke: #333333\"/>\n     <use xlink:href=\"#mdc6ad2e066\" x=\"237.740591\" y=\"188.524661\" style=\"fill: #ff7f0e; stroke: #333333\"/>\n     <use xlink:href=\"#mdc6ad2e066\" x=\"137.837925\" y=\"86.266478\" style=\"fill: #ff7f0e; stroke: #333333\"/>\n     <use xlink:href=\"#mdc6ad2e066\" x=\"233.85645\" y=\"181.656801\" style=\"fill: #ff7f0e; stroke: #333333\"/>\n     <use xlink:href=\"#mdc6ad2e066\" x=\"112.757505\" y=\"73.303948\" style=\"fill: #ff7f0e; stroke: #333333\"/>\n     <use xlink:href=\"#mdc6ad2e066\" x=\"112.69342\" y=\"64.033212\" style=\"fill: #ff7f0e; stroke: #333333\"/>\n     <use xlink:href=\"#mdc6ad2e066\" x=\"105.546175\" y=\"76.090565\" style=\"fill: #ff7f0e; stroke: #333333\"/>\n     <use xlink:href=\"#mdc6ad2e066\" x=\"105.997328\" y=\"80.124828\" style=\"fill: #ff7f0e; stroke: #333333\"/>\n     <use xlink:href=\"#mdc6ad2e066\" x=\"127.041069\" y=\"82.960344\" style=\"fill: #ff7f0e; stroke: #333333\"/>\n     <use xlink:href=\"#mdc6ad2e066\" x=\"226.102115\" y=\"181.29642\" style=\"fill: #ff7f0e; stroke: #333333\"/>\n     <use xlink:href=\"#mdc6ad2e066\" x=\"128.438587\" y=\"77.525238\" style=\"fill: #ff7f0e; stroke: #333333\"/>\n     <use xlink:href=\"#mdc6ad2e066\" x=\"123.473168\" y=\"79.531521\" style=\"fill: #ff7f0e; stroke: #333333\"/>\n     <use xlink:href=\"#mdc6ad2e066\" x=\"216.274349\" y=\"191.26397\" style=\"fill: #ff7f0e; stroke: #333333\"/>\n     <use xlink:href=\"#mdc6ad2e066\" x=\"225.556175\" y=\"200.588159\" style=\"fill: #ff7f0e; stroke: #333333\"/>\n     <use xlink:href=\"#mdc6ad2e066\" x=\"230.55415\" y=\"182.941266\" style=\"fill: #ff7f0e; stroke: #333333\"/>\n     <use xlink:href=\"#mdc6ad2e066\" x=\"113.758164\" y=\"80.958773\" style=\"fill: #ff7f0e; stroke: #333333\"/>\n     <use xlink:href=\"#mdc6ad2e066\" x=\"244.418789\" y=\"184.147688\" style=\"fill: #ff7f0e; stroke: #333333\"/>\n     <use xlink:href=\"#mdc6ad2e066\" x=\"97.907078\" y=\"93.364081\" style=\"fill: #ff7f0e; stroke: #333333\"/>\n     <use xlink:href=\"#mdc6ad2e066\" x=\"99.324692\" y=\"57.45091\" style=\"fill: #ff7f0e; stroke: #333333\"/>\n     <use xlink:href=\"#mdc6ad2e066\" x=\"138.243973\" y=\"86.720533\" style=\"fill: #ff7f0e; stroke: #333333\"/>\n     <use xlink:href=\"#mdc6ad2e066\" x=\"216.055969\" y=\"189.910323\" style=\"fill: #ff7f0e; stroke: #333333\"/>\n     <use xlink:href=\"#mdc6ad2e066\" x=\"250.508367\" y=\"209.342362\" style=\"fill: #ff7f0e; stroke: #333333\"/>\n     <use xlink:href=\"#mdc6ad2e066\" x=\"216.912153\" y=\"181.102745\" style=\"fill: #ff7f0e; stroke: #333333\"/>\n     <use xlink:href=\"#mdc6ad2e066\" x=\"104.846658\" y=\"75.056117\" style=\"fill: #ff7f0e; stroke: #333333\"/>\n     <use xlink:href=\"#mdc6ad2e066\" x=\"117.557794\" y=\"79.201152\" style=\"fill: #ff7f0e; stroke: #333333\"/>\n     <use xlink:href=\"#mdc6ad2e066\" x=\"235.421413\" y=\"181.415499\" style=\"fill: #ff7f0e; stroke: #333333\"/>\n     <use xlink:href=\"#mdc6ad2e066\" x=\"210.862758\" y=\"178.460871\" style=\"fill: #ff7f0e; stroke: #333333\"/>\n     <use xlink:href=\"#mdc6ad2e066\" x=\"123.635728\" y=\"75.725234\" style=\"fill: #ff7f0e; stroke: #333333\"/>\n     <use xlink:href=\"#mdc6ad2e066\" x=\"104.001815\" y=\"72.303721\" style=\"fill: #ff7f0e; stroke: #333333\"/>\n     <use xlink:href=\"#mdc6ad2e066\" x=\"117.410781\" y=\"61.399382\" style=\"fill: #ff7f0e; stroke: #333333\"/>\n     <use xlink:href=\"#mdc6ad2e066\" x=\"188.904267\" y=\"199.996535\" style=\"fill: #ff7f0e; stroke: #333333\"/>\n     <use xlink:href=\"#mdc6ad2e066\" x=\"102.808717\" y=\"91.221045\" style=\"fill: #ff7f0e; stroke: #333333\"/>\n     <use xlink:href=\"#mdc6ad2e066\" x=\"104.652602\" y=\"84.404191\" style=\"fill: #ff7f0e; stroke: #333333\"/>\n     <use xlink:href=\"#mdc6ad2e066\" x=\"231.173476\" y=\"176.046973\" style=\"fill: #ff7f0e; stroke: #333333\"/>\n     <use xlink:href=\"#mdc6ad2e066\" x=\"228.802021\" y=\"196.321106\" style=\"fill: #ff7f0e; stroke: #333333\"/>\n     <use xlink:href=\"#mdc6ad2e066\" x=\"218.308561\" y=\"179.217737\" style=\"fill: #ff7f0e; stroke: #333333\"/>\n     <use xlink:href=\"#mdc6ad2e066\" x=\"113.827645\" y=\"87.706881\" style=\"fill: #ff7f0e; stroke: #333333\"/>\n     <use xlink:href=\"#mdc6ad2e066\" x=\"209.567837\" y=\"199.036729\" style=\"fill: #ff7f0e; stroke: #333333\"/>\n     <use xlink:href=\"#mdc6ad2e066\" x=\"242.429188\" y=\"202.363023\" style=\"fill: #ff7f0e; stroke: #333333\"/>\n     <use xlink:href=\"#mdc6ad2e066\" x=\"115.04647\" y=\"86.329256\" style=\"fill: #ff7f0e; stroke: #333333\"/>\n     <use xlink:href=\"#mdc6ad2e066\" x=\"104.771541\" y=\"83.969413\" style=\"fill: #ff7f0e; stroke: #333333\"/>\n     <use xlink:href=\"#mdc6ad2e066\" x=\"232.452694\" y=\"206.519919\" style=\"fill: #ff7f0e; stroke: #333333\"/>\n     <use xlink:href=\"#mdc6ad2e066\" x=\"114.235206\" y=\"72.236323\" style=\"fill: #ff7f0e; stroke: #333333\"/>\n     <use xlink:href=\"#mdc6ad2e066\" x=\"117.752828\" y=\"56.955145\" style=\"fill: #ff7f0e; stroke: #333333\"/>\n     <use xlink:href=\"#mdc6ad2e066\" x=\"211.534552\" y=\"192.347075\" style=\"fill: #ff7f0e; stroke: #333333\"/>\n     <use xlink:href=\"#mdc6ad2e066\" x=\"90.413682\" y=\"83.5877\" style=\"fill: #ff7f0e; stroke: #333333\"/>\n     <use xlink:href=\"#mdc6ad2e066\" x=\"248.615494\" y=\"181.609231\" style=\"fill: #ff7f0e; stroke: #333333\"/>\n     <use xlink:href=\"#mdc6ad2e066\" x=\"104.891007\" y=\"54.55773\" style=\"fill: #ff7f0e; stroke: #333333\"/>\n     <use xlink:href=\"#mdc6ad2e066\" x=\"128.130186\" y=\"84.317468\" style=\"fill: #ff7f0e; stroke: #333333\"/>\n     <use xlink:href=\"#mdc6ad2e066\" x=\"124.501737\" y=\"84.154835\" style=\"fill: #ff7f0e; stroke: #333333\"/>\n     <use xlink:href=\"#mdc6ad2e066\" x=\"219.610659\" y=\"176.56384\" style=\"fill: #ff7f0e; stroke: #333333\"/>\n     <use xlink:href=\"#mdc6ad2e066\" x=\"108.740565\" y=\"75.18515\" style=\"fill: #ff7f0e; stroke: #333333\"/>\n     <use xlink:href=\"#mdc6ad2e066\" x=\"219.461726\" y=\"187.730305\" style=\"fill: #ff7f0e; stroke: #333333\"/>\n     <use xlink:href=\"#mdc6ad2e066\" x=\"227.959074\" y=\"195.542617\" style=\"fill: #ff7f0e; stroke: #333333\"/>\n     <use xlink:href=\"#mdc6ad2e066\" x=\"120.883678\" y=\"70.791035\" style=\"fill: #ff7f0e; stroke: #333333\"/>\n     <use xlink:href=\"#mdc6ad2e066\" x=\"119.721952\" y=\"60.763111\" style=\"fill: #ff7f0e; stroke: #333333\"/>\n     <use xlink:href=\"#mdc6ad2e066\" x=\"236.852307\" y=\"176.953568\" style=\"fill: #ff7f0e; stroke: #333333\"/>\n     <use xlink:href=\"#mdc6ad2e066\" x=\"222.042962\" y=\"202.473545\" style=\"fill: #ff7f0e; stroke: #333333\"/>\n     <use xlink:href=\"#mdc6ad2e066\" x=\"234.8182\" y=\"185.230788\" style=\"fill: #ff7f0e; stroke: #333333\"/>\n     <use xlink:href=\"#mdc6ad2e066\" x=\"238.890947\" y=\"196.484764\" style=\"fill: #ff7f0e; stroke: #333333\"/>\n    </g>\n   </g>\n   <g id=\"matplotlib.axis_1\">\n    <g id=\"xtick_1\">\n     <g id=\"line2d_1\">\n      <defs>\n       <path id=\"m0e43a0a004\" d=\"M 0 0 \nL 0 3.5 \n\" style=\"stroke: #000000; stroke-width: 0.8\"/>\n      </defs>\n      <g>\n       <use xlink:href=\"#m0e43a0a004\" x=\"58.523438\" y=\"244.078125\" style=\"stroke: #000000; stroke-width: 0.8\"/>\n      </g>\n     </g>\n     <g id=\"text_1\">\n      <!-- −0.5 -->\n      <g transform=\"translate(46.382031 258.676562) scale(0.1 -0.1)\">\n       <defs>\n        <path id=\"DejaVuSans-2212\" d=\"M 678 2272 \nL 4684 2272 \nL 4684 1741 \nL 678 1741 \nL 678 2272 \nz\n\" transform=\"scale(0.015625)\"/>\n        <path id=\"DejaVuSans-30\" d=\"M 2034 4250 \nQ 1547 4250 1301 3770 \nQ 1056 3291 1056 2328 \nQ 1056 1369 1301 889 \nQ 1547 409 2034 409 \nQ 2525 409 2770 889 \nQ 3016 1369 3016 2328 \nQ 3016 3291 2770 3770 \nQ 2525 4250 2034 4250 \nz\nM 2034 4750 \nQ 2819 4750 3233 4129 \nQ 3647 3509 3647 2328 \nQ 3647 1150 3233 529 \nQ 2819 -91 2034 -91 \nQ 1250 -91 836 529 \nQ 422 1150 422 2328 \nQ 422 3509 836 4129 \nQ 1250 4750 2034 4750 \nz\n\" transform=\"scale(0.015625)\"/>\n        <path id=\"DejaVuSans-2e\" d=\"M 684 794 \nL 1344 794 \nL 1344 0 \nL 684 0 \nL 684 794 \nz\n\" transform=\"scale(0.015625)\"/>\n        <path id=\"DejaVuSans-35\" d=\"M 691 4666 \nL 3169 4666 \nL 3169 4134 \nL 1269 4134 \nL 1269 2991 \nQ 1406 3038 1543 3061 \nQ 1681 3084 1819 3084 \nQ 2600 3084 3056 2656 \nQ 3513 2228 3513 1497 \nQ 3513 744 3044 326 \nQ 2575 -91 1722 -91 \nQ 1428 -91 1123 -41 \nQ 819 9 494 109 \nL 494 744 \nQ 775 591 1075 516 \nQ 1375 441 1709 441 \nQ 2250 441 2565 725 \nQ 2881 1009 2881 1497 \nQ 2881 1984 2565 2268 \nQ 2250 2553 1709 2553 \nQ 1456 2553 1204 2497 \nQ 953 2441 691 2322 \nL 691 4666 \nz\n\" transform=\"scale(0.015625)\"/>\n       </defs>\n       <use xlink:href=\"#DejaVuSans-2212\"/>\n       <use xlink:href=\"#DejaVuSans-30\" x=\"83.789062\"/>\n       <use xlink:href=\"#DejaVuSans-2e\" x=\"147.412109\"/>\n       <use xlink:href=\"#DejaVuSans-35\" x=\"179.199219\"/>\n      </g>\n     </g>\n    </g>\n    <g id=\"xtick_2\">\n     <g id=\"line2d_2\">\n      <g>\n       <use xlink:href=\"#m0e43a0a004\" x=\"113.963437\" y=\"244.078125\" style=\"stroke: #000000; stroke-width: 0.8\"/>\n      </g>\n     </g>\n     <g id=\"text_2\">\n      <!-- 0.0 -->\n      <g transform=\"translate(106.011875 258.676562) scale(0.1 -0.1)\">\n       <use xlink:href=\"#DejaVuSans-30\"/>\n       <use xlink:href=\"#DejaVuSans-2e\" x=\"63.623047\"/>\n       <use xlink:href=\"#DejaVuSans-30\" x=\"95.410156\"/>\n      </g>\n     </g>\n    </g>\n    <g id=\"xtick_3\">\n     <g id=\"line2d_3\">\n      <g>\n       <use xlink:href=\"#m0e43a0a004\" x=\"169.403437\" y=\"244.078125\" style=\"stroke: #000000; stroke-width: 0.8\"/>\n      </g>\n     </g>\n     <g id=\"text_3\">\n      <!-- 0.5 -->\n      <g transform=\"translate(161.451875 258.676562) scale(0.1 -0.1)\">\n       <use xlink:href=\"#DejaVuSans-30\"/>\n       <use xlink:href=\"#DejaVuSans-2e\" x=\"63.623047\"/>\n       <use xlink:href=\"#DejaVuSans-35\" x=\"95.410156\"/>\n      </g>\n     </g>\n    </g>\n    <g id=\"xtick_4\">\n     <g id=\"line2d_4\">\n      <g>\n       <use xlink:href=\"#m0e43a0a004\" x=\"224.843437\" y=\"244.078125\" style=\"stroke: #000000; stroke-width: 0.8\"/>\n      </g>\n     </g>\n     <g id=\"text_4\">\n      <!-- 1.0 -->\n      <g transform=\"translate(216.891875 258.676562) scale(0.1 -0.1)\">\n       <defs>\n        <path id=\"DejaVuSans-31\" d=\"M 794 531 \nL 1825 531 \nL 1825 4091 \nL 703 3866 \nL 703 4441 \nL 1819 4666 \nL 2450 4666 \nL 2450 531 \nL 3481 531 \nL 3481 0 \nL 794 0 \nL 794 531 \nz\n\" transform=\"scale(0.015625)\"/>\n       </defs>\n       <use xlink:href=\"#DejaVuSans-31\"/>\n       <use xlink:href=\"#DejaVuSans-2e\" x=\"63.623047\"/>\n       <use xlink:href=\"#DejaVuSans-30\" x=\"95.410156\"/>\n      </g>\n     </g>\n    </g>\n    <g id=\"xtick_5\">\n     <g id=\"line2d_5\">\n      <g>\n       <use xlink:href=\"#m0e43a0a004\" x=\"280.283437\" y=\"244.078125\" style=\"stroke: #000000; stroke-width: 0.8\"/>\n      </g>\n     </g>\n     <g id=\"text_5\">\n      <!-- 1.5 -->\n      <g transform=\"translate(272.331875 258.676562) scale(0.1 -0.1)\">\n       <use xlink:href=\"#DejaVuSans-31\"/>\n       <use xlink:href=\"#DejaVuSans-2e\" x=\"63.623047\"/>\n       <use xlink:href=\"#DejaVuSans-35\" x=\"95.410156\"/>\n      </g>\n     </g>\n    </g>\n    <g id=\"text_6\">\n     <!-- $x_1$ -->\n     <g transform=\"translate(164.053438 272.354687) scale(0.1 -0.1)\">\n      <defs>\n       <path id=\"DejaVuSans-Oblique-78\" d=\"M 3841 3500 \nL 2234 1784 \nL 3219 0 \nL 2559 0 \nL 1819 1388 \nL 531 0 \nL -166 0 \nL 1556 1844 \nL 641 3500 \nL 1300 3500 \nL 1972 2234 \nL 3144 3500 \nL 3841 3500 \nz\n\" transform=\"scale(0.015625)\"/>\n      </defs>\n      <use xlink:href=\"#DejaVuSans-Oblique-78\" transform=\"translate(0 0.3125)\"/>\n      <use xlink:href=\"#DejaVuSans-31\" transform=\"translate(59.179688 -16.09375) scale(0.7)\"/>\n     </g>\n    </g>\n   </g>\n   <g id=\"matplotlib.axis_2\">\n    <g id=\"ytick_1\">\n     <g id=\"line2d_6\">\n      <defs>\n       <path id=\"m170a8a711f\" d=\"M 0 0 \nL -3.5 0 \n\" style=\"stroke: #000000; stroke-width: 0.8\"/>\n      </defs>\n      <g>\n       <use xlink:href=\"#m170a8a711f\" x=\"58.523438\" y=\"244.078125\" style=\"stroke: #000000; stroke-width: 0.8\"/>\n      </g>\n     </g>\n     <g id=\"text_7\">\n      <!-- −0.50 -->\n      <g transform=\"translate(20.878125 247.877344) scale(0.1 -0.1)\">\n       <use xlink:href=\"#DejaVuSans-2212\"/>\n       <use xlink:href=\"#DejaVuSans-30\" x=\"83.789062\"/>\n       <use xlink:href=\"#DejaVuSans-2e\" x=\"147.412109\"/>\n       <use xlink:href=\"#DejaVuSans-35\" x=\"179.199219\"/>\n       <use xlink:href=\"#DejaVuSans-30\" x=\"242.822266\"/>\n      </g>\n     </g>\n    </g>\n    <g id=\"ytick_2\">\n     <g id=\"line2d_7\">\n      <g>\n       <use xlink:href=\"#m170a8a711f\" x=\"58.523438\" y=\"216.358125\" style=\"stroke: #000000; stroke-width: 0.8\"/>\n      </g>\n     </g>\n     <g id=\"text_8\">\n      <!-- −0.25 -->\n      <g transform=\"translate(20.878125 220.157344) scale(0.1 -0.1)\">\n       <defs>\n        <path id=\"DejaVuSans-32\" d=\"M 1228 531 \nL 3431 531 \nL 3431 0 \nL 469 0 \nL 469 531 \nQ 828 903 1448 1529 \nQ 2069 2156 2228 2338 \nQ 2531 2678 2651 2914 \nQ 2772 3150 2772 3378 \nQ 2772 3750 2511 3984 \nQ 2250 4219 1831 4219 \nQ 1534 4219 1204 4116 \nQ 875 4013 500 3803 \nL 500 4441 \nQ 881 4594 1212 4672 \nQ 1544 4750 1819 4750 \nQ 2544 4750 2975 4387 \nQ 3406 4025 3406 3419 \nQ 3406 3131 3298 2873 \nQ 3191 2616 2906 2266 \nQ 2828 2175 2409 1742 \nQ 1991 1309 1228 531 \nz\n\" transform=\"scale(0.015625)\"/>\n       </defs>\n       <use xlink:href=\"#DejaVuSans-2212\"/>\n       <use xlink:href=\"#DejaVuSans-30\" x=\"83.789062\"/>\n       <use xlink:href=\"#DejaVuSans-2e\" x=\"147.412109\"/>\n       <use xlink:href=\"#DejaVuSans-32\" x=\"179.199219\"/>\n       <use xlink:href=\"#DejaVuSans-35\" x=\"242.822266\"/>\n      </g>\n     </g>\n    </g>\n    <g id=\"ytick_3\">\n     <g id=\"line2d_8\">\n      <g>\n       <use xlink:href=\"#m170a8a711f\" x=\"58.523438\" y=\"188.638125\" style=\"stroke: #000000; stroke-width: 0.8\"/>\n      </g>\n     </g>\n     <g id=\"text_9\">\n      <!-- 0.00 -->\n      <g transform=\"translate(29.257812 192.437344) scale(0.1 -0.1)\">\n       <use xlink:href=\"#DejaVuSans-30\"/>\n       <use xlink:href=\"#DejaVuSans-2e\" x=\"63.623047\"/>\n       <use xlink:href=\"#DejaVuSans-30\" x=\"95.410156\"/>\n       <use xlink:href=\"#DejaVuSans-30\" x=\"159.033203\"/>\n      </g>\n     </g>\n    </g>\n    <g id=\"ytick_4\">\n     <g id=\"line2d_9\">\n      <g>\n       <use xlink:href=\"#m170a8a711f\" x=\"58.523438\" y=\"160.918125\" style=\"stroke: #000000; stroke-width: 0.8\"/>\n      </g>\n     </g>\n     <g id=\"text_10\">\n      <!-- 0.25 -->\n      <g transform=\"translate(29.257812 164.717344) scale(0.1 -0.1)\">\n       <use xlink:href=\"#DejaVuSans-30\"/>\n       <use xlink:href=\"#DejaVuSans-2e\" x=\"63.623047\"/>\n       <use xlink:href=\"#DejaVuSans-32\" x=\"95.410156\"/>\n       <use xlink:href=\"#DejaVuSans-35\" x=\"159.033203\"/>\n      </g>\n     </g>\n    </g>\n    <g id=\"ytick_5\">\n     <g id=\"line2d_10\">\n      <g>\n       <use xlink:href=\"#m170a8a711f\" x=\"58.523438\" y=\"133.198125\" style=\"stroke: #000000; stroke-width: 0.8\"/>\n      </g>\n     </g>\n     <g id=\"text_11\">\n      <!-- 0.50 -->\n      <g transform=\"translate(29.257812 136.997344) scale(0.1 -0.1)\">\n       <use xlink:href=\"#DejaVuSans-30\"/>\n       <use xlink:href=\"#DejaVuSans-2e\" x=\"63.623047\"/>\n       <use xlink:href=\"#DejaVuSans-35\" x=\"95.410156\"/>\n       <use xlink:href=\"#DejaVuSans-30\" x=\"159.033203\"/>\n      </g>\n     </g>\n    </g>\n    <g id=\"ytick_6\">\n     <g id=\"line2d_11\">\n      <g>\n       <use xlink:href=\"#m170a8a711f\" x=\"58.523438\" y=\"105.478125\" style=\"stroke: #000000; stroke-width: 0.8\"/>\n      </g>\n     </g>\n     <g id=\"text_12\">\n      <!-- 0.75 -->\n      <g transform=\"translate(29.257812 109.277344) scale(0.1 -0.1)\">\n       <defs>\n        <path id=\"DejaVuSans-37\" d=\"M 525 4666 \nL 3525 4666 \nL 3525 4397 \nL 1831 0 \nL 1172 0 \nL 2766 4134 \nL 525 4134 \nL 525 4666 \nz\n\" transform=\"scale(0.015625)\"/>\n       </defs>\n       <use xlink:href=\"#DejaVuSans-30\"/>\n       <use xlink:href=\"#DejaVuSans-2e\" x=\"63.623047\"/>\n       <use xlink:href=\"#DejaVuSans-37\" x=\"95.410156\"/>\n       <use xlink:href=\"#DejaVuSans-35\" x=\"159.033203\"/>\n      </g>\n     </g>\n    </g>\n    <g id=\"ytick_7\">\n     <g id=\"line2d_12\">\n      <g>\n       <use xlink:href=\"#m170a8a711f\" x=\"58.523438\" y=\"77.758125\" style=\"stroke: #000000; stroke-width: 0.8\"/>\n      </g>\n     </g>\n     <g id=\"text_13\">\n      <!-- 1.00 -->\n      <g transform=\"translate(29.257812 81.557344) scale(0.1 -0.1)\">\n       <use xlink:href=\"#DejaVuSans-31\"/>\n       <use xlink:href=\"#DejaVuSans-2e\" x=\"63.623047\"/>\n       <use xlink:href=\"#DejaVuSans-30\" x=\"95.410156\"/>\n       <use xlink:href=\"#DejaVuSans-30\" x=\"159.033203\"/>\n      </g>\n     </g>\n    </g>\n    <g id=\"ytick_8\">\n     <g id=\"line2d_13\">\n      <g>\n       <use xlink:href=\"#m170a8a711f\" x=\"58.523438\" y=\"50.038125\" style=\"stroke: #000000; stroke-width: 0.8\"/>\n      </g>\n     </g>\n     <g id=\"text_14\">\n      <!-- 1.25 -->\n      <g transform=\"translate(29.257812 53.837344) scale(0.1 -0.1)\">\n       <use xlink:href=\"#DejaVuSans-31\"/>\n       <use xlink:href=\"#DejaVuSans-2e\" x=\"63.623047\"/>\n       <use xlink:href=\"#DejaVuSans-32\" x=\"95.410156\"/>\n       <use xlink:href=\"#DejaVuSans-35\" x=\"159.033203\"/>\n      </g>\n     </g>\n    </g>\n    <g id=\"ytick_9\">\n     <g id=\"line2d_14\">\n      <g>\n       <use xlink:href=\"#m170a8a711f\" x=\"58.523438\" y=\"22.318125\" style=\"stroke: #000000; stroke-width: 0.8\"/>\n      </g>\n     </g>\n     <g id=\"text_15\">\n      <!-- 1.50 -->\n      <g transform=\"translate(29.257812 26.117344) scale(0.1 -0.1)\">\n       <use xlink:href=\"#DejaVuSans-31\"/>\n       <use xlink:href=\"#DejaVuSans-2e\" x=\"63.623047\"/>\n       <use xlink:href=\"#DejaVuSans-35\" x=\"95.410156\"/>\n       <use xlink:href=\"#DejaVuSans-30\" x=\"159.033203\"/>\n      </g>\n     </g>\n    </g>\n    <g id=\"text_16\">\n     <!-- $x_2$ -->\n     <g transform=\"translate(14.798437 138.548125) rotate(-90) scale(0.1 -0.1)\">\n      <use xlink:href=\"#DejaVuSans-Oblique-78\" transform=\"translate(0 0.3125)\"/>\n      <use xlink:href=\"#DejaVuSans-32\" transform=\"translate(59.179688 -16.09375) scale(0.7)\"/>\n     </g>\n    </g>\n   </g>\n   <g id=\"patch_3\">\n    <path d=\"M 58.523438 244.078125 \nL 58.523438 22.318125 \n\" style=\"fill: none; stroke: #000000; stroke-width: 0.8; stroke-linejoin: miter; stroke-linecap: square\"/>\n   </g>\n   <g id=\"patch_4\">\n    <path d=\"M 280.283437 244.078125 \nL 280.283437 22.318125 \n\" style=\"fill: none; stroke: #000000; stroke-width: 0.8; stroke-linejoin: miter; stroke-linecap: square\"/>\n   </g>\n   <g id=\"patch_5\">\n    <path d=\"M 58.523438 244.078125 \nL 280.283437 244.078125 \n\" style=\"fill: none; stroke: #000000; stroke-width: 0.8; stroke-linejoin: miter; stroke-linecap: square\"/>\n   </g>\n   <g id=\"patch_6\">\n    <path d=\"M 58.523438 22.318125 \nL 280.283437 22.318125 \n\" style=\"fill: none; stroke: #000000; stroke-width: 0.8; stroke-linejoin: miter; stroke-linecap: square\"/>\n   </g>\n   <g id=\"text_17\">\n    <!-- Dataset samples -->\n    <g transform=\"translate(119.060625 16.318125) scale(0.12 -0.12)\">\n     <defs>\n      <path id=\"DejaVuSans-44\" d=\"M 1259 4147 \nL 1259 519 \nL 2022 519 \nQ 2988 519 3436 956 \nQ 3884 1394 3884 2338 \nQ 3884 3275 3436 3711 \nQ 2988 4147 2022 4147 \nL 1259 4147 \nz\nM 628 4666 \nL 1925 4666 \nQ 3281 4666 3915 4102 \nQ 4550 3538 4550 2338 \nQ 4550 1131 3912 565 \nQ 3275 0 1925 0 \nL 628 0 \nL 628 4666 \nz\n\" transform=\"scale(0.015625)\"/>\n      <path id=\"DejaVuSans-61\" d=\"M 2194 1759 \nQ 1497 1759 1228 1600 \nQ 959 1441 959 1056 \nQ 959 750 1161 570 \nQ 1363 391 1709 391 \nQ 2188 391 2477 730 \nQ 2766 1069 2766 1631 \nL 2766 1759 \nL 2194 1759 \nz\nM 3341 1997 \nL 3341 0 \nL 2766 0 \nL 2766 531 \nQ 2569 213 2275 61 \nQ 1981 -91 1556 -91 \nQ 1019 -91 701 211 \nQ 384 513 384 1019 \nQ 384 1609 779 1909 \nQ 1175 2209 1959 2209 \nL 2766 2209 \nL 2766 2266 \nQ 2766 2663 2505 2880 \nQ 2244 3097 1772 3097 \nQ 1472 3097 1187 3025 \nQ 903 2953 641 2809 \nL 641 3341 \nQ 956 3463 1253 3523 \nQ 1550 3584 1831 3584 \nQ 2591 3584 2966 3190 \nQ 3341 2797 3341 1997 \nz\n\" transform=\"scale(0.015625)\"/>\n      <path id=\"DejaVuSans-74\" d=\"M 1172 4494 \nL 1172 3500 \nL 2356 3500 \nL 2356 3053 \nL 1172 3053 \nL 1172 1153 \nQ 1172 725 1289 603 \nQ 1406 481 1766 481 \nL 2356 481 \nL 2356 0 \nL 1766 0 \nQ 1100 0 847 248 \nQ 594 497 594 1153 \nL 594 3053 \nL 172 3053 \nL 172 3500 \nL 594 3500 \nL 594 4494 \nL 1172 4494 \nz\n\" transform=\"scale(0.015625)\"/>\n      <path id=\"DejaVuSans-73\" d=\"M 2834 3397 \nL 2834 2853 \nQ 2591 2978 2328 3040 \nQ 2066 3103 1784 3103 \nQ 1356 3103 1142 2972 \nQ 928 2841 928 2578 \nQ 928 2378 1081 2264 \nQ 1234 2150 1697 2047 \nL 1894 2003 \nQ 2506 1872 2764 1633 \nQ 3022 1394 3022 966 \nQ 3022 478 2636 193 \nQ 2250 -91 1575 -91 \nQ 1294 -91 989 -36 \nQ 684 19 347 128 \nL 347 722 \nQ 666 556 975 473 \nQ 1284 391 1588 391 \nQ 1994 391 2212 530 \nQ 2431 669 2431 922 \nQ 2431 1156 2273 1281 \nQ 2116 1406 1581 1522 \nL 1381 1569 \nQ 847 1681 609 1914 \nQ 372 2147 372 2553 \nQ 372 3047 722 3315 \nQ 1072 3584 1716 3584 \nQ 2034 3584 2315 3537 \nQ 2597 3491 2834 3397 \nz\n\" transform=\"scale(0.015625)\"/>\n      <path id=\"DejaVuSans-65\" d=\"M 3597 1894 \nL 3597 1613 \nL 953 1613 \nQ 991 1019 1311 708 \nQ 1631 397 2203 397 \nQ 2534 397 2845 478 \nQ 3156 559 3463 722 \nL 3463 178 \nQ 3153 47 2828 -22 \nQ 2503 -91 2169 -91 \nQ 1331 -91 842 396 \nQ 353 884 353 1716 \nQ 353 2575 817 3079 \nQ 1281 3584 2069 3584 \nQ 2775 3584 3186 3129 \nQ 3597 2675 3597 1894 \nz\nM 3022 2063 \nQ 3016 2534 2758 2815 \nQ 2500 3097 2075 3097 \nQ 1594 3097 1305 2825 \nQ 1016 2553 972 2059 \nL 3022 2063 \nz\n\" transform=\"scale(0.015625)\"/>\n      <path id=\"DejaVuSans-20\" transform=\"scale(0.015625)\"/>\n      <path id=\"DejaVuSans-6d\" d=\"M 3328 2828 \nQ 3544 3216 3844 3400 \nQ 4144 3584 4550 3584 \nQ 5097 3584 5394 3201 \nQ 5691 2819 5691 2113 \nL 5691 0 \nL 5113 0 \nL 5113 2094 \nQ 5113 2597 4934 2840 \nQ 4756 3084 4391 3084 \nQ 3944 3084 3684 2787 \nQ 3425 2491 3425 1978 \nL 3425 0 \nL 2847 0 \nL 2847 2094 \nQ 2847 2600 2669 2842 \nQ 2491 3084 2119 3084 \nQ 1678 3084 1418 2786 \nQ 1159 2488 1159 1978 \nL 1159 0 \nL 581 0 \nL 581 3500 \nL 1159 3500 \nL 1159 2956 \nQ 1356 3278 1631 3431 \nQ 1906 3584 2284 3584 \nQ 2666 3584 2933 3390 \nQ 3200 3197 3328 2828 \nz\n\" transform=\"scale(0.015625)\"/>\n      <path id=\"DejaVuSans-70\" d=\"M 1159 525 \nL 1159 -1331 \nL 581 -1331 \nL 581 3500 \nL 1159 3500 \nL 1159 2969 \nQ 1341 3281 1617 3432 \nQ 1894 3584 2278 3584 \nQ 2916 3584 3314 3078 \nQ 3713 2572 3713 1747 \nQ 3713 922 3314 415 \nQ 2916 -91 2278 -91 \nQ 1894 -91 1617 61 \nQ 1341 213 1159 525 \nz\nM 3116 1747 \nQ 3116 2381 2855 2742 \nQ 2594 3103 2138 3103 \nQ 1681 3103 1420 2742 \nQ 1159 2381 1159 1747 \nQ 1159 1113 1420 752 \nQ 1681 391 2138 391 \nQ 2594 391 2855 752 \nQ 3116 1113 3116 1747 \nz\n\" transform=\"scale(0.015625)\"/>\n      <path id=\"DejaVuSans-6c\" d=\"M 603 4863 \nL 1178 4863 \nL 1178 0 \nL 603 0 \nL 603 4863 \nz\n\" transform=\"scale(0.015625)\"/>\n     </defs>\n     <use xlink:href=\"#DejaVuSans-44\"/>\n     <use xlink:href=\"#DejaVuSans-61\" x=\"77.001953\"/>\n     <use xlink:href=\"#DejaVuSans-74\" x=\"138.28125\"/>\n     <use xlink:href=\"#DejaVuSans-61\" x=\"177.490234\"/>\n     <use xlink:href=\"#DejaVuSans-73\" x=\"238.769531\"/>\n     <use xlink:href=\"#DejaVuSans-65\" x=\"290.869141\"/>\n     <use xlink:href=\"#DejaVuSans-74\" x=\"352.392578\"/>\n     <use xlink:href=\"#DejaVuSans-20\" x=\"391.601562\"/>\n     <use xlink:href=\"#DejaVuSans-73\" x=\"423.388672\"/>\n     <use xlink:href=\"#DejaVuSans-61\" x=\"475.488281\"/>\n     <use xlink:href=\"#DejaVuSans-6d\" x=\"536.767578\"/>\n     <use xlink:href=\"#DejaVuSans-70\" x=\"634.179688\"/>\n     <use xlink:href=\"#DejaVuSans-6c\" x=\"697.65625\"/>\n     <use xlink:href=\"#DejaVuSans-65\" x=\"725.439453\"/>\n     <use xlink:href=\"#DejaVuSans-73\" x=\"786.962891\"/>\n    </g>\n   </g>\n   <g id=\"legend_1\">\n    <g id=\"patch_7\">\n     <path d=\"M 65.523438 149.37625 \nL 133.371875 149.37625 \nQ 135.371875 149.37625 135.371875 147.37625 \nL 135.371875 119.02 \nQ 135.371875 117.02 133.371875 117.02 \nL 65.523438 117.02 \nQ 63.523438 117.02 63.523438 119.02 \nL 63.523438 147.37625 \nQ 63.523438 149.37625 65.523438 149.37625 \nz\n\" style=\"fill: #ffffff; opacity: 0.8; stroke: #cccccc; stroke-linejoin: miter\"/>\n    </g>\n    <g id=\"PathCollection_3\">\n     <g>\n      <use xlink:href=\"#mf02fec0d1f\" x=\"77.523438\" y=\"125.993437\" style=\"fill: #1f77b4; stroke: #333333\"/>\n     </g>\n    </g>\n    <g id=\"text_18\">\n     <!-- Class 0 -->\n     <g transform=\"translate(95.523438 128.618437) scale(0.1 -0.1)\">\n      <defs>\n       <path id=\"DejaVuSans-43\" d=\"M 4122 4306 \nL 4122 3641 \nQ 3803 3938 3442 4084 \nQ 3081 4231 2675 4231 \nQ 1875 4231 1450 3742 \nQ 1025 3253 1025 2328 \nQ 1025 1406 1450 917 \nQ 1875 428 2675 428 \nQ 3081 428 3442 575 \nQ 3803 722 4122 1019 \nL 4122 359 \nQ 3791 134 3420 21 \nQ 3050 -91 2638 -91 \nQ 1578 -91 968 557 \nQ 359 1206 359 2328 \nQ 359 3453 968 4101 \nQ 1578 4750 2638 4750 \nQ 3056 4750 3426 4639 \nQ 3797 4528 4122 4306 \nz\n\" transform=\"scale(0.015625)\"/>\n      </defs>\n      <use xlink:href=\"#DejaVuSans-43\"/>\n      <use xlink:href=\"#DejaVuSans-6c\" x=\"69.824219\"/>\n      <use xlink:href=\"#DejaVuSans-61\" x=\"97.607422\"/>\n      <use xlink:href=\"#DejaVuSans-73\" x=\"158.886719\"/>\n      <use xlink:href=\"#DejaVuSans-73\" x=\"210.986328\"/>\n      <use xlink:href=\"#DejaVuSans-20\" x=\"263.085938\"/>\n      <use xlink:href=\"#DejaVuSans-30\" x=\"294.873047\"/>\n     </g>\n    </g>\n    <g id=\"PathCollection_4\">\n     <g>\n      <use xlink:href=\"#mdc6ad2e066\" x=\"77.523438\" y=\"140.671562\" style=\"fill: #ff7f0e; stroke: #333333\"/>\n     </g>\n    </g>\n    <g id=\"text_19\">\n     <!-- Class 1 -->\n     <g transform=\"translate(95.523438 143.296562) scale(0.1 -0.1)\">\n      <use xlink:href=\"#DejaVuSans-43\"/>\n      <use xlink:href=\"#DejaVuSans-6c\" x=\"69.824219\"/>\n      <use xlink:href=\"#DejaVuSans-61\" x=\"97.607422\"/>\n      <use xlink:href=\"#DejaVuSans-73\" x=\"158.886719\"/>\n      <use xlink:href=\"#DejaVuSans-73\" x=\"210.986328\"/>\n      <use xlink:href=\"#DejaVuSans-20\" x=\"263.085938\"/>\n      <use xlink:href=\"#DejaVuSans-31\" x=\"294.873047\"/>\n     </g>\n    </g>\n   </g>\n  </g>\n </g>\n <defs>\n  <clipPath id=\"p3ae7486f16\">\n   <rect x=\"58.523438\" y=\"22.318125\" width=\"221.76\" height=\"221.76\"/>\n  </clipPath>\n </defs>\n</svg>\n",
            "application/pdf": "[encoded data removed]"
          },
          "metadata": {}
        }
      ],
      "source": [
        "@torch.no_grad() # Decorator, same effect as \"with torch.no_grad(): ...\" over the whole function.\n",
        "def visualize_classification(model, data, label):\n",
        "    if isinstance(data, torch.Tensor):\n",
        "        data = data.cpu().numpy()\n",
        "    if isinstance(label, torch.Tensor):\n",
        "        label = label.cpu().numpy()\n",
        "    data_0 = data[label == 0]\n",
        "    data_1 = data[label == 1]\n",
        "\n",
        "    fig = plt.figure(figsize=(4,4), dpi=500)\n",
        "    plt.scatter(data_0[:,0], data_0[:,1], edgecolor=\"#333\", label=\"Class 0\")\n",
        "    plt.scatter(data_1[:,0], data_1[:,1], edgecolor=\"#333\", label=\"Class 1\")\n",
        "    plt.title(\"Dataset samples\")\n",
        "    plt.ylabel(r\"$x_2$\")\n",
        "    plt.xlabel(r\"$x_1$\")\n",
        "    plt.legend()\n",
        "\n",
        "    # Let's make use of a lot of operations we have learned above\n",
        "    model.to(device)\n",
        "    c0 = torch.Tensor(to_rgba(\"C0\")).to(device)\n",
        "    c1 = torch.Tensor(to_rgba(\"C1\")).to(device)\n",
        "    x1 = torch.arange(-0.5, 1.5, step=0.01, device=device)\n",
        "    x2 = torch.arange(-0.5, 1.5, step=0.01, device=device)\n",
        "    xx1, xx2 = torch.meshgrid(x1, x2, indexing='ij')  # Meshgrid function as in numpy\n",
        "    model_inputs = torch.stack([xx1, xx2], dim=-1)\n",
        "    preds = model(model_inputs)\n",
        "    preds = torch.sigmoid(preds)\n",
        "    output_image = (1 - preds) * c0[None,None] + preds * c1[None,None]  # Specifying \"None\" in a dimension creates a new one\n",
        "    output_image = output_image.cpu().numpy()  # Convert to numpy array. This only works for tensors on CPU, hence first push to CPU\n",
        "    plt.imshow(output_image, origin='lower', extent=(-0.5, 1.5, -0.5, 1.5))\n",
        "    plt.grid(False)\n",
        "    return fig\n",
        "\n",
        "_ = visualize_classification(model, dataset.data, dataset.labels)\n",
        "plt.show()"
      ]
    },
    {
      "cell_type": "markdown",
      "metadata": {
        "id": "AppkLjf3ARJm"
      },
      "source": [
        "The decision boundaries might not look exactly as in the figure in the preamble of this section which can be caused by running it on CPU or a different GPU architecture. Nevertheless, the result on the accuracy metric should be the approximately the same."
      ]
    }
  ],
  "metadata": {
    "accelerator": "GPU",
    "colab": {
      "collapsed_sections": [
        "WlfHVg08ARJe"
      ],
      "gpuType": "T4",
      "provenance": [],
      "include_colab_link": true
    },
    "kernelspec": {
      "display_name": "test_env",
      "language": "python",
      "name": "python3"
    },
    "language_info": {
      "codemirror_mode": {
        "name": "ipython",
        "version": 3
      },
      "file_extension": ".py",
      "mimetype": "text/x-python",
      "name": "python",
      "nbconvert_exporter": "python",
      "pygments_lexer": "ipython3",
      "version": "3.12.7"
    },
    "widgets": {
      "application/vnd.jupyter.widget-state+json": {
        "011a27c5c3f64279892e23aea8acd7aa": {
          "model_module": "@jupyter-widgets/controls",
          "model_name": "HBoxModel",
          "model_module_version": "1.5.0",
          "state": {
            "_dom_classes": [],
            "_model_module": "@jupyter-widgets/controls",
            "_model_module_version": "1.5.0",
            "_model_name": "HBoxModel",
            "_view_count": null,
            "_view_module": "@jupyter-widgets/controls",
            "_view_module_version": "1.5.0",
            "_view_name": "HBoxView",
            "box_style": "",
            "children": [
              "IPY_MODEL_eee9ad78723a4d8a87bb3abada4d225b",
              "IPY_MODEL_84175e4c9f44426d948a0543839255d9",
              "IPY_MODEL_36c3aa9df11c4854ae8b5b2f0ecbb039"
            ],
            "layout": "IPY_MODEL_1603d341a3de47b1af64f5827fcca644"
          }
        },
        "eee9ad78723a4d8a87bb3abada4d225b": {
          "model_module": "@jupyter-widgets/controls",
          "model_name": "HTMLModel",
          "model_module_version": "1.5.0",
          "state": {
            "_dom_classes": [],
            "_model_module": "@jupyter-widgets/controls",
            "_model_module_version": "1.5.0",
            "_model_name": "HTMLModel",
            "_view_count": null,
            "_view_module": "@jupyter-widgets/controls",
            "_view_module_version": "1.5.0",
            "_view_name": "HTMLView",
            "description": "",
            "description_tooltip": null,
            "layout": "IPY_MODEL_200ff12262554eadafb603b892f75eec",
            "placeholder": "​",
            "style": "IPY_MODEL_fca5640e52cb49cd9b078f25c426746c",
            "value": "100%"
          }
        },
        "84175e4c9f44426d948a0543839255d9": {
          "model_module": "@jupyter-widgets/controls",
          "model_name": "FloatProgressModel",
          "model_module_version": "1.5.0",
          "state": {
            "_dom_classes": [],
            "_model_module": "@jupyter-widgets/controls",
            "_model_module_version": "1.5.0",
            "_model_name": "FloatProgressModel",
            "_view_count": null,
            "_view_module": "@jupyter-widgets/controls",
            "_view_module_version": "1.5.0",
            "_view_name": "ProgressView",
            "bar_style": "success",
            "description": "",
            "description_tooltip": null,
            "layout": "IPY_MODEL_7a5ecb3ee9314e5ba35ff4a6427b08fa",
            "max": 300,
            "min": 0,
            "orientation": "horizontal",
            "style": "IPY_MODEL_3587a754845a48cb9cea4a38cdbd3375",
            "value": 300
          }
        },
        "36c3aa9df11c4854ae8b5b2f0ecbb039": {
          "model_module": "@jupyter-widgets/controls",
          "model_name": "HTMLModel",
          "model_module_version": "1.5.0",
          "state": {
            "_dom_classes": [],
            "_model_module": "@jupyter-widgets/controls",
            "_model_module_version": "1.5.0",
            "_model_name": "HTMLModel",
            "_view_count": null,
            "_view_module": "@jupyter-widgets/controls",
            "_view_module_version": "1.5.0",
            "_view_name": "HTMLView",
            "description": "",
            "description_tooltip": null,
            "layout": "IPY_MODEL_51530553aee4460babd1a202cfffa844",
            "placeholder": "​",
            "style": "IPY_MODEL_630ac19261a64e1fb8ef79200a8e9870",
            "value": " 300/300 [00:08&lt;00:00, 40.30it/s]"
          }
        },
        "1603d341a3de47b1af64f5827fcca644": {
          "model_module": "@jupyter-widgets/base",
          "model_name": "LayoutModel",
          "model_module_version": "1.2.0",
          "state": {
            "_model_module": "@jupyter-widgets/base",
            "_model_module_version": "1.2.0",
            "_model_name": "LayoutModel",
            "_view_count": null,
            "_view_module": "@jupyter-widgets/base",
            "_view_module_version": "1.2.0",
            "_view_name": "LayoutView",
            "align_content": null,
            "align_items": null,
            "align_self": null,
            "border": null,
            "bottom": null,
            "display": null,
            "flex": null,
            "flex_flow": null,
            "grid_area": null,
            "grid_auto_columns": null,
            "grid_auto_flow": null,
            "grid_auto_rows": null,
            "grid_column": null,
            "grid_gap": null,
            "grid_row": null,
            "grid_template_areas": null,
            "grid_template_columns": null,
            "grid_template_rows": null,
            "height": null,
            "justify_content": null,
            "justify_items": null,
            "left": null,
            "margin": null,
            "max_height": null,
            "max_width": null,
            "min_height": null,
            "min_width": null,
            "object_fit": null,
            "object_position": null,
            "order": null,
            "overflow": null,
            "overflow_x": null,
            "overflow_y": null,
            "padding": null,
            "right": null,
            "top": null,
            "visibility": null,
            "width": null
          }
        },
        "200ff12262554eadafb603b892f75eec": {
          "model_module": "@jupyter-widgets/base",
          "model_name": "LayoutModel",
          "model_module_version": "1.2.0",
          "state": {
            "_model_module": "@jupyter-widgets/base",
            "_model_module_version": "1.2.0",
            "_model_name": "LayoutModel",
            "_view_count": null,
            "_view_module": "@jupyter-widgets/base",
            "_view_module_version": "1.2.0",
            "_view_name": "LayoutView",
            "align_content": null,
            "align_items": null,
            "align_self": null,
            "border": null,
            "bottom": null,
            "display": null,
            "flex": null,
            "flex_flow": null,
            "grid_area": null,
            "grid_auto_columns": null,
            "grid_auto_flow": null,
            "grid_auto_rows": null,
            "grid_column": null,
            "grid_gap": null,
            "grid_row": null,
            "grid_template_areas": null,
            "grid_template_columns": null,
            "grid_template_rows": null,
            "height": null,
            "justify_content": null,
            "justify_items": null,
            "left": null,
            "margin": null,
            "max_height": null,
            "max_width": null,
            "min_height": null,
            "min_width": null,
            "object_fit": null,
            "object_position": null,
            "order": null,
            "overflow": null,
            "overflow_x": null,
            "overflow_y": null,
            "padding": null,
            "right": null,
            "top": null,
            "visibility": null,
            "width": null
          }
        },
        "fca5640e52cb49cd9b078f25c426746c": {
          "model_module": "@jupyter-widgets/controls",
          "model_name": "DescriptionStyleModel",
          "model_module_version": "1.5.0",
          "state": {
            "_model_module": "@jupyter-widgets/controls",
            "_model_module_version": "1.5.0",
            "_model_name": "DescriptionStyleModel",
            "_view_count": null,
            "_view_module": "@jupyter-widgets/base",
            "_view_module_version": "1.2.0",
            "_view_name": "StyleView",
            "description_width": ""
          }
        },
        "7a5ecb3ee9314e5ba35ff4a6427b08fa": {
          "model_module": "@jupyter-widgets/base",
          "model_name": "LayoutModel",
          "model_module_version": "1.2.0",
          "state": {
            "_model_module": "@jupyter-widgets/base",
            "_model_module_version": "1.2.0",
            "_model_name": "LayoutModel",
            "_view_count": null,
            "_view_module": "@jupyter-widgets/base",
            "_view_module_version": "1.2.0",
            "_view_name": "LayoutView",
            "align_content": null,
            "align_items": null,
            "align_self": null,
            "border": null,
            "bottom": null,
            "display": null,
            "flex": null,
            "flex_flow": null,
            "grid_area": null,
            "grid_auto_columns": null,
            "grid_auto_flow": null,
            "grid_auto_rows": null,
            "grid_column": null,
            "grid_gap": null,
            "grid_row": null,
            "grid_template_areas": null,
            "grid_template_columns": null,
            "grid_template_rows": null,
            "height": null,
            "justify_content": null,
            "justify_items": null,
            "left": null,
            "margin": null,
            "max_height": null,
            "max_width": null,
            "min_height": null,
            "min_width": null,
            "object_fit": null,
            "object_position": null,
            "order": null,
            "overflow": null,
            "overflow_x": null,
            "overflow_y": null,
            "padding": null,
            "right": null,
            "top": null,
            "visibility": null,
            "width": null
          }
        },
        "3587a754845a48cb9cea4a38cdbd3375": {
          "model_module": "@jupyter-widgets/controls",
          "model_name": "ProgressStyleModel",
          "model_module_version": "1.5.0",
          "state": {
            "_model_module": "@jupyter-widgets/controls",
            "_model_module_version": "1.5.0",
            "_model_name": "ProgressStyleModel",
            "_view_count": null,
            "_view_module": "@jupyter-widgets/base",
            "_view_module_version": "1.2.0",
            "_view_name": "StyleView",
            "bar_color": null,
            "description_width": ""
          }
        },
        "51530553aee4460babd1a202cfffa844": {
          "model_module": "@jupyter-widgets/base",
          "model_name": "LayoutModel",
          "model_module_version": "1.2.0",
          "state": {
            "_model_module": "@jupyter-widgets/base",
            "_model_module_version": "1.2.0",
            "_model_name": "LayoutModel",
            "_view_count": null,
            "_view_module": "@jupyter-widgets/base",
            "_view_module_version": "1.2.0",
            "_view_name": "LayoutView",
            "align_content": null,
            "align_items": null,
            "align_self": null,
            "border": null,
            "bottom": null,
            "display": null,
            "flex": null,
            "flex_flow": null,
            "grid_area": null,
            "grid_auto_columns": null,
            "grid_auto_flow": null,
            "grid_auto_rows": null,
            "grid_column": null,
            "grid_gap": null,
            "grid_row": null,
            "grid_template_areas": null,
            "grid_template_columns": null,
            "grid_template_rows": null,
            "height": null,
            "justify_content": null,
            "justify_items": null,
            "left": null,
            "margin": null,
            "max_height": null,
            "max_width": null,
            "min_height": null,
            "min_width": null,
            "object_fit": null,
            "object_position": null,
            "order": null,
            "overflow": null,
            "overflow_x": null,
            "overflow_y": null,
            "padding": null,
            "right": null,
            "top": null,
            "visibility": null,
            "width": null
          }
        },
        "630ac19261a64e1fb8ef79200a8e9870": {
          "model_module": "@jupyter-widgets/controls",
          "model_name": "DescriptionStyleModel",
          "model_module_version": "1.5.0",
          "state": {
            "_model_module": "@jupyter-widgets/controls",
            "_model_module_version": "1.5.0",
            "_model_name": "DescriptionStyleModel",
            "_view_count": null,
            "_view_module": "@jupyter-widgets/base",
            "_view_module_version": "1.2.0",
            "_view_name": "StyleView",
            "description_width": ""
          }
        }
      }
    }
  },
  "nbformat": 4,
  "nbformat_minor": 0
}