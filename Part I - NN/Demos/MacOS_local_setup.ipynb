{
 "cells": [
  {
   "cell_type": "markdown",
   "id": "053ae5f3",
   "metadata": {},
   "source": [
    "# 1. Setting Up Python Development on macOS"
   ]
  },
  {
   "cell_type": "markdown",
   "id": "8530f46a",
   "metadata": {},
   "source": [
    "\n",
    "This tutorial will guide you through the steps to:\n",
    "1. Install **Homebrew** (a package manager for macOS).\n",
    "2. Use Homebrew to install **Python**.\n",
    "3. Install and use **Anaconda** to manage virtual environments.\n",
    "\n",
    "Each step includes the commands you need to run in the macOS Terminal.\n",
    "    "
   ]
  },
  {
   "cell_type": "markdown",
   "id": "e27f716b",
   "metadata": {},
   "source": [
    "## Step 1: Install Homebrew"
   ]
  },
  {
   "cell_type": "code",
   "execution_count": null,
   "id": "52751363",
   "metadata": {
    "vscode": {
     "languageId": "shellscript"
    }
   },
   "outputs": [],
   "source": [
    "\n",
    "# Open your macOS Terminal and run the following command to install Homebrew.\n",
    "# This will download and install Homebrew on your system.\n",
    "/bin/bash -c \"$(curl -fsSL https://raw.githubusercontent.com/Homebrew/install/HEAD/install.sh)\"\n",
    "\n",
    "# Verify the installation by running:\n",
    "brew --version\n",
    "    "
   ]
  },
  {
   "cell_type": "markdown",
   "id": "a280fc7c",
   "metadata": {},
   "source": [
    "\n",
    "### Troubleshooting:\n",
    "- If you encounter issues, visit [Homebrew's documentation](https://brew.sh/) for more help.\n",
    "    "
   ]
  },
  {
   "cell_type": "markdown",
   "id": "737740e5",
   "metadata": {},
   "source": [
    "## Step 2: Install Python with Homebrew"
   ]
  },
  {
   "cell_type": "code",
   "execution_count": null,
   "id": "e61185a0",
   "metadata": {
    "vscode": {
     "languageId": "shellscript"
    }
   },
   "outputs": [],
   "source": [
    "\n",
    "# Use Homebrew to install the latest version of Python:\n",
    "brew install python\n",
    "\n",
    "# Verify the installation by checking the Python version:\n",
    "python3 --version\n",
    "\n",
    "# Check the location of the Python installation to confirm it's from Homebrew:\n",
    "which python3\n",
    "\n",
    "# Output: /opt/homebrew/bin/python3\n",
    "    "
   ]
  },
  {
   "cell_type": "markdown",
   "id": "d9f82cd3",
   "metadata": {},
   "source": [
    "## Step 3: Install Anaconda\n",
    "\n",
    "#### With Anaconda, you can create isolated virtual environments tailored to specific projects, install libraries, and easily switch between Python versions. "
   ]
  },
  {
   "cell_type": "code",
   "execution_count": null,
   "id": "aaba9699",
   "metadata": {
    "vscode": {
     "languageId": "shellscript"
    }
   },
   "outputs": [],
   "source": [
    "\n",
    "# Download the Anaconda installer from the official website:\n",
    "# https://www.anaconda.com/products/distribution#macos\n",
    "\n",
    "# Alternatively, download via Terminal using `curl` (replace the URL with the latest version link):\n",
    "# Apple Sillicon\n",
    "curl -O https://repo.anaconda.com/miniconda/Miniconda3-latest-MacOSX-arm64.sh\n",
    "\n",
    "# Intel Chip\n",
    "curl -O https://repo.anaconda.com/archive/Anaconda3-latest-MacOSX-x86_64.sh\n",
    "\n",
    "# Run the installer script:\n",
    "# Apple Sillicon\n",
    "bash Anaconda3-latest-MacOSX-arm64.sh\n",
    "\n",
    "# Intel chip\n",
    "bash Anaconda3-latest-MacOSX-x86_64.sh\n",
    "\n",
    "# Follow the prompts to complete the installation.\n",
    "# After installation, initialize Anaconda:\n",
    "conda init\n",
    "\n",
    "# Verify Installation:\n",
    "conda --version    "
   ]
  },
  {
   "cell_type": "markdown",
   "id": "a683ee0a",
   "metadata": {},
   "source": [
    "## Step 4: Manage Virtual Environments with Anaconda"
   ]
  },
  {
   "cell_type": "code",
   "execution_count": null,
   "id": "f23848e7",
   "metadata": {
    "vscode": {
     "languageId": "shellscript"
    }
   },
   "outputs": [],
   "source": [
    "\n",
    "# Create a new virtual environment (replace 'myenv' with your environment name and Python version):\n",
    "conda create --name myenv python=3.10\n",
    "\n",
    "# Activate the virtual environment:\n",
    "conda activate myenv\n",
    "\n",
    "# Verify the Python version in the environment:\n",
    "python --version\n",
    "\n",
    "# Install additional packages (e.g., NumPy):\n",
    "conda install numpy\n",
    "\n",
    "# List all packages installed in the current actiated environment:\n",
    "conda list\n",
    "\n",
    "# List all environments:\n",
    "conda env list\n",
    "\n",
    "# Deactivate the environment:\n",
    "conda deactivate\n",
    "    "
   ]
  },
  {
   "cell_type": "markdown",
   "id": "b6833b2d",
   "metadata": {},
   "source": [
    "## Step 5: Install required packages on an Envirnoment"
   ]
  },
  {
   "cell_type": "code",
   "execution_count": null,
   "id": "2964975a",
   "metadata": {
    "vscode": {
     "languageId": "shellscript"
    }
   },
   "outputs": [],
   "source": [
    "# Activate the virtual environment:\n",
    "conda activate myenv\n",
    "\n",
    "conda install pytorch -c pytorch\n",
    "conda install matplotlib\n",
    "conda install tqdm\n",
    "conda -c conda-forge ipywidgets\n",
    "conda install -c conda-forge jupyterlab_widgets\n",
    "\n",
    "# Check installed packages \n",
    "conda list"
   ]
  },
  {
   "cell_type": "markdown",
   "id": "42d91e58",
   "metadata": {},
   "source": [
    "#### Ouptut:"
   ]
  },
  {
   "cell_type": "code",
   "execution_count": null,
   "id": "221fe610",
   "metadata": {
    "vscode": {
     "languageId": "shellscript"
    }
   },
   "outputs": [],
   "source": [
    "# Name                    Version                   Build  Channel\n",
    "appnope                   0.1.4              pyhd8ed1ab_0    conda-forge\n",
    "asttokens                 2.4.1              pyhd8ed1ab_0    conda-forge\n",
    "blas                      1.0                    openblas  \n",
    "brotli                    1.0.9                h80987f9_8  \n",
    "brotli-bin                1.0.9                h80987f9_8  \n",
    "bzip2                     1.0.8                h80987f9_6  \n",
    "ca-certificates           2024.9.24            hca03da5_0  \n",
    "comm                      0.2.2              pyhd8ed1ab_0    conda-forge\n",
    "contourpy                 1.2.0           py312h48ca7d4_0  \n",
    "cycler                    0.11.0             pyhd3eb1b0_0  \n",
    "debugpy                   1.6.7           py312h313beb8_0  \n",
    "decorator                 5.1.1              pyhd8ed1ab_0    conda-forge\n",
    "exceptiongroup            1.2.2              pyhd8ed1ab_0    conda-forge\n",
    "executing                 2.1.0              pyhd8ed1ab_0    conda-forge\n",
    "expat                     2.6.3                h313beb8_0  \n",
    "filelock                  3.13.1          py312hca03da5_0  \n",
    "fonttools                 4.51.0          py312h80987f9_0  \n",
    "freetype                  2.12.1               h1192e45_0  \n",
    "importlib-metadata        8.5.0              pyha770c72_0    conda-forge\n",
    "ipykernel                 6.29.5             pyh57ce528_0    conda-forge\n",
    "ipython                   8.29.0             pyh707e725_0    conda-forge\n",
    "jedi                      0.19.2             pyhff2d567_0    conda-forge\n",
    "jinja2                    3.1.4           py312hca03da5_1  \n",
    "jpeg                      9e                   h80987f9_3  \n",
    "jupyter_client            8.6.3              pyhd8ed1ab_0    conda-forge\n",
    "jupyter_core              5.7.2              pyh31011fe_1    conda-forge\n",
    "kiwisolver                1.4.4           py312h313beb8_0  \n",
    "lcms2                     2.12                 hba8e193_0  \n",
    "lerc                      3.0                  hc377ac9_0  \n",
    "libbrotlicommon           1.0.9                h80987f9_8  \n",
    "libbrotlidec              1.0.9                h80987f9_8  \n",
    "libbrotlienc              1.0.9                h80987f9_8  \n",
    "libcxx                    14.0.6               h848a8c0_0  \n",
    "libdeflate                1.17                 h80987f9_1  \n",
    "libffi                    3.4.4                hca03da5_1  \n",
    "libgfortran               5.0.0           11_3_0_hca03da5_28  \n",
    "libgfortran5              11.3.0              h009349e_28  \n",
    "libopenblas               0.3.21               h269037a_0  \n",
    "libpng                    1.6.39               h80987f9_0  \n",
    "libsodium                 1.0.18               h27ca646_1    conda-forge\n",
    "libtiff                   4.5.1                h313beb8_0  \n",
    "libwebp-base              1.3.2                h80987f9_1  \n",
    "llvm-openmp               14.0.6               hc6e5704_0  \n",
    "lz4-c                     1.9.4                h313beb8_1  \n",
    "markupsafe                2.1.3           py312h80987f9_0  \n",
    "matplotlib                3.9.2           py312hca03da5_0  \n",
    "matplotlib-base           3.9.2           py312h2df2da3_0  \n",
    "matplotlib-inline         0.1.7              pyhd8ed1ab_0    conda-forge\n",
    "mpmath                    1.3.0           py312hca03da5_0  \n",
    "ncurses                   6.4                  h313beb8_0  \n",
    "nest-asyncio              1.6.0              pyhd8ed1ab_0    conda-forge\n",
    "networkx                  3.3             py312hca03da5_0  \n",
    "numpy                     1.26.4          py312h7f4fdc5_0  \n",
    "numpy-base                1.26.4          py312he047099_0  \n",
    "openjpeg                  2.5.2                h54b8e55_0  \n",
    "openssl                   3.4.0                h39f12f2_0    conda-forge\n",
    "packaging                 24.1            py312hca03da5_0  \n",
    "parso                     0.8.4              pyhd8ed1ab_0    conda-forge\n",
    "pexpect                   4.9.0              pyhd8ed1ab_0    conda-forge\n",
    "pickleshare               0.7.5                   py_1003    conda-forge\n",
    "pillow                    11.0.0          py312hfaf4e14_0  \n",
    "pip                       24.2            py312hca03da5_0  \n",
    "platformdirs              4.3.6              pyhd8ed1ab_0    conda-forge\n",
    "prompt-toolkit            3.0.48             pyha770c72_0    conda-forge\n",
    "psutil                    5.9.0           py312h80987f9_0  \n",
    "ptyprocess                0.7.0              pyhd3deb0d_0    conda-forge\n",
    "pure_eval                 0.2.3              pyhd8ed1ab_0    conda-forge\n",
    "pygments                  2.18.0             pyhd8ed1ab_0    conda-forge\n",
    "pyparsing                 3.2.0           py312hca03da5_0  \n",
    "python                    3.12.7               h99e199e_0  \n",
    "python-dateutil           2.9.0post0      py312hca03da5_2  \n",
    "pytorch                   2.5.1                  py3.12_0    pytorch\n",
    "pyyaml                    6.0.2           py312h80987f9_0  \n",
    "pyzmq                     25.1.2          py312h313beb8_0  \n",
    "readline                  8.2                  h1a28f6b_0  \n",
    "setuptools                75.1.0          py312hca03da5_0  \n",
    "six                       1.16.0             pyhd3eb1b0_1  \n",
    "sqlite                    3.45.3               h80987f9_0  \n",
    "stack_data                0.6.2              pyhd8ed1ab_0    conda-forge\n",
    "sympy                     1.13.2          py312hca03da5_0  \n",
    "tk                        8.6.14               h6ba3021_0  \n",
    "tornado                   6.4.1           py312h80987f9_0  \n",
    "traitlets                 5.14.3             pyhd8ed1ab_0    conda-forge\n",
    "typing_extensions         4.11.0          py312hca03da5_0  \n",
    "tzdata                    2024b                h04d1e81_0  \n",
    "unicodedata2              15.1.0          py312h80987f9_0  \n",
    "wcwidth                   0.2.13             pyhd8ed1ab_0    conda-forge\n",
    "wheel                     0.44.0          py312hca03da5_0  \n",
    "xz                        5.4.6                h80987f9_1  \n",
    "yaml                      0.2.5                h1a28f6b_0  \n",
    "zeromq                    4.3.5                h313beb8_0  \n",
    "zipp                      3.21.0             pyhd8ed1ab_0    conda-forge\n",
    "zlib                      1.2.13               h18a0788_1  \n",
    "zstd                      1.5.6                hfb09047_0  \n"
   ]
  },
  {
   "cell_type": "markdown",
   "id": "cf0af4e5",
   "metadata": {},
   "source": [
    "\n",
    "### Best Practices:\n",
    "1. Use a separate environment for each project to avoid dependency conflicts.\n",
    "2. Regularly update your environments and packages for better performance and security.\n",
    "3. Always deactivate an environment when you're done working.\n",
    "    "
   ]
  },
  {
   "cell_type": "markdown",
   "id": "2849df77",
   "metadata": {},
   "source": [
    "## Additional Resources"
   ]
  },
  {
   "cell_type": "markdown",
   "id": "d01adedb",
   "metadata": {},
   "source": [
    "\n",
    "- [Homebrew Documentation](https://brew.sh/)\n",
    "- [Anaconda User Guide](https://docs.anaconda.com/)\n",
    "- [Python Official Website](https://www.python.org/)\n",
    "    "
   ]
  }
 ],
 "metadata": {
  "language_info": {
   "name": "python"
  }
 },
 "nbformat": 4,
 "nbformat_minor": 5
}
