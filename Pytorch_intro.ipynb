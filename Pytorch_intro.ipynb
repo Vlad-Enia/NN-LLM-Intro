{
  "cells": [
    {
      "cell_type": "markdown",
      "metadata": {
        "id": "view-in-github",
        "colab_type": "text"
      },
      "source": [
        "<a href=\"https://colab.research.google.com/github/Vlad-Enia/NN-LLM-Intro/blob/master/Pytorch_intro.ipynb\" target=\"_parent\"><img src=\"https://colab.research.google.com/assets/colab-badge.svg\" alt=\"Open In Colab\"/></a>"
      ]
    },
    {
      "cell_type": "markdown",
      "metadata": {
        "id": "S2aRXpGJARJc"
      },
      "source": [
        "# 2. Introduction to PyTorch"
      ]
    },
    {
      "cell_type": "markdown",
      "metadata": {
        "id": "9PE3qZg5ARJd"
      },
      "source": [
        "The following notebook is meant to give a short introduction to PyTorch basics, and get you setup for writing your own neural networks. PyTorch is an open source machine learning framework that allows you to write your own neural networks and optimize them efficiently. Alternatives to PyTorch include [TensorFlow](https://www.tensorflow.org/), [JAX](https://github.com/google/jax#quickstart-colab-in-the-cloud) and [Caffe](http://caffe.berkeleyvision.org/). Many current papers publish their code in PyTorch, and thus it is good to be familiar with it.\n",
        "Meanwhile, TensorFlow (developed by Google) is usually known for being a production-grade deep learning library. Still, if you know one machine learning framework in depth, it is very easy to learn another one because many of them use the same concepts and ideas. For instance, TensorFlow's version 2 was heavily inspired by the most popular features of PyTorch, making the frameworks even more similar.\n",
        "\n",
        "There are many great tutorials online, including the [\"60-min blitz\"](https://pytorch.org/tutorials/beginner/deep_learning_60min_blitz.html) on the official [PyTorch website](https://pytorch.org/tutorials/).\n",
        "\n",
        "For simplicity, I recommend opening this notebook on Google Colab, because it does not require any extra setup steps. If you prefer using local setup, please refer to the [first tutorial](01_Setup.ipynb) where it explains the steps for installing Homebrew, Python and Anaconda\n",
        "\n",
        "We will use a set of standard libraries that are often used in machine learning projects."
      ]
    },
    {
      "cell_type": "code",
      "execution_count": null,
      "metadata": {
        "colab": {
          "base_uri": "https://localhost:8080/"
        },
        "id": "8WuTpZ4FARJd",
        "outputId": "2b1d6750-4244-4e0b-b4fa-fb656f665f35"
      },
      "outputs": [
        {
          "output_type": "stream",
          "name": "stderr",
          "text": [
            "<ipython-input-68-51769f9c52a5>:11: DeprecationWarning: `set_matplotlib_formats` is deprecated since IPython 7.23, directly use `matplotlib_inline.backend_inline.set_matplotlib_formats()`\n",
            "  set_matplotlib_formats('svg', 'pdf') # For export\n"
          ]
        }
      ],
      "source": [
        "## Standard libraries\n",
        "import os\n",
        "import math\n",
        "import numpy as np\n",
        "import time\n",
        "\n",
        "## Imports for plotting\n",
        "import matplotlib.pyplot as plt\n",
        "%matplotlib inline\n",
        "from IPython.display import set_matplotlib_formats\n",
        "set_matplotlib_formats('svg', 'pdf') # For export\n",
        "from matplotlib.colors import to_rgba\n",
        "\n",
        "## Progress bar\n",
        "from tqdm.notebook import tqdm"
      ]
    },
    {
      "cell_type": "markdown",
      "metadata": {
        "id": "wj0TASpdARJe"
      },
      "source": [
        "## The Basics of PyTorch\n",
        "\n",
        "We will start with reviewing the very basic concepts of PyTorch. As a prerequisite, we recommend to be familiar with the `numpy` package as most machine learning frameworks are based on very similar concepts. If you are not familiar with numpy yet, don't worry: here is a [tutorial](https://numpy.org/devdocs/user/quickstart.html) to go through.\n",
        "\n",
        "So, let's start with importing PyTorch. The package is called `torch`, based on its original framework [Torch](http://torch.ch/). As a first step, we can check its version:"
      ]
    },
    {
      "cell_type": "code",
      "execution_count": null,
      "metadata": {
        "colab": {
          "base_uri": "https://localhost:8080/"
        },
        "id": "oFphyCTYARJe",
        "outputId": "18c86992-0762-42f3-dde4-181b42a05f28"
      },
      "outputs": [
        {
          "output_type": "stream",
          "name": "stdout",
          "text": [
            "Using torch 2.5.1+cu121\n"
          ]
        }
      ],
      "source": [
        "import torch\n",
        "print(\"Using torch\", torch.__version__)"
      ]
    },
    {
      "cell_type": "markdown",
      "metadata": {
        "id": "HhK_C9Y3ARJe"
      },
      "source": [
        "Torch offer support for training on `CPU`, `CUDA` (for Nvidia GPUs) and `MPS` (for Apple Sillicon). Below we will check our available device."
      ]
    },
    {
      "cell_type": "code",
      "execution_count": null,
      "metadata": {
        "colab": {
          "base_uri": "https://localhost:8080/"
        },
        "id": "W-YDFzENARJe",
        "outputId": "ee9a4b5b-5c8f-4f6e-fbd6-deef6e051faf"
      },
      "outputs": [
        {
          "output_type": "stream",
          "name": "stdout",
          "text": [
            "Using device cuda:0\n"
          ]
        }
      ],
      "source": [
        "if torch.cuda.is_available:\n",
        "    device = torch.device('cuda:0')\n",
        "# if torch.mps.is_available:\n",
        "#     device = torch.device('mps')\n",
        "else:\n",
        "    device = torch.device('cpu')\n",
        "print(\"Using device\", device)"
      ]
    },
    {
      "cell_type": "markdown",
      "metadata": {
        "id": "WlfHVg08ARJe"
      },
      "source": [
        "### Tensors\n",
        "\n",
        "Tensors are the PyTorch equivalent to Numpy arrays, with the addition to also have support for GPU acceleration (more on that later).\n",
        "The name \"tensor\" is a generalization of concepts you already know. For instance, a vector is a 1-D tensor, and a matrix a 2-D tensor. When working with neural networks, we will use tensors of various shapes and number of dimensions.\n",
        "\n",
        "Most common functions you know from numpy can be used on tensors as well. Actually, since numpy arrays are so similar to tensors, we can convert most tensors to numpy arrays (and back) but we don't need it too often.\n",
        "\n",
        "#### Initialization\n",
        "\n",
        "Let's first start by looking at different ways of creating a tensor. There are many possible options, the simplest one is to call `torch.Tensor` passing the desired shape as input argument:"
      ]
    },
    {
      "cell_type": "code",
      "execution_count": null,
      "metadata": {
        "id": "WZKRghPlARJe",
        "outputId": "c67201e3-e28a-4f2a-9e8d-0260bc43dde5",
        "colab": {
          "base_uri": "https://localhost:8080/"
        }
      },
      "outputs": [
        {
          "output_type": "stream",
          "name": "stdout",
          "text": [
            "tensor([[0.0000e+00, 3.1358e-41, 7.7052e+31],\n",
            "        [7.2148e+22, 1.5766e-19, 1.0256e-08]])\n"
          ]
        }
      ],
      "source": [
        "x = torch.Tensor(2, 3)\n",
        "print(x)"
      ]
    },
    {
      "cell_type": "markdown",
      "metadata": {
        "id": "vPEC18tGARJf"
      },
      "source": [
        "The function `torch.Tensor` allocates memory for the desired tensor, but reuses any values that have already been in the memory. To directly assign values to the tensor during initialization, there are many alternatives including:\n",
        "\n",
        "* `torch.zeros`: Creates a tensor filled with zeros\n",
        "* `torch.ones`: Creates a tensor filled with ones\n",
        "* `torch.rand`: Creates a tensor with random values uniformly sampled between 0 and 1\n",
        "* `torch.randn`: Creates a tensor with random values sampled from a normal distribution with mean 0 and variance 1\n",
        "* `torch.arange`: Creates a tensor containing the values $N,N+1,N+2,...,M$\n",
        "* `torch.Tensor` (input list): Creates a tensor from the list elements you provide"
      ]
    },
    {
      "cell_type": "code",
      "execution_count": null,
      "metadata": {
        "id": "fnCm3zjOARJf",
        "outputId": "c7d3d631-331d-4813-bb45-aaaac97bbaa4",
        "colab": {
          "base_uri": "https://localhost:8080/"
        }
      },
      "outputs": [
        {
          "output_type": "stream",
          "name": "stdout",
          "text": [
            "tensor([[1., 2.],\n",
            "        [3., 4.]])\n"
          ]
        }
      ],
      "source": [
        "# Create a tensor from a (nested) list\n",
        "x = torch.Tensor([[1, 2], [3, 4]])\n",
        "print(x)"
      ]
    },
    {
      "cell_type": "code",
      "execution_count": null,
      "metadata": {
        "id": "OPYjE93jARJf",
        "outputId": "586b8492-732b-4d19-db3f-e94bedd62fc4",
        "colab": {
          "base_uri": "https://localhost:8080/"
        }
      },
      "outputs": [
        {
          "output_type": "stream",
          "name": "stdout",
          "text": [
            "tensor([[[0.8316, 0.1828, 0.8499, 0.3431],\n",
            "         [0.6492, 0.9188, 0.8879, 0.1015],\n",
            "         [0.6968, 0.2489, 0.0707, 0.4778]],\n",
            "\n",
            "        [[0.3880, 0.6050, 0.5564, 0.7894],\n",
            "         [0.7579, 0.0517, 0.0631, 0.1840],\n",
            "         [0.7575, 0.9618, 0.2073, 0.5937]]])\n"
          ]
        }
      ],
      "source": [
        "# Create a tensor with random values between 0 and 1 with the shape [2, 3, 4]\n",
        "x = torch.rand(2, 3, 4)\n",
        "print(x)"
      ]
    },
    {
      "cell_type": "markdown",
      "metadata": {
        "id": "hERkLbWMARJf"
      },
      "source": [
        "You can obtain the shape of a tensor in the same way as in numpy (`x.shape`), or using the `.size` method:"
      ]
    },
    {
      "cell_type": "code",
      "execution_count": null,
      "metadata": {
        "id": "57CvyfmtARJf",
        "outputId": "700d06f2-cde9-46c1-fcb7-4a7844e57624",
        "colab": {
          "base_uri": "https://localhost:8080/"
        }
      },
      "outputs": [
        {
          "output_type": "stream",
          "name": "stdout",
          "text": [
            "Shape: torch.Size([2, 3, 4])\n",
            "Size: torch.Size([2, 3, 4])\n",
            "Size: 2 3 4\n"
          ]
        }
      ],
      "source": [
        "shape = x.shape\n",
        "print(\"Shape:\", x.shape)\n",
        "\n",
        "size = x.size()\n",
        "print(\"Size:\", size)\n",
        "\n",
        "dim1, dim2, dim3 = x.size()\n",
        "print(\"Size:\", dim1, dim2, dim3)"
      ]
    },
    {
      "cell_type": "markdown",
      "metadata": {
        "id": "4fSqZl0RARJf"
      },
      "source": [
        "#### Tensor to Numpy, and Numpy to Tensor\n",
        "\n",
        "Tensors can be converted to numpy arrays, and numpy arrays back to tensors. To transform a numpy array into a tensor, we can use the function `torch.from_numpy`:"
      ]
    },
    {
      "cell_type": "code",
      "execution_count": null,
      "metadata": {
        "id": "pCWvqE4XARJf",
        "outputId": "e6688f93-e8cd-4266-8df2-5704face8383",
        "colab": {
          "base_uri": "https://localhost:8080/"
        }
      },
      "outputs": [
        {
          "output_type": "stream",
          "name": "stdout",
          "text": [
            "Numpy array: [[1 2]\n",
            " [3 4]]\n",
            "PyTorch tensor: tensor([[1, 2],\n",
            "        [3, 4]])\n"
          ]
        }
      ],
      "source": [
        "np_arr = np.array([[1, 2], [3, 4]])\n",
        "tensor = torch.from_numpy(np_arr)\n",
        "\n",
        "print(\"Numpy array:\", np_arr)\n",
        "print(\"PyTorch tensor:\", tensor)"
      ]
    },
    {
      "cell_type": "markdown",
      "metadata": {
        "id": "n2-MP9USARJf"
      },
      "source": [
        "To transform a PyTorch tensor back to a numpy array, we can use the function `.numpy()` on tensors:"
      ]
    },
    {
      "cell_type": "code",
      "execution_count": null,
      "metadata": {
        "id": "eAhSIJ1lARJf",
        "outputId": "794cfa9e-bc4f-4089-9cea-5ee3b51651e3",
        "colab": {
          "base_uri": "https://localhost:8080/"
        }
      },
      "outputs": [
        {
          "output_type": "stream",
          "name": "stdout",
          "text": [
            "PyTorch tensor: tensor([0, 1, 2, 3])\n",
            "Numpy array: [0 1 2 3]\n"
          ]
        }
      ],
      "source": [
        "tensor = torch.arange(4)\n",
        "np_arr = tensor.numpy()\n",
        "\n",
        "print(\"PyTorch tensor:\", tensor)\n",
        "print(\"Numpy array:\", np_arr)"
      ]
    },
    {
      "cell_type": "markdown",
      "metadata": {
        "id": "J3lXREl3ARJf"
      },
      "source": [
        "The conversion of tensors to numpy require the tensor to be on the CPU, and not the GPU (more on GPU support in a later section). In case you have a tensor on GPU, you need to call `.cpu()` on the tensor beforehand. Hence, you get a line like `np_arr = tensor.cpu().numpy()`."
      ]
    },
    {
      "cell_type": "markdown",
      "metadata": {
        "id": "8REyde6yARJf"
      },
      "source": [
        "#### Operations\n",
        "\n",
        "Most operations that exist in numpy, also exist in PyTorch. A full list of operations can be found in the [PyTorch documentation](https://pytorch.org/docs/stable/tensors.html#), but we will review the most important ones here.\n",
        "\n",
        "The simplest operation is to add two tensors:"
      ]
    },
    {
      "cell_type": "code",
      "execution_count": null,
      "metadata": {
        "id": "WIzswy8AARJg",
        "outputId": "1bb52519-5972-43dc-9d2a-c51940042d49",
        "colab": {
          "base_uri": "https://localhost:8080/"
        }
      },
      "outputs": [
        {
          "output_type": "stream",
          "name": "stdout",
          "text": [
            "X1 tensor([[1., 1., 1.],\n",
            "        [1., 1., 1.]])\n",
            "X2 tensor([[1., 1., 1.],\n",
            "        [1., 1., 1.]])\n",
            "Y tensor([[2., 2., 2.],\n",
            "        [2., 2., 2.]])\n"
          ]
        }
      ],
      "source": [
        "x1 = torch.ones(2, 3)\n",
        "x2 = torch.ones(2, 3)\n",
        "y = x1 + x2\n",
        "\n",
        "print(\"X1\", x1)\n",
        "print(\"X2\", x2)\n",
        "print(\"Y\", y)"
      ]
    },
    {
      "cell_type": "markdown",
      "metadata": {
        "id": "2tmEMfBCARJg"
      },
      "source": [
        "Calling `x1 + x2` creates a new tensor containing the sum of the two inputs. However, we can also use in-place operations that are applied directly on the memory of a tensor. We therefore change the values of `x2` without the chance to re-accessing the values of `x2` before the operation. An example is shown below:"
      ]
    },
    {
      "cell_type": "code",
      "execution_count": null,
      "metadata": {
        "id": "lFlCuUqRARJg",
        "outputId": "7554e498-ed87-4f16-c449-72b26f409b81",
        "colab": {
          "base_uri": "https://localhost:8080/"
        }
      },
      "outputs": [
        {
          "output_type": "stream",
          "name": "stdout",
          "text": [
            "X1 (before) tensor([[1., 1., 1.],\n",
            "        [1., 1., 1.]])\n",
            "X2 (before) tensor([[1., 1., 1.],\n",
            "        [1., 1., 1.]])\n",
            "X1 (after) tensor([[1., 1., 1.],\n",
            "        [1., 1., 1.]])\n",
            "X2 (after) tensor([[2., 2., 2.],\n",
            "        [2., 2., 2.]])\n"
          ]
        }
      ],
      "source": [
        "x1 = torch.ones(2, 3)\n",
        "x2 = torch.ones(2, 3)\n",
        "print(\"X1 (before)\", x1)\n",
        "print(\"X2 (before)\", x2)\n",
        "\n",
        "x2.add_(x1)\n",
        "print(\"X1 (after)\", x1)\n",
        "print(\"X2 (after)\", x2)"
      ]
    },
    {
      "cell_type": "markdown",
      "metadata": {
        "id": "oZBJFuWgARJg"
      },
      "source": [
        "In-place operations are usually marked with a underscore postfix (e.g. \"add_\" instead of \"add\").\n",
        "\n",
        "Another common operation aims at changing the shape of a tensor. A tensor of size (2,3) can be re-organized to any other shape with the same number of elements (e.g. a tensor of size (6), or (3,2), ...). In PyTorch, this operation is called `view`:"
      ]
    },
    {
      "cell_type": "code",
      "execution_count": null,
      "metadata": {
        "id": "_UmPKmq0ARJg",
        "outputId": "1dd40124-df98-4a7a-fa9a-2fd5a6898b0a",
        "colab": {
          "base_uri": "https://localhost:8080/"
        }
      },
      "outputs": [
        {
          "output_type": "stream",
          "name": "stdout",
          "text": [
            "X tensor([0, 1, 2, 3, 4, 5])\n"
          ]
        }
      ],
      "source": [
        "x = torch.arange(6)\n",
        "print(\"X\", x)"
      ]
    },
    {
      "cell_type": "code",
      "execution_count": null,
      "metadata": {
        "id": "mv6hHgp5ARJg",
        "outputId": "95c76fbe-6474-4e20-9f88-172d50eeb248",
        "colab": {
          "base_uri": "https://localhost:8080/"
        }
      },
      "outputs": [
        {
          "output_type": "stream",
          "name": "stdout",
          "text": [
            "X tensor([[0, 1, 2],\n",
            "        [3, 4, 5]])\n"
          ]
        }
      ],
      "source": [
        "x = x.view(2, 3)\n",
        "print(\"X\", x)"
      ]
    },
    {
      "cell_type": "code",
      "execution_count": null,
      "metadata": {
        "id": "Suqlz4TQARJg",
        "outputId": "df1ed652-c288-49d9-f1f6-3697e2f816cf",
        "colab": {
          "base_uri": "https://localhost:8080/"
        }
      },
      "outputs": [
        {
          "output_type": "stream",
          "name": "stdout",
          "text": [
            "X tensor([[0, 3],\n",
            "        [1, 4],\n",
            "        [2, 5]])\n"
          ]
        }
      ],
      "source": [
        "x = x.permute(1, 0) # Swapping dimension 0 and 1\n",
        "print(\"X\", x)"
      ]
    },
    {
      "cell_type": "markdown",
      "metadata": {
        "id": "cMNWR20gARJg"
      },
      "source": [
        "Other commonly used operations include matrix multiplications, which are essential for neural networks. Quite often, we have an input vector $\\mathbf{x}$, which is transformed using a learned weight matrix $\\mathbf{W}$. There are multiple ways and functions to perform matrix multiplication, some of which we list below:\n",
        "\n",
        "* `torch.matmul`: Performs the matrix product over two tensors, where the specific behavior depends on the dimensions. If both inputs are matrices (2-dimensional tensors), it performs the standard matrix product. For higher dimensional inputs, the function supports broadcasting (for details see the [documentation](https://pytorch.org/docs/stable/generated/torch.matmul.html?highlight=matmul#torch.matmul)). Can also be written as `a @ b`, similar to numpy.\n",
        "\n",
        "* `torch.bmm`: Performs the matrix product with a support batch dimension. If the first tensor $T$ is of shape ($b\\times n\\times m$), and the second tensor $R$ ($b\\times m\\times p$), the output $O$ is of shape ($b\\times n\\times p$), and has been calculated by performing $b$ matrix multiplications of the submatrices of $T$ and $R$: $O_i = T_i @ R_i$\n"
      ]
    },
    {
      "cell_type": "code",
      "execution_count": null,
      "metadata": {
        "id": "zgji_F2mARJg",
        "outputId": "a741dc06-8a6e-47e7-ad56-54203e074840",
        "colab": {
          "base_uri": "https://localhost:8080/"
        }
      },
      "outputs": [
        {
          "output_type": "stream",
          "name": "stdout",
          "text": [
            "X tensor([[0, 1, 2],\n",
            "        [3, 4, 5]])\n"
          ]
        }
      ],
      "source": [
        "x = torch.arange(6)\n",
        "x = x.view(2, 3)\n",
        "print(\"X\", x)"
      ]
    },
    {
      "cell_type": "code",
      "execution_count": null,
      "metadata": {
        "id": "yQjyApXYARJg",
        "outputId": "5dde8246-faea-43af-db04-a2343fdedece",
        "colab": {
          "base_uri": "https://localhost:8080/"
        }
      },
      "outputs": [
        {
          "output_type": "stream",
          "name": "stdout",
          "text": [
            "W tensor([[0, 1, 2],\n",
            "        [3, 4, 5],\n",
            "        [6, 7, 8]])\n"
          ]
        }
      ],
      "source": [
        "W = torch.arange(9).view(3, 3) # We can also stack multiple operations in a single line\n",
        "print(\"W\", W)"
      ]
    },
    {
      "cell_type": "code",
      "execution_count": null,
      "metadata": {
        "id": "-UbiwazOARJg",
        "outputId": "32442a39-9123-4869-b63e-c7d1a4f96bb6",
        "colab": {
          "base_uri": "https://localhost:8080/"
        }
      },
      "outputs": [
        {
          "output_type": "stream",
          "name": "stdout",
          "text": [
            "h tensor([[15, 18, 21],\n",
            "        [42, 54, 66]])\n"
          ]
        }
      ],
      "source": [
        "h = torch.matmul(x, W)\n",
        "print(\"h\", h)"
      ]
    },
    {
      "cell_type": "markdown",
      "metadata": {
        "id": "QtHijOafARJg"
      },
      "source": [
        "#### Indexing\n",
        "\n",
        "We often have the situation where we need to select a part of a tensor. Indexing works just like in numpy, so let's try it:"
      ]
    },
    {
      "cell_type": "code",
      "execution_count": null,
      "metadata": {
        "id": "x6AsY1zxARJg",
        "outputId": "50da4c8f-cbf1-4d5b-a76b-b1541d7b1e3b",
        "colab": {
          "base_uri": "https://localhost:8080/"
        }
      },
      "outputs": [
        {
          "output_type": "stream",
          "name": "stdout",
          "text": [
            "X tensor([[ 0,  1,  2,  3],\n",
            "        [ 4,  5,  6,  7],\n",
            "        [ 8,  9, 10, 11]])\n"
          ]
        }
      ],
      "source": [
        "x = torch.arange(12).view(3, 4)\n",
        "print(\"X\", x)"
      ]
    },
    {
      "cell_type": "code",
      "execution_count": null,
      "metadata": {
        "id": "vutQRLgBARJh",
        "outputId": "e7dce9dd-2a49-4017-da0d-ead973fcbd29",
        "colab": {
          "base_uri": "https://localhost:8080/"
        }
      },
      "outputs": [
        {
          "output_type": "stream",
          "name": "stdout",
          "text": [
            "tensor([1, 5, 9])\n"
          ]
        }
      ],
      "source": [
        "print(x[:, 1])   # Second column"
      ]
    },
    {
      "cell_type": "code",
      "execution_count": null,
      "metadata": {
        "id": "qzGxjsUjARJh",
        "outputId": "d790bf11-9990-450a-ded2-223b859a691b",
        "colab": {
          "base_uri": "https://localhost:8080/"
        }
      },
      "outputs": [
        {
          "output_type": "stream",
          "name": "stdout",
          "text": [
            "tensor([0, 1, 2, 3])\n"
          ]
        }
      ],
      "source": [
        "print(x[0])      # First row"
      ]
    },
    {
      "cell_type": "code",
      "execution_count": null,
      "metadata": {
        "id": "sKaAHZ4HARJh",
        "outputId": "eb48d17d-1450-44a7-e6dc-a14b52f0406f",
        "colab": {
          "base_uri": "https://localhost:8080/"
        }
      },
      "outputs": [
        {
          "output_type": "stream",
          "name": "stdout",
          "text": [
            "tensor([3, 7])\n"
          ]
        }
      ],
      "source": [
        "print(x[:2, -1]) # First two rows, last column"
      ]
    },
    {
      "cell_type": "code",
      "execution_count": null,
      "metadata": {
        "id": "dpLFRPTXARJh",
        "outputId": "b50d90e9-bb7b-4f95-c81b-4ba3260b2fc5",
        "colab": {
          "base_uri": "https://localhost:8080/"
        }
      },
      "outputs": [
        {
          "output_type": "stream",
          "name": "stdout",
          "text": [
            "tensor([[ 4,  5,  6,  7],\n",
            "        [ 8,  9, 10, 11]])\n"
          ]
        }
      ],
      "source": [
        "print(x[1:3, :]) # Second and third row"
      ]
    },
    {
      "cell_type": "markdown",
      "metadata": {
        "id": "QFx0WUMnARJh"
      },
      "source": [
        "### CPU vs GPU"
      ]
    },
    {
      "cell_type": "code",
      "execution_count": null,
      "metadata": {
        "colab": {
          "base_uri": "https://localhost:8080/"
        },
        "id": "lIQfo_92ARJh",
        "outputId": "b4fc4d60-2b81-428a-fc64-06bda4491704"
      },
      "outputs": [
        {
          "output_type": "stream",
          "name": "stdout",
          "text": [
            "X tensor([[0., 0., 0.],\n",
            "        [0., 0., 0.]], device='cuda:0')\n"
          ]
        }
      ],
      "source": [
        "x = torch.zeros(2, 3)\n",
        "x = x.to(device)    # Create tensor and push to GPU\n",
        "print(\"X\", x)"
      ]
    },
    {
      "cell_type": "markdown",
      "metadata": {
        "id": "s5dikhB4ARJh"
      },
      "source": [
        "In case you have a GPU, on Apple Sillicon you should now see the attribute `device='mps:0'` being printed next to your tensor and `device='cuda:0'` for Nvidia GPUs.\n",
        "Let's compare the runtime of a large matrix multiplication on the CPU with a operation on the GPU:"
      ]
    },
    {
      "cell_type": "code",
      "execution_count": null,
      "metadata": {
        "colab": {
          "base_uri": "https://localhost:8080/"
        },
        "id": "rMf7pQaqARJh",
        "outputId": "4352c05c-21cc-418f-a858-0eccffce355b"
      },
      "outputs": [
        {
          "output_type": "stream",
          "name": "stdout",
          "text": [
            "CPU time: 3.62559s\n",
            "GPU time: 0.07384s\n"
          ]
        }
      ],
      "source": [
        "x = torch.randn(5000, 5000)\n",
        "\n",
        "## CPU version\n",
        "start_time = time.time()\n",
        "_ = torch.matmul(x, x)\n",
        "end_time = time.time()\n",
        "print(f\"CPU time: {(end_time - start_time):6.5f}s\") # Milliseconds to seconds\n",
        "\n",
        "## GPU version\n",
        "x = x.to(device)      # First operation to 'burn in' GPU\n",
        "_ = torch.matmul(x, x)\n",
        "\n",
        "# MPS and CUDA are asynchronous, so we need to use different timing functions\n",
        "\n",
        "start = torch.cuda.Event(enable_timing=True)\n",
        "# start = torch.mps.Event(enable_timing=True)\n",
        "\n",
        "end = torch.cuda.Event(enable_timing=True)\n",
        "# end = torch.mps.Event(enable_timing=True)\n",
        "\n",
        "start.record()\n",
        "_ = torch.matmul(x, x)\n",
        "end.record()\n",
        "\n",
        "torch.cuda.synchronize()\n",
        "# torch.mps.synchronize()  # Waits for everything to finish running on the GPU\n",
        "\n",
        "print(f\"GPU time: {0.001 * start.elapsed_time(end):6.5f}s\")  # Milliseconds to seconds"
      ]
    },
    {
      "cell_type": "markdown",
      "metadata": {
        "id": "UVL4qvkdARJi"
      },
      "source": [
        "Depending on the size of the operation and the CPU/GPU in your system, the speedup of this operation can be >50x. As `matmul` operations are very common in neural networks, we can already see the great benefit of training a NN on a GPU. The time estimate can be relatively noisy here because we haven't run it for multiple times. Feel free to extend this, but it also takes longer to run.\n",
        "\n"
      ]
    },
    {
      "cell_type": "markdown",
      "metadata": {
        "id": "sVFuTWdkFYtt"
      },
      "source": [
        "### Training reproductibility\n",
        "\n",
        "When generating random numbers, the seed between CPU and GPU is not synchronized. Hence, we need to set the seed on the GPU separately to ensure a reproducible code. Note that due to different GPU architectures, running the same code on different GPUs does not guarantee the same random numbers. Still, we don't want that our code gives us a different output every time we run it on the exact same hardware. Hence, we also set the seed on the GPU:"
      ]
    },
    {
      "cell_type": "code",
      "execution_count": null,
      "metadata": {
        "id": "XM3hcPGwARJi"
      },
      "outputs": [],
      "source": [
        "seed = 42\n",
        "\n",
        "np.random.seed(seed)\n",
        "torch.manual_seed(seed)\n",
        "\n",
        "# if torch.mps.is_available:\n",
        "#     torch.mps.manual_seed(seed)\n",
        "\n",
        "if torch.cuda.is_available:\n",
        "    torch.cuda.manual_seed(seed)\n",
        "    torch.cuda.manual_seed_all(seed)\n"
      ]
    },
    {
      "cell_type": "markdown",
      "metadata": {
        "id": "TuYW-i8GARJi"
      },
      "source": [
        "\n",
        "## Learning by example: Continuous XOR\n",
        "\n",
        "If we want to build a neural network in PyTorch, we could specify all our parameters (weight matrices, bias vectors) using `Tensors`, ask PyTorch to calculate the gradients and then adjust the parameters. But things can quickly get cumbersome if we have a lot of parameters. In PyTorch, there is a package called `torch.nn` that makes building neural networks more convenient.\n",
        "\n",
        "We will introduce the libraries and all additional parts you might need to train a neural network in PyTorch, using a simple example classifier on a simple yet well known example: XOR. Given two binary inputs $x_1$ and $x_2$, the label to predict is $1$ if either $x_1$ or $x_2$ is $1$ while the other is $0$, or the label is $0$ in all other cases. The example became famous by the fact that a single neuron, i.e. a linear classifier, cannot learn this simple function.\n",
        "Hence, we will learn how to build a small neural network that can learn this function.\n",
        "To make it a little bit more interesting, we move the XOR into continuous space and introduce some gaussian noise on the binary inputs. Our desired separation of an XOR dataset could look as follows:\n",
        "\n",
        "\n",
        "<center style=\"width: 100%\"><img src=\"https://drive.google.com/uc?export=view&id=1iAZvQJeQdlJbi7mAatNWFVYy-ZBi8NVg\" width=\"500px\"></center>"
      ]
    },
    {
      "cell_type": "markdown",
      "metadata": {
        "id": "qqaQkgsWARJi"
      },
      "source": [
        "### The model\n",
        "\n",
        "The package `torch.nn` defines a series of useful classes like linear networks layers, activation functions, loss functions etc. A full list can be found [here](https://pytorch.org/docs/stable/nn.html). In case you need a certain network layer, check the documentation of the package first before writing the layer yourself as the package likely contains the code for it already. We import it below:"
      ]
    },
    {
      "cell_type": "code",
      "execution_count": null,
      "metadata": {
        "id": "3DAZLbZOARJi"
      },
      "outputs": [],
      "source": [
        "import torch.nn as nn"
      ]
    },
    {
      "cell_type": "markdown",
      "metadata": {
        "id": "ZteWE0HFARJi"
      },
      "source": [
        "Additionally to `torch.nn`, there is also `torch.nn.functional`. It contains functions that are used in network layers. This is in contrast to `torch.nn` which defines them as `nn.Modules` (more on it below), and `torch.nn` actually uses a lot of functionalities from `torch.nn.functional`. Hence, the functional package is useful in many situations, and so we import it as well here."
      ]
    },
    {
      "cell_type": "code",
      "execution_count": null,
      "metadata": {
        "id": "XomdosUoARJi"
      },
      "outputs": [],
      "source": [
        "import torch.nn.functional as F"
      ]
    },
    {
      "cell_type": "markdown",
      "metadata": {
        "id": "sCPDYMb5ARJi"
      },
      "source": [
        "#### nn.Module\n",
        "\n",
        "In PyTorch, a neural network is built up out of modules. Modules can contain other modules, and a neural network is considered to be a module itself as well. The basic template of a module is as follows:"
      ]
    },
    {
      "cell_type": "code",
      "execution_count": null,
      "metadata": {
        "id": "iM8DrQdgARJi"
      },
      "outputs": [],
      "source": [
        "class MyModule(nn.Module):\n",
        "\n",
        "    def __init__(self):\n",
        "        super().__init__()\n",
        "        # Some init for my module\n",
        "\n",
        "    def forward(self, x):\n",
        "        # Function for performing the calculation of the module.\n",
        "        pass"
      ]
    },
    {
      "cell_type": "markdown",
      "metadata": {
        "id": "mGfjDa0MARJi"
      },
      "source": [
        "The forward function is where the computation of the module is taken place, and is executed when you call the module (`nn = MyModule(); nn(x)`). In the init function, we usually create the parameters of the module, using `nn.Parameter`, or defining other modules that are used in the forward function. The backward calculation is done automatically, but could be overwritten as well if wanted.\n",
        "\n",
        "#### Simple classifier\n",
        "We can now make use of the pre-defined modules in the `torch.nn` package, and define our own small neural network. We will use a minimal network with a input layer, one hidden layer with tanh as activation function, and a output layer. In other words, our networks should look something like this:\n",
        "\n",
        "<center width=\"100%\"><img src=\"https://drive.google.com/uc?export=view&id=1lwO0wYNWRzkyw0cMZSZclZW7L-3gHF7S\" width=\"500px\"></center>\n",
        "\n",
        "The input neurons are shown in blue, which represent the coordinates $x_1$ and $x_2$ of a data point. The hidden neurons including a tanh activation are shown in white, and the output neuron in red.\n",
        "In PyTorch, we can define this as follows:"
      ]
    },
    {
      "cell_type": "code",
      "execution_count": null,
      "metadata": {
        "id": "tt5zHUV7ARJi"
      },
      "outputs": [],
      "source": [
        "class SimpleClassifier(nn.Module):\n",
        "\n",
        "    def __init__(self, n_inputs, n_hidden, n_outputs):\n",
        "        super().__init__()\n",
        "        # Initialize the modules we need to build the network\n",
        "        self.linear1 = nn.Linear(n_inputs, n_hidden)\n",
        "        self.act_fn = nn.Tanh()\n",
        "        self.linear2 = nn.Linear(n_hidden, n_outputs)\n",
        "\n",
        "    def forward(self, x):\n",
        "        # Perform the calculation of the model to determine the prediction\n",
        "        x = self.linear1(x)\n",
        "        x = self.act_fn(x)\n",
        "        x = self.linear2(x)\n",
        "        return x"
      ]
    },
    {
      "cell_type": "markdown",
      "metadata": {
        "id": "qIlObM5-ARJi"
      },
      "source": [
        "For the examples in this notebook, we will use a tiny neural network with two input neurons and four hidden neurons. As we perform binary classification, we will use a single output neuron.\n",
        "\n",
        "Note that we **do not apply a sigmoid on the output.** We will discuss later why.\n"
      ]
    },
    {
      "cell_type": "code",
      "execution_count": null,
      "metadata": {
        "colab": {
          "base_uri": "https://localhost:8080/"
        },
        "id": "ReKi2_2_ARJi",
        "outputId": "eef913e2-dcc5-4cc6-846c-ffd69ae2a94e"
      },
      "outputs": [
        {
          "output_type": "stream",
          "name": "stdout",
          "text": [
            "SimpleClassifier(\n",
            "  (linear1): Linear(in_features=2, out_features=4, bias=True)\n",
            "  (act_fn): Tanh()\n",
            "  (linear2): Linear(in_features=4, out_features=1, bias=True)\n",
            ")\n"
          ]
        }
      ],
      "source": [
        "model = SimpleClassifier(n_inputs=2, n_hidden=4, n_outputs=1)\n",
        "# Printing a module shows all its submodules\n",
        "print(model)"
      ]
    },
    {
      "cell_type": "markdown",
      "metadata": {
        "id": "z5SLSezlARJi"
      },
      "source": [
        "Printing the model lists all submodules it contains. The parameters of a module can be obtained by using its `parameters()` functions, or `named_parameters()` to get a name to each parameter object. For our small neural network, we have the following parameters:"
      ]
    },
    {
      "cell_type": "code",
      "execution_count": null,
      "metadata": {
        "colab": {
          "base_uri": "https://localhost:8080/"
        },
        "id": "HhcZxFhXARJi",
        "outputId": "9ee8cb8f-d369-4e08-f84a-96fd1a9dba93"
      },
      "outputs": [
        {
          "output_type": "stream",
          "name": "stdout",
          "text": [
            "Parameter linear1.weight, shape torch.Size([4, 2])\n",
            "Parameter linear1.bias, shape torch.Size([4])\n",
            "Parameter linear2.weight, shape torch.Size([1, 4])\n",
            "Parameter linear2.bias, shape torch.Size([1])\n"
          ]
        }
      ],
      "source": [
        "for name, param in model.named_parameters():\n",
        "    print(f\"Parameter {name}, shape {param.shape}\")"
      ]
    },
    {
      "cell_type": "markdown",
      "metadata": {
        "id": "SizM4Au_ARJj"
      },
      "source": [
        "Each linear layer has a weight matrix of the shape `[output, input]`, and a bias of the shape `[output]`. The tanh activation function does not have any parameters. Note that parameters are only registered for `nn.Module` objects that are direct object attributes, i.e. `self.a = ...`. If you define a list of modules, the parameters of those are not registered for the outer module and can cause some issues when you try to optimize your module. There are alternatives, like `nn.ModuleList`, `nn.ModuleDict` and `nn.Sequential`, that allow you to have different data structures of modules."
      ]
    },
    {
      "cell_type": "markdown",
      "metadata": {
        "id": "eTLMUEkhARJj"
      },
      "source": [
        "### The data\n",
        "\n",
        "PyTorch also provides a few functionalities to load the training and test data efficiently, summarized in the package `torch.utils.data`."
      ]
    },
    {
      "cell_type": "code",
      "execution_count": null,
      "metadata": {
        "id": "rF7zl6d9ARJj"
      },
      "outputs": [],
      "source": [
        "import torch.utils.data as data"
      ]
    },
    {
      "cell_type": "markdown",
      "metadata": {
        "id": "cN6uQ8dNARJj"
      },
      "source": [
        "The data package defines two classes which are the standard interface for handling data in PyTorch: `data.Dataset`, and `data.DataLoader`. The dataset class provides an uniform interface to access the training/test data, while the data loader makes sure to efficiently load and stack the data points from the dataset into batches during training."
      ]
    },
    {
      "cell_type": "markdown",
      "metadata": {
        "id": "axIfSD5HARJj"
      },
      "source": [
        "#### The dataset class\n",
        "\n",
        "The dataset class summarizes the basic functionality of a dataset in a natural way. To define a dataset in PyTorch, we simply specify two functions: `__getitem__`, and `__len__`. The get-item function has to return the $i$-th data point in the dataset, while the len function returns the size of the dataset. For the XOR dataset, we can define the dataset class as follows:"
      ]
    },
    {
      "cell_type": "code",
      "execution_count": null,
      "metadata": {
        "id": "XhUE7ECFARJj"
      },
      "outputs": [],
      "source": [
        "class XORDataset(data.Dataset):\n",
        "\n",
        "    def __init__(self, size, std=0.1):\n",
        "        \"\"\"\n",
        "        Inputs:\n",
        "            size - Number of data points we want to generate\n",
        "            std - Standard deviation of the noise (see generate_continuous_xor function)\n",
        "        \"\"\"\n",
        "        super().__init__()\n",
        "        self.size = size\n",
        "        self.std = std\n",
        "        self.generate_continuous_xor()\n",
        "\n",
        "    def generate_continuous_xor(self):\n",
        "        # Each data point in the XOR dataset has two variables, x and y, that can be either 0 or 1\n",
        "        # The label is their XOR combination, i.e. 1 if only x or only y is 1 while the other is 0.\n",
        "        # If x=y, the label is 0.\n",
        "        data = torch.randint(low=0, high=2, size=(self.size, 2), dtype=torch.float32)\n",
        "        label = (data.sum(dim=1) == 1).to(torch.long)\n",
        "        # To make it slightly more challenging, we add a bit of gaussian noise to the data points.\n",
        "        data += self.std * torch.randn(data.shape)\n",
        "\n",
        "        self.data = data\n",
        "        self.label = label\n",
        "\n",
        "    def __len__(self):\n",
        "        # Number of data point we have. Alternatively self.data.shape[0], or self.label.shape[0]\n",
        "        return self.size\n",
        "\n",
        "    def __getitem__(self, idx):\n",
        "        # Return the idx-th data point of the dataset\n",
        "        # If we have multiple things to return (data point and label), we can return them as tuple\n",
        "        data_point = self.data[idx]\n",
        "        data_label = self.label[idx]\n",
        "        return data_point, data_label"
      ]
    },
    {
      "cell_type": "markdown",
      "metadata": {
        "id": "ND_PiwOiARJj"
      },
      "source": [
        "Let's try to create such a dataset and inspect it:"
      ]
    },
    {
      "cell_type": "code",
      "execution_count": null,
      "metadata": {
        "colab": {
          "base_uri": "https://localhost:8080/"
        },
        "id": "SoCHcL8TARJj",
        "outputId": "1866c6d4-006b-4318-b7c0-b2e3827ef51f"
      },
      "outputs": [
        {
          "output_type": "stream",
          "name": "stdout",
          "text": [
            "Size of dataset: 200\n",
            "Data point 0: (tensor([0.8675, 0.9484]), tensor(0))\n"
          ]
        }
      ],
      "source": [
        "dataset = XORDataset(size=200)\n",
        "print(\"Size of dataset:\", len(dataset))\n",
        "print(\"Data point 0:\", dataset[0])"
      ]
    },
    {
      "cell_type": "markdown",
      "metadata": {
        "id": "Ic2r-RSiARJj"
      },
      "source": [
        "To better relate to the dataset, we visualize the samples below."
      ]
    },
    {
      "cell_type": "code",
      "execution_count": null,
      "metadata": {
        "id": "EWrDTetDARJj"
      },
      "outputs": [],
      "source": [
        "def visualize_samples(data, label):\n",
        "    if isinstance(data, torch.Tensor):\n",
        "        data = data.cpu().numpy()\n",
        "    if isinstance(label, torch.Tensor):\n",
        "        label = label.cpu().numpy()\n",
        "    data_0 = data[label == 0]\n",
        "    data_1 = data[label == 1]\n",
        "\n",
        "    plt.figure(figsize=(4,4))\n",
        "    plt.scatter(data_0[:,0], data_0[:,1], edgecolor=\"#333\", label=\"Class 0\")\n",
        "    plt.scatter(data_1[:,0], data_1[:,1], edgecolor=\"#333\", label=\"Class 1\")\n",
        "    plt.title(\"Dataset samples\")\n",
        "    plt.ylabel(r\"$x_2$\")\n",
        "    plt.xlabel(r\"$x_1$\")\n",
        "    plt.legend()"
      ]
    },
    {
      "cell_type": "code",
      "execution_count": null,
      "metadata": {
        "colab": {
          "base_uri": "https://localhost:8080/",
          "height": 397
        },
        "id": "cRwz5hLSARJj",
        "outputId": "bdde6485-ea17-41ed-a3ef-ef81a1dfd913"
      },
      "outputs": [
        {
          "output_type": "display_data",
          "data": {
            "text/plain": [
              "<Figure size 400x400 with 1 Axes>"
            ],
            "image/svg+xml": "<?xml version=\"1.0\" encoding=\"utf-8\" standalone=\"no\"?>\n<!DOCTYPE svg PUBLIC \"-//W3C//DTD SVG 1.1//EN\"\n  \"http://www.w3.org/Graphics/SVG/1.1/DTD/svg11.dtd\">\n<svg xmlns:xlink=\"http://www.w3.org/1999/xlink\" width=\"288.995326pt\" height=\"281.634375pt\" viewBox=\"0 0 288.995326 281.634375\" xmlns=\"http://www.w3.org/2000/svg\" version=\"1.1\">\n <metadata>\n  <rdf:RDF xmlns:dc=\"http://purl.org/dc/elements/1.1/\" xmlns:cc=\"http://creativecommons.org/ns#\" xmlns:rdf=\"http://www.w3.org/1999/02/22-rdf-syntax-ns#\">\n   <cc:Work>\n    <dc:type rdf:resource=\"http://purl.org/dc/dcmitype/StillImage\"/>\n    <dc:date>2024-12-04T21:22:39.390908</dc:date>\n    <dc:format>image/svg+xml</dc:format>\n    <dc:creator>\n     <cc:Agent>\n      <dc:title>Matplotlib v3.8.0, https://matplotlib.org/</dc:title>\n     </cc:Agent>\n    </dc:creator>\n   </cc:Work>\n  </rdf:RDF>\n </metadata>\n <defs>\n  <style type=\"text/css\">*{stroke-linejoin: round; stroke-linecap: butt}</style>\n </defs>\n <g id=\"figure_1\">\n  <g id=\"patch_1\">\n   <path d=\"M 0 281.634375 \nL 288.995326 281.634375 \nL 288.995326 0 \nL 0 0 \nz\n\" style=\"fill: #ffffff\"/>\n  </g>\n  <g id=\"axes_1\">\n   <g id=\"patch_2\">\n    <path d=\"M 52.160938 244.078125 \nL 275.360937 244.078125 \nL 275.360937 22.318125 \nL 52.160938 22.318125 \nz\n\" style=\"fill: #ffffff\"/>\n   </g>\n   <g id=\"PathCollection_1\">\n    <defs>\n     <path id=\"m4d838373d7\" d=\"M 0 3 \nC 0.795609 3 1.55874 2.683901 2.12132 2.12132 \nC 2.683901 1.55874 3 0.795609 3 0 \nC 3 -0.795609 2.683901 -1.55874 2.12132 -2.12132 \nC 1.55874 -2.683901 0.795609 -3 0 -3 \nC -0.795609 -3 -1.55874 -2.683901 -2.12132 -2.12132 \nC -2.683901 -1.55874 -3 -0.795609 -3 0 \nC -3 0.795609 -2.683901 1.55874 -2.12132 2.12132 \nC -1.55874 2.683901 -0.795609 3 0 3 \nz\n\" style=\"stroke: #333333\"/>\n    </defs>\n    <g clip-path=\"url(#p06de6f3aec)\">\n     <use xlink:href=\"#m4d838373d7\" x=\"219.58594\" y=\"77.060052\" style=\"fill: #1f77b4; stroke: #333333\"/>\n     <use xlink:href=\"#m4d838373d7\" x=\"215.297044\" y=\"79.458968\" style=\"fill: #1f77b4; stroke: #333333\"/>\n     <use xlink:href=\"#m4d838373d7\" x=\"227.389072\" y=\"65.989887\" style=\"fill: #1f77b4; stroke: #333333\"/>\n     <use xlink:href=\"#m4d838373d7\" x=\"239.165984\" y=\"56.383895\" style=\"fill: #1f77b4; stroke: #333333\"/>\n     <use xlink:href=\"#m4d838373d7\" x=\"252.454769\" y=\"76.336913\" style=\"fill: #1f77b4; stroke: #333333\"/>\n     <use xlink:href=\"#m4d838373d7\" x=\"103.088102\" y=\"194.583915\" style=\"fill: #1f77b4; stroke: #333333\"/>\n     <use xlink:href=\"#m4d838373d7\" x=\"117.656457\" y=\"193.892149\" style=\"fill: #1f77b4; stroke: #333333\"/>\n     <use xlink:href=\"#m4d838373d7\" x=\"221.647622\" y=\"71.555436\" style=\"fill: #1f77b4; stroke: #333333\"/>\n     <use xlink:href=\"#m4d838373d7\" x=\"253.160716\" y=\"60.038424\" style=\"fill: #1f77b4; stroke: #333333\"/>\n     <use xlink:href=\"#m4d838373d7\" x=\"248.314465\" y=\"75.04059\" style=\"fill: #1f77b4; stroke: #333333\"/>\n     <use xlink:href=\"#m4d838373d7\" x=\"102.114244\" y=\"209.936466\" style=\"fill: #1f77b4; stroke: #333333\"/>\n     <use xlink:href=\"#m4d838373d7\" x=\"105.240749\" y=\"202.468417\" style=\"fill: #1f77b4; stroke: #333333\"/>\n     <use xlink:href=\"#m4d838373d7\" x=\"91.40371\" y=\"220.321587\" style=\"fill: #1f77b4; stroke: #333333\"/>\n     <use xlink:href=\"#m4d838373d7\" x=\"118.231689\" y=\"215.210069\" style=\"fill: #1f77b4; stroke: #333333\"/>\n     <use xlink:href=\"#m4d838373d7\" x=\"228.144968\" y=\"69.299324\" style=\"fill: #1f77b4; stroke: #333333\"/>\n     <use xlink:href=\"#m4d838373d7\" x=\"253.247306\" y=\"87.593062\" style=\"fill: #1f77b4; stroke: #333333\"/>\n     <use xlink:href=\"#m4d838373d7\" x=\"227.694627\" y=\"32.398125\" style=\"fill: #1f77b4; stroke: #333333\"/>\n     <use xlink:href=\"#m4d838373d7\" x=\"236.301098\" y=\"77.484974\" style=\"fill: #1f77b4; stroke: #333333\"/>\n     <use xlink:href=\"#m4d838373d7\" x=\"222.016994\" y=\"76.162428\" style=\"fill: #1f77b4; stroke: #333333\"/>\n     <use xlink:href=\"#m4d838373d7\" x=\"236.868835\" y=\"65.073326\" style=\"fill: #1f77b4; stroke: #333333\"/>\n     <use xlink:href=\"#m4d838373d7\" x=\"236.677657\" y=\"101.002109\" style=\"fill: #1f77b4; stroke: #333333\"/>\n     <use xlink:href=\"#m4d838373d7\" x=\"232.849396\" y=\"61.520779\" style=\"fill: #1f77b4; stroke: #333333\"/>\n     <use xlink:href=\"#m4d838373d7\" x=\"104.99583\" y=\"213.530254\" style=\"fill: #1f77b4; stroke: #333333\"/>\n     <use xlink:href=\"#m4d838373d7\" x=\"228.631934\" y=\"87.274542\" style=\"fill: #1f77b4; stroke: #333333\"/>\n     <use xlink:href=\"#m4d838373d7\" x=\"263.521611\" y=\"85.865603\" style=\"fill: #1f77b4; stroke: #333333\"/>\n     <use xlink:href=\"#m4d838373d7\" x=\"202.996558\" y=\"60.71944\" style=\"fill: #1f77b4; stroke: #333333\"/>\n     <use xlink:href=\"#m4d838373d7\" x=\"248.224372\" y=\"61.894844\" style=\"fill: #1f77b4; stroke: #333333\"/>\n     <use xlink:href=\"#m4d838373d7\" x=\"240.110829\" y=\"79.847972\" style=\"fill: #1f77b4; stroke: #333333\"/>\n     <use xlink:href=\"#m4d838373d7\" x=\"98.563907\" y=\"227.369769\" style=\"fill: #1f77b4; stroke: #333333\"/>\n     <use xlink:href=\"#m4d838373d7\" x=\"238.521457\" y=\"95.713458\" style=\"fill: #1f77b4; stroke: #333333\"/>\n     <use xlink:href=\"#m4d838373d7\" x=\"220.018076\" y=\"59.964444\" style=\"fill: #1f77b4; stroke: #333333\"/>\n     <use xlink:href=\"#m4d838373d7\" x=\"112.346864\" y=\"198.78666\" style=\"fill: #1f77b4; stroke: #333333\"/>\n     <use xlink:href=\"#m4d838373d7\" x=\"68.37104\" y=\"222.928438\" style=\"fill: #1f77b4; stroke: #333333\"/>\n     <use xlink:href=\"#m4d838373d7\" x=\"90.757004\" y=\"200.277351\" style=\"fill: #1f77b4; stroke: #333333\"/>\n     <use xlink:href=\"#m4d838373d7\" x=\"101.336382\" y=\"187.508449\" style=\"fill: #1f77b4; stroke: #333333\"/>\n     <use xlink:href=\"#m4d838373d7\" x=\"229.160586\" y=\"70.783204\" style=\"fill: #1f77b4; stroke: #333333\"/>\n     <use xlink:href=\"#m4d838373d7\" x=\"102.053635\" y=\"221.705628\" style=\"fill: #1f77b4; stroke: #333333\"/>\n     <use xlink:href=\"#m4d838373d7\" x=\"118.574811\" y=\"211.79992\" style=\"fill: #1f77b4; stroke: #333333\"/>\n     <use xlink:href=\"#m4d838373d7\" x=\"125.673796\" y=\"196.614334\" style=\"fill: #1f77b4; stroke: #333333\"/>\n     <use xlink:href=\"#m4d838373d7\" x=\"86.99277\" y=\"188.580519\" style=\"fill: #1f77b4; stroke: #333333\"/>\n     <use xlink:href=\"#m4d838373d7\" x=\"242.354328\" y=\"67.527039\" style=\"fill: #1f77b4; stroke: #333333\"/>\n     <use xlink:href=\"#m4d838373d7\" x=\"97.717\" y=\"205.814975\" style=\"fill: #1f77b4; stroke: #333333\"/>\n     <use xlink:href=\"#m4d838373d7\" x=\"245.960655\" y=\"54.631842\" style=\"fill: #1f77b4; stroke: #333333\"/>\n     <use xlink:href=\"#m4d838373d7\" x=\"103.953856\" y=\"196.396673\" style=\"fill: #1f77b4; stroke: #333333\"/>\n     <use xlink:href=\"#m4d838373d7\" x=\"229.215463\" y=\"72.502971\" style=\"fill: #1f77b4; stroke: #333333\"/>\n     <use xlink:href=\"#m4d838373d7\" x=\"88.758292\" y=\"200.888744\" style=\"fill: #1f77b4; stroke: #333333\"/>\n     <use xlink:href=\"#m4d838373d7\" x=\"93.290671\" y=\"227.359133\" style=\"fill: #1f77b4; stroke: #333333\"/>\n     <use xlink:href=\"#m4d838373d7\" x=\"132.905612\" y=\"190.469862\" style=\"fill: #1f77b4; stroke: #333333\"/>\n     <use xlink:href=\"#m4d838373d7\" x=\"104.180337\" y=\"207.660387\" style=\"fill: #1f77b4; stroke: #333333\"/>\n     <use xlink:href=\"#m4d838373d7\" x=\"90.984403\" y=\"191.51537\" style=\"fill: #1f77b4; stroke: #333333\"/>\n     <use xlink:href=\"#m4d838373d7\" x=\"104.866323\" y=\"193.523176\" style=\"fill: #1f77b4; stroke: #333333\"/>\n     <use xlink:href=\"#m4d838373d7\" x=\"235.091215\" y=\"82.292412\" style=\"fill: #1f77b4; stroke: #333333\"/>\n     <use xlink:href=\"#m4d838373d7\" x=\"88.858988\" y=\"196.487164\" style=\"fill: #1f77b4; stroke: #333333\"/>\n     <use xlink:href=\"#m4d838373d7\" x=\"245.646566\" y=\"76.81382\" style=\"fill: #1f77b4; stroke: #333333\"/>\n     <use xlink:href=\"#m4d838373d7\" x=\"134.789658\" y=\"215.767364\" style=\"fill: #1f77b4; stroke: #333333\"/>\n     <use xlink:href=\"#m4d838373d7\" x=\"112.623502\" y=\"209.366458\" style=\"fill: #1f77b4; stroke: #333333\"/>\n     <use xlink:href=\"#m4d838373d7\" x=\"72.771864\" y=\"186.237958\" style=\"fill: #1f77b4; stroke: #333333\"/>\n     <use xlink:href=\"#m4d838373d7\" x=\"102.678137\" y=\"197.750389\" style=\"fill: #1f77b4; stroke: #333333\"/>\n     <use xlink:href=\"#m4d838373d7\" x=\"253.023803\" y=\"69.072996\" style=\"fill: #1f77b4; stroke: #333333\"/>\n     <use xlink:href=\"#m4d838373d7\" x=\"229.547987\" y=\"86.576879\" style=\"fill: #1f77b4; stroke: #333333\"/>\n     <use xlink:href=\"#m4d838373d7\" x=\"232.081519\" y=\"59.3463\" style=\"fill: #1f77b4; stroke: #333333\"/>\n     <use xlink:href=\"#m4d838373d7\" x=\"257.282601\" y=\"69.594577\" style=\"fill: #1f77b4; stroke: #333333\"/>\n     <use xlink:href=\"#m4d838373d7\" x=\"244.03973\" y=\"82.415159\" style=\"fill: #1f77b4; stroke: #333333\"/>\n     <use xlink:href=\"#m4d838373d7\" x=\"108.239522\" y=\"201.829758\" style=\"fill: #1f77b4; stroke: #333333\"/>\n     <use xlink:href=\"#m4d838373d7\" x=\"114.085751\" y=\"216.078637\" style=\"fill: #1f77b4; stroke: #333333\"/>\n     <use xlink:href=\"#m4d838373d7\" x=\"101.635765\" y=\"215.106838\" style=\"fill: #1f77b4; stroke: #333333\"/>\n     <use xlink:href=\"#m4d838373d7\" x=\"95.165962\" y=\"196.332792\" style=\"fill: #1f77b4; stroke: #333333\"/>\n     <use xlink:href=\"#m4d838373d7\" x=\"228.057567\" y=\"73.245499\" style=\"fill: #1f77b4; stroke: #333333\"/>\n     <use xlink:href=\"#m4d838373d7\" x=\"74.71729\" y=\"202.328002\" style=\"fill: #1f77b4; stroke: #333333\"/>\n     <use xlink:href=\"#m4d838373d7\" x=\"99.739363\" y=\"183.242069\" style=\"fill: #1f77b4; stroke: #333333\"/>\n     <use xlink:href=\"#m4d838373d7\" x=\"236.040589\" y=\"83.733541\" style=\"fill: #1f77b4; stroke: #333333\"/>\n     <use xlink:href=\"#m4d838373d7\" x=\"214.996448\" y=\"70.445986\" style=\"fill: #1f77b4; stroke: #333333\"/>\n     <use xlink:href=\"#m4d838373d7\" x=\"229.639026\" y=\"44.195236\" style=\"fill: #1f77b4; stroke: #333333\"/>\n     <use xlink:href=\"#m4d838373d7\" x=\"227.778232\" y=\"63.200346\" style=\"fill: #1f77b4; stroke: #333333\"/>\n     <use xlink:href=\"#m4d838373d7\" x=\"100.123952\" y=\"201.856348\" style=\"fill: #1f77b4; stroke: #333333\"/>\n     <use xlink:href=\"#m4d838373d7\" x=\"115.423149\" y=\"200.67563\" style=\"fill: #1f77b4; stroke: #333333\"/>\n     <use xlink:href=\"#m4d838373d7\" x=\"140.202689\" y=\"197.737599\" style=\"fill: #1f77b4; stroke: #333333\"/>\n     <use xlink:href=\"#m4d838373d7\" x=\"233.146481\" y=\"71.467382\" style=\"fill: #1f77b4; stroke: #333333\"/>\n     <use xlink:href=\"#m4d838373d7\" x=\"257.867619\" y=\"90.373791\" style=\"fill: #1f77b4; stroke: #333333\"/>\n     <use xlink:href=\"#m4d838373d7\" x=\"98.133301\" y=\"184.320113\" style=\"fill: #1f77b4; stroke: #333333\"/>\n     <use xlink:href=\"#m4d838373d7\" x=\"144.126559\" y=\"185.549026\" style=\"fill: #1f77b4; stroke: #333333\"/>\n     <use xlink:href=\"#m4d838373d7\" x=\"248.701993\" y=\"90.518613\" style=\"fill: #1f77b4; stroke: #333333\"/>\n     <use xlink:href=\"#m4d838373d7\" x=\"254.376219\" y=\"71.728411\" style=\"fill: #1f77b4; stroke: #333333\"/>\n     <use xlink:href=\"#m4d838373d7\" x=\"255.578764\" y=\"76.591521\" style=\"fill: #1f77b4; stroke: #333333\"/>\n     <use xlink:href=\"#m4d838373d7\" x=\"103.837264\" y=\"208.907784\" style=\"fill: #1f77b4; stroke: #333333\"/>\n     <use xlink:href=\"#m4d838373d7\" x=\"108.799144\" y=\"190.174531\" style=\"fill: #1f77b4; stroke: #333333\"/>\n     <use xlink:href=\"#m4d838373d7\" x=\"254.305375\" y=\"53.243142\" style=\"fill: #1f77b4; stroke: #333333\"/>\n     <use xlink:href=\"#m4d838373d7\" x=\"265.215483\" y=\"59.57695\" style=\"fill: #1f77b4; stroke: #333333\"/>\n     <use xlink:href=\"#m4d838373d7\" x=\"110.818174\" y=\"221.64784\" style=\"fill: #1f77b4; stroke: #333333\"/>\n     <use xlink:href=\"#m4d838373d7\" x=\"263.400841\" y=\"46.602781\" style=\"fill: #1f77b4; stroke: #333333\"/>\n     <use xlink:href=\"#m4d838373d7\" x=\"72.986627\" y=\"195.402629\" style=\"fill: #1f77b4; stroke: #333333\"/>\n     <use xlink:href=\"#m4d838373d7\" x=\"225.931646\" y=\"92.30234\" style=\"fill: #1f77b4; stroke: #333333\"/>\n     <use xlink:href=\"#m4d838373d7\" x=\"114.389434\" y=\"178.313058\" style=\"fill: #1f77b4; stroke: #333333\"/>\n     <use xlink:href=\"#m4d838373d7\" x=\"218.153819\" y=\"78.273837\" style=\"fill: #1f77b4; stroke: #333333\"/>\n     <use xlink:href=\"#m4d838373d7\" x=\"232.122856\" y=\"69.52519\" style=\"fill: #1f77b4; stroke: #333333\"/>\n     <use xlink:href=\"#m4d838373d7\" x=\"247.54896\" y=\"80.403786\" style=\"fill: #1f77b4; stroke: #333333\"/>\n     <use xlink:href=\"#m4d838373d7\" x=\"91.047487\" y=\"195.722653\" style=\"fill: #1f77b4; stroke: #333333\"/>\n     <use xlink:href=\"#m4d838373d7\" x=\"121.696345\" y=\"201.806217\" style=\"fill: #1f77b4; stroke: #333333\"/>\n     <use xlink:href=\"#m4d838373d7\" x=\"70.980784\" y=\"197.951294\" style=\"fill: #1f77b4; stroke: #333333\"/>\n     <use xlink:href=\"#m4d838373d7\" x=\"241.920838\" y=\"60.311953\" style=\"fill: #1f77b4; stroke: #333333\"/>\n     <use xlink:href=\"#m4d838373d7\" x=\"256.188585\" y=\"61.068919\" style=\"fill: #1f77b4; stroke: #333333\"/>\n     <use xlink:href=\"#m4d838373d7\" x=\"234.881769\" y=\"67.519331\" style=\"fill: #1f77b4; stroke: #333333\"/>\n     <use xlink:href=\"#m4d838373d7\" x=\"220.63288\" y=\"64.800227\" style=\"fill: #1f77b4; stroke: #333333\"/>\n     <use xlink:href=\"#m4d838373d7\" x=\"223.919411\" y=\"79.40471\" style=\"fill: #1f77b4; stroke: #333333\"/>\n     <use xlink:href=\"#m4d838373d7\" x=\"97.424343\" y=\"220.687345\" style=\"fill: #1f77b4; stroke: #333333\"/>\n     <use xlink:href=\"#m4d838373d7\" x=\"118.101184\" y=\"233.998125\" style=\"fill: #1f77b4; stroke: #333333\"/>\n    </g>\n   </g>\n   <g id=\"PathCollection_2\">\n    <defs>\n     <path id=\"meb55f8bf72\" d=\"M 0 3 \nC 0.795609 3 1.55874 2.683901 2.12132 2.12132 \nC 2.683901 1.55874 3 0.795609 3 0 \nC 3 -0.795609 2.683901 -1.55874 2.12132 -2.12132 \nC 1.55874 -2.683901 0.795609 -3 0 -3 \nC -0.795609 -3 -1.55874 -2.683901 -2.12132 -2.12132 \nC -2.683901 -1.55874 -3 -0.795609 -3 0 \nC -3 0.795609 -2.683901 1.55874 -2.12132 2.12132 \nC -1.55874 2.683901 -0.795609 3 0 3 \nz\n\" style=\"stroke: #333333\"/>\n    </defs>\n    <g clip-path=\"url(#p06de6f3aec)\">\n     <use xlink:href=\"#meb55f8bf72\" x=\"111.743013\" y=\"76.448646\" style=\"fill: #ff7f0e; stroke: #333333\"/>\n     <use xlink:href=\"#meb55f8bf72\" x=\"95.599375\" y=\"70.795608\" style=\"fill: #ff7f0e; stroke: #333333\"/>\n     <use xlink:href=\"#meb55f8bf72\" x=\"228.909605\" y=\"210.364035\" style=\"fill: #ff7f0e; stroke: #333333\"/>\n     <use xlink:href=\"#meb55f8bf72\" x=\"112.946355\" y=\"42.979195\" style=\"fill: #ff7f0e; stroke: #333333\"/>\n     <use xlink:href=\"#meb55f8bf72\" x=\"122.691203\" y=\"58.867581\" style=\"fill: #ff7f0e; stroke: #333333\"/>\n     <use xlink:href=\"#meb55f8bf72\" x=\"86.193714\" y=\"69.675804\" style=\"fill: #ff7f0e; stroke: #333333\"/>\n     <use xlink:href=\"#meb55f8bf72\" x=\"93.760937\" y=\"77.943612\" style=\"fill: #ff7f0e; stroke: #333333\"/>\n     <use xlink:href=\"#meb55f8bf72\" x=\"243.777605\" y=\"216.855748\" style=\"fill: #ff7f0e; stroke: #333333\"/>\n     <use xlink:href=\"#meb55f8bf72\" x=\"237.715563\" y=\"209.218889\" style=\"fill: #ff7f0e; stroke: #333333\"/>\n     <use xlink:href=\"#meb55f8bf72\" x=\"224.163841\" y=\"212.056715\" style=\"fill: #ff7f0e; stroke: #333333\"/>\n     <use xlink:href=\"#meb55f8bf72\" x=\"103.717346\" y=\"68.01925\" style=\"fill: #ff7f0e; stroke: #333333\"/>\n     <use xlink:href=\"#meb55f8bf72\" x=\"218.525801\" y=\"202.226923\" style=\"fill: #ff7f0e; stroke: #333333\"/>\n     <use xlink:href=\"#meb55f8bf72\" x=\"241.358507\" y=\"197.963533\" style=\"fill: #ff7f0e; stroke: #333333\"/>\n     <use xlink:href=\"#meb55f8bf72\" x=\"263.363779\" y=\"176.184526\" style=\"fill: #ff7f0e; stroke: #333333\"/>\n     <use xlink:href=\"#meb55f8bf72\" x=\"222.74503\" y=\"230.798967\" style=\"fill: #ff7f0e; stroke: #333333\"/>\n     <use xlink:href=\"#meb55f8bf72\" x=\"248.644012\" y=\"208.83592\" style=\"fill: #ff7f0e; stroke: #333333\"/>\n     <use xlink:href=\"#meb55f8bf72\" x=\"229.144793\" y=\"210.270755\" style=\"fill: #ff7f0e; stroke: #333333\"/>\n     <use xlink:href=\"#meb55f8bf72\" x=\"95.467874\" y=\"92.137676\" style=\"fill: #ff7f0e; stroke: #333333\"/>\n     <use xlink:href=\"#meb55f8bf72\" x=\"89.889318\" y=\"83.125886\" style=\"fill: #ff7f0e; stroke: #333333\"/>\n     <use xlink:href=\"#meb55f8bf72\" x=\"109.379237\" y=\"74.697889\" style=\"fill: #ff7f0e; stroke: #333333\"/>\n     <use xlink:href=\"#meb55f8bf72\" x=\"110.645104\" y=\"93.456034\" style=\"fill: #ff7f0e; stroke: #333333\"/>\n     <use xlink:href=\"#meb55f8bf72\" x=\"239.852461\" y=\"211.633775\" style=\"fill: #ff7f0e; stroke: #333333\"/>\n     <use xlink:href=\"#meb55f8bf72\" x=\"239.455508\" y=\"183.363787\" style=\"fill: #ff7f0e; stroke: #333333\"/>\n     <use xlink:href=\"#meb55f8bf72\" x=\"91.003595\" y=\"81.415607\" style=\"fill: #ff7f0e; stroke: #333333\"/>\n     <use xlink:href=\"#meb55f8bf72\" x=\"97.53283\" y=\"67.748392\" style=\"fill: #ff7f0e; stroke: #333333\"/>\n     <use xlink:href=\"#meb55f8bf72\" x=\"95.151565\" y=\"79.182054\" style=\"fill: #ff7f0e; stroke: #333333\"/>\n     <use xlink:href=\"#meb55f8bf72\" x=\"97.995576\" y=\"56.710965\" style=\"fill: #ff7f0e; stroke: #333333\"/>\n     <use xlink:href=\"#meb55f8bf72\" x=\"111.88799\" y=\"53.903911\" style=\"fill: #ff7f0e; stroke: #333333\"/>\n     <use xlink:href=\"#meb55f8bf72\" x=\"226.736203\" y=\"205.734352\" style=\"fill: #ff7f0e; stroke: #333333\"/>\n     <use xlink:href=\"#meb55f8bf72\" x=\"260.95729\" y=\"231.115761\" style=\"fill: #ff7f0e; stroke: #333333\"/>\n     <use xlink:href=\"#meb55f8bf72\" x=\"231.766356\" y=\"216.521467\" style=\"fill: #ff7f0e; stroke: #333333\"/>\n     <use xlink:href=\"#meb55f8bf72\" x=\"236.826376\" y=\"214.139196\" style=\"fill: #ff7f0e; stroke: #333333\"/>\n     <use xlink:href=\"#meb55f8bf72\" x=\"138.745892\" y=\"65.259683\" style=\"fill: #ff7f0e; stroke: #333333\"/>\n     <use xlink:href=\"#meb55f8bf72\" x=\"100.574739\" y=\"66.134828\" style=\"fill: #ff7f0e; stroke: #333333\"/>\n     <use xlink:href=\"#meb55f8bf72\" x=\"245.411362\" y=\"200.491521\" style=\"fill: #ff7f0e; stroke: #333333\"/>\n     <use xlink:href=\"#meb55f8bf72\" x=\"100.234421\" y=\"76.049089\" style=\"fill: #ff7f0e; stroke: #333333\"/>\n     <use xlink:href=\"#meb55f8bf72\" x=\"86.537752\" y=\"60.329212\" style=\"fill: #ff7f0e; stroke: #333333\"/>\n     <use xlink:href=\"#meb55f8bf72\" x=\"233.881093\" y=\"219.568838\" style=\"fill: #ff7f0e; stroke: #333333\"/>\n     <use xlink:href=\"#meb55f8bf72\" x=\"241.45554\" y=\"192.764301\" style=\"fill: #ff7f0e; stroke: #333333\"/>\n     <use xlink:href=\"#meb55f8bf72\" x=\"221.250399\" y=\"201.802334\" style=\"fill: #ff7f0e; stroke: #333333\"/>\n     <use xlink:href=\"#meb55f8bf72\" x=\"109.608674\" y=\"61.677195\" style=\"fill: #ff7f0e; stroke: #333333\"/>\n     <use xlink:href=\"#meb55f8bf72\" x=\"105.861625\" y=\"46.585363\" style=\"fill: #ff7f0e; stroke: #333333\"/>\n     <use xlink:href=\"#meb55f8bf72\" x=\"106.701432\" y=\"87.409312\" style=\"fill: #ff7f0e; stroke: #333333\"/>\n     <use xlink:href=\"#meb55f8bf72\" x=\"125.748949\" y=\"48.841467\" style=\"fill: #ff7f0e; stroke: #333333\"/>\n     <use xlink:href=\"#meb55f8bf72\" x=\"108.646956\" y=\"59.997056\" style=\"fill: #ff7f0e; stroke: #333333\"/>\n     <use xlink:href=\"#meb55f8bf72\" x=\"244.198788\" y=\"212.849661\" style=\"fill: #ff7f0e; stroke: #333333\"/>\n     <use xlink:href=\"#meb55f8bf72\" x=\"231.501723\" y=\"201.610838\" style=\"fill: #ff7f0e; stroke: #333333\"/>\n     <use xlink:href=\"#meb55f8bf72\" x=\"104.677253\" y=\"62.669325\" style=\"fill: #ff7f0e; stroke: #333333\"/>\n     <use xlink:href=\"#meb55f8bf72\" x=\"256.564173\" y=\"200.403626\" style=\"fill: #ff7f0e; stroke: #333333\"/>\n     <use xlink:href=\"#meb55f8bf72\" x=\"103.214489\" y=\"44.665531\" style=\"fill: #ff7f0e; stroke: #333333\"/>\n     <use xlink:href=\"#meb55f8bf72\" x=\"227.097176\" y=\"219.369181\" style=\"fill: #ff7f0e; stroke: #333333\"/>\n     <use xlink:href=\"#meb55f8bf72\" x=\"107.070788\" y=\"88.325555\" style=\"fill: #ff7f0e; stroke: #333333\"/>\n     <use xlink:href=\"#meb55f8bf72\" x=\"127.79079\" y=\"71.170897\" style=\"fill: #ff7f0e; stroke: #333333\"/>\n     <use xlink:href=\"#meb55f8bf72\" x=\"251.882806\" y=\"205.066388\" style=\"fill: #ff7f0e; stroke: #333333\"/>\n     <use xlink:href=\"#meb55f8bf72\" x=\"237.173037\" y=\"210.405745\" style=\"fill: #ff7f0e; stroke: #333333\"/>\n     <use xlink:href=\"#meb55f8bf72\" x=\"114.939592\" y=\"69.39959\" style=\"fill: #ff7f0e; stroke: #333333\"/>\n     <use xlink:href=\"#meb55f8bf72\" x=\"217.001017\" y=\"201.647484\" style=\"fill: #ff7f0e; stroke: #333333\"/>\n     <use xlink:href=\"#meb55f8bf72\" x=\"221.520142\" y=\"210.55933\" style=\"fill: #ff7f0e; stroke: #333333\"/>\n     <use xlink:href=\"#meb55f8bf72\" x=\"250.129743\" y=\"199.771578\" style=\"fill: #ff7f0e; stroke: #333333\"/>\n     <use xlink:href=\"#meb55f8bf72\" x=\"80.883649\" y=\"59.00135\" style=\"fill: #ff7f0e; stroke: #333333\"/>\n     <use xlink:href=\"#meb55f8bf72\" x=\"247.149985\" y=\"199.856036\" style=\"fill: #ff7f0e; stroke: #333333\"/>\n     <use xlink:href=\"#meb55f8bf72\" x=\"227.835815\" y=\"220.187634\" style=\"fill: #ff7f0e; stroke: #333333\"/>\n     <use xlink:href=\"#meb55f8bf72\" x=\"109.684671\" y=\"49.876126\" style=\"fill: #ff7f0e; stroke: #333333\"/>\n     <use xlink:href=\"#meb55f8bf72\" x=\"90.501603\" y=\"86.387653\" style=\"fill: #ff7f0e; stroke: #333333\"/>\n     <use xlink:href=\"#meb55f8bf72\" x=\"227.779147\" y=\"208.157464\" style=\"fill: #ff7f0e; stroke: #333333\"/>\n     <use xlink:href=\"#meb55f8bf72\" x=\"105.110034\" y=\"59.127331\" style=\"fill: #ff7f0e; stroke: #333333\"/>\n     <use xlink:href=\"#meb55f8bf72\" x=\"241.005334\" y=\"201.0113\" style=\"fill: #ff7f0e; stroke: #333333\"/>\n     <use xlink:href=\"#meb55f8bf72\" x=\"108.4648\" y=\"68.51615\" style=\"fill: #ff7f0e; stroke: #333333\"/>\n     <use xlink:href=\"#meb55f8bf72\" x=\"260.543\" y=\"220.374943\" style=\"fill: #ff7f0e; stroke: #333333\"/>\n     <use xlink:href=\"#meb55f8bf72\" x=\"108.924839\" y=\"65.608686\" style=\"fill: #ff7f0e; stroke: #333333\"/>\n     <use xlink:href=\"#meb55f8bf72\" x=\"84.242195\" y=\"90.092793\" style=\"fill: #ff7f0e; stroke: #333333\"/>\n     <use xlink:href=\"#meb55f8bf72\" x=\"234.318992\" y=\"201.884165\" style=\"fill: #ff7f0e; stroke: #333333\"/>\n     <use xlink:href=\"#meb55f8bf72\" x=\"102.696084\" y=\"57.038799\" style=\"fill: #ff7f0e; stroke: #333333\"/>\n     <use xlink:href=\"#meb55f8bf72\" x=\"254.347452\" y=\"199.655411\" style=\"fill: #ff7f0e; stroke: #333333\"/>\n     <use xlink:href=\"#meb55f8bf72\" x=\"248.881524\" y=\"214.291739\" style=\"fill: #ff7f0e; stroke: #333333\"/>\n     <use xlink:href=\"#meb55f8bf72\" x=\"218.180063\" y=\"205.471465\" style=\"fill: #ff7f0e; stroke: #333333\"/>\n     <use xlink:href=\"#meb55f8bf72\" x=\"90.56255\" y=\"86.672139\" style=\"fill: #ff7f0e; stroke: #333333\"/>\n     <use xlink:href=\"#meb55f8bf72\" x=\"107.818125\" y=\"54.421105\" style=\"fill: #ff7f0e; stroke: #333333\"/>\n     <use xlink:href=\"#meb55f8bf72\" x=\"241.629563\" y=\"208.688968\" style=\"fill: #ff7f0e; stroke: #333333\"/>\n     <use xlink:href=\"#meb55f8bf72\" x=\"141.847324\" y=\"65.768152\" style=\"fill: #ff7f0e; stroke: #333333\"/>\n     <use xlink:href=\"#meb55f8bf72\" x=\"245.201121\" y=\"202.568357\" style=\"fill: #ff7f0e; stroke: #333333\"/>\n     <use xlink:href=\"#meb55f8bf72\" x=\"82.314161\" y=\"75.910053\" style=\"fill: #ff7f0e; stroke: #333333\"/>\n     <use xlink:href=\"#meb55f8bf72\" x=\"244.970024\" y=\"194.392474\" style=\"fill: #ff7f0e; stroke: #333333\"/>\n     <use xlink:href=\"#meb55f8bf72\" x=\"62.306392\" y=\"89.627067\" style=\"fill: #ff7f0e; stroke: #333333\"/>\n     <use xlink:href=\"#meb55f8bf72\" x=\"233.806801\" y=\"213.082723\" style=\"fill: #ff7f0e; stroke: #333333\"/>\n     <use xlink:href=\"#meb55f8bf72\" x=\"92.761038\" y=\"76.457284\" style=\"fill: #ff7f0e; stroke: #333333\"/>\n     <use xlink:href=\"#meb55f8bf72\" x=\"111.762484\" y=\"73.946151\" style=\"fill: #ff7f0e; stroke: #333333\"/>\n     <use xlink:href=\"#meb55f8bf72\" x=\"238.347641\" y=\"193.566956\" style=\"fill: #ff7f0e; stroke: #333333\"/>\n     <use xlink:href=\"#meb55f8bf72\" x=\"129.135638\" y=\"88.210444\" style=\"fill: #ff7f0e; stroke: #333333\"/>\n     <use xlink:href=\"#meb55f8bf72\" x=\"237.871931\" y=\"223.776112\" style=\"fill: #ff7f0e; stroke: #333333\"/>\n     <use xlink:href=\"#meb55f8bf72\" x=\"101.881356\" y=\"57.029517\" style=\"fill: #ff7f0e; stroke: #333333\"/>\n     <use xlink:href=\"#meb55f8bf72\" x=\"244.330145\" y=\"203.606669\" style=\"fill: #ff7f0e; stroke: #333333\"/>\n     <use xlink:href=\"#meb55f8bf72\" x=\"84.372159\" y=\"78.247916\" style=\"fill: #ff7f0e; stroke: #333333\"/>\n     <use xlink:href=\"#meb55f8bf72\" x=\"256.718375\" y=\"199.075461\" style=\"fill: #ff7f0e; stroke: #333333\"/>\n    </g>\n   </g>\n   <g id=\"matplotlib.axis_1\">\n    <g id=\"xtick_1\">\n     <g id=\"line2d_1\">\n      <defs>\n       <path id=\"ma2180d7528\" d=\"M 0 0 \nL 0 3.5 \n\" style=\"stroke: #000000; stroke-width: 0.8\"/>\n      </defs>\n      <g>\n       <use xlink:href=\"#ma2180d7528\" x=\"70.340713\" y=\"244.078125\" style=\"stroke: #000000; stroke-width: 0.8\"/>\n      </g>\n     </g>\n     <g id=\"text_1\">\n      <!-- −0.25 -->\n      <g transform=\"translate(55.018057 258.676562) scale(0.1 -0.1)\">\n       <defs>\n        <path id=\"DejaVuSans-2212\" d=\"M 678 2272 \nL 4684 2272 \nL 4684 1741 \nL 678 1741 \nL 678 2272 \nz\n\" transform=\"scale(0.015625)\"/>\n        <path id=\"DejaVuSans-30\" d=\"M 2034 4250 \nQ 1547 4250 1301 3770 \nQ 1056 3291 1056 2328 \nQ 1056 1369 1301 889 \nQ 1547 409 2034 409 \nQ 2525 409 2770 889 \nQ 3016 1369 3016 2328 \nQ 3016 3291 2770 3770 \nQ 2525 4250 2034 4250 \nz\nM 2034 4750 \nQ 2819 4750 3233 4129 \nQ 3647 3509 3647 2328 \nQ 3647 1150 3233 529 \nQ 2819 -91 2034 -91 \nQ 1250 -91 836 529 \nQ 422 1150 422 2328 \nQ 422 3509 836 4129 \nQ 1250 4750 2034 4750 \nz\n\" transform=\"scale(0.015625)\"/>\n        <path id=\"DejaVuSans-2e\" d=\"M 684 794 \nL 1344 794 \nL 1344 0 \nL 684 0 \nL 684 794 \nz\n\" transform=\"scale(0.015625)\"/>\n        <path id=\"DejaVuSans-32\" d=\"M 1228 531 \nL 3431 531 \nL 3431 0 \nL 469 0 \nL 469 531 \nQ 828 903 1448 1529 \nQ 2069 2156 2228 2338 \nQ 2531 2678 2651 2914 \nQ 2772 3150 2772 3378 \nQ 2772 3750 2511 3984 \nQ 2250 4219 1831 4219 \nQ 1534 4219 1204 4116 \nQ 875 4013 500 3803 \nL 500 4441 \nQ 881 4594 1212 4672 \nQ 1544 4750 1819 4750 \nQ 2544 4750 2975 4387 \nQ 3406 4025 3406 3419 \nQ 3406 3131 3298 2873 \nQ 3191 2616 2906 2266 \nQ 2828 2175 2409 1742 \nQ 1991 1309 1228 531 \nz\n\" transform=\"scale(0.015625)\"/>\n        <path id=\"DejaVuSans-35\" d=\"M 691 4666 \nL 3169 4666 \nL 3169 4134 \nL 1269 4134 \nL 1269 2991 \nQ 1406 3038 1543 3061 \nQ 1681 3084 1819 3084 \nQ 2600 3084 3056 2656 \nQ 3513 2228 3513 1497 \nQ 3513 744 3044 326 \nQ 2575 -91 1722 -91 \nQ 1428 -91 1123 -41 \nQ 819 9 494 109 \nL 494 744 \nQ 775 591 1075 516 \nQ 1375 441 1709 441 \nQ 2250 441 2565 725 \nQ 2881 1009 2881 1497 \nQ 2881 1984 2565 2268 \nQ 2250 2553 1709 2553 \nQ 1456 2553 1204 2497 \nQ 953 2441 691 2322 \nL 691 4666 \nz\n\" transform=\"scale(0.015625)\"/>\n       </defs>\n       <use xlink:href=\"#DejaVuSans-2212\"/>\n       <use xlink:href=\"#DejaVuSans-30\" x=\"83.789062\"/>\n       <use xlink:href=\"#DejaVuSans-2e\" x=\"147.412109\"/>\n       <use xlink:href=\"#DejaVuSans-32\" x=\"179.199219\"/>\n       <use xlink:href=\"#DejaVuSans-35\" x=\"242.822266\"/>\n      </g>\n     </g>\n    </g>\n    <g id=\"xtick_2\">\n     <g id=\"line2d_2\">\n      <g>\n       <use xlink:href=\"#ma2180d7528\" x=\"103.72768\" y=\"244.078125\" style=\"stroke: #000000; stroke-width: 0.8\"/>\n      </g>\n     </g>\n     <g id=\"text_2\">\n      <!-- 0.00 -->\n      <g transform=\"translate(92.594867 258.676562) scale(0.1 -0.1)\">\n       <use xlink:href=\"#DejaVuSans-30\"/>\n       <use xlink:href=\"#DejaVuSans-2e\" x=\"63.623047\"/>\n       <use xlink:href=\"#DejaVuSans-30\" x=\"95.410156\"/>\n       <use xlink:href=\"#DejaVuSans-30\" x=\"159.033203\"/>\n      </g>\n     </g>\n    </g>\n    <g id=\"xtick_3\">\n     <g id=\"line2d_3\">\n      <g>\n       <use xlink:href=\"#ma2180d7528\" x=\"137.114646\" y=\"244.078125\" style=\"stroke: #000000; stroke-width: 0.8\"/>\n      </g>\n     </g>\n     <g id=\"text_3\">\n      <!-- 0.25 -->\n      <g transform=\"translate(125.981834 258.676562) scale(0.1 -0.1)\">\n       <use xlink:href=\"#DejaVuSans-30\"/>\n       <use xlink:href=\"#DejaVuSans-2e\" x=\"63.623047\"/>\n       <use xlink:href=\"#DejaVuSans-32\" x=\"95.410156\"/>\n       <use xlink:href=\"#DejaVuSans-35\" x=\"159.033203\"/>\n      </g>\n     </g>\n    </g>\n    <g id=\"xtick_4\">\n     <g id=\"line2d_4\">\n      <g>\n       <use xlink:href=\"#ma2180d7528\" x=\"170.501613\" y=\"244.078125\" style=\"stroke: #000000; stroke-width: 0.8\"/>\n      </g>\n     </g>\n     <g id=\"text_4\">\n      <!-- 0.50 -->\n      <g transform=\"translate(159.368801 258.676562) scale(0.1 -0.1)\">\n       <use xlink:href=\"#DejaVuSans-30\"/>\n       <use xlink:href=\"#DejaVuSans-2e\" x=\"63.623047\"/>\n       <use xlink:href=\"#DejaVuSans-35\" x=\"95.410156\"/>\n       <use xlink:href=\"#DejaVuSans-30\" x=\"159.033203\"/>\n      </g>\n     </g>\n    </g>\n    <g id=\"xtick_5\">\n     <g id=\"line2d_5\">\n      <g>\n       <use xlink:href=\"#ma2180d7528\" x=\"203.88858\" y=\"244.078125\" style=\"stroke: #000000; stroke-width: 0.8\"/>\n      </g>\n     </g>\n     <g id=\"text_5\">\n      <!-- 0.75 -->\n      <g transform=\"translate(192.755767 258.676562) scale(0.1 -0.1)\">\n       <defs>\n        <path id=\"DejaVuSans-37\" d=\"M 525 4666 \nL 3525 4666 \nL 3525 4397 \nL 1831 0 \nL 1172 0 \nL 2766 4134 \nL 525 4134 \nL 525 4666 \nz\n\" transform=\"scale(0.015625)\"/>\n       </defs>\n       <use xlink:href=\"#DejaVuSans-30\"/>\n       <use xlink:href=\"#DejaVuSans-2e\" x=\"63.623047\"/>\n       <use xlink:href=\"#DejaVuSans-37\" x=\"95.410156\"/>\n       <use xlink:href=\"#DejaVuSans-35\" x=\"159.033203\"/>\n      </g>\n     </g>\n    </g>\n    <g id=\"xtick_6\">\n     <g id=\"line2d_6\">\n      <g>\n       <use xlink:href=\"#ma2180d7528\" x=\"237.275547\" y=\"244.078125\" style=\"stroke: #000000; stroke-width: 0.8\"/>\n      </g>\n     </g>\n     <g id=\"text_6\">\n      <!-- 1.00 -->\n      <g transform=\"translate(226.142734 258.676562) scale(0.1 -0.1)\">\n       <defs>\n        <path id=\"DejaVuSans-31\" d=\"M 794 531 \nL 1825 531 \nL 1825 4091 \nL 703 3866 \nL 703 4441 \nL 1819 4666 \nL 2450 4666 \nL 2450 531 \nL 3481 531 \nL 3481 0 \nL 794 0 \nL 794 531 \nz\n\" transform=\"scale(0.015625)\"/>\n       </defs>\n       <use xlink:href=\"#DejaVuSans-31\"/>\n       <use xlink:href=\"#DejaVuSans-2e\" x=\"63.623047\"/>\n       <use xlink:href=\"#DejaVuSans-30\" x=\"95.410156\"/>\n       <use xlink:href=\"#DejaVuSans-30\" x=\"159.033203\"/>\n      </g>\n     </g>\n    </g>\n    <g id=\"xtick_7\">\n     <g id=\"line2d_7\">\n      <g>\n       <use xlink:href=\"#ma2180d7528\" x=\"270.662513\" y=\"244.078125\" style=\"stroke: #000000; stroke-width: 0.8\"/>\n      </g>\n     </g>\n     <g id=\"text_7\">\n      <!-- 1.25 -->\n      <g transform=\"translate(259.529701 258.676562) scale(0.1 -0.1)\">\n       <use xlink:href=\"#DejaVuSans-31\"/>\n       <use xlink:href=\"#DejaVuSans-2e\" x=\"63.623047\"/>\n       <use xlink:href=\"#DejaVuSans-32\" x=\"95.410156\"/>\n       <use xlink:href=\"#DejaVuSans-35\" x=\"159.033203\"/>\n      </g>\n     </g>\n    </g>\n    <g id=\"text_8\">\n     <!-- $x_1$ -->\n     <g transform=\"translate(158.410938 272.354687) scale(0.1 -0.1)\">\n      <defs>\n       <path id=\"DejaVuSans-Oblique-78\" d=\"M 3841 3500 \nL 2234 1784 \nL 3219 0 \nL 2559 0 \nL 1819 1388 \nL 531 0 \nL -166 0 \nL 1556 1844 \nL 641 3500 \nL 1300 3500 \nL 1972 2234 \nL 3144 3500 \nL 3841 3500 \nz\n\" transform=\"scale(0.015625)\"/>\n      </defs>\n      <use xlink:href=\"#DejaVuSans-Oblique-78\" transform=\"translate(0 0.3125)\"/>\n      <use xlink:href=\"#DejaVuSans-31\" transform=\"translate(59.179688 -16.09375) scale(0.7)\"/>\n     </g>\n    </g>\n   </g>\n   <g id=\"matplotlib.axis_2\">\n    <g id=\"ytick_1\">\n     <g id=\"line2d_8\">\n      <defs>\n       <path id=\"me33b9acbd1\" d=\"M 0 0 \nL -3.5 0 \n\" style=\"stroke: #000000; stroke-width: 0.8\"/>\n      </defs>\n      <g>\n       <use xlink:href=\"#me33b9acbd1\" x=\"52.160938\" y=\"230.160406\" style=\"stroke: #000000; stroke-width: 0.8\"/>\n      </g>\n     </g>\n     <g id=\"text_9\">\n      <!-- −0.2 -->\n      <g transform=\"translate(20.878125 233.959625) scale(0.1 -0.1)\">\n       <use xlink:href=\"#DejaVuSans-2212\"/>\n       <use xlink:href=\"#DejaVuSans-30\" x=\"83.789062\"/>\n       <use xlink:href=\"#DejaVuSans-2e\" x=\"147.412109\"/>\n       <use xlink:href=\"#DejaVuSans-32\" x=\"179.199219\"/>\n      </g>\n     </g>\n    </g>\n    <g id=\"ytick_2\">\n     <g id=\"line2d_9\">\n      <g>\n       <use xlink:href=\"#me33b9acbd1\" x=\"52.160938\" y=\"203.49697\" style=\"stroke: #000000; stroke-width: 0.8\"/>\n      </g>\n     </g>\n     <g id=\"text_10\">\n      <!-- 0.0 -->\n      <g transform=\"translate(29.257812 207.296189) scale(0.1 -0.1)\">\n       <use xlink:href=\"#DejaVuSans-30\"/>\n       <use xlink:href=\"#DejaVuSans-2e\" x=\"63.623047\"/>\n       <use xlink:href=\"#DejaVuSans-30\" x=\"95.410156\"/>\n      </g>\n     </g>\n    </g>\n    <g id=\"ytick_3\">\n     <g id=\"line2d_10\">\n      <g>\n       <use xlink:href=\"#me33b9acbd1\" x=\"52.160938\" y=\"176.833535\" style=\"stroke: #000000; stroke-width: 0.8\"/>\n      </g>\n     </g>\n     <g id=\"text_11\">\n      <!-- 0.2 -->\n      <g transform=\"translate(29.257812 180.632754) scale(0.1 -0.1)\">\n       <use xlink:href=\"#DejaVuSans-30\"/>\n       <use xlink:href=\"#DejaVuSans-2e\" x=\"63.623047\"/>\n       <use xlink:href=\"#DejaVuSans-32\" x=\"95.410156\"/>\n      </g>\n     </g>\n    </g>\n    <g id=\"ytick_4\">\n     <g id=\"line2d_11\">\n      <g>\n       <use xlink:href=\"#me33b9acbd1\" x=\"52.160938\" y=\"150.170099\" style=\"stroke: #000000; stroke-width: 0.8\"/>\n      </g>\n     </g>\n     <g id=\"text_12\">\n      <!-- 0.4 -->\n      <g transform=\"translate(29.257812 153.969318) scale(0.1 -0.1)\">\n       <defs>\n        <path id=\"DejaVuSans-34\" d=\"M 2419 4116 \nL 825 1625 \nL 2419 1625 \nL 2419 4116 \nz\nM 2253 4666 \nL 3047 4666 \nL 3047 1625 \nL 3713 1625 \nL 3713 1100 \nL 3047 1100 \nL 3047 0 \nL 2419 0 \nL 2419 1100 \nL 313 1100 \nL 313 1709 \nL 2253 4666 \nz\n\" transform=\"scale(0.015625)\"/>\n       </defs>\n       <use xlink:href=\"#DejaVuSans-30\"/>\n       <use xlink:href=\"#DejaVuSans-2e\" x=\"63.623047\"/>\n       <use xlink:href=\"#DejaVuSans-34\" x=\"95.410156\"/>\n      </g>\n     </g>\n    </g>\n    <g id=\"ytick_5\">\n     <g id=\"line2d_12\">\n      <g>\n       <use xlink:href=\"#me33b9acbd1\" x=\"52.160938\" y=\"123.506663\" style=\"stroke: #000000; stroke-width: 0.8\"/>\n      </g>\n     </g>\n     <g id=\"text_13\">\n      <!-- 0.6 -->\n      <g transform=\"translate(29.257812 127.305882) scale(0.1 -0.1)\">\n       <defs>\n        <path id=\"DejaVuSans-36\" d=\"M 2113 2584 \nQ 1688 2584 1439 2293 \nQ 1191 2003 1191 1497 \nQ 1191 994 1439 701 \nQ 1688 409 2113 409 \nQ 2538 409 2786 701 \nQ 3034 994 3034 1497 \nQ 3034 2003 2786 2293 \nQ 2538 2584 2113 2584 \nz\nM 3366 4563 \nL 3366 3988 \nQ 3128 4100 2886 4159 \nQ 2644 4219 2406 4219 \nQ 1781 4219 1451 3797 \nQ 1122 3375 1075 2522 \nQ 1259 2794 1537 2939 \nQ 1816 3084 2150 3084 \nQ 2853 3084 3261 2657 \nQ 3669 2231 3669 1497 \nQ 3669 778 3244 343 \nQ 2819 -91 2113 -91 \nQ 1303 -91 875 529 \nQ 447 1150 447 2328 \nQ 447 3434 972 4092 \nQ 1497 4750 2381 4750 \nQ 2619 4750 2861 4703 \nQ 3103 4656 3366 4563 \nz\n\" transform=\"scale(0.015625)\"/>\n       </defs>\n       <use xlink:href=\"#DejaVuSans-30\"/>\n       <use xlink:href=\"#DejaVuSans-2e\" x=\"63.623047\"/>\n       <use xlink:href=\"#DejaVuSans-36\" x=\"95.410156\"/>\n      </g>\n     </g>\n    </g>\n    <g id=\"ytick_6\">\n     <g id=\"line2d_13\">\n      <g>\n       <use xlink:href=\"#me33b9acbd1\" x=\"52.160938\" y=\"96.843228\" style=\"stroke: #000000; stroke-width: 0.8\"/>\n      </g>\n     </g>\n     <g id=\"text_14\">\n      <!-- 0.8 -->\n      <g transform=\"translate(29.257812 100.642447) scale(0.1 -0.1)\">\n       <defs>\n        <path id=\"DejaVuSans-38\" d=\"M 2034 2216 \nQ 1584 2216 1326 1975 \nQ 1069 1734 1069 1313 \nQ 1069 891 1326 650 \nQ 1584 409 2034 409 \nQ 2484 409 2743 651 \nQ 3003 894 3003 1313 \nQ 3003 1734 2745 1975 \nQ 2488 2216 2034 2216 \nz\nM 1403 2484 \nQ 997 2584 770 2862 \nQ 544 3141 544 3541 \nQ 544 4100 942 4425 \nQ 1341 4750 2034 4750 \nQ 2731 4750 3128 4425 \nQ 3525 4100 3525 3541 \nQ 3525 3141 3298 2862 \nQ 3072 2584 2669 2484 \nQ 3125 2378 3379 2068 \nQ 3634 1759 3634 1313 \nQ 3634 634 3220 271 \nQ 2806 -91 2034 -91 \nQ 1263 -91 848 271 \nQ 434 634 434 1313 \nQ 434 1759 690 2068 \nQ 947 2378 1403 2484 \nz\nM 1172 3481 \nQ 1172 3119 1398 2916 \nQ 1625 2713 2034 2713 \nQ 2441 2713 2670 2916 \nQ 2900 3119 2900 3481 \nQ 2900 3844 2670 4047 \nQ 2441 4250 2034 4250 \nQ 1625 4250 1398 4047 \nQ 1172 3844 1172 3481 \nz\n\" transform=\"scale(0.015625)\"/>\n       </defs>\n       <use xlink:href=\"#DejaVuSans-30\"/>\n       <use xlink:href=\"#DejaVuSans-2e\" x=\"63.623047\"/>\n       <use xlink:href=\"#DejaVuSans-38\" x=\"95.410156\"/>\n      </g>\n     </g>\n    </g>\n    <g id=\"ytick_7\">\n     <g id=\"line2d_14\">\n      <g>\n       <use xlink:href=\"#me33b9acbd1\" x=\"52.160938\" y=\"70.179792\" style=\"stroke: #000000; stroke-width: 0.8\"/>\n      </g>\n     </g>\n     <g id=\"text_15\">\n      <!-- 1.0 -->\n      <g transform=\"translate(29.257812 73.979011) scale(0.1 -0.1)\">\n       <use xlink:href=\"#DejaVuSans-31\"/>\n       <use xlink:href=\"#DejaVuSans-2e\" x=\"63.623047\"/>\n       <use xlink:href=\"#DejaVuSans-30\" x=\"95.410156\"/>\n      </g>\n     </g>\n    </g>\n    <g id=\"ytick_8\">\n     <g id=\"line2d_15\">\n      <g>\n       <use xlink:href=\"#me33b9acbd1\" x=\"52.160938\" y=\"43.516356\" style=\"stroke: #000000; stroke-width: 0.8\"/>\n      </g>\n     </g>\n     <g id=\"text_16\">\n      <!-- 1.2 -->\n      <g transform=\"translate(29.257812 47.315575) scale(0.1 -0.1)\">\n       <use xlink:href=\"#DejaVuSans-31\"/>\n       <use xlink:href=\"#DejaVuSans-2e\" x=\"63.623047\"/>\n       <use xlink:href=\"#DejaVuSans-32\" x=\"95.410156\"/>\n      </g>\n     </g>\n    </g>\n    <g id=\"text_17\">\n     <!-- $x_2$ -->\n     <g transform=\"translate(14.798438 138.548125) rotate(-90) scale(0.1 -0.1)\">\n      <use xlink:href=\"#DejaVuSans-Oblique-78\" transform=\"translate(0 0.3125)\"/>\n      <use xlink:href=\"#DejaVuSans-32\" transform=\"translate(59.179688 -16.09375) scale(0.7)\"/>\n     </g>\n    </g>\n   </g>\n   <g id=\"patch_3\">\n    <path d=\"M 52.160938 244.078125 \nL 52.160938 22.318125 \n\" style=\"fill: none; stroke: #000000; stroke-width: 0.8; stroke-linejoin: miter; stroke-linecap: square\"/>\n   </g>\n   <g id=\"patch_4\">\n    <path d=\"M 275.360937 244.078125 \nL 275.360937 22.318125 \n\" style=\"fill: none; stroke: #000000; stroke-width: 0.8; stroke-linejoin: miter; stroke-linecap: square\"/>\n   </g>\n   <g id=\"patch_5\">\n    <path d=\"M 52.160938 244.078125 \nL 275.360937 244.078125 \n\" style=\"fill: none; stroke: #000000; stroke-width: 0.8; stroke-linejoin: miter; stroke-linecap: square\"/>\n   </g>\n   <g id=\"patch_6\">\n    <path d=\"M 52.160938 22.318125 \nL 275.360937 22.318125 \n\" style=\"fill: none; stroke: #000000; stroke-width: 0.8; stroke-linejoin: miter; stroke-linecap: square\"/>\n   </g>\n   <g id=\"text_18\">\n    <!-- Dataset samples -->\n    <g transform=\"translate(113.418125 16.318125) scale(0.12 -0.12)\">\n     <defs>\n      <path id=\"DejaVuSans-44\" d=\"M 1259 4147 \nL 1259 519 \nL 2022 519 \nQ 2988 519 3436 956 \nQ 3884 1394 3884 2338 \nQ 3884 3275 3436 3711 \nQ 2988 4147 2022 4147 \nL 1259 4147 \nz\nM 628 4666 \nL 1925 4666 \nQ 3281 4666 3915 4102 \nQ 4550 3538 4550 2338 \nQ 4550 1131 3912 565 \nQ 3275 0 1925 0 \nL 628 0 \nL 628 4666 \nz\n\" transform=\"scale(0.015625)\"/>\n      <path id=\"DejaVuSans-61\" d=\"M 2194 1759 \nQ 1497 1759 1228 1600 \nQ 959 1441 959 1056 \nQ 959 750 1161 570 \nQ 1363 391 1709 391 \nQ 2188 391 2477 730 \nQ 2766 1069 2766 1631 \nL 2766 1759 \nL 2194 1759 \nz\nM 3341 1997 \nL 3341 0 \nL 2766 0 \nL 2766 531 \nQ 2569 213 2275 61 \nQ 1981 -91 1556 -91 \nQ 1019 -91 701 211 \nQ 384 513 384 1019 \nQ 384 1609 779 1909 \nQ 1175 2209 1959 2209 \nL 2766 2209 \nL 2766 2266 \nQ 2766 2663 2505 2880 \nQ 2244 3097 1772 3097 \nQ 1472 3097 1187 3025 \nQ 903 2953 641 2809 \nL 641 3341 \nQ 956 3463 1253 3523 \nQ 1550 3584 1831 3584 \nQ 2591 3584 2966 3190 \nQ 3341 2797 3341 1997 \nz\n\" transform=\"scale(0.015625)\"/>\n      <path id=\"DejaVuSans-74\" d=\"M 1172 4494 \nL 1172 3500 \nL 2356 3500 \nL 2356 3053 \nL 1172 3053 \nL 1172 1153 \nQ 1172 725 1289 603 \nQ 1406 481 1766 481 \nL 2356 481 \nL 2356 0 \nL 1766 0 \nQ 1100 0 847 248 \nQ 594 497 594 1153 \nL 594 3053 \nL 172 3053 \nL 172 3500 \nL 594 3500 \nL 594 4494 \nL 1172 4494 \nz\n\" transform=\"scale(0.015625)\"/>\n      <path id=\"DejaVuSans-73\" d=\"M 2834 3397 \nL 2834 2853 \nQ 2591 2978 2328 3040 \nQ 2066 3103 1784 3103 \nQ 1356 3103 1142 2972 \nQ 928 2841 928 2578 \nQ 928 2378 1081 2264 \nQ 1234 2150 1697 2047 \nL 1894 2003 \nQ 2506 1872 2764 1633 \nQ 3022 1394 3022 966 \nQ 3022 478 2636 193 \nQ 2250 -91 1575 -91 \nQ 1294 -91 989 -36 \nQ 684 19 347 128 \nL 347 722 \nQ 666 556 975 473 \nQ 1284 391 1588 391 \nQ 1994 391 2212 530 \nQ 2431 669 2431 922 \nQ 2431 1156 2273 1281 \nQ 2116 1406 1581 1522 \nL 1381 1569 \nQ 847 1681 609 1914 \nQ 372 2147 372 2553 \nQ 372 3047 722 3315 \nQ 1072 3584 1716 3584 \nQ 2034 3584 2315 3537 \nQ 2597 3491 2834 3397 \nz\n\" transform=\"scale(0.015625)\"/>\n      <path id=\"DejaVuSans-65\" d=\"M 3597 1894 \nL 3597 1613 \nL 953 1613 \nQ 991 1019 1311 708 \nQ 1631 397 2203 397 \nQ 2534 397 2845 478 \nQ 3156 559 3463 722 \nL 3463 178 \nQ 3153 47 2828 -22 \nQ 2503 -91 2169 -91 \nQ 1331 -91 842 396 \nQ 353 884 353 1716 \nQ 353 2575 817 3079 \nQ 1281 3584 2069 3584 \nQ 2775 3584 3186 3129 \nQ 3597 2675 3597 1894 \nz\nM 3022 2063 \nQ 3016 2534 2758 2815 \nQ 2500 3097 2075 3097 \nQ 1594 3097 1305 2825 \nQ 1016 2553 972 2059 \nL 3022 2063 \nz\n\" transform=\"scale(0.015625)\"/>\n      <path id=\"DejaVuSans-20\" transform=\"scale(0.015625)\"/>\n      <path id=\"DejaVuSans-6d\" d=\"M 3328 2828 \nQ 3544 3216 3844 3400 \nQ 4144 3584 4550 3584 \nQ 5097 3584 5394 3201 \nQ 5691 2819 5691 2113 \nL 5691 0 \nL 5113 0 \nL 5113 2094 \nQ 5113 2597 4934 2840 \nQ 4756 3084 4391 3084 \nQ 3944 3084 3684 2787 \nQ 3425 2491 3425 1978 \nL 3425 0 \nL 2847 0 \nL 2847 2094 \nQ 2847 2600 2669 2842 \nQ 2491 3084 2119 3084 \nQ 1678 3084 1418 2786 \nQ 1159 2488 1159 1978 \nL 1159 0 \nL 581 0 \nL 581 3500 \nL 1159 3500 \nL 1159 2956 \nQ 1356 3278 1631 3431 \nQ 1906 3584 2284 3584 \nQ 2666 3584 2933 3390 \nQ 3200 3197 3328 2828 \nz\n\" transform=\"scale(0.015625)\"/>\n      <path id=\"DejaVuSans-70\" d=\"M 1159 525 \nL 1159 -1331 \nL 581 -1331 \nL 581 3500 \nL 1159 3500 \nL 1159 2969 \nQ 1341 3281 1617 3432 \nQ 1894 3584 2278 3584 \nQ 2916 3584 3314 3078 \nQ 3713 2572 3713 1747 \nQ 3713 922 3314 415 \nQ 2916 -91 2278 -91 \nQ 1894 -91 1617 61 \nQ 1341 213 1159 525 \nz\nM 3116 1747 \nQ 3116 2381 2855 2742 \nQ 2594 3103 2138 3103 \nQ 1681 3103 1420 2742 \nQ 1159 2381 1159 1747 \nQ 1159 1113 1420 752 \nQ 1681 391 2138 391 \nQ 2594 391 2855 752 \nQ 3116 1113 3116 1747 \nz\n\" transform=\"scale(0.015625)\"/>\n      <path id=\"DejaVuSans-6c\" d=\"M 603 4863 \nL 1178 4863 \nL 1178 0 \nL 603 0 \nL 603 4863 \nz\n\" transform=\"scale(0.015625)\"/>\n     </defs>\n     <use xlink:href=\"#DejaVuSans-44\"/>\n     <use xlink:href=\"#DejaVuSans-61\" x=\"77.001953\"/>\n     <use xlink:href=\"#DejaVuSans-74\" x=\"138.28125\"/>\n     <use xlink:href=\"#DejaVuSans-61\" x=\"177.490234\"/>\n     <use xlink:href=\"#DejaVuSans-73\" x=\"238.769531\"/>\n     <use xlink:href=\"#DejaVuSans-65\" x=\"290.869141\"/>\n     <use xlink:href=\"#DejaVuSans-74\" x=\"352.392578\"/>\n     <use xlink:href=\"#DejaVuSans-20\" x=\"391.601562\"/>\n     <use xlink:href=\"#DejaVuSans-73\" x=\"423.388672\"/>\n     <use xlink:href=\"#DejaVuSans-61\" x=\"475.488281\"/>\n     <use xlink:href=\"#DejaVuSans-6d\" x=\"536.767578\"/>\n     <use xlink:href=\"#DejaVuSans-70\" x=\"634.179688\"/>\n     <use xlink:href=\"#DejaVuSans-6c\" x=\"697.65625\"/>\n     <use xlink:href=\"#DejaVuSans-65\" x=\"725.439453\"/>\n     <use xlink:href=\"#DejaVuSans-73\" x=\"786.962891\"/>\n    </g>\n   </g>\n   <g id=\"legend_1\">\n    <g id=\"patch_7\">\n     <path d=\"M 200.5125 149.37625 \nL 268.360937 149.37625 \nQ 270.360937 149.37625 270.360937 147.37625 \nL 270.360937 119.02 \nQ 270.360937 117.02 268.360937 117.02 \nL 200.5125 117.02 \nQ 198.5125 117.02 198.5125 119.02 \nL 198.5125 147.37625 \nQ 198.5125 149.37625 200.5125 149.37625 \nz\n\" style=\"fill: #ffffff; opacity: 0.8; stroke: #cccccc; stroke-linejoin: miter\"/>\n    </g>\n    <g id=\"PathCollection_3\">\n     <g>\n      <use xlink:href=\"#m4d838373d7\" x=\"212.5125\" y=\"125.993437\" style=\"fill: #1f77b4; stroke: #333333\"/>\n     </g>\n    </g>\n    <g id=\"text_19\">\n     <!-- Class 0 -->\n     <g transform=\"translate(230.5125 128.618437) scale(0.1 -0.1)\">\n      <defs>\n       <path id=\"DejaVuSans-43\" d=\"M 4122 4306 \nL 4122 3641 \nQ 3803 3938 3442 4084 \nQ 3081 4231 2675 4231 \nQ 1875 4231 1450 3742 \nQ 1025 3253 1025 2328 \nQ 1025 1406 1450 917 \nQ 1875 428 2675 428 \nQ 3081 428 3442 575 \nQ 3803 722 4122 1019 \nL 4122 359 \nQ 3791 134 3420 21 \nQ 3050 -91 2638 -91 \nQ 1578 -91 968 557 \nQ 359 1206 359 2328 \nQ 359 3453 968 4101 \nQ 1578 4750 2638 4750 \nQ 3056 4750 3426 4639 \nQ 3797 4528 4122 4306 \nz\n\" transform=\"scale(0.015625)\"/>\n      </defs>\n      <use xlink:href=\"#DejaVuSans-43\"/>\n      <use xlink:href=\"#DejaVuSans-6c\" x=\"69.824219\"/>\n      <use xlink:href=\"#DejaVuSans-61\" x=\"97.607422\"/>\n      <use xlink:href=\"#DejaVuSans-73\" x=\"158.886719\"/>\n      <use xlink:href=\"#DejaVuSans-73\" x=\"210.986328\"/>\n      <use xlink:href=\"#DejaVuSans-20\" x=\"263.085938\"/>\n      <use xlink:href=\"#DejaVuSans-30\" x=\"294.873047\"/>\n     </g>\n    </g>\n    <g id=\"PathCollection_4\">\n     <g>\n      <use xlink:href=\"#meb55f8bf72\" x=\"212.5125\" y=\"140.671562\" style=\"fill: #ff7f0e; stroke: #333333\"/>\n     </g>\n    </g>\n    <g id=\"text_20\">\n     <!-- Class 1 -->\n     <g transform=\"translate(230.5125 143.296562) scale(0.1 -0.1)\">\n      <use xlink:href=\"#DejaVuSans-43\"/>\n      <use xlink:href=\"#DejaVuSans-6c\" x=\"69.824219\"/>\n      <use xlink:href=\"#DejaVuSans-61\" x=\"97.607422\"/>\n      <use xlink:href=\"#DejaVuSans-73\" x=\"158.886719\"/>\n      <use xlink:href=\"#DejaVuSans-73\" x=\"210.986328\"/>\n      <use xlink:href=\"#DejaVuSans-20\" x=\"263.085938\"/>\n      <use xlink:href=\"#DejaVuSans-31\" x=\"294.873047\"/>\n     </g>\n    </g>\n   </g>\n  </g>\n </g>\n <defs>\n  <clipPath id=\"p06de6f3aec\">\n   <rect x=\"52.160938\" y=\"22.318125\" width=\"223.2\" height=\"221.76\"/>\n  </clipPath>\n </defs>\n</svg>\n",
            "application/pdf": "[encoded data removed]"
          },
          "metadata": {}
        }
      ],
      "source": [
        "visualize_samples(dataset.data, dataset.label)\n",
        "plt.show()"
      ]
    },
    {
      "cell_type": "markdown",
      "metadata": {
        "id": "soZ1kpZ2ARJj"
      },
      "source": [
        "#### The data loader class\n",
        "\n",
        "The class `torch.utils.data.DataLoader` represents a Python iterable over a dataset with support for automatic batching, multi-process data loading and many more features. The data loader communicates with the dataset using the function `__getitem__`, and stacks its outputs as tensors over the first dimension to form a batch.\n",
        "In contrast to the dataset class, we usually don't have to define our own data loader class, but can just create an object of it with the dataset as input. Additionally, we can configure our data loader with the following input arguments (only a selection, see full list [here](https://pytorch.org/docs/stable/data.html#torch.utils.data.DataLoader)):\n",
        "\n",
        "* `batch_size`: Number of samples to stack per batch\n",
        "* `shuffle`: If True, the data is returned in a random order. This is important during training for improving the capacity of the model to generalize.\n",
        "* `num_workers`: Number of subprocesses to use for data loading. The default, 0, means that the data will be loaded in the main process which can slow down training for datasets where loading a data point takes a considerable amount of time (e.g. large images). More workers are recommended for those, but can cause issues on Windows computers. For tiny datasets as ours, 0 workers are usually faster.\n",
        "* `pin_memory`: If True, the data loader will copy Tensors into GPU pinned memory before returning them. This can save some time for large data points on GPUs. Usually a good practice to use for a training set, but not necessarily for validation and test to save memory on the GPU.\n",
        "* `drop_last`: If True, the last batch is dropped in case it is smaller than the specified batch size. This occurs when the dataset size is not a multiple of the batch size. Only potentially helpful during training to keep a consistent batch size.\n",
        "\n",
        "Let's create a simple data loader below:"
      ]
    },
    {
      "cell_type": "code",
      "execution_count": null,
      "metadata": {
        "id": "b1Cwyd1YARJk"
      },
      "outputs": [],
      "source": [
        "data_loader = data.DataLoader(dataset, batch_size=8, shuffle=True)"
      ]
    },
    {
      "cell_type": "code",
      "execution_count": null,
      "metadata": {
        "colab": {
          "base_uri": "https://localhost:8080/"
        },
        "id": "v5allbgLARJk",
        "outputId": "c50a4414-9459-4ca3-ae9c-1c970784db53"
      },
      "outputs": [
        {
          "output_type": "stream",
          "name": "stdout",
          "text": [
            "Data inputs torch.Size([8, 2]) \n",
            " tensor([[ 1.1953,  0.2049],\n",
            "        [-0.1459,  0.8506],\n",
            "        [-0.1253,  0.1119],\n",
            "        [ 0.0531, -0.1361],\n",
            "        [ 0.1345,  0.0127],\n",
            "        [-0.1449,  0.9395],\n",
            "        [ 1.0506,  0.9082],\n",
            "        [ 1.0080,  0.0745]])\n",
            "Data labels torch.Size([8]) \n",
            " tensor([1, 1, 0, 0, 0, 1, 0, 1])\n"
          ]
        }
      ],
      "source": [
        "# next(iter(...)) catches the first batch of the data loader\n",
        "# If shuffle is True, this will return a different batch every time we run this cell\n",
        "# For iterating over the whole dataset, we can simple use \"for batch in data_loader: ...\"\n",
        "data_inputs, data_labels = next(iter(data_loader))\n",
        "\n",
        "# The shape of the outputs are [batch_size, d_1,...,d_N] where d_1,...,d_N are the\n",
        "# dimensions of the data point returned from the dataset class\n",
        "print(\"Data inputs\", data_inputs.shape, \"\\n\", data_inputs)\n",
        "print(\"Data labels\", data_labels.shape, \"\\n\", data_labels)"
      ]
    },
    {
      "cell_type": "markdown",
      "metadata": {
        "id": "9oI4WRWuARJk"
      },
      "source": [
        "### Optimization\n",
        "\n",
        "After defining the model and the dataset, it is time to prepare the optimization of the model. During training, we will perform the following steps:\n",
        "\n",
        "1. Get a batch from the data loader\n",
        "2. Obtain the predictions from the model for the batch\n",
        "3. Calculate the loss based on the difference between predictions and labels\n",
        "4. Backpropagation: calculate the gradients for every parameter with respect to the loss\n",
        "5. Update the parameters of the model in the direction of the gradients\n",
        "\n",
        "We have seen how we can do step 1, 2 and 4 in PyTorch. Now, we will look at step 3 and 5."
      ]
    },
    {
      "cell_type": "markdown",
      "metadata": {
        "id": "KdGNtOvZARJk"
      },
      "source": [
        "#### Loss modules\n",
        "\n",
        "We can calculate the loss for a batch by simply performing a few tensor operations as those are automatically added to the computation graph. For instance, for binary classification, we can use Binary Cross Entropy (BCE) which is defined as follows:\n",
        "\n",
        "$${{L}}_{BCE} = -\\sum_i \\left[ y_i \\log x_i + (1 - y_i) \\log (1 - x_i) \\right]$$\n",
        "\n",
        "where $y$ are our labels, and $x$ our predictions, both in the range of $[0,1]$. However, PyTorch already provides a list of predefined loss functions which we can use (see [here](https://pytorch.org/docs/stable/nn.html#loss-functions) for a full list). For instance, for BCE, PyTorch has two modules: `nn.BCELoss()`, `nn.BCEWithLogitsLoss()`. While `nn.BCELoss` expects the inputs $x$ to be in the range $[0,1]$, i.e. the output of a sigmoid, `nn.BCEWithLogitsLoss` combines a sigmoid layer and the BCE loss in a single class. This version is numerically more stable than using a plain Sigmoid followed by a BCE loss because of the logarithms applied in the loss function. Hence, it is adviced to use loss functions applied on \"logits\" where possible (remember to not apply a sigmoid on the output of the model in this case!). For our model defined above, we therefore use the module `nn.BCEWithLogitsLoss`."
      ]
    },
    {
      "cell_type": "code",
      "execution_count": null,
      "metadata": {
        "id": "yHxMICXZARJk"
      },
      "outputs": [],
      "source": [
        "loss_module = nn.BCEWithLogitsLoss()"
      ]
    },
    {
      "cell_type": "markdown",
      "metadata": {
        "id": "FgwO8nHjARJk"
      },
      "source": [
        "#### Stochastic Gradient Descent\n",
        "\n",
        "For updating the parameters, PyTorch provides the package `torch.optim` that has most popular optimizers implemented. We will for now use the simplest of them: `torch.optim.SGD`. Stochastic Gradient Descent updates parameters by multiplying the gradients with a small constant, called learning rate, and subtracting those from the parameters (hence minimizing the loss). Therefore, we slowly move towards the direction of minimizing the loss. A good default value of the learning rate for a small network as ours is 0.1."
      ]
    },
    {
      "cell_type": "code",
      "execution_count": null,
      "metadata": {
        "id": "x1-X9I-NARJk"
      },
      "outputs": [],
      "source": [
        "# Input to the optimizer are the parameters of the model: model.parameters()\n",
        "optimizer = torch.optim.SGD(model.parameters(), lr=0.1)"
      ]
    },
    {
      "cell_type": "markdown",
      "metadata": {
        "id": "_xmazImiARJk"
      },
      "source": [
        "The optimizer provides two useful functions: `optimizer.step()`, and `optimizer.zero_grad()`. The step function updates the parameters based on the gradients as explained above. The function `optimizer.zero_grad()` sets the gradients of all parameters to zero. While this function seems less relevant at first, it is a crucial pre-step before performing backpropagation. If we call the `backward` function on the loss while the parameter gradients are non-zero from the previous batch, the new gradients would actually be added to the previous ones instead of overwriting them. This is done because a parameter might occur multiple times in a computation graph, and we need to sum the gradients in this case instead of replacing them. Hence, remember to call `optimizer.zero_grad()` before calculating the gradients of a batch."
      ]
    },
    {
      "cell_type": "markdown",
      "metadata": {
        "id": "ueSdw812ARJk"
      },
      "source": [
        "### Training\n",
        "\n",
        "Finally, we are ready to train our model. As a first step, we create a slightly larger dataset and specify a data loader with a larger batch size."
      ]
    },
    {
      "cell_type": "code",
      "execution_count": null,
      "metadata": {
        "id": "kv_tJhJUARJk"
      },
      "outputs": [],
      "source": [
        "train_dataset = XORDataset(size=2500)\n",
        "train_data_loader = data.DataLoader(train_dataset, batch_size=250, shuffle=True)"
      ]
    },
    {
      "cell_type": "markdown",
      "metadata": {
        "id": "T7KRtnUNARJk"
      },
      "source": [
        "Now, we can write a small training function.\n",
        "Remember our five steps:\n",
        "   1. load a batch,\n",
        "   2. obtain the predictions,\n",
        "   3. calculate the loss,\n",
        "   4. backpropagate,\n",
        "   5. update.\n",
        "   \n",
        "Additionally, we have to push all data and model parameters to the device of our choice (GPU if available). For the tiny neural network we have, communicating the data to the GPU actually takes much more time than we could save from running the operation on CPU. For large networks, the communication time is significantly smaller than the actual runtime making a GPU crucial in these cases. Still, to practice, we will push the data to GPU here."
      ]
    },
    {
      "cell_type": "code",
      "execution_count": null,
      "metadata": {
        "colab": {
          "base_uri": "https://localhost:8080/"
        },
        "id": "G8imZgqSARJk",
        "outputId": "8c751793-8971-409a-d551-e29843d72952"
      },
      "outputs": [
        {
          "output_type": "execute_result",
          "data": {
            "text/plain": [
              "SimpleClassifier(\n",
              "  (linear1): Linear(in_features=2, out_features=4, bias=True)\n",
              "  (act_fn): Tanh()\n",
              "  (linear2): Linear(in_features=4, out_features=1, bias=True)\n",
              ")"
            ]
          },
          "metadata": {},
          "execution_count": 109
        }
      ],
      "source": [
        "# Push model to device. Has to be only done once\n",
        "model.to(device)"
      ]
    },
    {
      "cell_type": "markdown",
      "metadata": {
        "id": "CKG0W7FVARJk"
      },
      "source": [
        "In addition, we set our model to training mode. This is done by calling `model.train()`. There exist certain modules that need to perform a different forward step during training than during testing (e.g. Dropout), and we can switch between them using `model.train()` and `model.eval()`."
      ]
    },
    {
      "cell_type": "code",
      "execution_count": null,
      "metadata": {
        "id": "jhOz_jSwARJk"
      },
      "outputs": [],
      "source": [
        "def train_model(model, optimizer, data_loader, loss_module, n_epochs=100):\n",
        "    # Set model to train mode\n",
        "    model.train()\n",
        "\n",
        "    # Initialize a list to store average loss per epoch\n",
        "    epoch_losses = []\n",
        "\n",
        "    # Training loop\n",
        "    for epoch in tqdm(range(n_epochs)):\n",
        "        running_loss = 0.0  # Accumulate loss over the epoch\n",
        "        num_batches = 0\n",
        "\n",
        "        for data_inputs, data_labels in data_loader:\n",
        "            ## Step 1: Move input data to device\n",
        "            data_inputs = data_inputs.to(device)\n",
        "            data_labels = data_labels.to(device)\n",
        "\n",
        "            ## Step 2: Run the model on the input data\n",
        "            preds = model(data_inputs)\n",
        "            preds = preds.squeeze(dim=1)  # Output is [Batch size, 1], but we want [Batch size]\n",
        "\n",
        "            ## Step 3: Calculate the loss\n",
        "            loss = loss_module(preds, data_labels.float())\n",
        "\n",
        "            ## Step 4: Perform backpropagation\n",
        "            optimizer.zero_grad()  # Zero the gradients\n",
        "            loss.backward()        # Backpropagate\n",
        "            optimizer.step()       # Update parameters\n",
        "\n",
        "            # Accumulate loss and batch count\n",
        "            running_loss += loss.item()\n",
        "            num_batches += 1\n",
        "\n",
        "        # Calculate and log average loss for the epoch\n",
        "        epoch_loss = running_loss / num_batches\n",
        "        epoch_losses.append(epoch_loss)\n",
        "        print(f\"Epoch {epoch+1}/{n_epochs}, Loss: {epoch_loss:.4f}\")\n",
        "\n",
        "    return epoch_losses"
      ]
    },
    {
      "cell_type": "code",
      "execution_count": null,
      "metadata": {
        "colab": {
          "base_uri": "https://localhost:8080/",
          "height": 1000,
          "referenced_widgets": [
            "a20ffbeb368d452a9f2894d12536bc91",
            "4c532b628b6143ed9386214acc1c8d85",
            "cee0ac89f4c94b249bf4c3cfb4fbea1e",
            "445fc84a5dd045bdaeea09cc7ad9413c",
            "4d1d56da07f441adbd8dd8ae3657f18d",
            "e18220a402c9451c955ab937cfe4a4d4",
            "2b9650fb55e44d819ccba0f5f122da74",
            "fb708233d2214b7c88e0ea6aa5082855",
            "6cb2d16cf36e4836beb9433cab7f065b",
            "d80cd0441be242a5900eb202f9cbac3c",
            "a131f3d6feee48098de4e5d231024d0b"
          ]
        },
        "id": "VIZYu_L3ARJk",
        "outputId": "ebbb4bcc-8378-4493-9f07-2d6199e85de4"
      },
      "outputs": [
        {
          "output_type": "display_data",
          "data": {
            "text/plain": [
              "  0%|          | 0/300 [00:00<?, ?it/s]"
            ],
            "application/vnd.jupyter.widget-view+json": {
              "version_major": 2,
              "version_minor": 0,
              "model_id": "a20ffbeb368d452a9f2894d12536bc91"
            }
          },
          "metadata": {}
        },
        {
          "output_type": "stream",
          "name": "stdout",
          "text": [
            "Epoch 1/300, Loss: 0.7465\n",
            "Epoch 2/300, Loss: 0.7093\n",
            "Epoch 3/300, Loss: 0.6951\n",
            "Epoch 4/300, Loss: 0.6894\n",
            "Epoch 5/300, Loss: 0.6869\n",
            "Epoch 6/300, Loss: 0.6853\n",
            "Epoch 7/300, Loss: 0.6842\n",
            "Epoch 8/300, Loss: 0.6830\n",
            "Epoch 9/300, Loss: 0.6819\n",
            "Epoch 10/300, Loss: 0.6806\n",
            "Epoch 11/300, Loss: 0.6793\n",
            "Epoch 12/300, Loss: 0.6777\n",
            "Epoch 13/300, Loss: 0.6760\n",
            "Epoch 14/300, Loss: 0.6742\n",
            "Epoch 15/300, Loss: 0.6722\n",
            "Epoch 16/300, Loss: 0.6698\n",
            "Epoch 17/300, Loss: 0.6674\n",
            "Epoch 18/300, Loss: 0.6646\n",
            "Epoch 19/300, Loss: 0.6615\n",
            "Epoch 20/300, Loss: 0.6582\n",
            "Epoch 21/300, Loss: 0.6545\n",
            "Epoch 22/300, Loss: 0.6503\n",
            "Epoch 23/300, Loss: 0.6458\n",
            "Epoch 24/300, Loss: 0.6409\n",
            "Epoch 25/300, Loss: 0.6352\n",
            "Epoch 26/300, Loss: 0.6292\n",
            "Epoch 27/300, Loss: 0.6225\n",
            "Epoch 28/300, Loss: 0.6152\n",
            "Epoch 29/300, Loss: 0.6073\n",
            "Epoch 30/300, Loss: 0.5987\n",
            "Epoch 31/300, Loss: 0.5895\n",
            "Epoch 32/300, Loss: 0.5794\n",
            "Epoch 33/300, Loss: 0.5686\n",
            "Epoch 34/300, Loss: 0.5571\n",
            "Epoch 35/300, Loss: 0.5450\n",
            "Epoch 36/300, Loss: 0.5320\n",
            "Epoch 37/300, Loss: 0.5184\n",
            "Epoch 38/300, Loss: 0.5042\n",
            "Epoch 39/300, Loss: 0.4895\n",
            "Epoch 40/300, Loss: 0.4743\n",
            "Epoch 41/300, Loss: 0.4588\n",
            "Epoch 42/300, Loss: 0.4429\n",
            "Epoch 43/300, Loss: 0.4267\n",
            "Epoch 44/300, Loss: 0.4105\n",
            "Epoch 45/300, Loss: 0.3944\n",
            "Epoch 46/300, Loss: 0.3783\n",
            "Epoch 47/300, Loss: 0.3626\n",
            "Epoch 48/300, Loss: 0.3470\n",
            "Epoch 49/300, Loss: 0.3320\n",
            "Epoch 50/300, Loss: 0.3174\n",
            "Epoch 51/300, Loss: 0.3033\n",
            "Epoch 52/300, Loss: 0.2898\n",
            "Epoch 53/300, Loss: 0.2768\n",
            "Epoch 54/300, Loss: 0.2645\n",
            "Epoch 55/300, Loss: 0.2528\n",
            "Epoch 56/300, Loss: 0.2417\n",
            "Epoch 57/300, Loss: 0.2312\n",
            "Epoch 58/300, Loss: 0.2212\n",
            "Epoch 59/300, Loss: 0.2119\n",
            "Epoch 60/300, Loss: 0.2030\n",
            "Epoch 61/300, Loss: 0.1947\n",
            "Epoch 62/300, Loss: 0.1869\n",
            "Epoch 63/300, Loss: 0.1794\n",
            "Epoch 64/300, Loss: 0.1725\n",
            "Epoch 65/300, Loss: 0.1659\n",
            "Epoch 66/300, Loss: 0.1597\n",
            "Epoch 67/300, Loss: 0.1539\n",
            "Epoch 68/300, Loss: 0.1483\n",
            "Epoch 69/300, Loss: 0.1431\n",
            "Epoch 70/300, Loss: 0.1382\n",
            "Epoch 71/300, Loss: 0.1336\n",
            "Epoch 72/300, Loss: 0.1292\n",
            "Epoch 73/300, Loss: 0.1250\n",
            "Epoch 74/300, Loss: 0.1210\n",
            "Epoch 75/300, Loss: 0.1173\n",
            "Epoch 76/300, Loss: 0.1138\n",
            "Epoch 77/300, Loss: 0.1104\n",
            "Epoch 78/300, Loss: 0.1072\n",
            "Epoch 79/300, Loss: 0.1041\n",
            "Epoch 80/300, Loss: 0.1012\n",
            "Epoch 81/300, Loss: 0.0984\n",
            "Epoch 82/300, Loss: 0.0958\n",
            "Epoch 83/300, Loss: 0.0933\n",
            "Epoch 84/300, Loss: 0.0909\n",
            "Epoch 85/300, Loss: 0.0886\n",
            "Epoch 86/300, Loss: 0.0864\n",
            "Epoch 87/300, Loss: 0.0843\n",
            "Epoch 88/300, Loss: 0.0823\n",
            "Epoch 89/300, Loss: 0.0803\n",
            "Epoch 90/300, Loss: 0.0785\n",
            "Epoch 91/300, Loss: 0.0767\n",
            "Epoch 92/300, Loss: 0.0750\n",
            "Epoch 93/300, Loss: 0.0734\n",
            "Epoch 94/300, Loss: 0.0718\n",
            "Epoch 95/300, Loss: 0.0703\n",
            "Epoch 96/300, Loss: 0.0688\n",
            "Epoch 97/300, Loss: 0.0674\n",
            "Epoch 98/300, Loss: 0.0661\n",
            "Epoch 99/300, Loss: 0.0648\n",
            "Epoch 100/300, Loss: 0.0635\n",
            "Epoch 101/300, Loss: 0.0623\n",
            "Epoch 102/300, Loss: 0.0611\n",
            "Epoch 103/300, Loss: 0.0600\n",
            "Epoch 104/300, Loss: 0.0589\n",
            "Epoch 105/300, Loss: 0.0578\n",
            "Epoch 106/300, Loss: 0.0568\n",
            "Epoch 107/300, Loss: 0.0558\n",
            "Epoch 108/300, Loss: 0.0548\n",
            "Epoch 109/300, Loss: 0.0539\n",
            "Epoch 110/300, Loss: 0.0530\n",
            "Epoch 111/300, Loss: 0.0521\n",
            "Epoch 112/300, Loss: 0.0513\n",
            "Epoch 113/300, Loss: 0.0505\n",
            "Epoch 114/300, Loss: 0.0497\n",
            "Epoch 115/300, Loss: 0.0489\n",
            "Epoch 116/300, Loss: 0.0481\n",
            "Epoch 117/300, Loss: 0.0474\n",
            "Epoch 118/300, Loss: 0.0467\n",
            "Epoch 119/300, Loss: 0.0460\n",
            "Epoch 120/300, Loss: 0.0453\n",
            "Epoch 121/300, Loss: 0.0447\n",
            "Epoch 122/300, Loss: 0.0440\n",
            "Epoch 123/300, Loss: 0.0434\n",
            "Epoch 124/300, Loss: 0.0428\n",
            "Epoch 125/300, Loss: 0.0422\n",
            "Epoch 126/300, Loss: 0.0416\n",
            "Epoch 127/300, Loss: 0.0411\n",
            "Epoch 128/300, Loss: 0.0405\n",
            "Epoch 129/300, Loss: 0.0400\n",
            "Epoch 130/300, Loss: 0.0395\n",
            "Epoch 131/300, Loss: 0.0390\n",
            "Epoch 132/300, Loss: 0.0385\n",
            "Epoch 133/300, Loss: 0.0380\n",
            "Epoch 134/300, Loss: 0.0375\n",
            "Epoch 135/300, Loss: 0.0371\n",
            "Epoch 136/300, Loss: 0.0366\n",
            "Epoch 137/300, Loss: 0.0362\n",
            "Epoch 138/300, Loss: 0.0357\n",
            "Epoch 139/300, Loss: 0.0353\n",
            "Epoch 140/300, Loss: 0.0349\n",
            "Epoch 141/300, Loss: 0.0345\n",
            "Epoch 142/300, Loss: 0.0341\n",
            "Epoch 143/300, Loss: 0.0337\n",
            "Epoch 144/300, Loss: 0.0334\n",
            "Epoch 145/300, Loss: 0.0330\n",
            "Epoch 146/300, Loss: 0.0326\n",
            "Epoch 147/300, Loss: 0.0323\n",
            "Epoch 148/300, Loss: 0.0319\n",
            "Epoch 149/300, Loss: 0.0316\n",
            "Epoch 150/300, Loss: 0.0312\n",
            "Epoch 151/300, Loss: 0.0309\n",
            "Epoch 152/300, Loss: 0.0306\n",
            "Epoch 153/300, Loss: 0.0303\n",
            "Epoch 154/300, Loss: 0.0300\n",
            "Epoch 155/300, Loss: 0.0297\n",
            "Epoch 156/300, Loss: 0.0294\n",
            "Epoch 157/300, Loss: 0.0291\n",
            "Epoch 158/300, Loss: 0.0288\n",
            "Epoch 159/300, Loss: 0.0285\n",
            "Epoch 160/300, Loss: 0.0282\n",
            "Epoch 161/300, Loss: 0.0280\n",
            "Epoch 162/300, Loss: 0.0277\n",
            "Epoch 163/300, Loss: 0.0274\n",
            "Epoch 164/300, Loss: 0.0272\n",
            "Epoch 165/300, Loss: 0.0269\n",
            "Epoch 166/300, Loss: 0.0267\n",
            "Epoch 167/300, Loss: 0.0264\n",
            "Epoch 168/300, Loss: 0.0262\n",
            "Epoch 169/300, Loss: 0.0260\n",
            "Epoch 170/300, Loss: 0.0257\n",
            "Epoch 171/300, Loss: 0.0255\n",
            "Epoch 172/300, Loss: 0.0253\n",
            "Epoch 173/300, Loss: 0.0251\n",
            "Epoch 174/300, Loss: 0.0249\n",
            "Epoch 175/300, Loss: 0.0246\n",
            "Epoch 176/300, Loss: 0.0244\n",
            "Epoch 177/300, Loss: 0.0242\n",
            "Epoch 178/300, Loss: 0.0240\n",
            "Epoch 179/300, Loss: 0.0238\n",
            "Epoch 180/300, Loss: 0.0236\n",
            "Epoch 181/300, Loss: 0.0234\n",
            "Epoch 182/300, Loss: 0.0232\n",
            "Epoch 183/300, Loss: 0.0231\n",
            "Epoch 184/300, Loss: 0.0229\n",
            "Epoch 185/300, Loss: 0.0227\n",
            "Epoch 186/300, Loss: 0.0225\n",
            "Epoch 187/300, Loss: 0.0223\n",
            "Epoch 188/300, Loss: 0.0222\n",
            "Epoch 189/300, Loss: 0.0220\n",
            "Epoch 190/300, Loss: 0.0218\n",
            "Epoch 191/300, Loss: 0.0217\n",
            "Epoch 192/300, Loss: 0.0215\n",
            "Epoch 193/300, Loss: 0.0213\n",
            "Epoch 194/300, Loss: 0.0212\n",
            "Epoch 195/300, Loss: 0.0210\n",
            "Epoch 196/300, Loss: 0.0209\n",
            "Epoch 197/300, Loss: 0.0207\n",
            "Epoch 198/300, Loss: 0.0206\n",
            "Epoch 199/300, Loss: 0.0204\n",
            "Epoch 200/300, Loss: 0.0203\n",
            "Epoch 201/300, Loss: 0.0201\n",
            "Epoch 202/300, Loss: 0.0200\n",
            "Epoch 203/300, Loss: 0.0198\n",
            "Epoch 204/300, Loss: 0.0197\n",
            "Epoch 205/300, Loss: 0.0196\n",
            "Epoch 206/300, Loss: 0.0194\n",
            "Epoch 207/300, Loss: 0.0193\n",
            "Epoch 208/300, Loss: 0.0192\n",
            "Epoch 209/300, Loss: 0.0190\n",
            "Epoch 210/300, Loss: 0.0189\n",
            "Epoch 211/300, Loss: 0.0188\n",
            "Epoch 212/300, Loss: 0.0186\n",
            "Epoch 213/300, Loss: 0.0185\n",
            "Epoch 214/300, Loss: 0.0184\n",
            "Epoch 215/300, Loss: 0.0183\n",
            "Epoch 216/300, Loss: 0.0182\n",
            "Epoch 217/300, Loss: 0.0180\n",
            "Epoch 218/300, Loss: 0.0179\n",
            "Epoch 219/300, Loss: 0.0178\n",
            "Epoch 220/300, Loss: 0.0177\n",
            "Epoch 221/300, Loss: 0.0176\n",
            "Epoch 222/300, Loss: 0.0175\n",
            "Epoch 223/300, Loss: 0.0174\n",
            "Epoch 224/300, Loss: 0.0173\n",
            "Epoch 225/300, Loss: 0.0171\n",
            "Epoch 226/300, Loss: 0.0170\n",
            "Epoch 227/300, Loss: 0.0169\n",
            "Epoch 228/300, Loss: 0.0168\n",
            "Epoch 229/300, Loss: 0.0167\n",
            "Epoch 230/300, Loss: 0.0166\n",
            "Epoch 231/300, Loss: 0.0165\n",
            "Epoch 232/300, Loss: 0.0164\n",
            "Epoch 233/300, Loss: 0.0163\n",
            "Epoch 234/300, Loss: 0.0162\n",
            "Epoch 235/300, Loss: 0.0161\n",
            "Epoch 236/300, Loss: 0.0161\n",
            "Epoch 237/300, Loss: 0.0160\n",
            "Epoch 238/300, Loss: 0.0159\n",
            "Epoch 239/300, Loss: 0.0158\n",
            "Epoch 240/300, Loss: 0.0157\n",
            "Epoch 241/300, Loss: 0.0156\n",
            "Epoch 242/300, Loss: 0.0155\n",
            "Epoch 243/300, Loss: 0.0154\n",
            "Epoch 244/300, Loss: 0.0153\n",
            "Epoch 245/300, Loss: 0.0152\n",
            "Epoch 246/300, Loss: 0.0152\n",
            "Epoch 247/300, Loss: 0.0151\n",
            "Epoch 248/300, Loss: 0.0150\n",
            "Epoch 249/300, Loss: 0.0149\n",
            "Epoch 250/300, Loss: 0.0148\n",
            "Epoch 251/300, Loss: 0.0148\n",
            "Epoch 252/300, Loss: 0.0147\n",
            "Epoch 253/300, Loss: 0.0146\n",
            "Epoch 254/300, Loss: 0.0145\n",
            "Epoch 255/300, Loss: 0.0144\n",
            "Epoch 256/300, Loss: 0.0144\n",
            "Epoch 257/300, Loss: 0.0143\n",
            "Epoch 258/300, Loss: 0.0142\n",
            "Epoch 259/300, Loss: 0.0141\n",
            "Epoch 260/300, Loss: 0.0141\n",
            "Epoch 261/300, Loss: 0.0140\n",
            "Epoch 262/300, Loss: 0.0139\n",
            "Epoch 263/300, Loss: 0.0138\n",
            "Epoch 264/300, Loss: 0.0138\n",
            "Epoch 265/300, Loss: 0.0137\n",
            "Epoch 266/300, Loss: 0.0136\n",
            "Epoch 267/300, Loss: 0.0136\n",
            "Epoch 268/300, Loss: 0.0135\n",
            "Epoch 269/300, Loss: 0.0134\n",
            "Epoch 270/300, Loss: 0.0134\n",
            "Epoch 271/300, Loss: 0.0133\n",
            "Epoch 272/300, Loss: 0.0132\n",
            "Epoch 273/300, Loss: 0.0132\n",
            "Epoch 274/300, Loss: 0.0131\n",
            "Epoch 275/300, Loss: 0.0130\n",
            "Epoch 276/300, Loss: 0.0130\n",
            "Epoch 277/300, Loss: 0.0129\n",
            "Epoch 278/300, Loss: 0.0129\n",
            "Epoch 279/300, Loss: 0.0128\n",
            "Epoch 280/300, Loss: 0.0127\n",
            "Epoch 281/300, Loss: 0.0127\n",
            "Epoch 282/300, Loss: 0.0126\n",
            "Epoch 283/300, Loss: 0.0126\n",
            "Epoch 284/300, Loss: 0.0125\n",
            "Epoch 285/300, Loss: 0.0124\n",
            "Epoch 286/300, Loss: 0.0124\n",
            "Epoch 287/300, Loss: 0.0123\n",
            "Epoch 288/300, Loss: 0.0123\n",
            "Epoch 289/300, Loss: 0.0122\n",
            "Epoch 290/300, Loss: 0.0122\n",
            "Epoch 291/300, Loss: 0.0121\n",
            "Epoch 292/300, Loss: 0.0120\n",
            "Epoch 293/300, Loss: 0.0120\n",
            "Epoch 294/300, Loss: 0.0119\n",
            "Epoch 295/300, Loss: 0.0119\n",
            "Epoch 296/300, Loss: 0.0118\n",
            "Epoch 297/300, Loss: 0.0118\n",
            "Epoch 298/300, Loss: 0.0117\n",
            "Epoch 299/300, Loss: 0.0117\n",
            "Epoch 300/300, Loss: 0.0116\n"
          ]
        }
      ],
      "source": [
        "n_epochs = 300\n",
        "loss_list = train_model(model, optimizer, train_data_loader, loss_module, n_epochs)"
      ]
    },
    {
      "cell_type": "code",
      "execution_count": null,
      "metadata": {
        "colab": {
          "base_uri": "https://localhost:8080/",
          "height": 588
        },
        "id": "pcm12_hhARJl",
        "outputId": "4ff0580e-8483-445d-ba60-f2a584c64ca1"
      },
      "outputs": [
        {
          "output_type": "stream",
          "name": "stdout",
          "text": [
            "300\n",
            "300\n"
          ]
        },
        {
          "output_type": "display_data",
          "data": {
            "text/plain": [
              "<Figure size 800x600 with 1 Axes>"
            ],
            "image/svg+xml": "<?xml version=\"1.0\" encoding=\"utf-8\" standalone=\"no\"?>\n<!DOCTYPE svg PUBLIC \"-//W3C//DTD SVG 1.1//EN\"\n  \"http://www.w3.org/Graphics/SVG/1.1/DTD/svg11.dtd\">\n<svg xmlns:xlink=\"http://www.w3.org/1999/xlink\" width=\"501.2525pt\" height=\"399.425pt\" viewBox=\"0 0 501.2525 399.425\" xmlns=\"http://www.w3.org/2000/svg\" version=\"1.1\">\n <metadata>\n  <rdf:RDF xmlns:dc=\"http://purl.org/dc/elements/1.1/\" xmlns:cc=\"http://creativecommons.org/ns#\" xmlns:rdf=\"http://www.w3.org/1999/02/22-rdf-syntax-ns#\">\n   <cc:Work>\n    <dc:type rdf:resource=\"http://purl.org/dc/dcmitype/StillImage\"/>\n    <dc:date>2024-12-04T21:22:51.176247</dc:date>\n    <dc:format>image/svg+xml</dc:format>\n    <dc:creator>\n     <cc:Agent>\n      <dc:title>Matplotlib v3.8.0, https://matplotlib.org/</dc:title>\n     </cc:Agent>\n    </dc:creator>\n   </cc:Work>\n  </rdf:RDF>\n </metadata>\n <defs>\n  <style type=\"text/css\">*{stroke-linejoin: round; stroke-linecap: butt}</style>\n </defs>\n <g id=\"figure_1\">\n  <g id=\"patch_1\">\n   <path d=\"M 0 399.425 \nL 501.2525 399.425 \nL 501.2525 0 \nL 0 0 \nz\n\" style=\"fill: #ffffff\"/>\n  </g>\n  <g id=\"axes_1\">\n   <g id=\"patch_2\">\n    <path d=\"M 47.6525 357.9975 \nL 494.0525 357.9975 \nL 494.0525 25.3575 \nL 47.6525 25.3575 \nz\n\" style=\"fill: #ffffff\"/>\n   </g>\n   <g id=\"matplotlib.axis_1\">\n    <g id=\"xtick_1\">\n     <g id=\"line2d_1\">\n      <path d=\"M 66.586158 357.9975 \nL 66.586158 25.3575 \n\" clip-path=\"url(#p6a2c9fbd0b)\" style=\"fill: none; stroke-dasharray: 2.96,1.28; stroke-dashoffset: 0; stroke: #b0b0b0; stroke-opacity: 0.6; stroke-width: 0.8\"/>\n     </g>\n     <g id=\"line2d_2\">\n      <defs>\n       <path id=\"mfca270e7ea\" d=\"M 0 0 \nL 0 3.5 \n\" style=\"stroke: #000000; stroke-width: 0.8\"/>\n      </defs>\n      <g>\n       <use xlink:href=\"#mfca270e7ea\" x=\"66.586158\" y=\"357.9975\" style=\"stroke: #000000; stroke-width: 0.8\"/>\n      </g>\n     </g>\n     <g id=\"text_1\">\n      <!-- 0 -->\n      <g transform=\"translate(63.404908 372.595937) scale(0.1 -0.1)\">\n       <defs>\n        <path id=\"DejaVuSans-30\" d=\"M 2034 4250 \nQ 1547 4250 1301 3770 \nQ 1056 3291 1056 2328 \nQ 1056 1369 1301 889 \nQ 1547 409 2034 409 \nQ 2525 409 2770 889 \nQ 3016 1369 3016 2328 \nQ 3016 3291 2770 3770 \nQ 2525 4250 2034 4250 \nz\nM 2034 4750 \nQ 2819 4750 3233 4129 \nQ 3647 3509 3647 2328 \nQ 3647 1150 3233 529 \nQ 2819 -91 2034 -91 \nQ 1250 -91 836 529 \nQ 422 1150 422 2328 \nQ 422 3509 836 4129 \nQ 1250 4750 2034 4750 \nz\n\" transform=\"scale(0.015625)\"/>\n       </defs>\n       <use xlink:href=\"#DejaVuSans-30\"/>\n      </g>\n     </g>\n    </g>\n    <g id=\"xtick_2\">\n     <g id=\"line2d_3\">\n      <path d=\"M 134.44873 357.9975 \nL 134.44873 25.3575 \n\" clip-path=\"url(#p6a2c9fbd0b)\" style=\"fill: none; stroke-dasharray: 2.96,1.28; stroke-dashoffset: 0; stroke: #b0b0b0; stroke-opacity: 0.6; stroke-width: 0.8\"/>\n     </g>\n     <g id=\"line2d_4\">\n      <g>\n       <use xlink:href=\"#mfca270e7ea\" x=\"134.44873\" y=\"357.9975\" style=\"stroke: #000000; stroke-width: 0.8\"/>\n      </g>\n     </g>\n     <g id=\"text_2\">\n      <!-- 50 -->\n      <g transform=\"translate(128.08623 372.595937) scale(0.1 -0.1)\">\n       <defs>\n        <path id=\"DejaVuSans-35\" d=\"M 691 4666 \nL 3169 4666 \nL 3169 4134 \nL 1269 4134 \nL 1269 2991 \nQ 1406 3038 1543 3061 \nQ 1681 3084 1819 3084 \nQ 2600 3084 3056 2656 \nQ 3513 2228 3513 1497 \nQ 3513 744 3044 326 \nQ 2575 -91 1722 -91 \nQ 1428 -91 1123 -41 \nQ 819 9 494 109 \nL 494 744 \nQ 775 591 1075 516 \nQ 1375 441 1709 441 \nQ 2250 441 2565 725 \nQ 2881 1009 2881 1497 \nQ 2881 1984 2565 2268 \nQ 2250 2553 1709 2553 \nQ 1456 2553 1204 2497 \nQ 953 2441 691 2322 \nL 691 4666 \nz\n\" transform=\"scale(0.015625)\"/>\n       </defs>\n       <use xlink:href=\"#DejaVuSans-35\"/>\n       <use xlink:href=\"#DejaVuSans-30\" x=\"63.623047\"/>\n      </g>\n     </g>\n    </g>\n    <g id=\"xtick_3\">\n     <g id=\"line2d_5\">\n      <path d=\"M 202.311302 357.9975 \nL 202.311302 25.3575 \n\" clip-path=\"url(#p6a2c9fbd0b)\" style=\"fill: none; stroke-dasharray: 2.96,1.28; stroke-dashoffset: 0; stroke: #b0b0b0; stroke-opacity: 0.6; stroke-width: 0.8\"/>\n     </g>\n     <g id=\"line2d_6\">\n      <g>\n       <use xlink:href=\"#mfca270e7ea\" x=\"202.311302\" y=\"357.9975\" style=\"stroke: #000000; stroke-width: 0.8\"/>\n      </g>\n     </g>\n     <g id=\"text_3\">\n      <!-- 100 -->\n      <g transform=\"translate(192.767552 372.595937) scale(0.1 -0.1)\">\n       <defs>\n        <path id=\"DejaVuSans-31\" d=\"M 794 531 \nL 1825 531 \nL 1825 4091 \nL 703 3866 \nL 703 4441 \nL 1819 4666 \nL 2450 4666 \nL 2450 531 \nL 3481 531 \nL 3481 0 \nL 794 0 \nL 794 531 \nz\n\" transform=\"scale(0.015625)\"/>\n       </defs>\n       <use xlink:href=\"#DejaVuSans-31\"/>\n       <use xlink:href=\"#DejaVuSans-30\" x=\"63.623047\"/>\n       <use xlink:href=\"#DejaVuSans-30\" x=\"127.246094\"/>\n      </g>\n     </g>\n    </g>\n    <g id=\"xtick_4\">\n     <g id=\"line2d_7\">\n      <path d=\"M 270.173874 357.9975 \nL 270.173874 25.3575 \n\" clip-path=\"url(#p6a2c9fbd0b)\" style=\"fill: none; stroke-dasharray: 2.96,1.28; stroke-dashoffset: 0; stroke: #b0b0b0; stroke-opacity: 0.6; stroke-width: 0.8\"/>\n     </g>\n     <g id=\"line2d_8\">\n      <g>\n       <use xlink:href=\"#mfca270e7ea\" x=\"270.173874\" y=\"357.9975\" style=\"stroke: #000000; stroke-width: 0.8\"/>\n      </g>\n     </g>\n     <g id=\"text_4\">\n      <!-- 150 -->\n      <g transform=\"translate(260.630124 372.595937) scale(0.1 -0.1)\">\n       <use xlink:href=\"#DejaVuSans-31\"/>\n       <use xlink:href=\"#DejaVuSans-35\" x=\"63.623047\"/>\n       <use xlink:href=\"#DejaVuSans-30\" x=\"127.246094\"/>\n      </g>\n     </g>\n    </g>\n    <g id=\"xtick_5\">\n     <g id=\"line2d_9\">\n      <path d=\"M 338.036446 357.9975 \nL 338.036446 25.3575 \n\" clip-path=\"url(#p6a2c9fbd0b)\" style=\"fill: none; stroke-dasharray: 2.96,1.28; stroke-dashoffset: 0; stroke: #b0b0b0; stroke-opacity: 0.6; stroke-width: 0.8\"/>\n     </g>\n     <g id=\"line2d_10\">\n      <g>\n       <use xlink:href=\"#mfca270e7ea\" x=\"338.036446\" y=\"357.9975\" style=\"stroke: #000000; stroke-width: 0.8\"/>\n      </g>\n     </g>\n     <g id=\"text_5\">\n      <!-- 200 -->\n      <g transform=\"translate(328.492696 372.595937) scale(0.1 -0.1)\">\n       <defs>\n        <path id=\"DejaVuSans-32\" d=\"M 1228 531 \nL 3431 531 \nL 3431 0 \nL 469 0 \nL 469 531 \nQ 828 903 1448 1529 \nQ 2069 2156 2228 2338 \nQ 2531 2678 2651 2914 \nQ 2772 3150 2772 3378 \nQ 2772 3750 2511 3984 \nQ 2250 4219 1831 4219 \nQ 1534 4219 1204 4116 \nQ 875 4013 500 3803 \nL 500 4441 \nQ 881 4594 1212 4672 \nQ 1544 4750 1819 4750 \nQ 2544 4750 2975 4387 \nQ 3406 4025 3406 3419 \nQ 3406 3131 3298 2873 \nQ 3191 2616 2906 2266 \nQ 2828 2175 2409 1742 \nQ 1991 1309 1228 531 \nz\n\" transform=\"scale(0.015625)\"/>\n       </defs>\n       <use xlink:href=\"#DejaVuSans-32\"/>\n       <use xlink:href=\"#DejaVuSans-30\" x=\"63.623047\"/>\n       <use xlink:href=\"#DejaVuSans-30\" x=\"127.246094\"/>\n      </g>\n     </g>\n    </g>\n    <g id=\"xtick_6\">\n     <g id=\"line2d_11\">\n      <path d=\"M 405.899019 357.9975 \nL 405.899019 25.3575 \n\" clip-path=\"url(#p6a2c9fbd0b)\" style=\"fill: none; stroke-dasharray: 2.96,1.28; stroke-dashoffset: 0; stroke: #b0b0b0; stroke-opacity: 0.6; stroke-width: 0.8\"/>\n     </g>\n     <g id=\"line2d_12\">\n      <g>\n       <use xlink:href=\"#mfca270e7ea\" x=\"405.899019\" y=\"357.9975\" style=\"stroke: #000000; stroke-width: 0.8\"/>\n      </g>\n     </g>\n     <g id=\"text_6\">\n      <!-- 250 -->\n      <g transform=\"translate(396.355269 372.595937) scale(0.1 -0.1)\">\n       <use xlink:href=\"#DejaVuSans-32\"/>\n       <use xlink:href=\"#DejaVuSans-35\" x=\"63.623047\"/>\n       <use xlink:href=\"#DejaVuSans-30\" x=\"127.246094\"/>\n      </g>\n     </g>\n    </g>\n    <g id=\"xtick_7\">\n     <g id=\"line2d_13\">\n      <path d=\"M 473.761591 357.9975 \nL 473.761591 25.3575 \n\" clip-path=\"url(#p6a2c9fbd0b)\" style=\"fill: none; stroke-dasharray: 2.96,1.28; stroke-dashoffset: 0; stroke: #b0b0b0; stroke-opacity: 0.6; stroke-width: 0.8\"/>\n     </g>\n     <g id=\"line2d_14\">\n      <g>\n       <use xlink:href=\"#mfca270e7ea\" x=\"473.761591\" y=\"357.9975\" style=\"stroke: #000000; stroke-width: 0.8\"/>\n      </g>\n     </g>\n     <g id=\"text_7\">\n      <!-- 300 -->\n      <g transform=\"translate(464.217841 372.595937) scale(0.1 -0.1)\">\n       <defs>\n        <path id=\"DejaVuSans-33\" d=\"M 2597 2516 \nQ 3050 2419 3304 2112 \nQ 3559 1806 3559 1356 \nQ 3559 666 3084 287 \nQ 2609 -91 1734 -91 \nQ 1441 -91 1130 -33 \nQ 819 25 488 141 \nL 488 750 \nQ 750 597 1062 519 \nQ 1375 441 1716 441 \nQ 2309 441 2620 675 \nQ 2931 909 2931 1356 \nQ 2931 1769 2642 2001 \nQ 2353 2234 1838 2234 \nL 1294 2234 \nL 1294 2753 \nL 1863 2753 \nQ 2328 2753 2575 2939 \nQ 2822 3125 2822 3475 \nQ 2822 3834 2567 4026 \nQ 2313 4219 1838 4219 \nQ 1578 4219 1281 4162 \nQ 984 4106 628 3988 \nL 628 4550 \nQ 988 4650 1302 4700 \nQ 1616 4750 1894 4750 \nQ 2613 4750 3031 4423 \nQ 3450 4097 3450 3541 \nQ 3450 3153 3228 2886 \nQ 3006 2619 2597 2516 \nz\n\" transform=\"scale(0.015625)\"/>\n       </defs>\n       <use xlink:href=\"#DejaVuSans-33\"/>\n       <use xlink:href=\"#DejaVuSans-30\" x=\"63.623047\"/>\n       <use xlink:href=\"#DejaVuSans-30\" x=\"127.246094\"/>\n      </g>\n     </g>\n    </g>\n    <g id=\"text_8\">\n     <!-- Epoch -->\n     <g transform=\"translate(249.417187 389.313437) scale(0.14 -0.14)\">\n      <defs>\n       <path id=\"DejaVuSans-45\" d=\"M 628 4666 \nL 3578 4666 \nL 3578 4134 \nL 1259 4134 \nL 1259 2753 \nL 3481 2753 \nL 3481 2222 \nL 1259 2222 \nL 1259 531 \nL 3634 531 \nL 3634 0 \nL 628 0 \nL 628 4666 \nz\n\" transform=\"scale(0.015625)\"/>\n       <path id=\"DejaVuSans-70\" d=\"M 1159 525 \nL 1159 -1331 \nL 581 -1331 \nL 581 3500 \nL 1159 3500 \nL 1159 2969 \nQ 1341 3281 1617 3432 \nQ 1894 3584 2278 3584 \nQ 2916 3584 3314 3078 \nQ 3713 2572 3713 1747 \nQ 3713 922 3314 415 \nQ 2916 -91 2278 -91 \nQ 1894 -91 1617 61 \nQ 1341 213 1159 525 \nz\nM 3116 1747 \nQ 3116 2381 2855 2742 \nQ 2594 3103 2138 3103 \nQ 1681 3103 1420 2742 \nQ 1159 2381 1159 1747 \nQ 1159 1113 1420 752 \nQ 1681 391 2138 391 \nQ 2594 391 2855 752 \nQ 3116 1113 3116 1747 \nz\n\" transform=\"scale(0.015625)\"/>\n       <path id=\"DejaVuSans-6f\" d=\"M 1959 3097 \nQ 1497 3097 1228 2736 \nQ 959 2375 959 1747 \nQ 959 1119 1226 758 \nQ 1494 397 1959 397 \nQ 2419 397 2687 759 \nQ 2956 1122 2956 1747 \nQ 2956 2369 2687 2733 \nQ 2419 3097 1959 3097 \nz\nM 1959 3584 \nQ 2709 3584 3137 3096 \nQ 3566 2609 3566 1747 \nQ 3566 888 3137 398 \nQ 2709 -91 1959 -91 \nQ 1206 -91 779 398 \nQ 353 888 353 1747 \nQ 353 2609 779 3096 \nQ 1206 3584 1959 3584 \nz\n\" transform=\"scale(0.015625)\"/>\n       <path id=\"DejaVuSans-63\" d=\"M 3122 3366 \nL 3122 2828 \nQ 2878 2963 2633 3030 \nQ 2388 3097 2138 3097 \nQ 1578 3097 1268 2742 \nQ 959 2388 959 1747 \nQ 959 1106 1268 751 \nQ 1578 397 2138 397 \nQ 2388 397 2633 464 \nQ 2878 531 3122 666 \nL 3122 134 \nQ 2881 22 2623 -34 \nQ 2366 -91 2075 -91 \nQ 1284 -91 818 406 \nQ 353 903 353 1747 \nQ 353 2603 823 3093 \nQ 1294 3584 2113 3584 \nQ 2378 3584 2631 3529 \nQ 2884 3475 3122 3366 \nz\n\" transform=\"scale(0.015625)\"/>\n       <path id=\"DejaVuSans-68\" d=\"M 3513 2113 \nL 3513 0 \nL 2938 0 \nL 2938 2094 \nQ 2938 2591 2744 2837 \nQ 2550 3084 2163 3084 \nQ 1697 3084 1428 2787 \nQ 1159 2491 1159 1978 \nL 1159 0 \nL 581 0 \nL 581 4863 \nL 1159 4863 \nL 1159 2956 \nQ 1366 3272 1645 3428 \nQ 1925 3584 2291 3584 \nQ 2894 3584 3203 3211 \nQ 3513 2838 3513 2113 \nz\n\" transform=\"scale(0.015625)\"/>\n      </defs>\n      <use xlink:href=\"#DejaVuSans-45\"/>\n      <use xlink:href=\"#DejaVuSans-70\" x=\"63.183594\"/>\n      <use xlink:href=\"#DejaVuSans-6f\" x=\"126.660156\"/>\n      <use xlink:href=\"#DejaVuSans-63\" x=\"187.841797\"/>\n      <use xlink:href=\"#DejaVuSans-68\" x=\"242.822266\"/>\n     </g>\n    </g>\n   </g>\n   <g id=\"matplotlib.axis_2\">\n    <g id=\"ytick_1\">\n     <g id=\"line2d_15\">\n      <path d=\"M 47.6525 347.661736 \nL 494.0525 347.661736 \n\" clip-path=\"url(#p6a2c9fbd0b)\" style=\"fill: none; stroke-dasharray: 2.96,1.28; stroke-dashoffset: 0; stroke: #b0b0b0; stroke-opacity: 0.6; stroke-width: 0.8\"/>\n     </g>\n     <g id=\"line2d_16\">\n      <defs>\n       <path id=\"m7f9e619164\" d=\"M 0 0 \nL -3.5 0 \n\" style=\"stroke: #000000; stroke-width: 0.8\"/>\n      </defs>\n      <g>\n       <use xlink:href=\"#m7f9e619164\" x=\"47.6525\" y=\"347.661736\" style=\"stroke: #000000; stroke-width: 0.8\"/>\n      </g>\n     </g>\n     <g id=\"text_9\">\n      <!-- 0.0 -->\n      <g transform=\"translate(24.749375 351.460954) scale(0.1 -0.1)\">\n       <defs>\n        <path id=\"DejaVuSans-2e\" d=\"M 684 794 \nL 1344 794 \nL 1344 0 \nL 684 0 \nL 684 794 \nz\n\" transform=\"scale(0.015625)\"/>\n       </defs>\n       <use xlink:href=\"#DejaVuSans-30\"/>\n       <use xlink:href=\"#DejaVuSans-2e\" x=\"63.623047\"/>\n       <use xlink:href=\"#DejaVuSans-30\" x=\"95.410156\"/>\n      </g>\n     </g>\n    </g>\n    <g id=\"ytick_2\">\n     <g id=\"line2d_17\">\n      <path d=\"M 47.6525 306.512212 \nL 494.0525 306.512212 \n\" clip-path=\"url(#p6a2c9fbd0b)\" style=\"fill: none; stroke-dasharray: 2.96,1.28; stroke-dashoffset: 0; stroke: #b0b0b0; stroke-opacity: 0.6; stroke-width: 0.8\"/>\n     </g>\n     <g id=\"line2d_18\">\n      <g>\n       <use xlink:href=\"#m7f9e619164\" x=\"47.6525\" y=\"306.512212\" style=\"stroke: #000000; stroke-width: 0.8\"/>\n      </g>\n     </g>\n     <g id=\"text_10\">\n      <!-- 0.1 -->\n      <g transform=\"translate(24.749375 310.311431) scale(0.1 -0.1)\">\n       <use xlink:href=\"#DejaVuSans-30\"/>\n       <use xlink:href=\"#DejaVuSans-2e\" x=\"63.623047\"/>\n       <use xlink:href=\"#DejaVuSans-31\" x=\"95.410156\"/>\n      </g>\n     </g>\n    </g>\n    <g id=\"ytick_3\">\n     <g id=\"line2d_19\">\n      <path d=\"M 47.6525 265.362689 \nL 494.0525 265.362689 \n\" clip-path=\"url(#p6a2c9fbd0b)\" style=\"fill: none; stroke-dasharray: 2.96,1.28; stroke-dashoffset: 0; stroke: #b0b0b0; stroke-opacity: 0.6; stroke-width: 0.8\"/>\n     </g>\n     <g id=\"line2d_20\">\n      <g>\n       <use xlink:href=\"#m7f9e619164\" x=\"47.6525\" y=\"265.362689\" style=\"stroke: #000000; stroke-width: 0.8\"/>\n      </g>\n     </g>\n     <g id=\"text_11\">\n      <!-- 0.2 -->\n      <g transform=\"translate(24.749375 269.161908) scale(0.1 -0.1)\">\n       <use xlink:href=\"#DejaVuSans-30\"/>\n       <use xlink:href=\"#DejaVuSans-2e\" x=\"63.623047\"/>\n       <use xlink:href=\"#DejaVuSans-32\" x=\"95.410156\"/>\n      </g>\n     </g>\n    </g>\n    <g id=\"ytick_4\">\n     <g id=\"line2d_21\">\n      <path d=\"M 47.6525 224.213166 \nL 494.0525 224.213166 \n\" clip-path=\"url(#p6a2c9fbd0b)\" style=\"fill: none; stroke-dasharray: 2.96,1.28; stroke-dashoffset: 0; stroke: #b0b0b0; stroke-opacity: 0.6; stroke-width: 0.8\"/>\n     </g>\n     <g id=\"line2d_22\">\n      <g>\n       <use xlink:href=\"#m7f9e619164\" x=\"47.6525\" y=\"224.213166\" style=\"stroke: #000000; stroke-width: 0.8\"/>\n      </g>\n     </g>\n     <g id=\"text_12\">\n      <!-- 0.3 -->\n      <g transform=\"translate(24.749375 228.012385) scale(0.1 -0.1)\">\n       <use xlink:href=\"#DejaVuSans-30\"/>\n       <use xlink:href=\"#DejaVuSans-2e\" x=\"63.623047\"/>\n       <use xlink:href=\"#DejaVuSans-33\" x=\"95.410156\"/>\n      </g>\n     </g>\n    </g>\n    <g id=\"ytick_5\">\n     <g id=\"line2d_23\">\n      <path d=\"M 47.6525 183.063643 \nL 494.0525 183.063643 \n\" clip-path=\"url(#p6a2c9fbd0b)\" style=\"fill: none; stroke-dasharray: 2.96,1.28; stroke-dashoffset: 0; stroke: #b0b0b0; stroke-opacity: 0.6; stroke-width: 0.8\"/>\n     </g>\n     <g id=\"line2d_24\">\n      <g>\n       <use xlink:href=\"#m7f9e619164\" x=\"47.6525\" y=\"183.063643\" style=\"stroke: #000000; stroke-width: 0.8\"/>\n      </g>\n     </g>\n     <g id=\"text_13\">\n      <!-- 0.4 -->\n      <g transform=\"translate(24.749375 186.862862) scale(0.1 -0.1)\">\n       <defs>\n        <path id=\"DejaVuSans-34\" d=\"M 2419 4116 \nL 825 1625 \nL 2419 1625 \nL 2419 4116 \nz\nM 2253 4666 \nL 3047 4666 \nL 3047 1625 \nL 3713 1625 \nL 3713 1100 \nL 3047 1100 \nL 3047 0 \nL 2419 0 \nL 2419 1100 \nL 313 1100 \nL 313 1709 \nL 2253 4666 \nz\n\" transform=\"scale(0.015625)\"/>\n       </defs>\n       <use xlink:href=\"#DejaVuSans-30\"/>\n       <use xlink:href=\"#DejaVuSans-2e\" x=\"63.623047\"/>\n       <use xlink:href=\"#DejaVuSans-34\" x=\"95.410156\"/>\n      </g>\n     </g>\n    </g>\n    <g id=\"ytick_6\">\n     <g id=\"line2d_25\">\n      <path d=\"M 47.6525 141.91412 \nL 494.0525 141.91412 \n\" clip-path=\"url(#p6a2c9fbd0b)\" style=\"fill: none; stroke-dasharray: 2.96,1.28; stroke-dashoffset: 0; stroke: #b0b0b0; stroke-opacity: 0.6; stroke-width: 0.8\"/>\n     </g>\n     <g id=\"line2d_26\">\n      <g>\n       <use xlink:href=\"#m7f9e619164\" x=\"47.6525\" y=\"141.91412\" style=\"stroke: #000000; stroke-width: 0.8\"/>\n      </g>\n     </g>\n     <g id=\"text_14\">\n      <!-- 0.5 -->\n      <g transform=\"translate(24.749375 145.713338) scale(0.1 -0.1)\">\n       <use xlink:href=\"#DejaVuSans-30\"/>\n       <use xlink:href=\"#DejaVuSans-2e\" x=\"63.623047\"/>\n       <use xlink:href=\"#DejaVuSans-35\" x=\"95.410156\"/>\n      </g>\n     </g>\n    </g>\n    <g id=\"ytick_7\">\n     <g id=\"line2d_27\">\n      <path d=\"M 47.6525 100.764597 \nL 494.0525 100.764597 \n\" clip-path=\"url(#p6a2c9fbd0b)\" style=\"fill: none; stroke-dasharray: 2.96,1.28; stroke-dashoffset: 0; stroke: #b0b0b0; stroke-opacity: 0.6; stroke-width: 0.8\"/>\n     </g>\n     <g id=\"line2d_28\">\n      <g>\n       <use xlink:href=\"#m7f9e619164\" x=\"47.6525\" y=\"100.764597\" style=\"stroke: #000000; stroke-width: 0.8\"/>\n      </g>\n     </g>\n     <g id=\"text_15\">\n      <!-- 0.6 -->\n      <g transform=\"translate(24.749375 104.563815) scale(0.1 -0.1)\">\n       <defs>\n        <path id=\"DejaVuSans-36\" d=\"M 2113 2584 \nQ 1688 2584 1439 2293 \nQ 1191 2003 1191 1497 \nQ 1191 994 1439 701 \nQ 1688 409 2113 409 \nQ 2538 409 2786 701 \nQ 3034 994 3034 1497 \nQ 3034 2003 2786 2293 \nQ 2538 2584 2113 2584 \nz\nM 3366 4563 \nL 3366 3988 \nQ 3128 4100 2886 4159 \nQ 2644 4219 2406 4219 \nQ 1781 4219 1451 3797 \nQ 1122 3375 1075 2522 \nQ 1259 2794 1537 2939 \nQ 1816 3084 2150 3084 \nQ 2853 3084 3261 2657 \nQ 3669 2231 3669 1497 \nQ 3669 778 3244 343 \nQ 2819 -91 2113 -91 \nQ 1303 -91 875 529 \nQ 447 1150 447 2328 \nQ 447 3434 972 4092 \nQ 1497 4750 2381 4750 \nQ 2619 4750 2861 4703 \nQ 3103 4656 3366 4563 \nz\n\" transform=\"scale(0.015625)\"/>\n       </defs>\n       <use xlink:href=\"#DejaVuSans-30\"/>\n       <use xlink:href=\"#DejaVuSans-2e\" x=\"63.623047\"/>\n       <use xlink:href=\"#DejaVuSans-36\" x=\"95.410156\"/>\n      </g>\n     </g>\n    </g>\n    <g id=\"ytick_8\">\n     <g id=\"line2d_29\">\n      <path d=\"M 47.6525 59.615073 \nL 494.0525 59.615073 \n\" clip-path=\"url(#p6a2c9fbd0b)\" style=\"fill: none; stroke-dasharray: 2.96,1.28; stroke-dashoffset: 0; stroke: #b0b0b0; stroke-opacity: 0.6; stroke-width: 0.8\"/>\n     </g>\n     <g id=\"line2d_30\">\n      <g>\n       <use xlink:href=\"#m7f9e619164\" x=\"47.6525\" y=\"59.615073\" style=\"stroke: #000000; stroke-width: 0.8\"/>\n      </g>\n     </g>\n     <g id=\"text_16\">\n      <!-- 0.7 -->\n      <g transform=\"translate(24.749375 63.414292) scale(0.1 -0.1)\">\n       <defs>\n        <path id=\"DejaVuSans-37\" d=\"M 525 4666 \nL 3525 4666 \nL 3525 4397 \nL 1831 0 \nL 1172 0 \nL 2766 4134 \nL 525 4134 \nL 525 4666 \nz\n\" transform=\"scale(0.015625)\"/>\n       </defs>\n       <use xlink:href=\"#DejaVuSans-30\"/>\n       <use xlink:href=\"#DejaVuSans-2e\" x=\"63.623047\"/>\n       <use xlink:href=\"#DejaVuSans-37\" x=\"95.410156\"/>\n      </g>\n     </g>\n    </g>\n    <g id=\"text_17\">\n     <!-- Loss -->\n     <g transform=\"translate(17.837812 207.031562) rotate(-90) scale(0.14 -0.14)\">\n      <defs>\n       <path id=\"DejaVuSans-4c\" d=\"M 628 4666 \nL 1259 4666 \nL 1259 531 \nL 3531 531 \nL 3531 0 \nL 628 0 \nL 628 4666 \nz\n\" transform=\"scale(0.015625)\"/>\n       <path id=\"DejaVuSans-73\" d=\"M 2834 3397 \nL 2834 2853 \nQ 2591 2978 2328 3040 \nQ 2066 3103 1784 3103 \nQ 1356 3103 1142 2972 \nQ 928 2841 928 2578 \nQ 928 2378 1081 2264 \nQ 1234 2150 1697 2047 \nL 1894 2003 \nQ 2506 1872 2764 1633 \nQ 3022 1394 3022 966 \nQ 3022 478 2636 193 \nQ 2250 -91 1575 -91 \nQ 1294 -91 989 -36 \nQ 684 19 347 128 \nL 347 722 \nQ 666 556 975 473 \nQ 1284 391 1588 391 \nQ 1994 391 2212 530 \nQ 2431 669 2431 922 \nQ 2431 1156 2273 1281 \nQ 2116 1406 1581 1522 \nL 1381 1569 \nQ 847 1681 609 1914 \nQ 372 2147 372 2553 \nQ 372 3047 722 3315 \nQ 1072 3584 1716 3584 \nQ 2034 3584 2315 3537 \nQ 2597 3491 2834 3397 \nz\n\" transform=\"scale(0.015625)\"/>\n      </defs>\n      <use xlink:href=\"#DejaVuSans-4c\"/>\n      <use xlink:href=\"#DejaVuSans-6f\" x=\"53.962891\"/>\n      <use xlink:href=\"#DejaVuSans-73\" x=\"115.144531\"/>\n      <use xlink:href=\"#DejaVuSans-73\" x=\"167.244141\"/>\n     </g>\n    </g>\n   </g>\n   <g id=\"line2d_31\">\n    <path d=\"M 67.943409 40.4775 \nL 69.300661 55.78442 \nL 70.657912 61.611336 \nL 72.015163 63.959283 \nL 73.372415 65.012935 \nL 74.729666 65.667915 \nL 78.801421 67.072447 \nL 82.873175 68.795228 \nL 85.587678 70.239576 \nL 88.302181 72.022188 \nL 91.016684 74.163964 \nL 93.731187 76.8016 \nL 95.088438 78.349408 \nL 97.802941 81.911215 \nL 99.160192 83.9234 \nL 101.874695 88.762161 \nL 104.589198 94.507325 \nL 107.303701 101.30204 \nL 110.018204 109.230691 \nL 112.732707 118.415168 \nL 115.44721 128.751578 \nL 118.161713 140.170856 \nL 120.876215 152.470896 \nL 124.94797 172.078472 \nL 131.734227 204.855665 \nL 134.44873 217.045332 \nL 137.163233 228.413871 \nL 139.877736 238.820724 \nL 142.592239 248.220108 \nL 145.306741 256.62346 \nL 148.021244 264.111066 \nL 150.735747 270.772632 \nL 153.45025 276.693147 \nL 156.164753 281.948405 \nL 158.879256 286.623315 \nL 161.593759 290.782182 \nL 164.308262 294.51415 \nL 167.022765 297.852112 \nL 169.737267 300.852356 \nL 172.45177 303.564861 \nL 175.166273 306.016726 \nL 177.880776 308.237495 \nL 180.595279 310.263245 \nL 184.667033 312.976487 \nL 188.738788 315.367795 \nL 192.810542 317.469008 \nL 196.882296 319.343902 \nL 202.311302 321.53395 \nL 207.740308 323.43215 \nL 213.169314 325.094196 \nL 218.598319 326.557456 \nL 225.384577 328.154472 \nL 232.170834 329.54122 \nL 240.314343 330.9806 \nL 249.815103 332.407413 \nL 259.315863 333.623488 \nL 270.173874 334.805375 \nL 283.746389 336.040638 \nL 297.318903 337.070547 \nL 313.60592 338.097766 \nL 332.607441 339.079819 \nL 355.680715 340.041266 \nL 381.468493 340.899288 \nL 412.685276 341.719581 \nL 449.331065 342.470042 \nL 473.761591 342.8775 \nL 473.761591 342.8775 \n\" clip-path=\"url(#p6a2c9fbd0b)\" style=\"fill: none; stroke: #0000ff; stroke-width: 1.5; stroke-linecap: square\"/>\n   </g>\n   <g id=\"patch_3\">\n    <path d=\"M 47.6525 357.9975 \nL 47.6525 25.3575 \n\" style=\"fill: none; stroke: #000000; stroke-width: 0.8; stroke-linejoin: miter; stroke-linecap: square\"/>\n   </g>\n   <g id=\"patch_4\">\n    <path d=\"M 494.0525 357.9975 \nL 494.0525 25.3575 \n\" style=\"fill: none; stroke: #000000; stroke-width: 0.8; stroke-linejoin: miter; stroke-linecap: square\"/>\n   </g>\n   <g id=\"patch_5\">\n    <path d=\"M 47.6525 357.9975 \nL 494.0525 357.9975 \n\" style=\"fill: none; stroke: #000000; stroke-width: 0.8; stroke-linejoin: miter; stroke-linecap: square\"/>\n   </g>\n   <g id=\"patch_6\">\n    <path d=\"M 47.6525 25.3575 \nL 494.0525 25.3575 \n\" style=\"fill: none; stroke: #000000; stroke-width: 0.8; stroke-linejoin: miter; stroke-linecap: square\"/>\n   </g>\n   <g id=\"text_18\">\n    <!-- Training Loss Over Epochs -->\n    <g transform=\"translate(166.2075 19.3575) scale(0.16 -0.16)\">\n     <defs>\n      <path id=\"DejaVuSans-54\" d=\"M -19 4666 \nL 3928 4666 \nL 3928 4134 \nL 2272 4134 \nL 2272 0 \nL 1638 0 \nL 1638 4134 \nL -19 4134 \nL -19 4666 \nz\n\" transform=\"scale(0.015625)\"/>\n      <path id=\"DejaVuSans-72\" d=\"M 2631 2963 \nQ 2534 3019 2420 3045 \nQ 2306 3072 2169 3072 \nQ 1681 3072 1420 2755 \nQ 1159 2438 1159 1844 \nL 1159 0 \nL 581 0 \nL 581 3500 \nL 1159 3500 \nL 1159 2956 \nQ 1341 3275 1631 3429 \nQ 1922 3584 2338 3584 \nQ 2397 3584 2469 3576 \nQ 2541 3569 2628 3553 \nL 2631 2963 \nz\n\" transform=\"scale(0.015625)\"/>\n      <path id=\"DejaVuSans-61\" d=\"M 2194 1759 \nQ 1497 1759 1228 1600 \nQ 959 1441 959 1056 \nQ 959 750 1161 570 \nQ 1363 391 1709 391 \nQ 2188 391 2477 730 \nQ 2766 1069 2766 1631 \nL 2766 1759 \nL 2194 1759 \nz\nM 3341 1997 \nL 3341 0 \nL 2766 0 \nL 2766 531 \nQ 2569 213 2275 61 \nQ 1981 -91 1556 -91 \nQ 1019 -91 701 211 \nQ 384 513 384 1019 \nQ 384 1609 779 1909 \nQ 1175 2209 1959 2209 \nL 2766 2209 \nL 2766 2266 \nQ 2766 2663 2505 2880 \nQ 2244 3097 1772 3097 \nQ 1472 3097 1187 3025 \nQ 903 2953 641 2809 \nL 641 3341 \nQ 956 3463 1253 3523 \nQ 1550 3584 1831 3584 \nQ 2591 3584 2966 3190 \nQ 3341 2797 3341 1997 \nz\n\" transform=\"scale(0.015625)\"/>\n      <path id=\"DejaVuSans-69\" d=\"M 603 3500 \nL 1178 3500 \nL 1178 0 \nL 603 0 \nL 603 3500 \nz\nM 603 4863 \nL 1178 4863 \nL 1178 4134 \nL 603 4134 \nL 603 4863 \nz\n\" transform=\"scale(0.015625)\"/>\n      <path id=\"DejaVuSans-6e\" d=\"M 3513 2113 \nL 3513 0 \nL 2938 0 \nL 2938 2094 \nQ 2938 2591 2744 2837 \nQ 2550 3084 2163 3084 \nQ 1697 3084 1428 2787 \nQ 1159 2491 1159 1978 \nL 1159 0 \nL 581 0 \nL 581 3500 \nL 1159 3500 \nL 1159 2956 \nQ 1366 3272 1645 3428 \nQ 1925 3584 2291 3584 \nQ 2894 3584 3203 3211 \nQ 3513 2838 3513 2113 \nz\n\" transform=\"scale(0.015625)\"/>\n      <path id=\"DejaVuSans-67\" d=\"M 2906 1791 \nQ 2906 2416 2648 2759 \nQ 2391 3103 1925 3103 \nQ 1463 3103 1205 2759 \nQ 947 2416 947 1791 \nQ 947 1169 1205 825 \nQ 1463 481 1925 481 \nQ 2391 481 2648 825 \nQ 2906 1169 2906 1791 \nz\nM 3481 434 \nQ 3481 -459 3084 -895 \nQ 2688 -1331 1869 -1331 \nQ 1566 -1331 1297 -1286 \nQ 1028 -1241 775 -1147 \nL 775 -588 \nQ 1028 -725 1275 -790 \nQ 1522 -856 1778 -856 \nQ 2344 -856 2625 -561 \nQ 2906 -266 2906 331 \nL 2906 616 \nQ 2728 306 2450 153 \nQ 2172 0 1784 0 \nQ 1141 0 747 490 \nQ 353 981 353 1791 \nQ 353 2603 747 3093 \nQ 1141 3584 1784 3584 \nQ 2172 3584 2450 3431 \nQ 2728 3278 2906 2969 \nL 2906 3500 \nL 3481 3500 \nL 3481 434 \nz\n\" transform=\"scale(0.015625)\"/>\n      <path id=\"DejaVuSans-20\" transform=\"scale(0.015625)\"/>\n      <path id=\"DejaVuSans-4f\" d=\"M 2522 4238 \nQ 1834 4238 1429 3725 \nQ 1025 3213 1025 2328 \nQ 1025 1447 1429 934 \nQ 1834 422 2522 422 \nQ 3209 422 3611 934 \nQ 4013 1447 4013 2328 \nQ 4013 3213 3611 3725 \nQ 3209 4238 2522 4238 \nz\nM 2522 4750 \nQ 3503 4750 4090 4092 \nQ 4678 3434 4678 2328 \nQ 4678 1225 4090 567 \nQ 3503 -91 2522 -91 \nQ 1538 -91 948 565 \nQ 359 1222 359 2328 \nQ 359 3434 948 4092 \nQ 1538 4750 2522 4750 \nz\n\" transform=\"scale(0.015625)\"/>\n      <path id=\"DejaVuSans-76\" d=\"M 191 3500 \nL 800 3500 \nL 1894 563 \nL 2988 3500 \nL 3597 3500 \nL 2284 0 \nL 1503 0 \nL 191 3500 \nz\n\" transform=\"scale(0.015625)\"/>\n      <path id=\"DejaVuSans-65\" d=\"M 3597 1894 \nL 3597 1613 \nL 953 1613 \nQ 991 1019 1311 708 \nQ 1631 397 2203 397 \nQ 2534 397 2845 478 \nQ 3156 559 3463 722 \nL 3463 178 \nQ 3153 47 2828 -22 \nQ 2503 -91 2169 -91 \nQ 1331 -91 842 396 \nQ 353 884 353 1716 \nQ 353 2575 817 3079 \nQ 1281 3584 2069 3584 \nQ 2775 3584 3186 3129 \nQ 3597 2675 3597 1894 \nz\nM 3022 2063 \nQ 3016 2534 2758 2815 \nQ 2500 3097 2075 3097 \nQ 1594 3097 1305 2825 \nQ 1016 2553 972 2059 \nL 3022 2063 \nz\n\" transform=\"scale(0.015625)\"/>\n     </defs>\n     <use xlink:href=\"#DejaVuSans-54\"/>\n     <use xlink:href=\"#DejaVuSans-72\" x=\"46.333984\"/>\n     <use xlink:href=\"#DejaVuSans-61\" x=\"87.447266\"/>\n     <use xlink:href=\"#DejaVuSans-69\" x=\"148.726562\"/>\n     <use xlink:href=\"#DejaVuSans-6e\" x=\"176.509766\"/>\n     <use xlink:href=\"#DejaVuSans-69\" x=\"239.888672\"/>\n     <use xlink:href=\"#DejaVuSans-6e\" x=\"267.671875\"/>\n     <use xlink:href=\"#DejaVuSans-67\" x=\"331.050781\"/>\n     <use xlink:href=\"#DejaVuSans-20\" x=\"394.527344\"/>\n     <use xlink:href=\"#DejaVuSans-4c\" x=\"426.314453\"/>\n     <use xlink:href=\"#DejaVuSans-6f\" x=\"480.277344\"/>\n     <use xlink:href=\"#DejaVuSans-73\" x=\"541.458984\"/>\n     <use xlink:href=\"#DejaVuSans-73\" x=\"593.558594\"/>\n     <use xlink:href=\"#DejaVuSans-20\" x=\"645.658203\"/>\n     <use xlink:href=\"#DejaVuSans-4f\" x=\"677.445312\"/>\n     <use xlink:href=\"#DejaVuSans-76\" x=\"756.15625\"/>\n     <use xlink:href=\"#DejaVuSans-65\" x=\"815.335938\"/>\n     <use xlink:href=\"#DejaVuSans-72\" x=\"876.859375\"/>\n     <use xlink:href=\"#DejaVuSans-20\" x=\"917.972656\"/>\n     <use xlink:href=\"#DejaVuSans-45\" x=\"949.759766\"/>\n     <use xlink:href=\"#DejaVuSans-70\" x=\"1012.943359\"/>\n     <use xlink:href=\"#DejaVuSans-6f\" x=\"1076.419922\"/>\n     <use xlink:href=\"#DejaVuSans-63\" x=\"1137.601562\"/>\n     <use xlink:href=\"#DejaVuSans-68\" x=\"1192.582031\"/>\n     <use xlink:href=\"#DejaVuSans-73\" x=\"1255.960938\"/>\n    </g>\n   </g>\n   <g id=\"legend_1\">\n    <g id=\"patch_7\">\n     <path d=\"M 420.93125 52.57125 \nL 485.6525 52.57125 \nQ 488.0525 52.57125 488.0525 50.17125 \nL 488.0525 33.7575 \nQ 488.0525 31.3575 485.6525 31.3575 \nL 420.93125 31.3575 \nQ 418.53125 31.3575 418.53125 33.7575 \nL 418.53125 50.17125 \nQ 418.53125 52.57125 420.93125 52.57125 \nz\n\" style=\"fill: #ffffff; opacity: 0.8; stroke: #cccccc; stroke-linejoin: miter\"/>\n    </g>\n    <g id=\"line2d_32\">\n     <path d=\"M 423.33125 41.075625 \nL 435.33125 41.075625 \nL 447.33125 41.075625 \n\" style=\"fill: none; stroke: #0000ff; stroke-width: 1.5; stroke-linecap: square\"/>\n    </g>\n    <g id=\"text_19\">\n     <!-- Loss -->\n     <g transform=\"translate(456.93125 45.275625) scale(0.12 -0.12)\">\n      <use xlink:href=\"#DejaVuSans-4c\"/>\n      <use xlink:href=\"#DejaVuSans-6f\" x=\"53.962891\"/>\n      <use xlink:href=\"#DejaVuSans-73\" x=\"115.144531\"/>\n      <use xlink:href=\"#DejaVuSans-73\" x=\"167.244141\"/>\n     </g>\n    </g>\n   </g>\n  </g>\n </g>\n <defs>\n  <clipPath id=\"p6a2c9fbd0b\">\n   <rect x=\"47.6525\" y=\"25.3575\" width=\"446.4\" height=\"332.64\"/>\n  </clipPath>\n </defs>\n</svg>\n",
            "application/pdf": "[encoded data removed]"
          },
          "metadata": {}
        }
      ],
      "source": [
        "epochs = list(range(1, n_epochs+1))\n",
        "print (len(epochs))\n",
        "print (len(loss_list))\n",
        "# Plotting\n",
        "plt.figure(figsize=(8, 6))\n",
        "plt.plot(epochs, loss_list, linestyle='-', color='b', label='Loss')\n",
        "\n",
        "# Adding labels and title\n",
        "plt.title('Training Loss Over Epochs', fontsize=16)\n",
        "plt.xlabel('Epoch', fontsize=14)\n",
        "plt.ylabel('Loss', fontsize=14)\n",
        "\n",
        "# Adding grid and legend\n",
        "plt.grid(True, linestyle='--', alpha=0.6)\n",
        "plt.legend(fontsize=12)\n",
        "\n",
        "# Show the plot\n",
        "plt.show()"
      ]
    },
    {
      "cell_type": "markdown",
      "metadata": {
        "id": "5lxa5HxCARJl"
      },
      "source": [
        "#### Saving a model\n",
        "\n",
        "After finish training a model, we save the model to disk so that we can load the same weights at a later time. For this, we extract the so-called `state_dict` from the model which contains all learnable parameters. For our simple model, the state dict contains the following entries:"
      ]
    },
    {
      "cell_type": "code",
      "execution_count": null,
      "metadata": {
        "colab": {
          "base_uri": "https://localhost:8080/"
        },
        "id": "jQFlymmDARJl",
        "outputId": "33183ba3-8b08-4e42-d23e-e3de4b2edbf2"
      },
      "outputs": [
        {
          "output_type": "stream",
          "name": "stdout",
          "text": [
            "OrderedDict([('linear1.weight', tensor([[ 2.3811,  2.3493],\n",
            "        [-3.6374,  2.6225],\n",
            "        [-0.3839, -0.2576],\n",
            "        [-2.4331,  3.4741]], device='cuda:0')), ('linear1.bias', tensor([-0.4762, -0.9592,  0.7640,  0.8582], device='cuda:0')), ('linear2.weight', tensor([[ 3.5660,  4.8491,  0.7313, -4.8315]], device='cuda:0')), ('linear2.bias', tensor([1.2650], device='cuda:0'))])\n"
          ]
        }
      ],
      "source": [
        "state_dict = model.state_dict()\n",
        "print(state_dict)"
      ]
    },
    {
      "cell_type": "markdown",
      "metadata": {
        "id": "cvPSeTLRARJl"
      },
      "source": [
        "To save the state dictionary, we can use `torch.save`:"
      ]
    },
    {
      "cell_type": "code",
      "execution_count": null,
      "metadata": {
        "id": "Q7h5mIH-ARJl"
      },
      "outputs": [],
      "source": [
        "# torch.save(object, filename). For the filename, any extension can be used\n",
        "torch.save(state_dict, \"our_model.tar\")"
      ]
    },
    {
      "cell_type": "markdown",
      "metadata": {
        "id": "g4l7eT7ZARJl"
      },
      "source": [
        "To load a model from a state dict, we use the function `torch.load` to load the state dict from the disk, and the module function `load_state_dict` to overwrite our parameters with the new values:"
      ]
    },
    {
      "cell_type": "code",
      "execution_count": null,
      "metadata": {
        "colab": {
          "base_uri": "https://localhost:8080/"
        },
        "id": "7ap58mM3ARJl",
        "outputId": "459146c4-c27d-49b4-a755-0c04bef06d35"
      },
      "outputs": [
        {
          "output_type": "stream",
          "name": "stdout",
          "text": [
            "Original model\n",
            " OrderedDict([('linear1.weight', tensor([[ 2.3811,  2.3493],\n",
            "        [-3.6374,  2.6225],\n",
            "        [-0.3839, -0.2576],\n",
            "        [-2.4331,  3.4741]], device='cuda:0')), ('linear1.bias', tensor([-0.4762, -0.9592,  0.7640,  0.8582], device='cuda:0')), ('linear2.weight', tensor([[ 3.5660,  4.8491,  0.7313, -4.8315]], device='cuda:0')), ('linear2.bias', tensor([1.2650], device='cuda:0'))])\n",
            "\n",
            "Loaded model\n",
            " OrderedDict([('linear1.weight', tensor([[ 2.3811,  2.3493],\n",
            "        [-3.6374,  2.6225],\n",
            "        [-0.3839, -0.2576],\n",
            "        [-2.4331,  3.4741]])), ('linear1.bias', tensor([-0.4762, -0.9592,  0.7640,  0.8582])), ('linear2.weight', tensor([[ 3.5660,  4.8491,  0.7313, -4.8315]])), ('linear2.bias', tensor([1.2650]))])\n"
          ]
        },
        {
          "output_type": "stream",
          "name": "stderr",
          "text": [
            "<ipython-input-115-63051825784f>:2: FutureWarning: You are using `torch.load` with `weights_only=False` (the current default value), which uses the default pickle module implicitly. It is possible to construct malicious pickle data which will execute arbitrary code during unpickling (See https://github.com/pytorch/pytorch/blob/main/SECURITY.md#untrusted-models for more details). In a future release, the default value for `weights_only` will be flipped to `True`. This limits the functions that could be executed during unpickling. Arbitrary objects will no longer be allowed to be loaded via this mode unless they are explicitly allowlisted by the user via `torch.serialization.add_safe_globals`. We recommend you start setting `weights_only=True` for any use case where you don't have full control of the loaded file. Please open an issue on GitHub for any issues related to this experimental feature.\n",
            "  state_dict = torch.load(\"our_model.tar\")\n"
          ]
        }
      ],
      "source": [
        "# Load state dict from the disk (make sure it is the same name as above)\n",
        "state_dict = torch.load(\"our_model.tar\")\n",
        "\n",
        "# Create a new model and load the state\n",
        "new_model = SimpleClassifier(n_inputs=2, n_hidden=4, n_outputs=1)\n",
        "new_model.load_state_dict(state_dict)\n",
        "\n",
        "# Verify that the parameters are the same\n",
        "print(\"Original model\\n\", model.state_dict())\n",
        "print(\"\\nLoaded model\\n\", new_model.state_dict())"
      ]
    },
    {
      "cell_type": "markdown",
      "metadata": {
        "id": "OGUP5CmxARJl"
      },
      "source": [
        "A detailed tutorial on saving and loading models in PyTorch can be found [here](https://pytorch.org/tutorials/beginner/saving_loading_models.html)."
      ]
    },
    {
      "cell_type": "markdown",
      "metadata": {
        "id": "T2Jx7BoNARJl"
      },
      "source": [
        "### Evaluation\n",
        "\n",
        "Once we have trained a model, it is time to evaluate it on a held-out test set. As our dataset consist of randomly generated data points, we need to first create a test set with a corresponding data loader."
      ]
    },
    {
      "cell_type": "code",
      "execution_count": null,
      "metadata": {
        "id": "ga-7T9JcARJl"
      },
      "outputs": [],
      "source": [
        "test_dataset = XORDataset(size=500)\n",
        "# drop_last -> Don't drop the last batch although it is smaller than 128\n",
        "# shuffle = false -> random shuffling for testing is not required\n",
        "test_data_loader = data.DataLoader(test_dataset, batch_size=128, shuffle=False, drop_last=False)"
      ]
    },
    {
      "cell_type": "markdown",
      "metadata": {
        "id": "WwbLi8S_ARJl"
      },
      "source": [
        "As metric, we will use accuracy which is calculated as follows:\n",
        "\n",
        "$$acc = \\frac{\\#\\text{correct predictions}}{\\#\\text{all predictions}} = \\frac{TP+TN}{TP+TN+FP+FN}$$\n",
        "\n",
        "where TP are the true positives, TN true negatives, FP false positives, and FN the fale negatives.\n",
        "\n",
        "When evaluating the model, we don't need to keep track of the computation graph as we don't intend to calculate the gradients. This reduces the required memory and speed up the model. In PyTorch, we can deactivate the computation graph using `with torch.no_grad(): ...`. Remember to additionally set the model to eval mode."
      ]
    },
    {
      "cell_type": "code",
      "execution_count": null,
      "metadata": {
        "id": "StsoG62lARJl"
      },
      "outputs": [],
      "source": [
        "def eval_model(model, data_loader):\n",
        "    model.eval() # Set model to eval mode\n",
        "    true_preds, num_preds = 0., 0.\n",
        "\n",
        "    with torch.no_grad(): # Deactivate gradients for the following code\n",
        "        for data_inputs, data_labels in data_loader:\n",
        "\n",
        "            # Determine prediction of model on dev set\n",
        "            data_inputs, data_labels = data_inputs.to(device), data_labels.to(device)\n",
        "            preds = model(data_inputs)\n",
        "            preds = preds.squeeze(dim=1)\n",
        "            preds = torch.sigmoid(preds) # Sigmoid to map predictions between 0 and 1\n",
        "            pred_labels = (preds >= 0.5).long() # Binarize predictions to 0 and 1\n",
        "\n",
        "            # Keep records of predictions for the accuracy metric (true_preds=TP+TN, num_preds=TP+TN+FP+FN)\n",
        "            true_preds += (pred_labels == data_labels).sum()\n",
        "            num_preds += data_labels.shape[0]\n",
        "\n",
        "    acc = true_preds / num_preds\n",
        "    print(f\"Accuracy of the model: {100.0*acc:4.2f}%\")"
      ]
    },
    {
      "cell_type": "code",
      "execution_count": null,
      "metadata": {
        "colab": {
          "base_uri": "https://localhost:8080/"
        },
        "id": "V8j_d8iRARJl",
        "outputId": "d7532469-5985-4167-83c4-eca2958a0183"
      },
      "outputs": [
        {
          "output_type": "stream",
          "name": "stdout",
          "text": [
            "Accuracy of the model: 100.00%\n"
          ]
        }
      ],
      "source": [
        "eval_model(model, test_data_loader)"
      ]
    },
    {
      "cell_type": "markdown",
      "metadata": {
        "id": "zolBr4qXARJl"
      },
      "source": [
        "If we trained our model correctly, we should see a score close to 100% accuracy. However, this is only possible because of our simple task, and unfortunately, we usually don't get such high scores on test sets of more complex tasks."
      ]
    },
    {
      "cell_type": "markdown",
      "metadata": {
        "id": "9_0aBpPXARJl"
      },
      "source": [
        "#### Visualizing classification boundaries\n",
        "\n",
        "To visualize what our model has learned, we can perform a prediction for every data point in a range of $[-0.5, 1.5]$, and visualize the predicted class as in the sample figure at the beginning of this section. This shows where the model has created decision boundaries, and which points would be classified as $0$, and which as $1$. We therefore get a background image out of blue (class 0) and orange (class 1). The spots where the model is uncertain we will see a blurry overlap. The specific code is less relevant compared to the output figure which should hopefully show us a clear separation of classes:"
      ]
    },
    {
      "cell_type": "code",
      "execution_count": null,
      "metadata": {
        "colab": {
          "base_uri": "https://localhost:8080/",
          "height": 397
        },
        "id": "QvsdXxY_ARJl",
        "outputId": "47d3aed5-ca40-4616-9611-a5b9be8325fe"
      },
      "outputs": [
        {
          "output_type": "display_data",
          "data": {
            "text/plain": [
              "<Figure size 2000x2000 with 1 Axes>"
            ],
            "image/svg+xml": "<?xml version=\"1.0\" encoding=\"utf-8\" standalone=\"no\"?>\n<!DOCTYPE svg PUBLIC \"-//W3C//DTD SVG 1.1//EN\"\n  \"http://www.w3.org/Graphics/SVG/1.1/DTD/svg11.dtd\">\n<svg xmlns:xlink=\"http://www.w3.org/1999/xlink\" width=\"295.435pt\" height=\"281.634375pt\" viewBox=\"0 0 295.435 281.634375\" xmlns=\"http://www.w3.org/2000/svg\" version=\"1.1\">\n <metadata>\n  <rdf:RDF xmlns:dc=\"http://purl.org/dc/elements/1.1/\" xmlns:cc=\"http://creativecommons.org/ns#\" xmlns:rdf=\"http://www.w3.org/1999/02/22-rdf-syntax-ns#\">\n   <cc:Work>\n    <dc:type rdf:resource=\"http://purl.org/dc/dcmitype/StillImage\"/>\n    <dc:date>2024-12-04T21:22:51.875426</dc:date>\n    <dc:format>image/svg+xml</dc:format>\n    <dc:creator>\n     <cc:Agent>\n      <dc:title>Matplotlib v3.8.0, https://matplotlib.org/</dc:title>\n     </cc:Agent>\n    </dc:creator>\n   </cc:Work>\n  </rdf:RDF>\n </metadata>\n <defs>\n  <style type=\"text/css\">*{stroke-linejoin: round; stroke-linecap: butt}</style>\n </defs>\n <g id=\"figure_1\">\n  <g id=\"patch_1\">\n   <path d=\"M 0 281.634375 \nL 295.435 281.634375 \nL 295.435 0 \nL 0 0 \nz\n\" style=\"fill: #ffffff\"/>\n  </g>\n  <g id=\"axes_1\">\n   <g id=\"patch_2\">\n    <path d=\"M 58.523438 244.078125 \nL 280.283437 244.078125 \nL 280.283437 22.318125 \nL 58.523438 22.318125 \nz\n\" style=\"fill: #ffffff\"/>\n   </g>\n   <g clip-path=\"url(#pe1189000c1)\">\n    <image xlink:href=\"data:image/png;base64,\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\" id=\"image53a228a85d\" transform=\"scale(1 -1) translate(0 -221.904)\" x=\"58.523438\" y=\"-22.174125\" width=\"221.76\" height=\"221.904\"/>\n   </g>\n   <g id=\"PathCollection_1\">\n    <defs>\n     <path id=\"ma8039bcffa\" d=\"M 0 3 \nC 0.795609 3 1.55874 2.683901 2.12132 2.12132 \nC 2.683901 1.55874 3 0.795609 3 0 \nC 3 -0.795609 2.683901 -1.55874 2.12132 -2.12132 \nC 1.55874 -2.683901 0.795609 -3 0 -3 \nC -0.795609 -3 -1.55874 -2.683901 -2.12132 -2.12132 \nC -2.683901 -1.55874 -3 -0.795609 -3 0 \nC -3 0.795609 -2.683901 1.55874 -2.12132 2.12132 \nC -1.55874 2.683901 -0.795609 3 0 3 \nz\n\" style=\"stroke: #333333\"/>\n    </defs>\n    <g clip-path=\"url(#pe1189000c1)\">\n     <use xlink:href=\"#ma8039bcffa\" x=\"210.156392\" y=\"83.480443\" style=\"fill: #1f77b4; stroke: #333333\"/>\n     <use xlink:href=\"#ma8039bcffa\" x=\"206.595476\" y=\"85.475623\" style=\"fill: #1f77b4; stroke: #333333\"/>\n     <use xlink:href=\"#ma8039bcffa\" x=\"216.635053\" y=\"74.273377\" style=\"fill: #1f77b4; stroke: #333333\"/>\n     <use xlink:href=\"#ma8039bcffa\" x=\"226.413\" y=\"66.284066\" style=\"fill: #1f77b4; stroke: #333333\"/>\n     <use xlink:href=\"#ma8039bcffa\" x=\"237.446201\" y=\"82.879007\" style=\"fill: #1f77b4; stroke: #333333\"/>\n     <use xlink:href=\"#ma8039bcffa\" x=\"113.432419\" y=\"181.22513\" style=\"fill: #1f77b4; stroke: #333333\"/>\n     <use xlink:href=\"#ma8039bcffa\" x=\"125.528002\" y=\"180.649788\" style=\"fill: #1f77b4; stroke: #333333\"/>\n     <use xlink:href=\"#ma8039bcffa\" x=\"211.868133\" y=\"78.902249\" style=\"fill: #1f77b4; stroke: #333333\"/>\n     <use xlink:href=\"#ma8039bcffa\" x=\"238.032324\" y=\"69.323542\" style=\"fill: #1f77b4; stroke: #333333\"/>\n     <use xlink:href=\"#ma8039bcffa\" x=\"234.008655\" y=\"81.800854\" style=\"fill: #1f77b4; stroke: #333333\"/>\n     <use xlink:href=\"#ma8039bcffa\" x=\"112.62386\" y=\"193.993858\" style=\"fill: #1f77b4; stroke: #333333\"/>\n     <use xlink:href=\"#ma8039bcffa\" x=\"115.219685\" y=\"187.782676\" style=\"fill: #1f77b4; stroke: #333333\"/>\n     <use xlink:href=\"#ma8039bcffa\" x=\"103.731288\" y=\"202.631172\" style=\"fill: #1f77b4; stroke: #333333\"/>\n     <use xlink:href=\"#ma8039bcffa\" x=\"126.005596\" y=\"198.379918\" style=\"fill: #1f77b4; stroke: #333333\"/>\n     <use xlink:href=\"#ma8039bcffa\" x=\"217.262646\" y=\"77.025839\" style=\"fill: #1f77b4; stroke: #333333\"/>\n     <use xlink:href=\"#ma8039bcffa\" x=\"238.104216\" y=\"92.240755\" style=\"fill: #1f77b4; stroke: #333333\"/>\n     <use xlink:href=\"#ma8039bcffa\" x=\"216.888744\" y=\"46.335083\" style=\"fill: #1f77b4; stroke: #333333\"/>\n     <use xlink:href=\"#ma8039bcffa\" x=\"224.034388\" y=\"83.83385\" style=\"fill: #1f77b4; stroke: #333333\"/>\n     <use xlink:href=\"#ma8039bcffa\" x=\"212.174809\" y=\"82.733888\" style=\"fill: #1f77b4; stroke: #333333\"/>\n     <use xlink:href=\"#ma8039bcffa\" x=\"224.505759\" y=\"73.511073\" style=\"fill: #1f77b4; stroke: #333333\"/>\n     <use xlink:href=\"#ma8039bcffa\" x=\"224.347032\" y=\"103.39307\" style=\"fill: #1f77b4; stroke: #333333\"/>\n     <use xlink:href=\"#ma8039bcffa\" x=\"221.168563\" y=\"70.556417\" style=\"fill: #1f77b4; stroke: #333333\"/>\n     <use xlink:href=\"#ma8039bcffa\" x=\"115.016338\" y=\"196.982815\" style=\"fill: #1f77b4; stroke: #333333\"/>\n     <use xlink:href=\"#ma8039bcffa\" x=\"217.666956\" y=\"91.975842\" style=\"fill: #1f77b4; stroke: #333333\"/>\n     <use xlink:href=\"#ma8039bcffa\" x=\"246.634603\" y=\"90.804026\" style=\"fill: #1f77b4; stroke: #333333\"/>\n     <use xlink:href=\"#ma8039bcffa\" x=\"196.382824\" y=\"69.889943\" style=\"fill: #1f77b4; stroke: #333333\"/>\n     <use xlink:href=\"#ma8039bcffa\" x=\"233.933855\" y=\"70.867528\" style=\"fill: #1f77b4; stroke: #333333\"/>\n     <use xlink:href=\"#ma8039bcffa\" x=\"227.197471\" y=\"85.799158\" style=\"fill: #1f77b4; stroke: #333333\"/>\n     <use xlink:href=\"#ma8039bcffa\" x=\"109.676143\" y=\"208.49315\" style=\"fill: #1f77b4; stroke: #333333\"/>\n     <use xlink:href=\"#ma8039bcffa\" x=\"225.877872\" y=\"98.994494\" style=\"fill: #1f77b4; stroke: #333333\"/>\n     <use xlink:href=\"#ma8039bcffa\" x=\"210.515179\" y=\"69.262012\" style=\"fill: #1f77b4; stroke: #333333\"/>\n     <use xlink:href=\"#ma8039bcffa\" x=\"121.119637\" y=\"184.720556\" style=\"fill: #1f77b4; stroke: #333333\"/>\n     <use xlink:href=\"#ma8039bcffa\" x=\"84.608089\" y=\"204.799292\" style=\"fill: #1f77b4; stroke: #333333\"/>\n     <use xlink:href=\"#ma8039bcffa\" x=\"103.194351\" y=\"185.960365\" style=\"fill: #1f77b4; stroke: #333333\"/>\n     <use xlink:href=\"#ma8039bcffa\" x=\"111.978029\" y=\"175.340459\" style=\"fill: #1f77b4; stroke: #333333\"/>\n     <use xlink:href=\"#ma8039bcffa\" x=\"218.105877\" y=\"78.259983\" style=\"fill: #1f77b4; stroke: #333333\"/>\n     <use xlink:href=\"#ma8039bcffa\" x=\"112.573539\" y=\"203.78228\" style=\"fill: #1f77b4; stroke: #333333\"/>\n     <use xlink:href=\"#ma8039bcffa\" x=\"126.290478\" y=\"195.543695\" style=\"fill: #1f77b4; stroke: #333333\"/>\n     <use xlink:href=\"#ma8039bcffa\" x=\"132.18451\" y=\"182.913831\" style=\"fill: #1f77b4; stroke: #333333\"/>\n     <use xlink:href=\"#ma8039bcffa\" x=\"100.069043\" y=\"176.232101\" style=\"fill: #1f77b4; stroke: #333333\"/>\n     <use xlink:href=\"#ma8039bcffa\" x=\"229.060167\" y=\"75.551828\" style=\"fill: #1f77b4; stroke: #333333\"/>\n     <use xlink:href=\"#ma8039bcffa\" x=\"108.972986\" y=\"190.566011\" style=\"fill: #1f77b4; stroke: #333333\"/>\n     <use xlink:href=\"#ma8039bcffa\" x=\"232.054371\" y=\"64.826883\" style=\"fill: #1f77b4; stroke: #333333\"/>\n     <use xlink:href=\"#ma8039bcffa\" x=\"114.151224\" y=\"182.732802\" style=\"fill: #1f77b4; stroke: #333333\"/>\n     <use xlink:href=\"#ma8039bcffa\" x=\"218.151439\" y=\"79.690315\" style=\"fill: #1f77b4; stroke: #333333\"/>\n     <use xlink:href=\"#ma8039bcffa\" x=\"101.534893\" y=\"186.468861\" style=\"fill: #1f77b4; stroke: #333333\"/>\n     <use xlink:href=\"#ma8039bcffa\" x=\"105.297964\" y=\"208.484304\" style=\"fill: #1f77b4; stroke: #333333\"/>\n     <use xlink:href=\"#ma8039bcffa\" x=\"138.188828\" y=\"177.803469\" style=\"fill: #1f77b4; stroke: #333333\"/>\n     <use xlink:href=\"#ma8039bcffa\" x=\"114.339262\" y=\"192.100841\" style=\"fill: #1f77b4; stroke: #333333\"/>\n     <use xlink:href=\"#ma8039bcffa\" x=\"103.383153\" y=\"178.673019\" style=\"fill: #1f77b4; stroke: #333333\"/>\n     <use xlink:href=\"#ma8039bcffa\" x=\"114.908812\" y=\"180.342912\" style=\"fill: #1f77b4; stroke: #333333\"/>\n     <use xlink:href=\"#ma8039bcffa\" x=\"223.029865\" y=\"87.8322\" style=\"fill: #1f77b4; stroke: #333333\"/>\n     <use xlink:href=\"#ma8039bcffa\" x=\"101.618497\" y=\"182.808064\" style=\"fill: #1f77b4; stroke: #333333\"/>\n     <use xlink:href=\"#ma8039bcffa\" x=\"231.793595\" y=\"83.275651\" style=\"fill: #1f77b4; stroke: #333333\"/>\n     <use xlink:href=\"#ma8039bcffa\" x=\"139.753083\" y=\"198.84342\" style=\"fill: #1f77b4; stroke: #333333\"/>\n     <use xlink:href=\"#ma8039bcffa\" x=\"121.34932\" y=\"193.519782\" style=\"fill: #1f77b4; stroke: #333333\"/>\n     <use xlink:href=\"#ma8039bcffa\" x=\"88.261935\" y=\"174.283791\" style=\"fill: #1f77b4; stroke: #333333\"/>\n     <use xlink:href=\"#ma8039bcffa\" x=\"113.09204\" y=\"183.858689\" style=\"fill: #1f77b4; stroke: #333333\"/>\n     <use xlink:href=\"#ma8039bcffa\" x=\"237.91865\" y=\"76.837602\" style=\"fill: #1f77b4; stroke: #333333\"/>\n     <use xlink:href=\"#ma8039bcffa\" x=\"218.427522\" y=\"91.395595\" style=\"fill: #1f77b4; stroke: #333333\"/>\n     <use xlink:href=\"#ma8039bcffa\" x=\"220.531023\" y=\"68.747901\" style=\"fill: #1f77b4; stroke: #333333\"/>\n     <use xlink:href=\"#ma8039bcffa\" x=\"241.454577\" y=\"77.271401\" style=\"fill: #1f77b4; stroke: #333333\"/>\n     <use xlink:href=\"#ma8039bcffa\" x=\"230.459496\" y=\"87.934289\" style=\"fill: #1f77b4; stroke: #333333\"/>\n     <use xlink:href=\"#ma8039bcffa\" x=\"117.709458\" y=\"187.251503\" style=\"fill: #1f77b4; stroke: #333333\"/>\n     <use xlink:href=\"#ma8039bcffa\" x=\"122.563372\" y=\"199.102307\" style=\"fill: #1f77b4; stroke: #333333\"/>\n     <use xlink:href=\"#ma8039bcffa\" x=\"112.226596\" y=\"198.29406\" style=\"fill: #1f77b4; stroke: #333333\"/>\n     <use xlink:href=\"#ma8039bcffa\" x=\"106.854951\" y=\"182.679672\" style=\"fill: #1f77b4; stroke: #333333\"/>\n     <use xlink:href=\"#ma8039bcffa\" x=\"217.19008\" y=\"80.307876\" style=\"fill: #1f77b4; stroke: #333333\"/>\n     <use xlink:href=\"#ma8039bcffa\" x=\"89.877153\" y=\"187.665893\" style=\"fill: #1f77b4; stroke: #333333\"/>\n     <use xlink:href=\"#ma8039bcffa\" x=\"110.652081\" y=\"171.792108\" style=\"fill: #1f77b4; stroke: #333333\"/>\n     <use xlink:href=\"#ma8039bcffa\" x=\"223.818097\" y=\"89.030789\" style=\"fill: #1f77b4; stroke: #333333\"/>\n     <use xlink:href=\"#ma8039bcffa\" x=\"206.345902\" y=\"77.979519\" style=\"fill: #1f77b4; stroke: #333333\"/>\n     <use xlink:href=\"#ma8039bcffa\" x=\"218.503109\" y=\"56.14675\" style=\"fill: #1f77b4; stroke: #333333\"/>\n     <use xlink:href=\"#ma8039bcffa\" x=\"216.958158\" y=\"71.953314\" style=\"fill: #1f77b4; stroke: #333333\"/>\n     <use xlink:href=\"#ma8039bcffa\" x=\"110.971392\" y=\"187.273618\" style=\"fill: #1f77b4; stroke: #333333\"/>\n     <use xlink:href=\"#ma8039bcffa\" x=\"123.673766\" y=\"186.291614\" style=\"fill: #1f77b4; stroke: #333333\"/>\n     <use xlink:href=\"#ma8039bcffa\" x=\"144.247329\" y=\"183.848051\" style=\"fill: #1f77b4; stroke: #333333\"/>\n     <use xlink:href=\"#ma8039bcffa\" x=\"221.415223\" y=\"78.829015\" style=\"fill: #1f77b4; stroke: #333333\"/>\n     <use xlink:href=\"#ma8039bcffa\" x=\"241.940296\" y=\"94.553489\" style=\"fill: #1f77b4; stroke: #333333\"/>\n     <use xlink:href=\"#ma8039bcffa\" x=\"109.318626\" y=\"172.688718\" style=\"fill: #1f77b4; stroke: #333333\"/>\n     <use xlink:href=\"#ma8039bcffa\" x=\"147.505177\" y=\"173.710806\" style=\"fill: #1f77b4; stroke: #333333\"/>\n     <use xlink:href=\"#ma8039bcffa\" x=\"234.330406\" y=\"94.673938\" style=\"fill: #1f77b4; stroke: #333333\"/>\n     <use xlink:href=\"#ma8039bcffa\" x=\"239.041512\" y=\"79.046113\" style=\"fill: #1f77b4; stroke: #333333\"/>\n     <use xlink:href=\"#ma8039bcffa\" x=\"240.039942\" y=\"83.090765\" style=\"fill: #1f77b4; stroke: #333333\"/>\n     <use xlink:href=\"#ma8039bcffa\" x=\"114.054422\" y=\"193.138303\" style=\"fill: #1f77b4; stroke: #333333\"/>\n     <use xlink:href=\"#ma8039bcffa\" x=\"118.174093\" y=\"177.557842\" style=\"fill: #1f77b4; stroke: #333333\"/>\n     <use xlink:href=\"#ma8039bcffa\" x=\"238.982693\" y=\"63.6719\" style=\"fill: #1f77b4; stroke: #333333\"/>\n     <use xlink:href=\"#ma8039bcffa\" x=\"248.040964\" y=\"68.939733\" style=\"fill: #1f77b4; stroke: #333333\"/>\n     <use xlink:href=\"#ma8039bcffa\" x=\"119.850421\" y=\"203.734218\" style=\"fill: #1f77b4; stroke: #333333\"/>\n     <use xlink:href=\"#ma8039bcffa\" x=\"246.534332\" y=\"58.149107\" style=\"fill: #1f77b4; stroke: #333333\"/>\n     <use xlink:href=\"#ma8039bcffa\" x=\"88.440245\" y=\"181.906055\" style=\"fill: #1f77b4; stroke: #333333\"/>\n     <use xlink:href=\"#ma8039bcffa\" x=\"215.425004\" y=\"96.157465\" style=\"fill: #1f77b4; stroke: #333333\"/>\n     <use xlink:href=\"#ma8039bcffa\" x=\"122.81551\" y=\"167.692646\" style=\"fill: #1f77b4; stroke: #333333\"/>\n     <use xlink:href=\"#ma8039bcffa\" x=\"208.967354\" y=\"84.489949\" style=\"fill: #1f77b4; stroke: #333333\"/>\n     <use xlink:href=\"#ma8039bcffa\" x=\"220.565343\" y=\"77.213692\" style=\"fill: #1f77b4; stroke: #333333\"/>\n     <use xlink:href=\"#ma8039bcffa\" x=\"233.373084\" y=\"86.261428\" style=\"fill: #1f77b4; stroke: #333333\"/>\n     <use xlink:href=\"#ma8039bcffa\" x=\"103.435529\" y=\"182.172219\" style=\"fill: #1f77b4; stroke: #333333\"/>\n     <use xlink:href=\"#ma8039bcffa\" x=\"128.882175\" y=\"187.231924\" style=\"fill: #1f77b4; stroke: #333333\"/>\n     <use xlink:href=\"#ma8039bcffa\" x=\"86.774866\" y=\"184.025781\" style=\"fill: #1f77b4; stroke: #333333\"/>\n     <use xlink:href=\"#ma8039bcffa\" x=\"228.700256\" y=\"69.551035\" style=\"fill: #1f77b4; stroke: #333333\"/>\n     <use xlink:href=\"#ma8039bcffa\" x=\"240.546254\" y=\"70.180605\" style=\"fill: #1f77b4; stroke: #333333\"/>\n     <use xlink:href=\"#ma8039bcffa\" x=\"222.85597\" y=\"75.545418\" style=\"fill: #1f77b4; stroke: #333333\"/>\n     <use xlink:href=\"#ma8039bcffa\" x=\"211.025629\" y=\"73.283936\" style=\"fill: #1f77b4; stroke: #333333\"/>\n     <use xlink:href=\"#ma8039bcffa\" x=\"213.754318\" y=\"85.430497\" style=\"fill: #1f77b4; stroke: #333333\"/>\n     <use xlink:href=\"#ma8039bcffa\" x=\"108.730004\" y=\"202.935372\" style=\"fill: #1f77b4; stroke: #333333\"/>\n     <use xlink:href=\"#ma8039bcffa\" x=\"125.897242\" y=\"214.005959\" style=\"fill: #1f77b4; stroke: #333333\"/>\n    </g>\n   </g>\n   <g id=\"PathCollection_2\">\n    <defs>\n     <path id=\"ma69baaa2ee\" d=\"M 0 3 \nC 0.795609 3 1.55874 2.683901 2.12132 2.12132 \nC 2.683901 1.55874 3 0.795609 3 0 \nC 3 -0.795609 2.683901 -1.55874 2.12132 -2.12132 \nC 1.55874 -2.683901 0.795609 -3 0 -3 \nC -0.795609 -3 -1.55874 -2.683901 -2.12132 -2.12132 \nC -2.683901 -1.55874 -3 -0.795609 -3 0 \nC -3 0.795609 -2.683901 1.55874 -2.12132 2.12132 \nC -1.55874 2.683901 -0.795609 3 0 3 \nz\n\" style=\"stroke: #333333\"/>\n    </defs>\n    <g clip-path=\"url(#pe1189000c1)\">\n     <use xlink:href=\"#ma69baaa2ee\" x=\"120.618281\" y=\"82.971936\" style=\"fill: #ff7f0e; stroke: #333333\"/>\n     <use xlink:href=\"#ma69baaa2ee\" x=\"107.214798\" y=\"78.2703\" style=\"fill: #ff7f0e; stroke: #333333\"/>\n     <use xlink:href=\"#ma69baaa2ee\" x=\"217.897497\" y=\"194.349468\" style=\"fill: #ff7f0e; stroke: #333333\"/>\n     <use xlink:href=\"#ma69baaa2ee\" x=\"121.617373\" y=\"55.135367\" style=\"fill: #ff7f0e; stroke: #333333\"/>\n     <use xlink:href=\"#ma69baaa2ee\" x=\"129.70817\" y=\"68.349751\" style=\"fill: #ff7f0e; stroke: #333333\"/>\n     <use xlink:href=\"#ma69baaa2ee\" x=\"99.405615\" y=\"77.338958\" style=\"fill: #ff7f0e; stroke: #333333\"/>\n     <use xlink:href=\"#ma69baaa2ee\" x=\"105.688409\" y=\"84.2153\" style=\"fill: #ff7f0e; stroke: #333333\"/>\n     <use xlink:href=\"#ma69baaa2ee\" x=\"230.241863\" y=\"199.74863\" style=\"fill: #ff7f0e; stroke: #333333\"/>\n     <use xlink:href=\"#ma69baaa2ee\" x=\"225.208768\" y=\"193.397049\" style=\"fill: #ff7f0e; stroke: #333333\"/>\n     <use xlink:href=\"#ma69baaa2ee\" x=\"213.957259\" y=\"195.757271\" style=\"fill: #ff7f0e; stroke: #333333\"/>\n     <use xlink:href=\"#ma69baaa2ee\" x=\"113.954858\" y=\"75.961201\" style=\"fill: #ff7f0e; stroke: #333333\"/>\n     <use xlink:href=\"#ma69baaa2ee\" x=\"209.276197\" y=\"187.581826\" style=\"fill: #ff7f0e; stroke: #333333\"/>\n     <use xlink:href=\"#ma69baaa2ee\" x=\"228.233373\" y=\"184.03596\" style=\"fill: #ff7f0e; stroke: #333333\"/>\n     <use xlink:href=\"#ma69baaa2ee\" x=\"246.50356\" y=\"165.922344\" style=\"fill: #ff7f0e; stroke: #333333\"/>\n     <use xlink:href=\"#ma69baaa2ee\" x=\"212.779271\" y=\"211.345217\" style=\"fill: #ff7f0e; stroke: #333333\"/>\n     <use xlink:href=\"#ma69baaa2ee\" x=\"234.282266\" y=\"193.078533\" style=\"fill: #ff7f0e; stroke: #333333\"/>\n     <use xlink:href=\"#ma69baaa2ee\" x=\"218.092765\" y=\"194.271887\" style=\"fill: #ff7f0e; stroke: #333333\"/>\n     <use xlink:href=\"#ma69baaa2ee\" x=\"107.105618\" y=\"96.020514\" style=\"fill: #ff7f0e; stroke: #333333\"/>\n     <use xlink:href=\"#ma69baaa2ee\" x=\"102.473943\" y=\"88.525401\" style=\"fill: #ff7f0e; stroke: #333333\"/>\n     <use xlink:href=\"#ma69baaa2ee\" x=\"118.655723\" y=\"81.515829\" style=\"fill: #ff7f0e; stroke: #333333\"/>\n     <use xlink:href=\"#ma69baaa2ee\" x=\"119.706726\" y=\"97.116994\" style=\"fill: #ff7f0e; stroke: #333333\"/>\n     <use xlink:href=\"#ma69baaa2ee\" x=\"226.982957\" y=\"195.405511\" style=\"fill: #ff7f0e; stroke: #333333\"/>\n     <use xlink:href=\"#ma69baaa2ee\" x=\"226.653381\" y=\"171.893341\" style=\"fill: #ff7f0e; stroke: #333333\"/>\n     <use xlink:href=\"#ma69baaa2ee\" x=\"103.399087\" y=\"87.102961\" style=\"fill: #ff7f0e; stroke: #333333\"/>\n     <use xlink:href=\"#ma69baaa2ee\" x=\"108.820076\" y=\"75.735928\" style=\"fill: #ff7f0e; stroke: #333333\"/>\n     <use xlink:href=\"#ma69baaa2ee\" x=\"106.842998\" y=\"85.245313\" style=\"fill: #ff7f0e; stroke: #333333\"/>\n     <use xlink:href=\"#ma69baaa2ee\" x=\"109.204277\" y=\"66.556091\" style=\"fill: #ff7f0e; stroke: #333333\"/>\n     <use xlink:href=\"#ma69baaa2ee\" x=\"120.73865\" y=\"64.221462\" style=\"fill: #ff7f0e; stroke: #333333\"/>\n     <use xlink:href=\"#ma69baaa2ee\" x=\"216.092999\" y=\"190.498957\" style=\"fill: #ff7f0e; stroke: #333333\"/>\n     <use xlink:href=\"#ma69baaa2ee\" x=\"244.505539\" y=\"211.608695\" style=\"fill: #ff7f0e; stroke: #333333\"/>\n     <use xlink:href=\"#ma69baaa2ee\" x=\"220.269354\" y=\"199.470609\" style=\"fill: #ff7f0e; stroke: #333333\"/>\n     <use xlink:href=\"#ma69baaa2ee\" x=\"224.470507\" y=\"197.489272\" style=\"fill: #ff7f0e; stroke: #333333\"/>\n     <use xlink:href=\"#ma69baaa2ee\" x=\"143.037802\" y=\"73.666067\" style=\"fill: #ff7f0e; stroke: #333333\"/>\n     <use xlink:href=\"#ma69baaa2ee\" x=\"111.345664\" y=\"74.393925\" style=\"fill: #ff7f0e; stroke: #333333\"/>\n     <use xlink:href=\"#ma69baaa2ee\" x=\"231.598313\" y=\"186.13849\" style=\"fill: #ff7f0e; stroke: #333333\"/>\n     <use xlink:href=\"#ma69baaa2ee\" x=\"111.06311\" y=\"82.639624\" style=\"fill: #ff7f0e; stroke: #333333\"/>\n     <use xlink:href=\"#ma69baaa2ee\" x=\"99.691258\" y=\"69.56539\" style=\"fill: #ff7f0e; stroke: #333333\"/>\n     <use xlink:href=\"#ma69baaa2ee\" x=\"222.025144\" y=\"202.00511\" style=\"fill: #ff7f0e; stroke: #333333\"/>\n     <use xlink:href=\"#ma69baaa2ee\" x=\"228.313936\" y=\"179.711756\" style=\"fill: #ff7f0e; stroke: #333333\"/>\n     <use xlink:href=\"#ma69baaa2ee\" x=\"211.538333\" y=\"187.228695\" style=\"fill: #ff7f0e; stroke: #333333\"/>\n     <use xlink:href=\"#ma69baaa2ee\" x=\"118.846216\" y=\"70.686508\" style=\"fill: #ff7f0e; stroke: #333333\"/>\n     <use xlink:href=\"#ma69baaa2ee\" x=\"115.735176\" y=\"58.13462\" style=\"fill: #ff7f0e; stroke: #333333\"/>\n     <use xlink:href=\"#ma69baaa2ee\" x=\"116.432437\" y=\"92.08793\" style=\"fill: #ff7f0e; stroke: #333333\"/>\n     <use xlink:href=\"#ma69baaa2ee\" x=\"132.246907\" y=\"60.011024\" style=\"fill: #ff7f0e; stroke: #333333\"/>\n     <use xlink:href=\"#ma69baaa2ee\" x=\"118.047736\" y=\"69.289135\" style=\"fill: #ff7f0e; stroke: #333333\"/>\n     <use xlink:href=\"#ma69baaa2ee\" x=\"230.591557\" y=\"196.416765\" style=\"fill: #ff7f0e; stroke: #333333\"/>\n     <use xlink:href=\"#ma69baaa2ee\" x=\"220.049639\" y=\"187.069427\" style=\"fill: #ff7f0e; stroke: #333333\"/>\n     <use xlink:href=\"#ma69baaa2ee\" x=\"114.751834\" y=\"71.511664\" style=\"fill: #ff7f0e; stroke: #333333\"/>\n     <use xlink:href=\"#ma69baaa2ee\" x=\"240.858092\" y=\"186.065388\" style=\"fill: #ff7f0e; stroke: #333333\"/>\n     <use xlink:href=\"#ma69baaa2ee\" x=\"113.537354\" y=\"56.537895\" style=\"fill: #ff7f0e; stroke: #333333\"/>\n     <use xlink:href=\"#ma69baaa2ee\" x=\"216.392702\" y=\"201.839054\" style=\"fill: #ff7f0e; stroke: #333333\"/>\n     <use xlink:href=\"#ma69baaa2ee\" x=\"116.7391\" y=\"92.84997\" style=\"fill: #ff7f0e; stroke: #333333\"/>\n     <use xlink:href=\"#ma69baaa2ee\" x=\"133.942174\" y=\"78.582428\" style=\"fill: #ff7f0e; stroke: #333333\"/>\n     <use xlink:href=\"#ma69baaa2ee\" x=\"236.971321\" y=\"189.943411\" style=\"fill: #ff7f0e; stroke: #333333\"/>\n     <use xlink:href=\"#ma69baaa2ee\" x=\"224.758327\" y=\"194.384158\" style=\"fill: #ff7f0e; stroke: #333333\"/>\n     <use xlink:href=\"#ma69baaa2ee\" x=\"123.272286\" y=\"77.109231\" style=\"fill: #ff7f0e; stroke: #333333\"/>\n     <use xlink:href=\"#ma69baaa2ee\" x=\"208.010224\" y=\"187.099906\" style=\"fill: #ff7f0e; stroke: #333333\"/>\n     <use xlink:href=\"#ma69baaa2ee\" x=\"211.762291\" y=\"194.511895\" style=\"fill: #ff7f0e; stroke: #333333\"/>\n     <use xlink:href=\"#ma69baaa2ee\" x=\"235.515816\" y=\"185.539713\" style=\"fill: #ff7f0e; stroke: #333333\"/>\n     <use xlink:href=\"#ma69baaa2ee\" x=\"94.996859\" y=\"68.461006\" style=\"fill: #ff7f0e; stroke: #333333\"/>\n     <use xlink:href=\"#ma69baaa2ee\" x=\"233.04183\" y=\"185.609957\" style=\"fill: #ff7f0e; stroke: #333333\"/>\n     <use xlink:href=\"#ma69baaa2ee\" x=\"217.005967\" y=\"202.519763\" style=\"fill: #ff7f0e; stroke: #333333\"/>\n     <use xlink:href=\"#ma69baaa2ee\" x=\"118.909314\" y=\"60.87155\" style=\"fill: #ff7f0e; stroke: #333333\"/>\n     <use xlink:href=\"#ma69baaa2ee\" x=\"102.982301\" y=\"91.238215\" style=\"fill: #ff7f0e; stroke: #333333\"/>\n     <use xlink:href=\"#ma69baaa2ee\" x=\"216.958918\" y=\"192.514261\" style=\"fill: #ff7f0e; stroke: #333333\"/>\n     <use xlink:href=\"#ma69baaa2ee\" x=\"115.111156\" y=\"68.565784\" style=\"fill: #ff7f0e; stroke: #333333\"/>\n     <use xlink:href=\"#ma69baaa2ee\" x=\"227.940146\" y=\"186.570791\" style=\"fill: #ff7f0e; stroke: #333333\"/>\n     <use xlink:href=\"#ma69baaa2ee\" x=\"117.896499\" y=\"76.374473\" style=\"fill: #ff7f0e; stroke: #333333\"/>\n     <use xlink:href=\"#ma69baaa2ee\" x=\"244.161569\" y=\"202.675548\" style=\"fill: #ff7f0e; stroke: #333333\"/>\n     <use xlink:href=\"#ma69baaa2ee\" x=\"118.278453\" y=\"73.956332\" style=\"fill: #ff7f0e; stroke: #333333\"/>\n     <use xlink:href=\"#ma69baaa2ee\" x=\"97.785339\" y=\"94.319783\" style=\"fill: #ff7f0e; stroke: #333333\"/>\n     <use xlink:href=\"#ma69baaa2ee\" x=\"222.388717\" y=\"187.296753\" style=\"fill: #ff7f0e; stroke: #333333\"/>\n     <use xlink:href=\"#ma69baaa2ee\" x=\"113.106941\" y=\"66.828751\" style=\"fill: #ff7f0e; stroke: #333333\"/>\n     <use xlink:href=\"#ma69baaa2ee\" x=\"239.017628\" y=\"185.443097\" style=\"fill: #ff7f0e; stroke: #333333\"/>\n     <use xlink:href=\"#ma69baaa2ee\" x=\"234.479464\" y=\"197.616143\" style=\"fill: #ff7f0e; stroke: #333333\"/>\n     <use xlink:href=\"#ma69baaa2ee\" x=\"208.989143\" y=\"190.280314\" style=\"fill: #ff7f0e; stroke: #333333\"/>\n     <use xlink:href=\"#ma69baaa2ee\" x=\"103.032903\" y=\"91.474823\" style=\"fill: #ff7f0e; stroke: #333333\"/>\n     <use xlink:href=\"#ma69baaa2ee\" x=\"117.359588\" y=\"64.651613\" style=\"fill: #ff7f0e; stroke: #333333\"/>\n     <use xlink:href=\"#ma69baaa2ee\" x=\"228.458421\" y=\"192.956313\" style=\"fill: #ff7f0e; stroke: #333333\"/>\n     <use xlink:href=\"#ma69baaa2ee\" x=\"145.61281\" y=\"74.088961\" style=\"fill: #ff7f0e; stroke: #333333\"/>\n     <use xlink:href=\"#ma69baaa2ee\" x=\"231.423757\" y=\"187.865797\" style=\"fill: #ff7f0e; stroke: #333333\"/>\n     <use xlink:href=\"#ma69baaa2ee\" x=\"96.184562\" y=\"82.523987\" style=\"fill: #ff7f0e; stroke: #333333\"/>\n     <use xlink:href=\"#ma69baaa2ee\" x=\"231.231886\" y=\"181.065908\" style=\"fill: #ff7f0e; stroke: #333333\"/>\n     <use xlink:href=\"#ma69baaa2ee\" x=\"79.572829\" y=\"93.932438\" style=\"fill: #ff7f0e; stroke: #333333\"/>\n     <use xlink:href=\"#ma69baaa2ee\" x=\"221.963463\" y=\"196.610603\" style=\"fill: #ff7f0e; stroke: #333333\"/>\n     <use xlink:href=\"#ma69baaa2ee\" x=\"104.858229\" y=\"82.97912\" style=\"fill: #ff7f0e; stroke: #333333\"/>\n     <use xlink:href=\"#ma69baaa2ee\" x=\"120.634448\" y=\"80.890608\" style=\"fill: #ff7f0e; stroke: #333333\"/>\n     <use xlink:href=\"#ma69baaa2ee\" x=\"225.733559\" y=\"180.379324\" style=\"fill: #ff7f0e; stroke: #333333\"/>\n     <use xlink:href=\"#ma69baaa2ee\" x=\"135.058753\" y=\"92.754232\" style=\"fill: #ff7f0e; stroke: #333333\"/>\n     <use xlink:href=\"#ma69baaa2ee\" x=\"225.338594\" y=\"205.504303\" style=\"fill: #ff7f0e; stroke: #333333\"/>\n     <use xlink:href=\"#ma69baaa2ee\" x=\"112.430501\" y=\"66.821031\" style=\"fill: #ff7f0e; stroke: #333333\"/>\n     <use xlink:href=\"#ma69baaa2ee\" x=\"230.700618\" y=\"188.729361\" style=\"fill: #ff7f0e; stroke: #333333\"/>\n     <use xlink:href=\"#ma69baaa2ee\" x=\"97.893243\" y=\"84.46839\" style=\"fill: #ff7f0e; stroke: #333333\"/>\n     <use xlink:href=\"#ma69baaa2ee\" x=\"240.98612\" y=\"184.960752\" style=\"fill: #ff7f0e; stroke: #333333\"/>\n    </g>\n   </g>\n   <g id=\"matplotlib.axis_1\">\n    <g id=\"xtick_1\">\n     <g id=\"line2d_1\">\n      <defs>\n       <path id=\"md296630139\" d=\"M 0 0 \nL 0 3.5 \n\" style=\"stroke: #000000; stroke-width: 0.8\"/>\n      </defs>\n      <g>\n       <use xlink:href=\"#md296630139\" x=\"58.523438\" y=\"244.078125\" style=\"stroke: #000000; stroke-width: 0.8\"/>\n      </g>\n     </g>\n     <g id=\"text_1\">\n      <!-- −0.5 -->\n      <g transform=\"translate(46.382031 258.676562) scale(0.1 -0.1)\">\n       <defs>\n        <path id=\"DejaVuSans-2212\" d=\"M 678 2272 \nL 4684 2272 \nL 4684 1741 \nL 678 1741 \nL 678 2272 \nz\n\" transform=\"scale(0.015625)\"/>\n        <path id=\"DejaVuSans-30\" d=\"M 2034 4250 \nQ 1547 4250 1301 3770 \nQ 1056 3291 1056 2328 \nQ 1056 1369 1301 889 \nQ 1547 409 2034 409 \nQ 2525 409 2770 889 \nQ 3016 1369 3016 2328 \nQ 3016 3291 2770 3770 \nQ 2525 4250 2034 4250 \nz\nM 2034 4750 \nQ 2819 4750 3233 4129 \nQ 3647 3509 3647 2328 \nQ 3647 1150 3233 529 \nQ 2819 -91 2034 -91 \nQ 1250 -91 836 529 \nQ 422 1150 422 2328 \nQ 422 3509 836 4129 \nQ 1250 4750 2034 4750 \nz\n\" transform=\"scale(0.015625)\"/>\n        <path id=\"DejaVuSans-2e\" d=\"M 684 794 \nL 1344 794 \nL 1344 0 \nL 684 0 \nL 684 794 \nz\n\" transform=\"scale(0.015625)\"/>\n        <path id=\"DejaVuSans-35\" d=\"M 691 4666 \nL 3169 4666 \nL 3169 4134 \nL 1269 4134 \nL 1269 2991 \nQ 1406 3038 1543 3061 \nQ 1681 3084 1819 3084 \nQ 2600 3084 3056 2656 \nQ 3513 2228 3513 1497 \nQ 3513 744 3044 326 \nQ 2575 -91 1722 -91 \nQ 1428 -91 1123 -41 \nQ 819 9 494 109 \nL 494 744 \nQ 775 591 1075 516 \nQ 1375 441 1709 441 \nQ 2250 441 2565 725 \nQ 2881 1009 2881 1497 \nQ 2881 1984 2565 2268 \nQ 2250 2553 1709 2553 \nQ 1456 2553 1204 2497 \nQ 953 2441 691 2322 \nL 691 4666 \nz\n\" transform=\"scale(0.015625)\"/>\n       </defs>\n       <use xlink:href=\"#DejaVuSans-2212\"/>\n       <use xlink:href=\"#DejaVuSans-30\" x=\"83.789062\"/>\n       <use xlink:href=\"#DejaVuSans-2e\" x=\"147.412109\"/>\n       <use xlink:href=\"#DejaVuSans-35\" x=\"179.199219\"/>\n      </g>\n     </g>\n    </g>\n    <g id=\"xtick_2\">\n     <g id=\"line2d_2\">\n      <g>\n       <use xlink:href=\"#md296630139\" x=\"113.963437\" y=\"244.078125\" style=\"stroke: #000000; stroke-width: 0.8\"/>\n      </g>\n     </g>\n     <g id=\"text_2\">\n      <!-- 0.0 -->\n      <g transform=\"translate(106.011875 258.676562) scale(0.1 -0.1)\">\n       <use xlink:href=\"#DejaVuSans-30\"/>\n       <use xlink:href=\"#DejaVuSans-2e\" x=\"63.623047\"/>\n       <use xlink:href=\"#DejaVuSans-30\" x=\"95.410156\"/>\n      </g>\n     </g>\n    </g>\n    <g id=\"xtick_3\">\n     <g id=\"line2d_3\">\n      <g>\n       <use xlink:href=\"#md296630139\" x=\"169.403437\" y=\"244.078125\" style=\"stroke: #000000; stroke-width: 0.8\"/>\n      </g>\n     </g>\n     <g id=\"text_3\">\n      <!-- 0.5 -->\n      <g transform=\"translate(161.451875 258.676562) scale(0.1 -0.1)\">\n       <use xlink:href=\"#DejaVuSans-30\"/>\n       <use xlink:href=\"#DejaVuSans-2e\" x=\"63.623047\"/>\n       <use xlink:href=\"#DejaVuSans-35\" x=\"95.410156\"/>\n      </g>\n     </g>\n    </g>\n    <g id=\"xtick_4\">\n     <g id=\"line2d_4\">\n      <g>\n       <use xlink:href=\"#md296630139\" x=\"224.843437\" y=\"244.078125\" style=\"stroke: #000000; stroke-width: 0.8\"/>\n      </g>\n     </g>\n     <g id=\"text_4\">\n      <!-- 1.0 -->\n      <g transform=\"translate(216.891875 258.676562) scale(0.1 -0.1)\">\n       <defs>\n        <path id=\"DejaVuSans-31\" d=\"M 794 531 \nL 1825 531 \nL 1825 4091 \nL 703 3866 \nL 703 4441 \nL 1819 4666 \nL 2450 4666 \nL 2450 531 \nL 3481 531 \nL 3481 0 \nL 794 0 \nL 794 531 \nz\n\" transform=\"scale(0.015625)\"/>\n       </defs>\n       <use xlink:href=\"#DejaVuSans-31\"/>\n       <use xlink:href=\"#DejaVuSans-2e\" x=\"63.623047\"/>\n       <use xlink:href=\"#DejaVuSans-30\" x=\"95.410156\"/>\n      </g>\n     </g>\n    </g>\n    <g id=\"xtick_5\">\n     <g id=\"line2d_5\">\n      <g>\n       <use xlink:href=\"#md296630139\" x=\"280.283437\" y=\"244.078125\" style=\"stroke: #000000; stroke-width: 0.8\"/>\n      </g>\n     </g>\n     <g id=\"text_5\">\n      <!-- 1.5 -->\n      <g transform=\"translate(272.331875 258.676562) scale(0.1 -0.1)\">\n       <use xlink:href=\"#DejaVuSans-31\"/>\n       <use xlink:href=\"#DejaVuSans-2e\" x=\"63.623047\"/>\n       <use xlink:href=\"#DejaVuSans-35\" x=\"95.410156\"/>\n      </g>\n     </g>\n    </g>\n    <g id=\"text_6\">\n     <!-- $x_1$ -->\n     <g transform=\"translate(164.053438 272.354687) scale(0.1 -0.1)\">\n      <defs>\n       <path id=\"DejaVuSans-Oblique-78\" d=\"M 3841 3500 \nL 2234 1784 \nL 3219 0 \nL 2559 0 \nL 1819 1388 \nL 531 0 \nL -166 0 \nL 1556 1844 \nL 641 3500 \nL 1300 3500 \nL 1972 2234 \nL 3144 3500 \nL 3841 3500 \nz\n\" transform=\"scale(0.015625)\"/>\n      </defs>\n      <use xlink:href=\"#DejaVuSans-Oblique-78\" transform=\"translate(0 0.3125)\"/>\n      <use xlink:href=\"#DejaVuSans-31\" transform=\"translate(59.179688 -16.09375) scale(0.7)\"/>\n     </g>\n    </g>\n   </g>\n   <g id=\"matplotlib.axis_2\">\n    <g id=\"ytick_1\">\n     <g id=\"line2d_6\">\n      <defs>\n       <path id=\"m98c78d602e\" d=\"M 0 0 \nL -3.5 0 \n\" style=\"stroke: #000000; stroke-width: 0.8\"/>\n      </defs>\n      <g>\n       <use xlink:href=\"#m98c78d602e\" x=\"58.523438\" y=\"244.078125\" style=\"stroke: #000000; stroke-width: 0.8\"/>\n      </g>\n     </g>\n     <g id=\"text_7\">\n      <!-- −0.50 -->\n      <g transform=\"translate(20.878125 247.877344) scale(0.1 -0.1)\">\n       <use xlink:href=\"#DejaVuSans-2212\"/>\n       <use xlink:href=\"#DejaVuSans-30\" x=\"83.789062\"/>\n       <use xlink:href=\"#DejaVuSans-2e\" x=\"147.412109\"/>\n       <use xlink:href=\"#DejaVuSans-35\" x=\"179.199219\"/>\n       <use xlink:href=\"#DejaVuSans-30\" x=\"242.822266\"/>\n      </g>\n     </g>\n    </g>\n    <g id=\"ytick_2\">\n     <g id=\"line2d_7\">\n      <g>\n       <use xlink:href=\"#m98c78d602e\" x=\"58.523438\" y=\"216.358125\" style=\"stroke: #000000; stroke-width: 0.8\"/>\n      </g>\n     </g>\n     <g id=\"text_8\">\n      <!-- −0.25 -->\n      <g transform=\"translate(20.878125 220.157344) scale(0.1 -0.1)\">\n       <defs>\n        <path id=\"DejaVuSans-32\" d=\"M 1228 531 \nL 3431 531 \nL 3431 0 \nL 469 0 \nL 469 531 \nQ 828 903 1448 1529 \nQ 2069 2156 2228 2338 \nQ 2531 2678 2651 2914 \nQ 2772 3150 2772 3378 \nQ 2772 3750 2511 3984 \nQ 2250 4219 1831 4219 \nQ 1534 4219 1204 4116 \nQ 875 4013 500 3803 \nL 500 4441 \nQ 881 4594 1212 4672 \nQ 1544 4750 1819 4750 \nQ 2544 4750 2975 4387 \nQ 3406 4025 3406 3419 \nQ 3406 3131 3298 2873 \nQ 3191 2616 2906 2266 \nQ 2828 2175 2409 1742 \nQ 1991 1309 1228 531 \nz\n\" transform=\"scale(0.015625)\"/>\n       </defs>\n       <use xlink:href=\"#DejaVuSans-2212\"/>\n       <use xlink:href=\"#DejaVuSans-30\" x=\"83.789062\"/>\n       <use xlink:href=\"#DejaVuSans-2e\" x=\"147.412109\"/>\n       <use xlink:href=\"#DejaVuSans-32\" x=\"179.199219\"/>\n       <use xlink:href=\"#DejaVuSans-35\" x=\"242.822266\"/>\n      </g>\n     </g>\n    </g>\n    <g id=\"ytick_3\">\n     <g id=\"line2d_8\">\n      <g>\n       <use xlink:href=\"#m98c78d602e\" x=\"58.523438\" y=\"188.638125\" style=\"stroke: #000000; stroke-width: 0.8\"/>\n      </g>\n     </g>\n     <g id=\"text_9\">\n      <!-- 0.00 -->\n      <g transform=\"translate(29.257812 192.437344) scale(0.1 -0.1)\">\n       <use xlink:href=\"#DejaVuSans-30\"/>\n       <use xlink:href=\"#DejaVuSans-2e\" x=\"63.623047\"/>\n       <use xlink:href=\"#DejaVuSans-30\" x=\"95.410156\"/>\n       <use xlink:href=\"#DejaVuSans-30\" x=\"159.033203\"/>\n      </g>\n     </g>\n    </g>\n    <g id=\"ytick_4\">\n     <g id=\"line2d_9\">\n      <g>\n       <use xlink:href=\"#m98c78d602e\" x=\"58.523438\" y=\"160.918125\" style=\"stroke: #000000; stroke-width: 0.8\"/>\n      </g>\n     </g>\n     <g id=\"text_10\">\n      <!-- 0.25 -->\n      <g transform=\"translate(29.257812 164.717344) scale(0.1 -0.1)\">\n       <use xlink:href=\"#DejaVuSans-30\"/>\n       <use xlink:href=\"#DejaVuSans-2e\" x=\"63.623047\"/>\n       <use xlink:href=\"#DejaVuSans-32\" x=\"95.410156\"/>\n       <use xlink:href=\"#DejaVuSans-35\" x=\"159.033203\"/>\n      </g>\n     </g>\n    </g>\n    <g id=\"ytick_5\">\n     <g id=\"line2d_10\">\n      <g>\n       <use xlink:href=\"#m98c78d602e\" x=\"58.523438\" y=\"133.198125\" style=\"stroke: #000000; stroke-width: 0.8\"/>\n      </g>\n     </g>\n     <g id=\"text_11\">\n      <!-- 0.50 -->\n      <g transform=\"translate(29.257812 136.997344) scale(0.1 -0.1)\">\n       <use xlink:href=\"#DejaVuSans-30\"/>\n       <use xlink:href=\"#DejaVuSans-2e\" x=\"63.623047\"/>\n       <use xlink:href=\"#DejaVuSans-35\" x=\"95.410156\"/>\n       <use xlink:href=\"#DejaVuSans-30\" x=\"159.033203\"/>\n      </g>\n     </g>\n    </g>\n    <g id=\"ytick_6\">\n     <g id=\"line2d_11\">\n      <g>\n       <use xlink:href=\"#m98c78d602e\" x=\"58.523438\" y=\"105.478125\" style=\"stroke: #000000; stroke-width: 0.8\"/>\n      </g>\n     </g>\n     <g id=\"text_12\">\n      <!-- 0.75 -->\n      <g transform=\"translate(29.257812 109.277344) scale(0.1 -0.1)\">\n       <defs>\n        <path id=\"DejaVuSans-37\" d=\"M 525 4666 \nL 3525 4666 \nL 3525 4397 \nL 1831 0 \nL 1172 0 \nL 2766 4134 \nL 525 4134 \nL 525 4666 \nz\n\" transform=\"scale(0.015625)\"/>\n       </defs>\n       <use xlink:href=\"#DejaVuSans-30\"/>\n       <use xlink:href=\"#DejaVuSans-2e\" x=\"63.623047\"/>\n       <use xlink:href=\"#DejaVuSans-37\" x=\"95.410156\"/>\n       <use xlink:href=\"#DejaVuSans-35\" x=\"159.033203\"/>\n      </g>\n     </g>\n    </g>\n    <g id=\"ytick_7\">\n     <g id=\"line2d_12\">\n      <g>\n       <use xlink:href=\"#m98c78d602e\" x=\"58.523438\" y=\"77.758125\" style=\"stroke: #000000; stroke-width: 0.8\"/>\n      </g>\n     </g>\n     <g id=\"text_13\">\n      <!-- 1.00 -->\n      <g transform=\"translate(29.257812 81.557344) scale(0.1 -0.1)\">\n       <use xlink:href=\"#DejaVuSans-31\"/>\n       <use xlink:href=\"#DejaVuSans-2e\" x=\"63.623047\"/>\n       <use xlink:href=\"#DejaVuSans-30\" x=\"95.410156\"/>\n       <use xlink:href=\"#DejaVuSans-30\" x=\"159.033203\"/>\n      </g>\n     </g>\n    </g>\n    <g id=\"ytick_8\">\n     <g id=\"line2d_13\">\n      <g>\n       <use xlink:href=\"#m98c78d602e\" x=\"58.523438\" y=\"50.038125\" style=\"stroke: #000000; stroke-width: 0.8\"/>\n      </g>\n     </g>\n     <g id=\"text_14\">\n      <!-- 1.25 -->\n      <g transform=\"translate(29.257812 53.837344) scale(0.1 -0.1)\">\n       <use xlink:href=\"#DejaVuSans-31\"/>\n       <use xlink:href=\"#DejaVuSans-2e\" x=\"63.623047\"/>\n       <use xlink:href=\"#DejaVuSans-32\" x=\"95.410156\"/>\n       <use xlink:href=\"#DejaVuSans-35\" x=\"159.033203\"/>\n      </g>\n     </g>\n    </g>\n    <g id=\"ytick_9\">\n     <g id=\"line2d_14\">\n      <g>\n       <use xlink:href=\"#m98c78d602e\" x=\"58.523438\" y=\"22.318125\" style=\"stroke: #000000; stroke-width: 0.8\"/>\n      </g>\n     </g>\n     <g id=\"text_15\">\n      <!-- 1.50 -->\n      <g transform=\"translate(29.257812 26.117344) scale(0.1 -0.1)\">\n       <use xlink:href=\"#DejaVuSans-31\"/>\n       <use xlink:href=\"#DejaVuSans-2e\" x=\"63.623047\"/>\n       <use xlink:href=\"#DejaVuSans-35\" x=\"95.410156\"/>\n       <use xlink:href=\"#DejaVuSans-30\" x=\"159.033203\"/>\n      </g>\n     </g>\n    </g>\n    <g id=\"text_16\">\n     <!-- $x_2$ -->\n     <g transform=\"translate(14.798437 138.548125) rotate(-90) scale(0.1 -0.1)\">\n      <use xlink:href=\"#DejaVuSans-Oblique-78\" transform=\"translate(0 0.3125)\"/>\n      <use xlink:href=\"#DejaVuSans-32\" transform=\"translate(59.179688 -16.09375) scale(0.7)\"/>\n     </g>\n    </g>\n   </g>\n   <g id=\"patch_3\">\n    <path d=\"M 58.523438 244.078125 \nL 58.523438 22.318125 \n\" style=\"fill: none; stroke: #000000; stroke-width: 0.8; stroke-linejoin: miter; stroke-linecap: square\"/>\n   </g>\n   <g id=\"patch_4\">\n    <path d=\"M 280.283437 244.078125 \nL 280.283437 22.318125 \n\" style=\"fill: none; stroke: #000000; stroke-width: 0.8; stroke-linejoin: miter; stroke-linecap: square\"/>\n   </g>\n   <g id=\"patch_5\">\n    <path d=\"M 58.523438 244.078125 \nL 280.283437 244.078125 \n\" style=\"fill: none; stroke: #000000; stroke-width: 0.8; stroke-linejoin: miter; stroke-linecap: square\"/>\n   </g>\n   <g id=\"patch_6\">\n    <path d=\"M 58.523438 22.318125 \nL 280.283437 22.318125 \n\" style=\"fill: none; stroke: #000000; stroke-width: 0.8; stroke-linejoin: miter; stroke-linecap: square\"/>\n   </g>\n   <g id=\"text_17\">\n    <!-- Dataset samples -->\n    <g transform=\"translate(119.060625 16.318125) scale(0.12 -0.12)\">\n     <defs>\n      <path id=\"DejaVuSans-44\" d=\"M 1259 4147 \nL 1259 519 \nL 2022 519 \nQ 2988 519 3436 956 \nQ 3884 1394 3884 2338 \nQ 3884 3275 3436 3711 \nQ 2988 4147 2022 4147 \nL 1259 4147 \nz\nM 628 4666 \nL 1925 4666 \nQ 3281 4666 3915 4102 \nQ 4550 3538 4550 2338 \nQ 4550 1131 3912 565 \nQ 3275 0 1925 0 \nL 628 0 \nL 628 4666 \nz\n\" transform=\"scale(0.015625)\"/>\n      <path id=\"DejaVuSans-61\" d=\"M 2194 1759 \nQ 1497 1759 1228 1600 \nQ 959 1441 959 1056 \nQ 959 750 1161 570 \nQ 1363 391 1709 391 \nQ 2188 391 2477 730 \nQ 2766 1069 2766 1631 \nL 2766 1759 \nL 2194 1759 \nz\nM 3341 1997 \nL 3341 0 \nL 2766 0 \nL 2766 531 \nQ 2569 213 2275 61 \nQ 1981 -91 1556 -91 \nQ 1019 -91 701 211 \nQ 384 513 384 1019 \nQ 384 1609 779 1909 \nQ 1175 2209 1959 2209 \nL 2766 2209 \nL 2766 2266 \nQ 2766 2663 2505 2880 \nQ 2244 3097 1772 3097 \nQ 1472 3097 1187 3025 \nQ 903 2953 641 2809 \nL 641 3341 \nQ 956 3463 1253 3523 \nQ 1550 3584 1831 3584 \nQ 2591 3584 2966 3190 \nQ 3341 2797 3341 1997 \nz\n\" transform=\"scale(0.015625)\"/>\n      <path id=\"DejaVuSans-74\" d=\"M 1172 4494 \nL 1172 3500 \nL 2356 3500 \nL 2356 3053 \nL 1172 3053 \nL 1172 1153 \nQ 1172 725 1289 603 \nQ 1406 481 1766 481 \nL 2356 481 \nL 2356 0 \nL 1766 0 \nQ 1100 0 847 248 \nQ 594 497 594 1153 \nL 594 3053 \nL 172 3053 \nL 172 3500 \nL 594 3500 \nL 594 4494 \nL 1172 4494 \nz\n\" transform=\"scale(0.015625)\"/>\n      <path id=\"DejaVuSans-73\" d=\"M 2834 3397 \nL 2834 2853 \nQ 2591 2978 2328 3040 \nQ 2066 3103 1784 3103 \nQ 1356 3103 1142 2972 \nQ 928 2841 928 2578 \nQ 928 2378 1081 2264 \nQ 1234 2150 1697 2047 \nL 1894 2003 \nQ 2506 1872 2764 1633 \nQ 3022 1394 3022 966 \nQ 3022 478 2636 193 \nQ 2250 -91 1575 -91 \nQ 1294 -91 989 -36 \nQ 684 19 347 128 \nL 347 722 \nQ 666 556 975 473 \nQ 1284 391 1588 391 \nQ 1994 391 2212 530 \nQ 2431 669 2431 922 \nQ 2431 1156 2273 1281 \nQ 2116 1406 1581 1522 \nL 1381 1569 \nQ 847 1681 609 1914 \nQ 372 2147 372 2553 \nQ 372 3047 722 3315 \nQ 1072 3584 1716 3584 \nQ 2034 3584 2315 3537 \nQ 2597 3491 2834 3397 \nz\n\" transform=\"scale(0.015625)\"/>\n      <path id=\"DejaVuSans-65\" d=\"M 3597 1894 \nL 3597 1613 \nL 953 1613 \nQ 991 1019 1311 708 \nQ 1631 397 2203 397 \nQ 2534 397 2845 478 \nQ 3156 559 3463 722 \nL 3463 178 \nQ 3153 47 2828 -22 \nQ 2503 -91 2169 -91 \nQ 1331 -91 842 396 \nQ 353 884 353 1716 \nQ 353 2575 817 3079 \nQ 1281 3584 2069 3584 \nQ 2775 3584 3186 3129 \nQ 3597 2675 3597 1894 \nz\nM 3022 2063 \nQ 3016 2534 2758 2815 \nQ 2500 3097 2075 3097 \nQ 1594 3097 1305 2825 \nQ 1016 2553 972 2059 \nL 3022 2063 \nz\n\" transform=\"scale(0.015625)\"/>\n      <path id=\"DejaVuSans-20\" transform=\"scale(0.015625)\"/>\n      <path id=\"DejaVuSans-6d\" d=\"M 3328 2828 \nQ 3544 3216 3844 3400 \nQ 4144 3584 4550 3584 \nQ 5097 3584 5394 3201 \nQ 5691 2819 5691 2113 \nL 5691 0 \nL 5113 0 \nL 5113 2094 \nQ 5113 2597 4934 2840 \nQ 4756 3084 4391 3084 \nQ 3944 3084 3684 2787 \nQ 3425 2491 3425 1978 \nL 3425 0 \nL 2847 0 \nL 2847 2094 \nQ 2847 2600 2669 2842 \nQ 2491 3084 2119 3084 \nQ 1678 3084 1418 2786 \nQ 1159 2488 1159 1978 \nL 1159 0 \nL 581 0 \nL 581 3500 \nL 1159 3500 \nL 1159 2956 \nQ 1356 3278 1631 3431 \nQ 1906 3584 2284 3584 \nQ 2666 3584 2933 3390 \nQ 3200 3197 3328 2828 \nz\n\" transform=\"scale(0.015625)\"/>\n      <path id=\"DejaVuSans-70\" d=\"M 1159 525 \nL 1159 -1331 \nL 581 -1331 \nL 581 3500 \nL 1159 3500 \nL 1159 2969 \nQ 1341 3281 1617 3432 \nQ 1894 3584 2278 3584 \nQ 2916 3584 3314 3078 \nQ 3713 2572 3713 1747 \nQ 3713 922 3314 415 \nQ 2916 -91 2278 -91 \nQ 1894 -91 1617 61 \nQ 1341 213 1159 525 \nz\nM 3116 1747 \nQ 3116 2381 2855 2742 \nQ 2594 3103 2138 3103 \nQ 1681 3103 1420 2742 \nQ 1159 2381 1159 1747 \nQ 1159 1113 1420 752 \nQ 1681 391 2138 391 \nQ 2594 391 2855 752 \nQ 3116 1113 3116 1747 \nz\n\" transform=\"scale(0.015625)\"/>\n      <path id=\"DejaVuSans-6c\" d=\"M 603 4863 \nL 1178 4863 \nL 1178 0 \nL 603 0 \nL 603 4863 \nz\n\" transform=\"scale(0.015625)\"/>\n     </defs>\n     <use xlink:href=\"#DejaVuSans-44\"/>\n     <use xlink:href=\"#DejaVuSans-61\" x=\"77.001953\"/>\n     <use xlink:href=\"#DejaVuSans-74\" x=\"138.28125\"/>\n     <use xlink:href=\"#DejaVuSans-61\" x=\"177.490234\"/>\n     <use xlink:href=\"#DejaVuSans-73\" x=\"238.769531\"/>\n     <use xlink:href=\"#DejaVuSans-65\" x=\"290.869141\"/>\n     <use xlink:href=\"#DejaVuSans-74\" x=\"352.392578\"/>\n     <use xlink:href=\"#DejaVuSans-20\" x=\"391.601562\"/>\n     <use xlink:href=\"#DejaVuSans-73\" x=\"423.388672\"/>\n     <use xlink:href=\"#DejaVuSans-61\" x=\"475.488281\"/>\n     <use xlink:href=\"#DejaVuSans-6d\" x=\"536.767578\"/>\n     <use xlink:href=\"#DejaVuSans-70\" x=\"634.179688\"/>\n     <use xlink:href=\"#DejaVuSans-6c\" x=\"697.65625\"/>\n     <use xlink:href=\"#DejaVuSans-65\" x=\"725.439453\"/>\n     <use xlink:href=\"#DejaVuSans-73\" x=\"786.962891\"/>\n    </g>\n   </g>\n   <g id=\"legend_1\">\n    <g id=\"patch_7\">\n     <path d=\"M 205.435 149.37625 \nL 273.283437 149.37625 \nQ 275.283437 149.37625 275.283437 147.37625 \nL 275.283437 119.02 \nQ 275.283437 117.02 273.283437 117.02 \nL 205.435 117.02 \nQ 203.435 117.02 203.435 119.02 \nL 203.435 147.37625 \nQ 203.435 149.37625 205.435 149.37625 \nz\n\" style=\"fill: #ffffff; opacity: 0.8; stroke: #cccccc; stroke-linejoin: miter\"/>\n    </g>\n    <g id=\"PathCollection_3\">\n     <g>\n      <use xlink:href=\"#ma8039bcffa\" x=\"217.435\" y=\"125.993437\" style=\"fill: #1f77b4; stroke: #333333\"/>\n     </g>\n    </g>\n    <g id=\"text_18\">\n     <!-- Class 0 -->\n     <g transform=\"translate(235.435 128.618437) scale(0.1 -0.1)\">\n      <defs>\n       <path id=\"DejaVuSans-43\" d=\"M 4122 4306 \nL 4122 3641 \nQ 3803 3938 3442 4084 \nQ 3081 4231 2675 4231 \nQ 1875 4231 1450 3742 \nQ 1025 3253 1025 2328 \nQ 1025 1406 1450 917 \nQ 1875 428 2675 428 \nQ 3081 428 3442 575 \nQ 3803 722 4122 1019 \nL 4122 359 \nQ 3791 134 3420 21 \nQ 3050 -91 2638 -91 \nQ 1578 -91 968 557 \nQ 359 1206 359 2328 \nQ 359 3453 968 4101 \nQ 1578 4750 2638 4750 \nQ 3056 4750 3426 4639 \nQ 3797 4528 4122 4306 \nz\n\" transform=\"scale(0.015625)\"/>\n      </defs>\n      <use xlink:href=\"#DejaVuSans-43\"/>\n      <use xlink:href=\"#DejaVuSans-6c\" x=\"69.824219\"/>\n      <use xlink:href=\"#DejaVuSans-61\" x=\"97.607422\"/>\n      <use xlink:href=\"#DejaVuSans-73\" x=\"158.886719\"/>\n      <use xlink:href=\"#DejaVuSans-73\" x=\"210.986328\"/>\n      <use xlink:href=\"#DejaVuSans-20\" x=\"263.085938\"/>\n      <use xlink:href=\"#DejaVuSans-30\" x=\"294.873047\"/>\n     </g>\n    </g>\n    <g id=\"PathCollection_4\">\n     <g>\n      <use xlink:href=\"#ma69baaa2ee\" x=\"217.435\" y=\"140.671562\" style=\"fill: #ff7f0e; stroke: #333333\"/>\n     </g>\n    </g>\n    <g id=\"text_19\">\n     <!-- Class 1 -->\n     <g transform=\"translate(235.435 143.296562) scale(0.1 -0.1)\">\n      <use xlink:href=\"#DejaVuSans-43\"/>\n      <use xlink:href=\"#DejaVuSans-6c\" x=\"69.824219\"/>\n      <use xlink:href=\"#DejaVuSans-61\" x=\"97.607422\"/>\n      <use xlink:href=\"#DejaVuSans-73\" x=\"158.886719\"/>\n      <use xlink:href=\"#DejaVuSans-73\" x=\"210.986328\"/>\n      <use xlink:href=\"#DejaVuSans-20\" x=\"263.085938\"/>\n      <use xlink:href=\"#DejaVuSans-31\" x=\"294.873047\"/>\n     </g>\n    </g>\n   </g>\n  </g>\n </g>\n <defs>\n  <clipPath id=\"pe1189000c1\">\n   <rect x=\"58.523438\" y=\"22.318125\" width=\"221.76\" height=\"221.76\"/>\n  </clipPath>\n </defs>\n</svg>\n",
            "application/pdf": "[encoded data removed]"
          },
          "metadata": {}
        }
      ],
      "source": [
        "@torch.no_grad() # Decorator, same effect as \"with torch.no_grad(): ...\" over the whole function.\n",
        "def visualize_classification(model, data, label):\n",
        "    if isinstance(data, torch.Tensor):\n",
        "        data = data.cpu().numpy()\n",
        "    if isinstance(label, torch.Tensor):\n",
        "        label = label.cpu().numpy()\n",
        "    data_0 = data[label == 0]\n",
        "    data_1 = data[label == 1]\n",
        "\n",
        "    fig = plt.figure(figsize=(4,4), dpi=500)\n",
        "    plt.scatter(data_0[:,0], data_0[:,1], edgecolor=\"#333\", label=\"Class 0\")\n",
        "    plt.scatter(data_1[:,0], data_1[:,1], edgecolor=\"#333\", label=\"Class 1\")\n",
        "    plt.title(\"Dataset samples\")\n",
        "    plt.ylabel(r\"$x_2$\")\n",
        "    plt.xlabel(r\"$x_1$\")\n",
        "    plt.legend()\n",
        "\n",
        "    # Let's make use of a lot of operations we have learned above\n",
        "    model.to(device)\n",
        "    c0 = torch.Tensor(to_rgba(\"C0\")).to(device)\n",
        "    c1 = torch.Tensor(to_rgba(\"C1\")).to(device)\n",
        "    x1 = torch.arange(-0.5, 1.5, step=0.01, device=device)\n",
        "    x2 = torch.arange(-0.5, 1.5, step=0.01, device=device)\n",
        "    xx1, xx2 = torch.meshgrid(x1, x2, indexing='ij')  # Meshgrid function as in numpy\n",
        "    model_inputs = torch.stack([xx1, xx2], dim=-1)\n",
        "    preds = model(model_inputs)\n",
        "    preds = torch.sigmoid(preds)\n",
        "    output_image = (1 - preds) * c0[None,None] + preds * c1[None,None]  # Specifying \"None\" in a dimension creates a new one\n",
        "    output_image = output_image.cpu().numpy()  # Convert to numpy array. This only works for tensors on CPU, hence first push to CPU\n",
        "    plt.imshow(output_image, origin='lower', extent=(-0.5, 1.5, -0.5, 1.5))\n",
        "    plt.grid(False)\n",
        "    return fig\n",
        "\n",
        "_ = visualize_classification(model, dataset.data, dataset.label)\n",
        "plt.show()"
      ]
    },
    {
      "cell_type": "markdown",
      "metadata": {
        "id": "AppkLjf3ARJm"
      },
      "source": [
        "The decision boundaries might not look exactly as in the figure in the preamble of this section which can be caused by running it on CPU or a different GPU architecture. Nevertheless, the result on the accuracy metric should be the approximately the same."
      ]
    }
  ],
  "metadata": {
    "accelerator": "GPU",
    "colab": {
      "collapsed_sections": [
        "WlfHVg08ARJe"
      ],
      "gpuType": "T4",
      "provenance": [],
      "include_colab_link": true
    },
    "kernelspec": {
      "display_name": "test_env",
      "language": "python",
      "name": "python3"
    },
    "language_info": {
      "codemirror_mode": {
        "name": "ipython",
        "version": 3
      },
      "file_extension": ".py",
      "mimetype": "text/x-python",
      "name": "python",
      "nbconvert_exporter": "python",
      "pygments_lexer": "ipython3",
      "version": "3.12.7"
    },
    "widgets": {
      "application/vnd.jupyter.widget-state+json": {
        "a20ffbeb368d452a9f2894d12536bc91": {
          "model_module": "@jupyter-widgets/controls",
          "model_name": "HBoxModel",
          "model_module_version": "1.5.0",
          "state": {
            "_dom_classes": [],
            "_model_module": "@jupyter-widgets/controls",
            "_model_module_version": "1.5.0",
            "_model_name": "HBoxModel",
            "_view_count": null,
            "_view_module": "@jupyter-widgets/controls",
            "_view_module_version": "1.5.0",
            "_view_name": "HBoxView",
            "box_style": "",
            "children": [
              "IPY_MODEL_4c532b628b6143ed9386214acc1c8d85",
              "IPY_MODEL_cee0ac89f4c94b249bf4c3cfb4fbea1e",
              "IPY_MODEL_445fc84a5dd045bdaeea09cc7ad9413c"
            ],
            "layout": "IPY_MODEL_4d1d56da07f441adbd8dd8ae3657f18d"
          }
        },
        "4c532b628b6143ed9386214acc1c8d85": {
          "model_module": "@jupyter-widgets/controls",
          "model_name": "HTMLModel",
          "model_module_version": "1.5.0",
          "state": {
            "_dom_classes": [],
            "_model_module": "@jupyter-widgets/controls",
            "_model_module_version": "1.5.0",
            "_model_name": "HTMLModel",
            "_view_count": null,
            "_view_module": "@jupyter-widgets/controls",
            "_view_module_version": "1.5.0",
            "_view_name": "HTMLView",
            "description": "",
            "description_tooltip": null,
            "layout": "IPY_MODEL_e18220a402c9451c955ab937cfe4a4d4",
            "placeholder": "​",
            "style": "IPY_MODEL_2b9650fb55e44d819ccba0f5f122da74",
            "value": "100%"
          }
        },
        "cee0ac89f4c94b249bf4c3cfb4fbea1e": {
          "model_module": "@jupyter-widgets/controls",
          "model_name": "FloatProgressModel",
          "model_module_version": "1.5.0",
          "state": {
            "_dom_classes": [],
            "_model_module": "@jupyter-widgets/controls",
            "_model_module_version": "1.5.0",
            "_model_name": "FloatProgressModel",
            "_view_count": null,
            "_view_module": "@jupyter-widgets/controls",
            "_view_module_version": "1.5.0",
            "_view_name": "ProgressView",
            "bar_style": "success",
            "description": "",
            "description_tooltip": null,
            "layout": "IPY_MODEL_fb708233d2214b7c88e0ea6aa5082855",
            "max": 300,
            "min": 0,
            "orientation": "horizontal",
            "style": "IPY_MODEL_6cb2d16cf36e4836beb9433cab7f065b",
            "value": 300
          }
        },
        "445fc84a5dd045bdaeea09cc7ad9413c": {
          "model_module": "@jupyter-widgets/controls",
          "model_name": "HTMLModel",
          "model_module_version": "1.5.0",
          "state": {
            "_dom_classes": [],
            "_model_module": "@jupyter-widgets/controls",
            "_model_module_version": "1.5.0",
            "_model_name": "HTMLModel",
            "_view_count": null,
            "_view_module": "@jupyter-widgets/controls",
            "_view_module_version": "1.5.0",
            "_view_name": "HTMLView",
            "description": "",
            "description_tooltip": null,
            "layout": "IPY_MODEL_d80cd0441be242a5900eb202f9cbac3c",
            "placeholder": "​",
            "style": "IPY_MODEL_a131f3d6feee48098de4e5d231024d0b",
            "value": " 300/300 [00:11&lt;00:00, 31.18it/s]"
          }
        },
        "4d1d56da07f441adbd8dd8ae3657f18d": {
          "model_module": "@jupyter-widgets/base",
          "model_name": "LayoutModel",
          "model_module_version": "1.2.0",
          "state": {
            "_model_module": "@jupyter-widgets/base",
            "_model_module_version": "1.2.0",
            "_model_name": "LayoutModel",
            "_view_count": null,
            "_view_module": "@jupyter-widgets/base",
            "_view_module_version": "1.2.0",
            "_view_name": "LayoutView",
            "align_content": null,
            "align_items": null,
            "align_self": null,
            "border": null,
            "bottom": null,
            "display": null,
            "flex": null,
            "flex_flow": null,
            "grid_area": null,
            "grid_auto_columns": null,
            "grid_auto_flow": null,
            "grid_auto_rows": null,
            "grid_column": null,
            "grid_gap": null,
            "grid_row": null,
            "grid_template_areas": null,
            "grid_template_columns": null,
            "grid_template_rows": null,
            "height": null,
            "justify_content": null,
            "justify_items": null,
            "left": null,
            "margin": null,
            "max_height": null,
            "max_width": null,
            "min_height": null,
            "min_width": null,
            "object_fit": null,
            "object_position": null,
            "order": null,
            "overflow": null,
            "overflow_x": null,
            "overflow_y": null,
            "padding": null,
            "right": null,
            "top": null,
            "visibility": null,
            "width": null
          }
        },
        "e18220a402c9451c955ab937cfe4a4d4": {
          "model_module": "@jupyter-widgets/base",
          "model_name": "LayoutModel",
          "model_module_version": "1.2.0",
          "state": {
            "_model_module": "@jupyter-widgets/base",
            "_model_module_version": "1.2.0",
            "_model_name": "LayoutModel",
            "_view_count": null,
            "_view_module": "@jupyter-widgets/base",
            "_view_module_version": "1.2.0",
            "_view_name": "LayoutView",
            "align_content": null,
            "align_items": null,
            "align_self": null,
            "border": null,
            "bottom": null,
            "display": null,
            "flex": null,
            "flex_flow": null,
            "grid_area": null,
            "grid_auto_columns": null,
            "grid_auto_flow": null,
            "grid_auto_rows": null,
            "grid_column": null,
            "grid_gap": null,
            "grid_row": null,
            "grid_template_areas": null,
            "grid_template_columns": null,
            "grid_template_rows": null,
            "height": null,
            "justify_content": null,
            "justify_items": null,
            "left": null,
            "margin": null,
            "max_height": null,
            "max_width": null,
            "min_height": null,
            "min_width": null,
            "object_fit": null,
            "object_position": null,
            "order": null,
            "overflow": null,
            "overflow_x": null,
            "overflow_y": null,
            "padding": null,
            "right": null,
            "top": null,
            "visibility": null,
            "width": null
          }
        },
        "2b9650fb55e44d819ccba0f5f122da74": {
          "model_module": "@jupyter-widgets/controls",
          "model_name": "DescriptionStyleModel",
          "model_module_version": "1.5.0",
          "state": {
            "_model_module": "@jupyter-widgets/controls",
            "_model_module_version": "1.5.0",
            "_model_name": "DescriptionStyleModel",
            "_view_count": null,
            "_view_module": "@jupyter-widgets/base",
            "_view_module_version": "1.2.0",
            "_view_name": "StyleView",
            "description_width": ""
          }
        },
        "fb708233d2214b7c88e0ea6aa5082855": {
          "model_module": "@jupyter-widgets/base",
          "model_name": "LayoutModel",
          "model_module_version": "1.2.0",
          "state": {
            "_model_module": "@jupyter-widgets/base",
            "_model_module_version": "1.2.0",
            "_model_name": "LayoutModel",
            "_view_count": null,
            "_view_module": "@jupyter-widgets/base",
            "_view_module_version": "1.2.0",
            "_view_name": "LayoutView",
            "align_content": null,
            "align_items": null,
            "align_self": null,
            "border": null,
            "bottom": null,
            "display": null,
            "flex": null,
            "flex_flow": null,
            "grid_area": null,
            "grid_auto_columns": null,
            "grid_auto_flow": null,
            "grid_auto_rows": null,
            "grid_column": null,
            "grid_gap": null,
            "grid_row": null,
            "grid_template_areas": null,
            "grid_template_columns": null,
            "grid_template_rows": null,
            "height": null,
            "justify_content": null,
            "justify_items": null,
            "left": null,
            "margin": null,
            "max_height": null,
            "max_width": null,
            "min_height": null,
            "min_width": null,
            "object_fit": null,
            "object_position": null,
            "order": null,
            "overflow": null,
            "overflow_x": null,
            "overflow_y": null,
            "padding": null,
            "right": null,
            "top": null,
            "visibility": null,
            "width": null
          }
        },
        "6cb2d16cf36e4836beb9433cab7f065b": {
          "model_module": "@jupyter-widgets/controls",
          "model_name": "ProgressStyleModel",
          "model_module_version": "1.5.0",
          "state": {
            "_model_module": "@jupyter-widgets/controls",
            "_model_module_version": "1.5.0",
            "_model_name": "ProgressStyleModel",
            "_view_count": null,
            "_view_module": "@jupyter-widgets/base",
            "_view_module_version": "1.2.0",
            "_view_name": "StyleView",
            "bar_color": null,
            "description_width": ""
          }
        },
        "d80cd0441be242a5900eb202f9cbac3c": {
          "model_module": "@jupyter-widgets/base",
          "model_name": "LayoutModel",
          "model_module_version": "1.2.0",
          "state": {
            "_model_module": "@jupyter-widgets/base",
            "_model_module_version": "1.2.0",
            "_model_name": "LayoutModel",
            "_view_count": null,
            "_view_module": "@jupyter-widgets/base",
            "_view_module_version": "1.2.0",
            "_view_name": "LayoutView",
            "align_content": null,
            "align_items": null,
            "align_self": null,
            "border": null,
            "bottom": null,
            "display": null,
            "flex": null,
            "flex_flow": null,
            "grid_area": null,
            "grid_auto_columns": null,
            "grid_auto_flow": null,
            "grid_auto_rows": null,
            "grid_column": null,
            "grid_gap": null,
            "grid_row": null,
            "grid_template_areas": null,
            "grid_template_columns": null,
            "grid_template_rows": null,
            "height": null,
            "justify_content": null,
            "justify_items": null,
            "left": null,
            "margin": null,
            "max_height": null,
            "max_width": null,
            "min_height": null,
            "min_width": null,
            "object_fit": null,
            "object_position": null,
            "order": null,
            "overflow": null,
            "overflow_x": null,
            "overflow_y": null,
            "padding": null,
            "right": null,
            "top": null,
            "visibility": null,
            "width": null
          }
        },
        "a131f3d6feee48098de4e5d231024d0b": {
          "model_module": "@jupyter-widgets/controls",
          "model_name": "DescriptionStyleModel",
          "model_module_version": "1.5.0",
          "state": {
            "_model_module": "@jupyter-widgets/controls",
            "_model_module_version": "1.5.0",
            "_model_name": "DescriptionStyleModel",
            "_view_count": null,
            "_view_module": "@jupyter-widgets/base",
            "_view_module_version": "1.2.0",
            "_view_name": "StyleView",
            "description_width": ""
          }
        }
      }
    }
  },
  "nbformat": 4,
  "nbformat_minor": 0
}